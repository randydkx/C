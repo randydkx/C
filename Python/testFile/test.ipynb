{
 "cells": [
  {
   "cell_type": "code",
   "execution_count": 11,
   "metadata": {},
   "outputs": [
    {
     "data": {
      "text/html": [
       "<div>\n",
       "<style scoped>\n",
       "    .dataframe tbody tr th:only-of-type {\n",
       "        vertical-align: middle;\n",
       "    }\n",
       "\n",
       "    .dataframe tbody tr th {\n",
       "        vertical-align: top;\n",
       "    }\n",
       "\n",
       "    .dataframe thead th {\n",
       "        text-align: right;\n",
       "    }\n",
       "</style>\n",
       "<table border=\"1\" class=\"dataframe\">\n",
       "  <thead>\n",
       "    <tr style=\"text-align: right;\">\n",
       "      <th></th>\n",
       "      <th>来自IP</th>\n",
       "      <th>学号</th>\n",
       "      <th>姓名</th>\n",
       "      <th>性别</th>\n",
       "      <th>联系电话</th>\n",
       "      <th>政治面貌</th>\n",
       "      <th>原班级职务</th>\n",
       "      <th>社团名称和担任的职务</th>\n",
       "      <th>担任学生骨干名称</th>\n",
       "    </tr>\n",
       "  </thead>\n",
       "  <tbody>\n",
       "    <tr>\n",
       "      <th>0</th>\n",
       "      <td>(山东-滨州)</td>\n",
       "      <td>9181010E0201</td>\n",
       "      <td>毛睿</td>\n",
       "      <td>女</td>\n",
       "      <td>18851041454</td>\n",
       "      <td>共青团员</td>\n",
       "      <td></td>\n",
       "      <td>NaN</td>\n",
       "      <td>院红会 副部长</td>\n",
       "    </tr>\n",
       "    <tr>\n",
       "      <th>1</th>\n",
       "      <td>(湖南-长沙)</td>\n",
       "      <td>9181010E0222</td>\n",
       "      <td>刘睿</td>\n",
       "      <td>男</td>\n",
       "      <td>19825000917</td>\n",
       "      <td>共青团员</td>\n",
       "      <td></td>\n",
       "      <td>air机器人工作室</td>\n",
       "      <td>NaN</td>\n",
       "    </tr>\n",
       "    <tr>\n",
       "      <th>2</th>\n",
       "      <td>(上海-上海)</td>\n",
       "      <td>9181010E0419</td>\n",
       "      <td>陆天逸</td>\n",
       "      <td>男</td>\n",
       "      <td>19921178092</td>\n",
       "      <td>共青团员</td>\n",
       "      <td></td>\n",
       "      <td>NaN</td>\n",
       "      <td>NaN</td>\n",
       "    </tr>\n",
       "    <tr>\n",
       "      <th>3</th>\n",
       "      <td>(广西-南宁)</td>\n",
       "      <td>9181010E0423</td>\n",
       "      <td>潘海</td>\n",
       "      <td>男</td>\n",
       "      <td>19852853269</td>\n",
       "      <td>共青团员</td>\n",
       "      <td></td>\n",
       "      <td>NaN</td>\n",
       "      <td>NaN</td>\n",
       "    </tr>\n",
       "    <tr>\n",
       "      <th>4</th>\n",
       "      <td>(陕西-西安)</td>\n",
       "      <td>9181010E0605</td>\n",
       "      <td>陈晓东</td>\n",
       "      <td>男</td>\n",
       "      <td>13324598088</td>\n",
       "      <td>共青团员</td>\n",
       "      <td></td>\n",
       "      <td>NaN</td>\n",
       "      <td>NaN</td>\n",
       "    </tr>\n",
       "  </tbody>\n",
       "</table>\n",
       "</div>"
      ],
      "text/plain": [
       "      来自IP            学号   姓名 性别         联系电话  政治面貌 原班级职务 社团名称和担任的职务 担任学生骨干名称\n",
       "0  (山东-滨州)  9181010E0201   毛睿  女  18851041454  共青团员              NaN  院红会 副部长\n",
       "1  (湖南-长沙)  9181010E0222   刘睿  男  19825000917  共青团员        air机器人工作室      NaN\n",
       "2  (上海-上海)  9181010E0419  陆天逸  男  19921178092  共青团员              NaN      NaN\n",
       "3  (广西-南宁)  9181010E0423   潘海  男  19852853269  共青团员              NaN      NaN\n",
       "4  (陕西-西安)  9181010E0605  陈晓东  男  13324598088  共青团员              NaN      NaN"
      ]
     },
     "execution_count": 11,
     "metadata": {},
     "output_type": "execute_result"
    }
   ],
   "source": [
    "import pandas as pd\n",
    "file1 = '/Users/wenshuiluo/work/total.xlsx'\n",
    "file2 = '/Users/wenshuiluo/work/kaoyan.xlsx'\n",
    "file3 = '/Users/wenshuiluo/work/4.xlsx'\n",
    "data3 = pd.read_excel(file3)\n",
    "data1 = pd.read_excel(file1,header=[1])\n",
    "data1.head()"
   ]
  },
  {
   "cell_type": "code",
   "execution_count": 7,
   "metadata": {},
   "outputs": [
    {
     "data": {
      "text/html": [
       "<div>\n",
       "<style scoped>\n",
       "    .dataframe tbody tr th:only-of-type {\n",
       "        vertical-align: middle;\n",
       "    }\n",
       "\n",
       "    .dataframe tbody tr th {\n",
       "        vertical-align: top;\n",
       "    }\n",
       "\n",
       "    .dataframe thead th {\n",
       "        text-align: right;\n",
       "    }\n",
       "</style>\n",
       "<table border=\"1\" class=\"dataframe\">\n",
       "  <thead>\n",
       "    <tr style=\"text-align: right;\">\n",
       "      <th></th>\n",
       "      <th>序号</th>\n",
       "      <th>提交答卷时间</th>\n",
       "      <th>所用时间</th>\n",
       "      <th>来源</th>\n",
       "      <th>来源详情</th>\n",
       "      <th>来自IP</th>\n",
       "      <th>1、姓名</th>\n",
       "      <th>2、地点</th>\n",
       "    </tr>\n",
       "  </thead>\n",
       "  <tbody>\n",
       "    <tr>\n",
       "      <th>0</th>\n",
       "      <td>1</td>\n",
       "      <td>2021/12/1 10:08:30</td>\n",
       "      <td>4秒</td>\n",
       "      <td>手机提交</td>\n",
       "      <td>直接访问</td>\n",
       "      <td>223.104.150.32(江苏-扬州)</td>\n",
       "      <td>钱鹏</td>\n",
       "      <td>1</td>\n",
       "    </tr>\n",
       "    <tr>\n",
       "      <th>1</th>\n",
       "      <td>2</td>\n",
       "      <td>2021/12/1 10:08:35</td>\n",
       "      <td>6秒</td>\n",
       "      <td>手机提交</td>\n",
       "      <td>直接访问</td>\n",
       "      <td>122.96.42.41(江苏-南京)</td>\n",
       "      <td>王颖</td>\n",
       "      <td>1</td>\n",
       "    </tr>\n",
       "    <tr>\n",
       "      <th>2</th>\n",
       "      <td>3</td>\n",
       "      <td>2021/12/1 10:08:37</td>\n",
       "      <td>8秒</td>\n",
       "      <td>手机提交</td>\n",
       "      <td>直接访问</td>\n",
       "      <td>112.0.62.220(江苏-南京)</td>\n",
       "      <td>李艺</td>\n",
       "      <td>1</td>\n",
       "    </tr>\n",
       "    <tr>\n",
       "      <th>3</th>\n",
       "      <td>4</td>\n",
       "      <td>2021/12/1 10:08:41</td>\n",
       "      <td>8秒</td>\n",
       "      <td>手机提交</td>\n",
       "      <td>直接访问</td>\n",
       "      <td>223.104.4.55(江苏-南京)</td>\n",
       "      <td>潘海</td>\n",
       "      <td>2</td>\n",
       "    </tr>\n",
       "    <tr>\n",
       "      <th>4</th>\n",
       "      <td>5</td>\n",
       "      <td>2021/12/1 10:08:41</td>\n",
       "      <td>16秒</td>\n",
       "      <td>手机提交</td>\n",
       "      <td>直接访问</td>\n",
       "      <td>219.230.100.96(江苏-南京)</td>\n",
       "      <td>罗浩</td>\n",
       "      <td>2</td>\n",
       "    </tr>\n",
       "  </tbody>\n",
       "</table>\n",
       "</div>"
      ],
      "text/plain": [
       "   序号              提交答卷时间 所用时间    来源  来源详情                   来自IP 1、姓名  2、地点\n",
       "0   1  2021/12/1 10:08:30   4秒  手机提交  直接访问  223.104.150.32(江苏-扬州)   钱鹏     1\n",
       "1   2  2021/12/1 10:08:35   6秒  手机提交  直接访问    122.96.42.41(江苏-南京)   王颖     1\n",
       "2   3  2021/12/1 10:08:37   8秒  手机提交  直接访问    112.0.62.220(江苏-南京)   李艺     1\n",
       "3   4  2021/12/1 10:08:41   8秒  手机提交  直接访问    223.104.4.55(江苏-南京)   潘海     2\n",
       "4   5  2021/12/1 10:08:41  16秒  手机提交  直接访问  219.230.100.96(江苏-南京)   罗浩     2"
      ]
     },
     "execution_count": 7,
     "metadata": {},
     "output_type": "execute_result"
    }
   ],
   "source": [
    "data2 = pd.read_excel(file2)\n",
    "data2.head()"
   ]
  },
  {
   "cell_type": "code",
   "execution_count": 16,
   "metadata": {},
   "outputs": [],
   "source": [
    "name_kaoyan = list(data3[data3['2、去向'] == 1]['1、姓名'])+['敬鸥','罗浩']\n"
   ]
  },
  {
   "cell_type": "code",
   "execution_count": 18,
   "metadata": {},
   "outputs": [
    {
     "data": {
      "text/plain": [
       "36"
      ]
     },
     "execution_count": 18,
     "metadata": {},
     "output_type": "execute_result"
    }
   ],
   "source": [
    "len(name_kaoyan)"
   ]
  },
  {
   "cell_type": "code",
   "execution_count": 21,
   "metadata": {},
   "outputs": [
    {
     "data": {
      "text/plain": [
       "31"
      ]
     },
     "execution_count": 21,
     "metadata": {},
     "output_type": "execute_result"
    }
   ],
   "source": [
    "name_get = list(data2['1、姓名'])\n",
    "len(name_get)"
   ]
  },
  {
   "cell_type": "code",
   "execution_count": 22,
   "metadata": {},
   "outputs": [
    {
     "data": {
      "text/plain": [
       "['许燃', '黄浩然', '孙琦月', '黄昱程', '牛凯']"
      ]
     },
     "execution_count": 22,
     "metadata": {},
     "output_type": "execute_result"
    }
   ],
   "source": [
    "list(set(name_kaoyan) - set(name_get))"
   ]
  }
 ],
 "metadata": {
  "interpreter": {
   "hash": "0533c625787255704bb8cb6b2cb8c19f7ef21acb7549e94194f8afd7ebe5bc1d"
  },
  "kernelspec": {
   "display_name": "Python 3.8.5 64-bit ('base': conda)",
   "language": "python",
   "name": "python3"
  },
  "language_info": {
   "codemirror_mode": {
    "name": "ipython",
    "version": 3
   },
   "file_extension": ".py",
   "mimetype": "text/x-python",
   "name": "python",
   "nbconvert_exporter": "python",
   "pygments_lexer": "ipython3",
   "version": "3.8.5"
  },
  "orig_nbformat": 4
 },
 "nbformat": 4,
 "nbformat_minor": 2
}
