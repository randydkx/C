{
 "cells": [
  {
   "cell_type": "code",
   "execution_count": 1,
   "metadata": {},
   "outputs": [
    {
     "data": {
      "text/html": [
       "<div>\n",
       "<style scoped>\n",
       "    .dataframe tbody tr th:only-of-type {\n",
       "        vertical-align: middle;\n",
       "    }\n",
       "\n",
       "    .dataframe tbody tr th {\n",
       "        vertical-align: top;\n",
       "    }\n",
       "\n",
       "    .dataframe thead th {\n",
       "        text-align: right;\n",
       "    }\n",
       "</style>\n",
       "<table border=\"1\" class=\"dataframe\">\n",
       "  <thead>\n",
       "    <tr style=\"text-align: right;\">\n",
       "      <th></th>\n",
       "      <th>来自IP</th>\n",
       "      <th>学号</th>\n",
       "      <th>姓名</th>\n",
       "      <th>性别</th>\n",
       "      <th>联系电话</th>\n",
       "      <th>政治面貌</th>\n",
       "      <th>原班级职务</th>\n",
       "      <th>社团名称和担任的职务</th>\n",
       "      <th>担任学生骨干名称</th>\n",
       "    </tr>\n",
       "  </thead>\n",
       "  <tbody>\n",
       "    <tr>\n",
       "      <th>0</th>\n",
       "      <td>(山东-滨州)</td>\n",
       "      <td>9181010E0201</td>\n",
       "      <td>毛睿</td>\n",
       "      <td>女</td>\n",
       "      <td>18851041454</td>\n",
       "      <td>共青团员</td>\n",
       "      <td></td>\n",
       "      <td>NaN</td>\n",
       "      <td>院红会 副部长</td>\n",
       "    </tr>\n",
       "    <tr>\n",
       "      <th>1</th>\n",
       "      <td>(湖南-长沙)</td>\n",
       "      <td>9181010E0222</td>\n",
       "      <td>刘睿</td>\n",
       "      <td>男</td>\n",
       "      <td>19825000917</td>\n",
       "      <td>共青团员</td>\n",
       "      <td></td>\n",
       "      <td>air机器人工作室</td>\n",
       "      <td>NaN</td>\n",
       "    </tr>\n",
       "    <tr>\n",
       "      <th>2</th>\n",
       "      <td>(上海-上海)</td>\n",
       "      <td>9181010E0419</td>\n",
       "      <td>陆天逸</td>\n",
       "      <td>男</td>\n",
       "      <td>19921178092</td>\n",
       "      <td>共青团员</td>\n",
       "      <td></td>\n",
       "      <td>NaN</td>\n",
       "      <td>NaN</td>\n",
       "    </tr>\n",
       "    <tr>\n",
       "      <th>3</th>\n",
       "      <td>(广西-南宁)</td>\n",
       "      <td>9181010E0423</td>\n",
       "      <td>潘海</td>\n",
       "      <td>男</td>\n",
       "      <td>19852853269</td>\n",
       "      <td>共青团员</td>\n",
       "      <td></td>\n",
       "      <td>NaN</td>\n",
       "      <td>NaN</td>\n",
       "    </tr>\n",
       "    <tr>\n",
       "      <th>4</th>\n",
       "      <td>(陕西-西安)</td>\n",
       "      <td>9181010E0605</td>\n",
       "      <td>陈晓东</td>\n",
       "      <td>男</td>\n",
       "      <td>13324598088</td>\n",
       "      <td>共青团员</td>\n",
       "      <td></td>\n",
       "      <td>NaN</td>\n",
       "      <td>NaN</td>\n",
       "    </tr>\n",
       "  </tbody>\n",
       "</table>\n",
       "</div>"
      ],
      "text/plain": [
       "      来自IP            学号   姓名 性别         联系电话  政治面貌 原班级职务 社团名称和担任的职务 担任学生骨干名称\n",
       "0  (山东-滨州)  9181010E0201   毛睿  女  18851041454  共青团员              NaN  院红会 副部长\n",
       "1  (湖南-长沙)  9181010E0222   刘睿  男  19825000917  共青团员        air机器人工作室      NaN\n",
       "2  (上海-上海)  9181010E0419  陆天逸  男  19921178092  共青团员              NaN      NaN\n",
       "3  (广西-南宁)  9181010E0423   潘海  男  19852853269  共青团员              NaN      NaN\n",
       "4  (陕西-西安)  9181010E0605  陈晓东  男  13324598088  共青团员              NaN      NaN"
      ]
     },
     "execution_count": 1,
     "metadata": {},
     "output_type": "execute_result"
    }
   ],
   "source": [
    "import pandas as pd\n",
    "file1 = '/Users/wenshuiluo/work/total.xlsx'\n",
    "data1 = pd.read_excel(file1,header=[1])\n",
    "data1.head()"
   ]
  },
  {
   "cell_type": "code",
   "execution_count": 2,
   "metadata": {},
   "outputs": [
    {
     "data": {
      "text/html": [
       "<div>\n",
       "<style scoped>\n",
       "    .dataframe tbody tr th:only-of-type {\n",
       "        vertical-align: middle;\n",
       "    }\n",
       "\n",
       "    .dataframe tbody tr th {\n",
       "        vertical-align: top;\n",
       "    }\n",
       "\n",
       "    .dataframe thead th {\n",
       "        text-align: right;\n",
       "    }\n",
       "</style>\n",
       "<table border=\"1\" class=\"dataframe\">\n",
       "  <thead>\n",
       "    <tr style=\"text-align: right;\">\n",
       "      <th></th>\n",
       "      <th>序号</th>\n",
       "      <th>提交答卷时间</th>\n",
       "      <th>所用时间</th>\n",
       "      <th>来源</th>\n",
       "      <th>来源详情</th>\n",
       "      <th>来自IP</th>\n",
       "      <th>1、姓名</th>\n",
       "      <th>2、学号</th>\n",
       "      <th>3、具体去向，每位同学仅选一项。</th>\n",
       "    </tr>\n",
       "  </thead>\n",
       "  <tbody>\n",
       "    <tr>\n",
       "      <th>0</th>\n",
       "      <td>1</td>\n",
       "      <td>2021/12/28 12:00:46</td>\n",
       "      <td>29秒</td>\n",
       "      <td>微信</td>\n",
       "      <td>NaN</td>\n",
       "      <td>222.95.186.109(江苏-南京)</td>\n",
       "      <td>罗文水</td>\n",
       "      <td>918106840738</td>\n",
       "      <td>4</td>\n",
       "    </tr>\n",
       "    <tr>\n",
       "      <th>1</th>\n",
       "      <td>2</td>\n",
       "      <td>2021/12/28 12:04:08</td>\n",
       "      <td>9秒</td>\n",
       "      <td>手机提交</td>\n",
       "      <td>直接访问</td>\n",
       "      <td>219.230.100.76(江苏-南京)</td>\n",
       "      <td>林凯杰</td>\n",
       "      <td>918108320210</td>\n",
       "      <td>4</td>\n",
       "    </tr>\n",
       "    <tr>\n",
       "      <th>2</th>\n",
       "      <td>3</td>\n",
       "      <td>2021/12/28 12:04:10</td>\n",
       "      <td>20秒</td>\n",
       "      <td>手机提交</td>\n",
       "      <td>直接访问</td>\n",
       "      <td>223.104.150.81(江苏-扬州)</td>\n",
       "      <td>蒋旭钊</td>\n",
       "      <td>918106840727</td>\n",
       "      <td>8</td>\n",
       "    </tr>\n",
       "    <tr>\n",
       "      <th>3</th>\n",
       "      <td>4</td>\n",
       "      <td>2021/12/28 12:04:10</td>\n",
       "      <td>19秒</td>\n",
       "      <td>手机提交</td>\n",
       "      <td>直接访问</td>\n",
       "      <td>222.95.235.181(江苏-南京)</td>\n",
       "      <td>赵震</td>\n",
       "      <td>918106840453</td>\n",
       "      <td>4</td>\n",
       "    </tr>\n",
       "    <tr>\n",
       "      <th>4</th>\n",
       "      <td>5</td>\n",
       "      <td>2021/12/28 12:04:17</td>\n",
       "      <td>21秒</td>\n",
       "      <td>手机提交</td>\n",
       "      <td>直接访问</td>\n",
       "      <td>219.230.87.200(江苏-南京)</td>\n",
       "      <td>王猛</td>\n",
       "      <td>918106840141</td>\n",
       "      <td>5</td>\n",
       "    </tr>\n",
       "  </tbody>\n",
       "</table>\n",
       "</div>"
      ],
      "text/plain": [
       "   序号               提交答卷时间 所用时间    来源  来源详情                   来自IP 1、姓名  \\\n",
       "0   1  2021/12/28 12:00:46  29秒    微信   NaN  222.95.186.109(江苏-南京)  罗文水   \n",
       "1   2  2021/12/28 12:04:08   9秒  手机提交  直接访问  219.230.100.76(江苏-南京)  林凯杰   \n",
       "2   3  2021/12/28 12:04:10  20秒  手机提交  直接访问  223.104.150.81(江苏-扬州)  蒋旭钊   \n",
       "3   4  2021/12/28 12:04:10  19秒  手机提交  直接访问  222.95.235.181(江苏-南京)   赵震   \n",
       "4   5  2021/12/28 12:04:17  21秒  手机提交  直接访问  219.230.87.200(江苏-南京)   王猛   \n",
       "\n",
       "           2、学号  3、具体去向，每位同学仅选一项。  \n",
       "0  918106840738                 4  \n",
       "1  918108320210                 4  \n",
       "2  918106840727                 8  \n",
       "3  918106840453                 4  \n",
       "4  918106840141                 5  "
      ]
     },
     "execution_count": 2,
     "metadata": {},
     "output_type": "execute_result"
    }
   ],
   "source": [
    "file2 = '/Users/wenshuiluo/work/12.30.xlsx'\n",
    "data2 = pd.read_excel(file2)\n",
    "data2.head()"
   ]
  },
  {
   "cell_type": "code",
   "execution_count": 15,
   "metadata": {},
   "outputs": [
    {
     "name": "stdout",
     "output_type": "stream",
     "text": [
      "53\n"
     ]
    },
    {
     "data": {
      "text/plain": [
       "{'刘睿', '林仕景', '毛睿', '王俊玺', '苏雯茜', '邢宇', '陆天逸', '陈宏宇'}"
      ]
     },
     "execution_count": 15,
     "metadata": {},
     "output_type": "execute_result"
    }
   ],
   "source": [
    "print(len(data2['1、姓名']))\n",
    "set(list(data1['姓名'].dropna())+['余汉鸿']) - set(data2['1、姓名'])"
   ]
  },
  {
   "cell_type": "code",
   "execution_count": 2,
   "metadata": {},
   "outputs": [
    {
     "data": {
      "text/plain": [
       "array([1., 1., 4.])"
      ]
     },
     "execution_count": 2,
     "metadata": {},
     "output_type": "execute_result"
    }
   ],
   "source": [
    "import numpy as np\n",
    "a = np.asarray([[2,0,0],[1,1,0],[1,0,1]])\n",
    "np.linalg.inv(a) @ np.asarray([2,2,5]).T"
   ]
  },
  {
   "cell_type": "code",
   "execution_count": null,
   "metadata": {},
   "outputs": [],
   "source": []
  }
 ],
 "metadata": {
  "interpreter": {
   "hash": "0533c625787255704bb8cb6b2cb8c19f7ef21acb7549e94194f8afd7ebe5bc1d"
  },
  "kernelspec": {
   "display_name": "Python 3.8.5 64-bit ('base': conda)",
   "language": "python",
   "name": "python3"
  },
  "language_info": {
   "codemirror_mode": {
    "name": "ipython",
    "version": 3
   },
   "file_extension": ".py",
   "mimetype": "text/x-python",
   "name": "python",
   "nbconvert_exporter": "python",
   "pygments_lexer": "ipython3",
   "version": "3.8.5"
  },
  "orig_nbformat": 4
 },
 "nbformat": 4,
 "nbformat_minor": 2
}
