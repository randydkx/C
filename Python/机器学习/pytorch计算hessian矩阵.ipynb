{
 "cells": [
  {
   "cell_type": "code",
   "execution_count": 2,
   "metadata": {},
   "outputs": [
    {
     "name": "stdout",
     "output_type": "stream",
     "text": [
      "tensor(2.1269, grad_fn=<LogBackward>)\n",
      "(tensor([0.8808, 0.8808], grad_fn=<StackBackward>),)\n",
      "tensor(0.8808, grad_fn=<UnbindBackward>)\n",
      "tensor(0.8808, grad_fn=<UnbindBackward>)\n",
      "tensor([[0.1050, 0.1050],\n",
      "        [0.1050, 0.1050]], grad_fn=<StackBackward>)\n"
     ]
    }
   ],
   "source": [
    "from torch.autograd import grad\n",
    "import torch\n",
    "A = torch.tensor([[1,3],[3,2]]).float()\n",
    "# from torch.autograd.functional import \n",
    "fun = lambda x: 1/2 * x.T @ A @ x\n",
    "fun = lambda x: torch.log(1 + torch.exp(sum(x)))\n",
    "x = torch.ones(2,requires_grad=True)\n",
    "value = fun(x)\n",
    "print(value)\n",
    "grad_ = grad(value, x, create_graph=True)\n",
    "print(grad_)\n",
    "hessian = []\n",
    "for gradi in grad_[0]:\n",
    "    print(gradi)\n",
    "    hessian.append(grad(gradi, x, create_graph=True)[0])\n",
    "print(torch.stack(hessian))"
   ]
  },
  {
   "cell_type": "code",
   "execution_count": null,
   "metadata": {},
   "outputs": [],
   "source": []
  }
 ],
 "metadata": {
  "kernelspec": {
   "display_name": "Python 3.8.5 ('base')",
   "language": "python",
   "name": "python3"
  },
  "language_info": {
   "codemirror_mode": {
    "name": "ipython",
    "version": 3
   },
   "file_extension": ".py",
   "mimetype": "text/x-python",
   "name": "python",
   "nbconvert_exporter": "python",
   "pygments_lexer": "ipython3",
   "version": "3.8.5"
  },
  "orig_nbformat": 4,
  "vscode": {
   "interpreter": {
    "hash": "0533c625787255704bb8cb6b2cb8c19f7ef21acb7549e94194f8afd7ebe5bc1d"
   }
  }
 },
 "nbformat": 4,
 "nbformat_minor": 2
}
