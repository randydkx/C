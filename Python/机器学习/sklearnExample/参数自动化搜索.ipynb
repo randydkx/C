{
 "cells": [
  {
   "cell_type": "markdown",
   "source": [
    "## 方法1：通过GradSearch搜索进行网格搜索"
   ],
   "metadata": {}
  },
  {
   "cell_type": "code",
   "execution_count": 6,
   "source": [
    "from sklearn import svm, datasets\n",
    "from sklearn.model_selection import GridSearchCV\n",
    "import pandas as pd\n",
    "# pd.set_option('display.height',1000)\n",
    "\n",
    "# 导入数据\n",
    "iris = datasets.load_iris()\n",
    "# 定义超参搜索空间\n",
    "parameters = {'kernel':('linear', 'rbf'), 'C':[1, 10]}\n",
    "# 初始化模型\n",
    "svc = svm.SVC()\n",
    "# 网格搜索\n",
    "clf = GridSearchCV(estimator = svc,\n",
    "                   param_grid = parameters,\n",
    "                   scoring = 'accuracy',\n",
    "                   n_jobs = -1,\n",
    "                   cv = 5)\n",
    "clf.fit(iris.data, iris.target)\n",
    "\n",
    "# 打印结果\n"
   ],
   "outputs": [
    {
     "output_type": "execute_result",
     "data": {
      "text/plain": [
       "GridSearchCV(cv=5, estimator=SVC(), n_jobs=-1,\n",
       "             param_grid={'C': [1, 10], 'kernel': ('linear', 'rbf')},\n",
       "             scoring='accuracy')"
      ]
     },
     "metadata": {},
     "execution_count": 6
    }
   ],
   "metadata": {}
  },
  {
   "cell_type": "code",
   "execution_count": 7,
   "source": [
    "pd.DataFrame.from_dict(clf.cv_results_)"
   ],
   "outputs": [
    {
     "output_type": "execute_result",
     "data": {
      "text/plain": [
       "   mean_fit_time  std_fit_time  mean_score_time  std_score_time param_C  \\\n",
       "0       0.001275      0.000194         0.000557        0.000121       1   \n",
       "1       0.001562      0.000172         0.000666        0.000077       1   \n",
       "2       0.001230      0.000192         0.000483        0.000083      10   \n",
       "3       0.000960      0.000087         0.000458        0.000016      10   \n",
       "\n",
       "  param_kernel                         params  split0_test_score  \\\n",
       "0       linear   {'C': 1, 'kernel': 'linear'}           0.966667   \n",
       "1          rbf      {'C': 1, 'kernel': 'rbf'}           0.966667   \n",
       "2       linear  {'C': 10, 'kernel': 'linear'}           1.000000   \n",
       "3          rbf     {'C': 10, 'kernel': 'rbf'}           0.966667   \n",
       "\n",
       "   split1_test_score  split2_test_score  split3_test_score  split4_test_score  \\\n",
       "0           1.000000           0.966667           0.966667                1.0   \n",
       "1           0.966667           0.966667           0.933333                1.0   \n",
       "2           1.000000           0.900000           0.966667                1.0   \n",
       "3           1.000000           0.966667           0.966667                1.0   \n",
       "\n",
       "   mean_test_score  std_test_score  rank_test_score  \n",
       "0         0.980000        0.016330                1  \n",
       "1         0.966667        0.021082                4  \n",
       "2         0.973333        0.038873                3  \n",
       "3         0.980000        0.016330                1  "
      ],
      "text/html": [
       "<div>\n",
       "<style scoped>\n",
       "    .dataframe tbody tr th:only-of-type {\n",
       "        vertical-align: middle;\n",
       "    }\n",
       "\n",
       "    .dataframe tbody tr th {\n",
       "        vertical-align: top;\n",
       "    }\n",
       "\n",
       "    .dataframe thead th {\n",
       "        text-align: right;\n",
       "    }\n",
       "</style>\n",
       "<table border=\"1\" class=\"dataframe\">\n",
       "  <thead>\n",
       "    <tr style=\"text-align: right;\">\n",
       "      <th></th>\n",
       "      <th>mean_fit_time</th>\n",
       "      <th>std_fit_time</th>\n",
       "      <th>mean_score_time</th>\n",
       "      <th>std_score_time</th>\n",
       "      <th>param_C</th>\n",
       "      <th>param_kernel</th>\n",
       "      <th>params</th>\n",
       "      <th>split0_test_score</th>\n",
       "      <th>split1_test_score</th>\n",
       "      <th>split2_test_score</th>\n",
       "      <th>split3_test_score</th>\n",
       "      <th>split4_test_score</th>\n",
       "      <th>mean_test_score</th>\n",
       "      <th>std_test_score</th>\n",
       "      <th>rank_test_score</th>\n",
       "    </tr>\n",
       "  </thead>\n",
       "  <tbody>\n",
       "    <tr>\n",
       "      <th>0</th>\n",
       "      <td>0.001275</td>\n",
       "      <td>0.000194</td>\n",
       "      <td>0.000557</td>\n",
       "      <td>0.000121</td>\n",
       "      <td>1</td>\n",
       "      <td>linear</td>\n",
       "      <td>{'C': 1, 'kernel': 'linear'}</td>\n",
       "      <td>0.966667</td>\n",
       "      <td>1.000000</td>\n",
       "      <td>0.966667</td>\n",
       "      <td>0.966667</td>\n",
       "      <td>1.0</td>\n",
       "      <td>0.980000</td>\n",
       "      <td>0.016330</td>\n",
       "      <td>1</td>\n",
       "    </tr>\n",
       "    <tr>\n",
       "      <th>1</th>\n",
       "      <td>0.001562</td>\n",
       "      <td>0.000172</td>\n",
       "      <td>0.000666</td>\n",
       "      <td>0.000077</td>\n",
       "      <td>1</td>\n",
       "      <td>rbf</td>\n",
       "      <td>{'C': 1, 'kernel': 'rbf'}</td>\n",
       "      <td>0.966667</td>\n",
       "      <td>0.966667</td>\n",
       "      <td>0.966667</td>\n",
       "      <td>0.933333</td>\n",
       "      <td>1.0</td>\n",
       "      <td>0.966667</td>\n",
       "      <td>0.021082</td>\n",
       "      <td>4</td>\n",
       "    </tr>\n",
       "    <tr>\n",
       "      <th>2</th>\n",
       "      <td>0.001230</td>\n",
       "      <td>0.000192</td>\n",
       "      <td>0.000483</td>\n",
       "      <td>0.000083</td>\n",
       "      <td>10</td>\n",
       "      <td>linear</td>\n",
       "      <td>{'C': 10, 'kernel': 'linear'}</td>\n",
       "      <td>1.000000</td>\n",
       "      <td>1.000000</td>\n",
       "      <td>0.900000</td>\n",
       "      <td>0.966667</td>\n",
       "      <td>1.0</td>\n",
       "      <td>0.973333</td>\n",
       "      <td>0.038873</td>\n",
       "      <td>3</td>\n",
       "    </tr>\n",
       "    <tr>\n",
       "      <th>3</th>\n",
       "      <td>0.000960</td>\n",
       "      <td>0.000087</td>\n",
       "      <td>0.000458</td>\n",
       "      <td>0.000016</td>\n",
       "      <td>10</td>\n",
       "      <td>rbf</td>\n",
       "      <td>{'C': 10, 'kernel': 'rbf'}</td>\n",
       "      <td>0.966667</td>\n",
       "      <td>1.000000</td>\n",
       "      <td>0.966667</td>\n",
       "      <td>0.966667</td>\n",
       "      <td>1.0</td>\n",
       "      <td>0.980000</td>\n",
       "      <td>0.016330</td>\n",
       "      <td>1</td>\n",
       "    </tr>\n",
       "  </tbody>\n",
       "</table>\n",
       "</div>"
      ]
     },
     "metadata": {},
     "execution_count": 7
    }
   ],
   "metadata": {}
  },
  {
   "cell_type": "code",
   "execution_count": 8,
   "source": [
    "print('最佳分类器:\\n', clf.best_estimator_)\n",
    "print('最佳分数:\\n', clf.best_score_)\n",
    "print('最佳参数:\\n', clf.best_params_)"
   ],
   "outputs": [
    {
     "output_type": "stream",
     "name": "stdout",
     "text": [
      "最佳分类器:\n",
      " SVC(C=1, kernel='linear')\n",
      "最佳分数:\n",
      " 0.9800000000000001\n",
      "最佳参数:\n",
      " {'C': 1, 'kernel': 'linear'}\n"
     ]
    }
   ],
   "metadata": {}
  },
  {
   "cell_type": "markdown",
   "source": [
    "## 方法2：随机搜索 "
   ],
   "metadata": {}
  },
  {
   "cell_type": "code",
   "execution_count": 12,
   "source": [
    "from sklearn import datasets, svm\n",
    "from sklearn.model_selection import RandomizedSearchCV\n",
    "import pandas as pd\n",
    "from scipy.stats import uniform\n",
    "iris = datasets.load_iris()\n",
    "distributions = {'kernel':['linear','rbf'],'C':uniform(loc=1,scale=9)}\n",
    "svc = svm.SVC()\n",
    "clf = RandomizedSearchCV(\n",
    "    estimator=svc,\n",
    "    param_distributions=distributions,\n",
    "    n_iter=4,\n",
    "    scoring='accuracy',\n",
    "    cv=5,\n",
    "    n_jobs=-1,\n",
    "    random_state=2021\n",
    ")\n",
    "clf.fit(iris.data,iris.target)"
   ],
   "outputs": [
    {
     "output_type": "execute_result",
     "data": {
      "text/plain": [
       "RandomizedSearchCV(cv=5, estimator=SVC(), n_iter=4, n_jobs=-1,\n",
       "                   param_distributions={'C': <scipy.stats._distn_infrastructure.rv_frozen object at 0x7f852c642070>,\n",
       "                                        'kernel': ['linear', 'rbf']},\n",
       "                   random_state=2021, scoring='accuracy')"
      ]
     },
     "metadata": {},
     "execution_count": 12
    }
   ],
   "metadata": {}
  },
  {
   "cell_type": "code",
   "execution_count": 13,
   "source": [
    "pd.DataFrame.from_dict(clf.cv_results_)"
   ],
   "outputs": [
    {
     "output_type": "execute_result",
     "data": {
      "text/plain": [
       "   mean_fit_time  std_fit_time  mean_score_time  std_score_time  param_C  \\\n",
       "0       0.001468      0.000068         0.000696        0.000054   6.4538   \n",
       "1       0.001757      0.000655         0.001777        0.002277  4.99782   \n",
       "2       0.001479      0.000030         0.000662        0.000014  3.81406   \n",
       "3       0.003356      0.000989         0.001282        0.000382  5.36286   \n",
       "\n",
       "  param_kernel                                         params  \\\n",
       "0          rbf      {'C': 6.453804509266643, 'kernel': 'rbf'}   \n",
       "1       linear  {'C': 4.9978242311665735, 'kernel': 'linear'}   \n",
       "2          rbf     {'C': 3.8140577546921826, 'kernel': 'rbf'}   \n",
       "3          rbf      {'C': 5.362861410926739, 'kernel': 'rbf'}   \n",
       "\n",
       "   split0_test_score  split1_test_score  split2_test_score  split3_test_score  \\\n",
       "0           0.966667                1.0           1.000000           0.966667   \n",
       "1           1.000000                1.0           0.933333           0.966667   \n",
       "2           0.966667                1.0           0.966667           0.966667   \n",
       "3           0.966667                1.0           1.000000           0.966667   \n",
       "\n",
       "   split4_test_score  mean_test_score  std_test_score  rank_test_score  \n",
       "0                1.0         0.986667        0.016330                1  \n",
       "1                1.0         0.980000        0.026667                3  \n",
       "2                1.0         0.980000        0.016330                3  \n",
       "3                1.0         0.986667        0.016330                1  "
      ],
      "text/html": [
       "<div>\n",
       "<style scoped>\n",
       "    .dataframe tbody tr th:only-of-type {\n",
       "        vertical-align: middle;\n",
       "    }\n",
       "\n",
       "    .dataframe tbody tr th {\n",
       "        vertical-align: top;\n",
       "    }\n",
       "\n",
       "    .dataframe thead th {\n",
       "        text-align: right;\n",
       "    }\n",
       "</style>\n",
       "<table border=\"1\" class=\"dataframe\">\n",
       "  <thead>\n",
       "    <tr style=\"text-align: right;\">\n",
       "      <th></th>\n",
       "      <th>mean_fit_time</th>\n",
       "      <th>std_fit_time</th>\n",
       "      <th>mean_score_time</th>\n",
       "      <th>std_score_time</th>\n",
       "      <th>param_C</th>\n",
       "      <th>param_kernel</th>\n",
       "      <th>params</th>\n",
       "      <th>split0_test_score</th>\n",
       "      <th>split1_test_score</th>\n",
       "      <th>split2_test_score</th>\n",
       "      <th>split3_test_score</th>\n",
       "      <th>split4_test_score</th>\n",
       "      <th>mean_test_score</th>\n",
       "      <th>std_test_score</th>\n",
       "      <th>rank_test_score</th>\n",
       "    </tr>\n",
       "  </thead>\n",
       "  <tbody>\n",
       "    <tr>\n",
       "      <th>0</th>\n",
       "      <td>0.001468</td>\n",
       "      <td>0.000068</td>\n",
       "      <td>0.000696</td>\n",
       "      <td>0.000054</td>\n",
       "      <td>6.4538</td>\n",
       "      <td>rbf</td>\n",
       "      <td>{'C': 6.453804509266643, 'kernel': 'rbf'}</td>\n",
       "      <td>0.966667</td>\n",
       "      <td>1.0</td>\n",
       "      <td>1.000000</td>\n",
       "      <td>0.966667</td>\n",
       "      <td>1.0</td>\n",
       "      <td>0.986667</td>\n",
       "      <td>0.016330</td>\n",
       "      <td>1</td>\n",
       "    </tr>\n",
       "    <tr>\n",
       "      <th>1</th>\n",
       "      <td>0.001757</td>\n",
       "      <td>0.000655</td>\n",
       "      <td>0.001777</td>\n",
       "      <td>0.002277</td>\n",
       "      <td>4.99782</td>\n",
       "      <td>linear</td>\n",
       "      <td>{'C': 4.9978242311665735, 'kernel': 'linear'}</td>\n",
       "      <td>1.000000</td>\n",
       "      <td>1.0</td>\n",
       "      <td>0.933333</td>\n",
       "      <td>0.966667</td>\n",
       "      <td>1.0</td>\n",
       "      <td>0.980000</td>\n",
       "      <td>0.026667</td>\n",
       "      <td>3</td>\n",
       "    </tr>\n",
       "    <tr>\n",
       "      <th>2</th>\n",
       "      <td>0.001479</td>\n",
       "      <td>0.000030</td>\n",
       "      <td>0.000662</td>\n",
       "      <td>0.000014</td>\n",
       "      <td>3.81406</td>\n",
       "      <td>rbf</td>\n",
       "      <td>{'C': 3.8140577546921826, 'kernel': 'rbf'}</td>\n",
       "      <td>0.966667</td>\n",
       "      <td>1.0</td>\n",
       "      <td>0.966667</td>\n",
       "      <td>0.966667</td>\n",
       "      <td>1.0</td>\n",
       "      <td>0.980000</td>\n",
       "      <td>0.016330</td>\n",
       "      <td>3</td>\n",
       "    </tr>\n",
       "    <tr>\n",
       "      <th>3</th>\n",
       "      <td>0.003356</td>\n",
       "      <td>0.000989</td>\n",
       "      <td>0.001282</td>\n",
       "      <td>0.000382</td>\n",
       "      <td>5.36286</td>\n",
       "      <td>rbf</td>\n",
       "      <td>{'C': 5.362861410926739, 'kernel': 'rbf'}</td>\n",
       "      <td>0.966667</td>\n",
       "      <td>1.0</td>\n",
       "      <td>1.000000</td>\n",
       "      <td>0.966667</td>\n",
       "      <td>1.0</td>\n",
       "      <td>0.986667</td>\n",
       "      <td>0.016330</td>\n",
       "      <td>1</td>\n",
       "    </tr>\n",
       "  </tbody>\n",
       "</table>\n",
       "</div>"
      ]
     },
     "metadata": {},
     "execution_count": 13
    }
   ],
   "metadata": {}
  },
  {
   "cell_type": "code",
   "execution_count": 14,
   "source": [
    "print(clf.best_estimator_)\n",
    "print(clf.best_params_)\n",
    "print(clf.best_score_)"
   ],
   "outputs": [
    {
     "output_type": "stream",
     "name": "stdout",
     "text": [
      "SVC(C=6.453804509266643)\n",
      "{'C': 6.453804509266643, 'kernel': 'rbf'}\n",
      "0.9866666666666667\n"
     ]
    }
   ],
   "metadata": {}
  },
  {
   "cell_type": "markdown",
   "source": [
    "## 方法3：使用贝叶斯优化"
   ],
   "metadata": {}
  },
  {
   "cell_type": "code",
   "execution_count": 1,
   "source": [
    "from sklearn import svm, datasets\n",
    "from sklearn.model_selection import cross_val_score\n",
    "from hyperopt import hp, fmin, tpe, space_eval\n",
    "import pandas as pd\n",
    "\n",
    "# 导入数据\n",
    "iris = datasets.load_iris()\n",
    "\n",
    "# step1: 定义目标函数\n",
    "def objective(params):\n",
    "      # 初始化模型并交叉验证\n",
    "      svc = svm.SVC(**params)\n",
    "      cv_scores = cross_val_score(svc, iris.data, iris.target, cv=5)\n",
    "      # 返回loss = 1 - accuracy (loss必须被最小化)\n",
    "      loss = 1 - cv_scores.mean()\n",
    "      return loss\n",
    "\n",
    "# step2: 定义超参搜索空间\n",
    "space = {'kernel':hp.choice('kernel', ['linear', 'rbf']),\n",
    "         'C':hp.uniform('C', 1, 100)}\n",
    "\n",
    "# step3: 在给定超参搜索空间下，最小化目标函数\n",
    "best = fmin(objective, space, algo=tpe.suggest, max_evals=100)\n",
    "\n",
    "# step4: 打印结果\n",
    "print(best)"
   ],
   "outputs": [
    {
     "output_type": "stream",
     "name": "stdout",
     "text": [
      "100%|██████████| 100/100 [00:00<00:00, 124.02trial/s, best loss: 0.013333333333333308]\n",
      "{'C': 6.195719675022276, 'kernel': 1}\n"
     ]
    }
   ],
   "metadata": {}
  },
  {
   "cell_type": "code",
   "execution_count": null,
   "source": [],
   "outputs": [],
   "metadata": {}
  }
 ],
 "metadata": {
  "orig_nbformat": 4,
  "language_info": {
   "name": "python",
   "version": "3.8.5",
   "mimetype": "text/x-python",
   "codemirror_mode": {
    "name": "ipython",
    "version": 3
   },
   "pygments_lexer": "ipython3",
   "nbconvert_exporter": "python",
   "file_extension": ".py"
  },
  "kernelspec": {
   "name": "python3",
   "display_name": "Python 3.8.5 64-bit ('base': conda)"
  },
  "interpreter": {
   "hash": "2b0d8445d30565f6cf0731071b42a683b7aa132b1cb9bae01ff5d96fc7237cfa"
  }
 },
 "nbformat": 4,
 "nbformat_minor": 2
}