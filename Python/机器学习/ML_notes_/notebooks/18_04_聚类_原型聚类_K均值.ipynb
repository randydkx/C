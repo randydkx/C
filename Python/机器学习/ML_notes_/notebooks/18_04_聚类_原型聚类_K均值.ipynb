{
 "cells": [
  {
   "cell_type": "markdown",
   "source": [
    "### 一.算法原理\n",
    "k均值聚类大家都很熟悉了，但可能更多是对算法的迭代过程比较熟悉，这里需要说明一下的就是k均值聚类是有“目标”的，假设给定样本$D=\\{x_1,x_2,...,x_m\\}$，针对聚类所得簇划分$C=\\{C_1,C_2,...,C_k\\}$最小化如下的平方误差函数：   \n",
    "\n",
    "$$\n",
    "C^*=arg\\min_{C}\\sum_{i=1}^k\\sum_{x\\in C_i}\\left|\\left|x-\\mu_i\\right|\\right|_2^2\n",
    "$$  \n",
    "\n",
    "其中，$\\mu_i=\\frac{1}{|C_i|}\\sum_{x\\in C_i}x$是簇$C_i$的均值向量，将$m$个样本分到$k$个簇共有$\\frac{1}{m!}\\sum_{i=1}^m(-1)^iC_m^i(m-i)^k$种可能，显然这是一个NP-hard问题，我们所熟知的k均值算法其实是对这个问题的贪心搜索"
   ],
   "metadata": {}
  },
  {
   "cell_type": "markdown",
   "source": [
    "### 二.算法流程\n",
    ">输入：样本集$D=\\{x_1,x_2,...,x_m\\}$；聚类次数$k$；终止误差$tol$  \n",
    "\n",
    ">过程   \n",
    "\n",
    ">（1）从$D$中随机选择$k$个样本作为初始均值向量${\\mu_1,\\mu_2,...,\\mu_k}$   \n",
    "\n",
    ">（2）重复如下过程，直到终止条件   \n",
    "\n",
    ">>（2.1）令$C_i=\\{\\},i=1,2,...,k$；  \n",
    "\n",
    ">>（2.2）对$j=1,2,...,m$；   \n",
    "\n",
    ">>>（2.2.1）计算样本$x_j$与各均值向量$\\mu_i,i=1,2,...,k$：$d_{ji}=||x_j-\\mu_i||_2$；  \n",
    "\n",
    ">>>（2.2.2）根据距离最近的均值向量确定$x_j$的簇标记：$\\lambda_j=arg\\min_{i\\in \\{1,2,...,k\\}}d_{ji}$；   \n",
    "\n",
    ">>>（2.2.3）将样本$x_j$划入相应的簇$C_{\\lambda_j}=C_{\\lambda_j}\\bigcup\\{x_j\\}$；  \n",
    "\n",
    ">>（2.3）令$\\epsilon=0$，对$i=1,2,...,k$  \n",
    "\n",
    ">>>（2.3.1）计算新的均值向量：$\\mu'_i=\\frac{1}{C_i}\\sum_{x\\in C_i}x$，令$\\epsilon=\\epsilon+||u_i-u'_i||_2$\n",
    "\n",
    ">>>（2.3.2）并更新$u_i=u'_i$  \n",
    "\n",
    ">> （2.4）如果$\\epsilon<tol$，则终止循环  \n",
    "\n",
    ">输出：$C=\\{C_1,C_2,...,C_k\\}$"
   ],
   "metadata": {}
  },
  {
   "cell_type": "code",
   "execution_count": 1,
   "source": [
    "\"\"\"\n",
    "kmeans聚类实现，封装到ml_models.cluster\n",
    "\"\"\"\n",
    "\n",
    "import numpy as np\n",
    "\n",
    "\n",
    "class KMeans(object):\n",
    "    def __init__(self, k=3, epochs=100, tol=1e-3, dist_method=None):\n",
    "        \"\"\"\n",
    "        :param k: 聚类簇数量\n",
    "        :param epochs: 最大迭代次数\n",
    "        :param tol: 终止条件\n",
    "        :param dist_method:距离函数，默认欧氏距离\n",
    "        \"\"\"\n",
    "        self.k = k\n",
    "        self.epochs = epochs\n",
    "        self.tol = tol\n",
    "        self.dist_method = dist_method\n",
    "        if self.dist_method is None:\n",
    "            self.dist_method = lambda x, y: np.sqrt(np.sum(np.power(x - y, 2)))\n",
    "        self.cluster_centers_ = {}  # 记录簇中心坐标\n",
    "\n",
    "    def fit(self, X):\n",
    "        m = X.shape[0]\n",
    "        # 初始化\n",
    "        for idx, data_idx in enumerate(np.random.choice(list(range(m)), self.k, replace=False).tolist()):\n",
    "            self.cluster_centers_[idx] = X[data_idx]\n",
    "        # 迭代\n",
    "        for _ in range(self.epochs):\n",
    "            C = {}\n",
    "            for idx in range(self.k):\n",
    "                C[idx] = []\n",
    "            for j in range(m):\n",
    "                best_k = None\n",
    "                min_dist = np.infty\n",
    "                for idx in range(self.k):\n",
    "                    dist = self.dist_method(self.cluster_centers_[idx], X[j])\n",
    "                    if dist < min_dist:\n",
    "                        min_dist = dist\n",
    "                        best_k = idx\n",
    "                C[best_k].append(j)\n",
    "            # 更新\n",
    "            eps = 0\n",
    "            for idx in range(self.k):\n",
    "                vec_k = np.mean(X[C[idx]], axis=0)\n",
    "                eps += self.dist_method(vec_k, self.cluster_centers_[idx])\n",
    "                self.cluster_centers_[idx] = vec_k\n",
    "            # 判断终止条件\n",
    "            if eps < self.tol:\n",
    "                break\n",
    "\n",
    "    def predict(self, X):\n",
    "        m = X.shape[0]\n",
    "        rst = []\n",
    "        for i in range(m):\n",
    "            vec = X[i]\n",
    "            best_k = None\n",
    "            min_dist = np.infty\n",
    "            for idx in range(self.k):\n",
    "                dist = self.dist_method(self.cluster_centers_[idx], vec)\n",
    "                if dist < min_dist:\n",
    "                    min_dist = dist\n",
    "                    best_k = idx\n",
    "            rst.append(best_k)\n",
    "        return np.asarray(rst)"
   ],
   "outputs": [],
   "metadata": {}
  },
  {
   "cell_type": "markdown",
   "source": [
    "### 四.测试"
   ],
   "metadata": {}
  },
  {
   "cell_type": "code",
   "execution_count": 2,
   "source": [
    "import os\n",
    "os.chdir('../')\n",
    "from ml_models import utils\n",
    "from sklearn.datasets.samples_generator import make_blobs\n",
    "X, y = make_blobs(n_samples=400, centers=4, cluster_std=0.85, random_state=0)\n",
    "X = X[:, ::-1]"
   ],
   "outputs": [],
   "metadata": {}
  },
  {
   "cell_type": "code",
   "execution_count": null,
   "source": [
    "#训练\n",
    "kmeans = KMeans(k=4)\n",
    "kmeans.fit(X)"
   ],
   "outputs": [],
   "metadata": {}
  },
  {
   "cell_type": "code",
   "execution_count": null,
   "source": [
    "utils.plot_decision_function(X, y, kmeans)\n",
    "utils.plt.show()"
   ],
   "outputs": [],
   "metadata": {}
  },
  {
   "cell_type": "code",
   "execution_count": null,
   "source": [],
   "outputs": [],
   "metadata": {}
  }
 ],
 "metadata": {
  "kernelspec": {
   "name": "python3",
   "display_name": "Python 3.8.5 64-bit ('base': conda)"
  },
  "language_info": {
   "codemirror_mode": {
    "name": "ipython",
    "version": 3
   },
   "file_extension": ".py",
   "mimetype": "text/x-python",
   "name": "python",
   "nbconvert_exporter": "python",
   "pygments_lexer": "ipython3",
   "version": "3.8.5"
  },
  "interpreter": {
   "hash": "2b0d8445d30565f6cf0731071b42a683b7aa132b1cb9bae01ff5d96fc7237cfa"
  }
 },
 "nbformat": 4,
 "nbformat_minor": 2
}