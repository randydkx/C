{
 "cells": [
  {
   "cell_type": "markdown",
   "source": [
    "### 一.证据近似的理论推导\n",
    "上一节，由于$\\alpha,\\beta$需要人工设置，使得我们“定制版”的贝叶斯线性回归的表现大打折扣，所以理想情况下，我们需要将超参数$\\alpha,\\beta$的后验分布也考虑进来，那么此时的预测分布如下：   \n",
    "\n",
    "$$\n",
    "p(\\hat{t}\\mid t)=\\int\\int\\int p(\\hat{t}\\mid w,\\beta)p(w\\mid t,\\alpha,\\beta)p(\\alpha,\\beta\\mid t)\\ dw\\ d\\alpha\\  d\\beta\n",
    "$$  \n",
    "\n",
    "这里，$t=\\{t_1,t_2,...,t_n \\}$表示训练数据的标签，$\\hat{t}$表示需要预测的标签，为了表达的简洁，省略了训练数据$X=\\{x_1,x_2,...,x_n\\}$以及预测输入$\\hat{x}$，另外积分项中的几个分布的意义与上一节一样，关于超参后验分布$p(\\alpha,\\beta\\mid t)$，由[《14_03_概率分布：高斯分布（正态分布）及其共轭先验》](https://nbviewer.jupyter.org/github/zhulei227/ML_Notes/blob/master/notebooks/14_03_%E6%A6%82%E7%8E%87%E5%88%86%E5%B8%83%EF%BC%9A%E9%AB%98%E6%96%AF%E5%88%86%E5%B8%83%EF%BC%88%E6%AD%A3%E6%80%81%E5%88%86%E5%B8%83%EF%BC%89%E5%8F%8A%E5%85%B6%E5%85%B1%E8%BD%AD%E5%85%88%E9%AA%8C.ipynb)中关于后验分布的推导，我们可以有这样一个一般的结论：如果训练数据越多，那么后验分布就会越尖，所以我们不妨假设后验分布$p(\\alpha,\\beta\\mid t)$在$\\hat{\\alpha},\\hat{\\beta}$处有尖峰，那么，预测分布的求解我们就可以近似为：   \n",
    "\n",
    "$$\n",
    "p(\\hat{t}\\mid t)\\simeq p(\\hat{t}\\mid t,\\hat{\\alpha},\\hat{\\beta})=\\int p(\\hat{t}\\mid w,\\hat{\\beta})p(w\\mid t,\\hat{\\alpha},\\hat{\\beta})dw\\int\\int p(\\alpha,\\beta\\mid t)\\ d\\alpha\\ d\\beta=\\int p(\\hat{t}\\mid w,\\hat{\\beta})p(w\\mid t,\\hat{\\alpha},\\hat{\\beta})dw\n",
    "$$  \n",
    "\n",
    "所以，我们现在的目标转为求解极大后验估计$p(\\alpha,\\beta\\mid t)$，根据贝叶斯定理，我们知道：   \n",
    "\n",
    "$$\n",
    "p(\\alpha,\\beta \\mid t)\\propto p(t\\mid \\alpha,\\beta)p(\\alpha,\\beta)\n",
    "$$  \n",
    "\n",
    "我们不妨假设先验分布$p(\\alpha,\\beta)$不能提供过多的背景信息，即它的分布很平，那么这时的$\\hat{\\alpha},\\hat{\\beta}$可以通过边缘似然函数$p(t\\mid\\alpha,\\beta)$的极大似然估计获得，而$ln\\  p(t\\mid\\alpha,\\beta)$被称为证据函数，接下来我们推导其解析形式"
   ],
   "metadata": {}
  },
  {
   "cell_type": "markdown",
   "source": [
    "### 二.求证据函数\n",
    "\n",
    "边缘似然函数$p(t\\mid \\alpha,\\beta)$可以通过对参数$w$求积分得到：   \n",
    "\n",
    "$$\n",
    "p(t\\mid\\alpha,\\beta)=\\int\\ p(t\\mid w,\\beta)p(w\\mid\\alpha)dw\\\\\n",
    "=\\left(\\frac{\\beta}{2\\pi}\\right)^{\\frac{N}{2}}\\left(\\frac{\\alpha}{2\\pi}\\right)^{\\frac{M}{2}}\\int exp\\{-E(w)\\}dw\n",
    "$$  \n",
    "\n",
    "这里，$M$是$w$的维度，且：   \n",
    "\n",
    "$$\n",
    "E(w)=\\beta E_D(w)+\\alpha E_W(w)\\\\\n",
    "=\\frac{\\beta}{2}\\left\\|t-\\Phi w\\right\\|^2+\\frac{\\alpha}{2}w^Tw\n",
    "$$  \n",
    "\n",
    "接下来，我们对$w$配平方项：   \n",
    "\n",
    "$$\n",
    "E(w)=E(m_N)+\\frac{1}{2}(w-m_N)^TA(w-m_N)\n",
    "$$  \n",
    "\n",
    "其中：   \n",
    "\n",
    "$$\n",
    "A=\\alpha I+\\beta\\Phi^T\\Phi\\\\\n",
    "m_N=\\beta A^{-1}\\Phi^Tt\\\\\n",
    "E(m_N)=\\frac{\\beta}{2}\\left\\|t-\\Phi m_N\\right\\|^2+\\frac{\\beta}{2}m_N^Tm_N\n",
    "$$  \n",
    "\n",
    "通过对$w$的配方，接下来可以方便的求解出积分项：   \n",
    "\n",
    "$$\n",
    "\\int exp\\{-E(w)\\}dw\\\\\n",
    "=exp\\{-E(m_N)\\}\\int exp\\left\\{-\\frac{1}{2}(w-m_N)^TA(w-m_N)\\right\\}dw\\\\\n",
    "=exp\\left\\{-E(m_N)\\right\\}(2\\pi)^{\\frac{M}{2}}\\left|A\\right|^{-\\frac{1}{2}}\n",
    "$$  \n",
    "\n",
    "所以，证据函数就可以写出来了   \n",
    "\n",
    "$$\n",
    "ln\\ p(t\\mid\\alpha,\\beta)=\\frac{M}{2}ln\\ \\alpha+\\frac{N}{2}ln\\ \\beta-E(m_N)-\\frac{1}{2}ln\\ |A|-\\frac{N}{2}ln(2\\pi)\n",
    "$$  \n",
    "\n",
    "接下来就是优化的问题了"
   ],
   "metadata": {}
  },
  {
   "cell_type": "markdown",
   "source": [
    "### 三.极大化证据函数\n",
    "\n",
    "首先考虑$p(t\\mid\\alpha,\\beta)$关于$\\alpha$的最大化，我们首先定义下面的特征向量方程：   \n",
    "\n",
    "$$\n",
    "(\\beta\\Phi^T\\Phi)\\mu_i=\\lambda_i\\mu_i,i=1,2,...,M\n",
    "$$  \n",
    "\n",
    "由于$A=\\alpha\\ I+\\beta\\Phi^T\\Phi$，所以A的特征值为$\\alpha+\\lambda_i$，所以$ln|A|$对$\\alpha$的导数：   \n",
    "\n",
    "$$\n",
    "\\frac{d}{d\\alpha}ln\\ |A|=\\frac{d}{d\\ln\\alpha}\\prod_i(\\lambda_i+\\alpha)=\\frac{d}{d\\ln\\alpha}\\sum_i ln(\\lambda_i+\\alpha)=\\sum_i\\frac{1}{\\lambda_i+\\alpha}\n",
    "$$  \n",
    "因此，$ln\\ p(t\\mid\\alpha,\\beta)$关于$\\alpha$的驻点满足：   \n",
    "\n",
    "$$\n",
    "0=\\frac{M}{2\\alpha}-\\frac{1}{2}m_N^Tm_N-\\frac{1}{2}\\sum_i\\frac{1}{\\lambda_i+\\alpha}\n",
    "$$  \n",
    "\n",
    "我们令：   \n",
    "\n",
    "$$\n",
    "\\gamma=\\sum_i\\frac{\\lambda_i}{\\lambda_i+\\alpha}\n",
    "$$  \n",
    "\n",
    "整理可能$\\alpha$满足：  \n",
    "\n",
    "$$\n",
    "\\alpha=\\frac{\\gamma}{m_N^Tm_N}\n",
    "$$  \n",
    "\n",
    "注意，这里是个迭代公式，因为$\\gamma,m_N$均与$\\alpha$相关，接下来，我们看看$\\beta$的求解，由于特征值$\\lambda_i$正比于$\\beta$，所以$\\frac{d\\lambda_i}{d\\beta}=\\frac{1}{\\beta}$，所以：   \n",
    "\n",
    "$$\n",
    "\\frac{d}{d\\beta}ln\\ |A|=\\frac{d}{d\\beta}\\sum_i ln(\\lambda_i+\\alpha)=\\frac{1}{\\beta}\\sum_i\\frac{\\lambda_i}{\\lambda_i+\\alpha}=\\frac{\\gamma}{\\beta}\n",
    "$$  \n",
    "\n",
    "类似地，在驻点处满足如下关系：   \n",
    "\n",
    "$$\n",
    "0=\\frac{N}{2\\beta}-\\frac{1}{2}\\sum_{n=1}^N\\left\\{t_n-m_N^T\\phi(x_n)\\right\\}^2-\\frac{\\gamma}{2\\beta}\n",
    "$$  \n",
    "\n",
    "整理后可得：  \n",
    "\n",
    "$$\n",
    "\\frac{1}{\\beta}=\\frac{1}{N-r}\\sum_{n=1}^N\\left\\{t_n-m_N^T\\phi(x_n)\\right\\}^2\n",
    "$$"
   ],
   "metadata": {}
  },
  {
   "cell_type": "markdown",
   "source": [
    "### 四.代码实现\n",
    "\n",
    "代码实现主要就是反复迭代上面推导出来的两个公式：   \n",
    "\n",
    "$$\n",
    "\\alpha=\\frac{\\gamma}{m_N^Tm_N}\\\\\n",
    "\\frac{1}{\\beta}=\\frac{1}{N-r}\\sum_{n=1}^N\\left\\{t_n-m_N^T\\phi(x_n)\\right\\}^2\n",
    "$$"
   ],
   "metadata": {}
  },
  {
   "cell_type": "code",
   "execution_count": 1,
   "source": [
    "\"\"\"\n",
    "线性回归的bayes估计，封装到ml_models.bayes中\n",
    "\"\"\"\n",
    "import numpy as np\n",
    "import matplotlib.pyplot as plt\n",
    "\n",
    "\n",
    "class LinearRegression(object):\n",
    "    def __init__(self, basis_func=None, tol=1e-7, epochs=100, normalized=True):\n",
    "        \"\"\"\n",
    "        :param basis_func: list,基函数列表，包括rbf,sigmoid,poly_{num},linear，fm,默认None为linear，其中poly_{num}中的{num}表示多项式的最高阶数,fm表示构建交叉因子\n",
    "        :param tol:  两次迭代参数平均绝对值变化小于tol则停止\n",
    "        :param epochs: 默认迭代次数\n",
    "        :param normalized:是否归一化\n",
    "        \"\"\"\n",
    "        if basis_func is None:\n",
    "            self.basis_func = ['linear']\n",
    "        else:\n",
    "            self.basis_func = basis_func\n",
    "        self.tol = tol\n",
    "        self.epochs = epochs\n",
    "        self.normalized = normalized\n",
    "        # 特征均值、标准差\n",
    "        self.feature_mean = None\n",
    "        self.feature_std = None\n",
    "        # 训练参数\n",
    "        self.w = None\n",
    "\n",
    "    def _map_basis(self, X):\n",
    "        \"\"\"\n",
    "        将X进行基函数映射\n",
    "        :param X:\n",
    "        :return:\n",
    "        \"\"\"\n",
    "        n_sample, n_feature = X.shape\n",
    "        x_list = []\n",
    "        for basis_func in self.basis_func:\n",
    "            if basis_func == \"linear\":\n",
    "                x_list.append(X)\n",
    "            elif basis_func == \"rbf\":\n",
    "                x_list.append(np.exp(-0.5 * X * X))\n",
    "            elif basis_func == \"sigmoid\":\n",
    "                x_list.append(1 / (1 + np.exp(-1 * X)))\n",
    "            elif basis_func.startswith(\"poly\"):\n",
    "                p = int(basis_func.split(\"_\")[1])\n",
    "                for pow in range(1, p + 1):\n",
    "                    x_list.append(np.power(X, pow))\n",
    "            elif basis_func == 'fm':\n",
    "                X_fm = np.zeros(shape=(n_sample, int(n_feature * (n_feature - 1) / 2)))\n",
    "                c = 0\n",
    "                for i in range(0, n_feature - 1):\n",
    "                    for j in range(i + 1, n_feature):\n",
    "                        X_fm[:, c] = X[:, i] * X[:, j]\n",
    "                        c += 1\n",
    "                x_list.append(X_fm)\n",
    "        return np.concatenate(x_list, axis=1)\n",
    "\n",
    "    def fit(self, X, y):\n",
    "        if self.normalized:\n",
    "            self.feature_mean = np.mean(X, axis=0)\n",
    "            self.feature_std = np.std(X, axis=0) + 1e-8\n",
    "            X_ = (X - self.feature_mean) / self.feature_std\n",
    "        else:\n",
    "            X_ = X\n",
    "        X_ = self._map_basis(X_)\n",
    "        X_ = np.c_[np.ones(X_.shape[0]), X_]\n",
    "        n_sample, n_feature = X_.shape\n",
    "        alpha = 1\n",
    "        beta = 1\n",
    "        current_w = None\n",
    "        for _ in range(0, self.epochs):\n",
    "            A = alpha * np.eye(n_feature) + beta * X_.T @ X_\n",
    "            self.w = beta * np.linalg.inv(A) @ X_.T @ y.reshape((-1, 1))  # 即m_N\n",
    "            if current_w is not None and np.mean(np.abs(current_w - self.w)) < self.tol:\n",
    "                break\n",
    "            current_w = self.w\n",
    "            # 更新alpha,beta\n",
    "            if n_sample // n_feature >= 100:\n",
    "                # 利用prml中的公式3.98与3.99进行简化计算，避免求特征值的开销\n",
    "                alpha = n_feature / np.dot(self.w.reshape(-1), self.w.reshape(-1))\n",
    "                beta = n_sample / np.sum(np.power(y.reshape(-1) - self.predict(X).reshape(-1), 2))\n",
    "            else:\n",
    "                gamma = 0.0\n",
    "                for lamb in np.linalg.eig(beta * X_.T @ X_)[0]:\n",
    "                    gamma += lamb / (lamb + alpha)\n",
    "                alpha = gamma.real / np.dot(self.w.reshape(-1), self.w.reshape(-1))\n",
    "                beta = 1.0 / (\n",
    "                    1.0 / (n_sample - gamma) * np.sum(np.power(y.reshape(-1) - self.predict(X).reshape(-1), 2)))\n",
    "        #ml_models包中不会return,这里用作分析\n",
    "        return alpha,beta\n",
    "\n",
    "    def predict(self, X):\n",
    "        if self.normalized:\n",
    "            X_ = (X - self.feature_mean) / self.feature_std\n",
    "        else:\n",
    "            X_ = X\n",
    "        X_ = self._map_basis(X_)\n",
    "        X_ = np.c_[np.ones(X_.shape[0]), X_]\n",
    "        return (self.w.T @ X_.T).reshape(-1)\n",
    "\n",
    "    def plot_fit_boundary(self, x, y):\n",
    "        \"\"\"\n",
    "        绘制拟合结果\n",
    "        :param x:\n",
    "        :param y:\n",
    "        :return:\n",
    "        \"\"\"\n",
    "        plt.scatter(x[:, 0], y)\n",
    "        plt.plot(x[:, 0], self.predict(x), 'r')"
   ],
   "outputs": [],
   "metadata": {}
  },
  {
   "cell_type": "markdown",
   "source": [
    "### 测试\n",
    "再在上一节的例子中测试一下"
   ],
   "metadata": {}
  },
  {
   "cell_type": "code",
   "execution_count": 2,
   "source": [
    "%matplotlib inline"
   ],
   "outputs": [],
   "metadata": {}
  },
  {
   "cell_type": "code",
   "execution_count": 3,
   "source": [
    "#造伪样本\n",
    "X=np.linspace(0,100,100)\n",
    "X=np.c_[X,np.ones(100)]\n",
    "w=np.asarray([3,2])\n",
    "Y=X.dot(w)\n",
    "X=X.astype('float')\n",
    "Y=Y.astype('float')\n",
    "X[:,0]+=np.random.normal(size=(X[:,0].shape))*3#添加噪声\n",
    "Y=Y.reshape(100,1)"
   ],
   "outputs": [],
   "metadata": {}
  },
  {
   "cell_type": "code",
   "execution_count": 4,
   "source": [
    "#添加噪声\n",
    "X=np.concatenate([X,np.asanyarray([[100,1],[101,1],[102,1],[103,1],[104,1]])])\n",
    "Y=np.concatenate([Y,np.asanyarray([[3000],[3300],[3600],[3800],[3900]])])"
   ],
   "outputs": [],
   "metadata": {}
  },
  {
   "cell_type": "code",
   "execution_count": 5,
   "source": [
    "lr=LinearRegression()\n",
    "alpha,beta=lr.fit(X[:,:-1],Y)\n",
    "lr.plot_fit_boundary(X[:,:-1],Y)"
   ],
   "outputs": [
    {
     "output_type": "display_data",
     "data": {
      "text/plain": [
       "<Figure size 432x288 with 1 Axes>"
      ],
      "image/svg+xml": "<?xml version=\"1.0\" encoding=\"utf-8\" standalone=\"no\"?>\n<!DOCTYPE svg PUBLIC \"-//W3C//DTD SVG 1.1//EN\"\n  \"http://www.w3.org/Graphics/SVG/1.1/DTD/svg11.dtd\">\n<!-- Created with matplotlib (https://matplotlib.org/) -->\n<svg height=\"248.518125pt\" version=\"1.1\" viewBox=\"0 0 381.65 248.518125\" width=\"381.65pt\" xmlns=\"http://www.w3.org/2000/svg\" xmlns:xlink=\"http://www.w3.org/1999/xlink\">\n <metadata>\n  <rdf:RDF xmlns:cc=\"http://creativecommons.org/ns#\" xmlns:dc=\"http://purl.org/dc/elements/1.1/\" xmlns:rdf=\"http://www.w3.org/1999/02/22-rdf-syntax-ns#\">\n   <cc:Work>\n    <dc:type rdf:resource=\"http://purl.org/dc/dcmitype/StillImage\"/>\n    <dc:date>2021-08-26T09:11:41.230809</dc:date>\n    <dc:format>image/svg+xml</dc:format>\n    <dc:creator>\n     <cc:Agent>\n      <dc:title>Matplotlib v3.3.2, https://matplotlib.org/</dc:title>\n     </cc:Agent>\n    </dc:creator>\n   </cc:Work>\n  </rdf:RDF>\n </metadata>\n <defs>\n  <style type=\"text/css\">*{stroke-linecap:butt;stroke-linejoin:round;}</style>\n </defs>\n <g id=\"figure_1\">\n  <g id=\"patch_1\">\n   <path d=\"M -0 248.518125 \nL 381.65 248.518125 \nL 381.65 0 \nL -0 0 \nz\n\" style=\"fill:none;\"/>\n  </g>\n  <g id=\"axes_1\">\n   <g id=\"patch_2\">\n    <path d=\"M 39.65 224.64 \nL 374.45 224.64 \nL 374.45 7.2 \nL 39.65 7.2 \nz\n\" style=\"fill:#ffffff;\"/>\n   </g>\n   <g id=\"PathCollection_1\">\n    <defs>\n     <path d=\"M 0 3 \nC 0.795609 3 1.55874 2.683901 2.12132 2.12132 \nC 2.683901 1.55874 3 0.795609 3 0 \nC 3 -0.795609 2.683901 -1.55874 2.12132 -2.12132 \nC 1.55874 -2.683901 0.795609 -3 0 -3 \nC -0.795609 -3 -1.55874 -2.683901 -2.12132 -2.12132 \nC -2.683901 -1.55874 -3 -0.795609 -3 0 \nC -3 0.795609 -2.683901 1.55874 -2.12132 2.12132 \nC -1.55874 2.683901 -0.795609 3 0 3 \nz\n\" id=\"mef6e2c8e8a\" style=\"stroke:#1f77b4;\"/>\n    </defs>\n    <g clip-path=\"url(#p1a96eae782)\">\n     <use style=\"fill:#1f77b4;stroke:#1f77b4;\" x=\"74.276075\" xlink:href=\"#mef6e2c8e8a\" y=\"200.440882\"/>\n     <use style=\"fill:#1f77b4;stroke:#1f77b4;\" x=\"71.898567\" xlink:href=\"#mef6e2c8e8a\" y=\"200.29834\"/>\n     <use style=\"fill:#1f77b4;stroke:#1f77b4;\" x=\"55.221672\" xlink:href=\"#mef6e2c8e8a\" y=\"200.155798\"/>\n     <use style=\"fill:#1f77b4;stroke:#1f77b4;\" x=\"80.209949\" xlink:href=\"#mef6e2c8e8a\" y=\"200.013256\"/>\n     <use style=\"fill:#1f77b4;stroke:#1f77b4;\" x=\"54.868182\" xlink:href=\"#mef6e2c8e8a\" y=\"199.870714\"/>\n     <use style=\"fill:#1f77b4;stroke:#1f77b4;\" x=\"72.238652\" xlink:href=\"#mef6e2c8e8a\" y=\"199.728173\"/>\n     <use style=\"fill:#1f77b4;stroke:#1f77b4;\" x=\"77.926001\" xlink:href=\"#mef6e2c8e8a\" y=\"199.585631\"/>\n     <use style=\"fill:#1f77b4;stroke:#1f77b4;\" x=\"103.516878\" xlink:href=\"#mef6e2c8e8a\" y=\"199.443089\"/>\n     <use style=\"fill:#1f77b4;stroke:#1f77b4;\" x=\"67.369754\" xlink:href=\"#mef6e2c8e8a\" y=\"199.300547\"/>\n     <use style=\"fill:#1f77b4;stroke:#1f77b4;\" x=\"83.335118\" xlink:href=\"#mef6e2c8e8a\" y=\"199.158005\"/>\n     <use style=\"fill:#1f77b4;stroke:#1f77b4;\" x=\"102.28625\" xlink:href=\"#mef6e2c8e8a\" y=\"199.015463\"/>\n     <use style=\"fill:#1f77b4;stroke:#1f77b4;\" x=\"106.49663\" xlink:href=\"#mef6e2c8e8a\" y=\"198.872922\"/>\n     <use style=\"fill:#1f77b4;stroke:#1f77b4;\" x=\"96.475461\" xlink:href=\"#mef6e2c8e8a\" y=\"198.73038\"/>\n     <use style=\"fill:#1f77b4;stroke:#1f77b4;\" x=\"112.15462\" xlink:href=\"#mef6e2c8e8a\" y=\"198.587838\"/>\n     <use style=\"fill:#1f77b4;stroke:#1f77b4;\" x=\"107.268039\" xlink:href=\"#mef6e2c8e8a\" y=\"198.445296\"/>\n     <use style=\"fill:#1f77b4;stroke:#1f77b4;\" x=\"119.863191\" xlink:href=\"#mef6e2c8e8a\" y=\"198.302754\"/>\n     <use style=\"fill:#1f77b4;stroke:#1f77b4;\" x=\"115.131791\" xlink:href=\"#mef6e2c8e8a\" y=\"198.160213\"/>\n     <use style=\"fill:#1f77b4;stroke:#1f77b4;\" x=\"115.205617\" xlink:href=\"#mef6e2c8e8a\" y=\"198.017671\"/>\n     <use style=\"fill:#1f77b4;stroke:#1f77b4;\" x=\"138.432224\" xlink:href=\"#mef6e2c8e8a\" y=\"197.875129\"/>\n     <use style=\"fill:#1f77b4;stroke:#1f77b4;\" x=\"127.530877\" xlink:href=\"#mef6e2c8e8a\" y=\"197.732587\"/>\n     <use style=\"fill:#1f77b4;stroke:#1f77b4;\" x=\"119.86921\" xlink:href=\"#mef6e2c8e8a\" y=\"197.590045\"/>\n     <use style=\"fill:#1f77b4;stroke:#1f77b4;\" x=\"130.855317\" xlink:href=\"#mef6e2c8e8a\" y=\"197.447503\"/>\n     <use style=\"fill:#1f77b4;stroke:#1f77b4;\" x=\"132.994667\" xlink:href=\"#mef6e2c8e8a\" y=\"197.304962\"/>\n     <use style=\"fill:#1f77b4;stroke:#1f77b4;\" x=\"132.149278\" xlink:href=\"#mef6e2c8e8a\" y=\"197.16242\"/>\n     <use style=\"fill:#1f77b4;stroke:#1f77b4;\" x=\"138.471965\" xlink:href=\"#mef6e2c8e8a\" y=\"197.019878\"/>\n     <use style=\"fill:#1f77b4;stroke:#1f77b4;\" x=\"149.341827\" xlink:href=\"#mef6e2c8e8a\" y=\"196.877336\"/>\n     <use style=\"fill:#1f77b4;stroke:#1f77b4;\" x=\"146.926504\" xlink:href=\"#mef6e2c8e8a\" y=\"196.734794\"/>\n     <use style=\"fill:#1f77b4;stroke:#1f77b4;\" x=\"143.892835\" xlink:href=\"#mef6e2c8e8a\" y=\"196.592253\"/>\n     <use style=\"fill:#1f77b4;stroke:#1f77b4;\" x=\"143.674144\" xlink:href=\"#mef6e2c8e8a\" y=\"196.449711\"/>\n     <use style=\"fill:#1f77b4;stroke:#1f77b4;\" x=\"153.436889\" xlink:href=\"#mef6e2c8e8a\" y=\"196.307169\"/>\n     <use style=\"fill:#1f77b4;stroke:#1f77b4;\" x=\"149.727233\" xlink:href=\"#mef6e2c8e8a\" y=\"196.164627\"/>\n     <use style=\"fill:#1f77b4;stroke:#1f77b4;\" x=\"148.54972\" xlink:href=\"#mef6e2c8e8a\" y=\"196.022085\"/>\n     <use style=\"fill:#1f77b4;stroke:#1f77b4;\" x=\"145.506087\" xlink:href=\"#mef6e2c8e8a\" y=\"195.879543\"/>\n     <use style=\"fill:#1f77b4;stroke:#1f77b4;\" x=\"151.752047\" xlink:href=\"#mef6e2c8e8a\" y=\"195.737002\"/>\n     <use style=\"fill:#1f77b4;stroke:#1f77b4;\" x=\"173.236688\" xlink:href=\"#mef6e2c8e8a\" y=\"195.59446\"/>\n     <use style=\"fill:#1f77b4;stroke:#1f77b4;\" x=\"168.933276\" xlink:href=\"#mef6e2c8e8a\" y=\"195.451918\"/>\n     <use style=\"fill:#1f77b4;stroke:#1f77b4;\" x=\"149.256641\" xlink:href=\"#mef6e2c8e8a\" y=\"195.309376\"/>\n     <use style=\"fill:#1f77b4;stroke:#1f77b4;\" x=\"172.206196\" xlink:href=\"#mef6e2c8e8a\" y=\"195.166834\"/>\n     <use style=\"fill:#1f77b4;stroke:#1f77b4;\" x=\"172.232816\" xlink:href=\"#mef6e2c8e8a\" y=\"195.024293\"/>\n     <use style=\"fill:#1f77b4;stroke:#1f77b4;\" x=\"176.015891\" xlink:href=\"#mef6e2c8e8a\" y=\"194.881751\"/>\n     <use style=\"fill:#1f77b4;stroke:#1f77b4;\" x=\"174.100352\" xlink:href=\"#mef6e2c8e8a\" y=\"194.739209\"/>\n     <use style=\"fill:#1f77b4;stroke:#1f77b4;\" x=\"191.528854\" xlink:href=\"#mef6e2c8e8a\" y=\"194.596667\"/>\n     <use style=\"fill:#1f77b4;stroke:#1f77b4;\" x=\"200.33379\" xlink:href=\"#mef6e2c8e8a\" y=\"194.454125\"/>\n     <use style=\"fill:#1f77b4;stroke:#1f77b4;\" x=\"176.570899\" xlink:href=\"#mef6e2c8e8a\" y=\"194.311583\"/>\n     <use style=\"fill:#1f77b4;stroke:#1f77b4;\" x=\"194.28407\" xlink:href=\"#mef6e2c8e8a\" y=\"194.169042\"/>\n     <use style=\"fill:#1f77b4;stroke:#1f77b4;\" x=\"200.566894\" xlink:href=\"#mef6e2c8e8a\" y=\"194.0265\"/>\n     <use style=\"fill:#1f77b4;stroke:#1f77b4;\" x=\"199.590712\" xlink:href=\"#mef6e2c8e8a\" y=\"193.883958\"/>\n     <use style=\"fill:#1f77b4;stroke:#1f77b4;\" x=\"196.072842\" xlink:href=\"#mef6e2c8e8a\" y=\"193.741416\"/>\n     <use style=\"fill:#1f77b4;stroke:#1f77b4;\" x=\"187.49655\" xlink:href=\"#mef6e2c8e8a\" y=\"193.598874\"/>\n     <use style=\"fill:#1f77b4;stroke:#1f77b4;\" x=\"189.630563\" xlink:href=\"#mef6e2c8e8a\" y=\"193.456332\"/>\n     <use style=\"fill:#1f77b4;stroke:#1f77b4;\" x=\"200.597463\" xlink:href=\"#mef6e2c8e8a\" y=\"193.313791\"/>\n     <use style=\"fill:#1f77b4;stroke:#1f77b4;\" x=\"213.019148\" xlink:href=\"#mef6e2c8e8a\" y=\"193.171249\"/>\n     <use style=\"fill:#1f77b4;stroke:#1f77b4;\" x=\"211.801762\" xlink:href=\"#mef6e2c8e8a\" y=\"193.028707\"/>\n     <use style=\"fill:#1f77b4;stroke:#1f77b4;\" x=\"208.440688\" xlink:href=\"#mef6e2c8e8a\" y=\"192.886165\"/>\n     <use style=\"fill:#1f77b4;stroke:#1f77b4;\" x=\"211.988796\" xlink:href=\"#mef6e2c8e8a\" y=\"192.743623\"/>\n     <use style=\"fill:#1f77b4;stroke:#1f77b4;\" x=\"228.385216\" xlink:href=\"#mef6e2c8e8a\" y=\"192.601082\"/>\n     <use style=\"fill:#1f77b4;stroke:#1f77b4;\" x=\"222.139708\" xlink:href=\"#mef6e2c8e8a\" y=\"192.45854\"/>\n     <use style=\"fill:#1f77b4;stroke:#1f77b4;\" x=\"236.184961\" xlink:href=\"#mef6e2c8e8a\" y=\"192.315998\"/>\n     <use style=\"fill:#1f77b4;stroke:#1f77b4;\" x=\"224.65835\" xlink:href=\"#mef6e2c8e8a\" y=\"192.173456\"/>\n     <use style=\"fill:#1f77b4;stroke:#1f77b4;\" x=\"219.370083\" xlink:href=\"#mef6e2c8e8a\" y=\"192.030914\"/>\n     <use style=\"fill:#1f77b4;stroke:#1f77b4;\" x=\"238.530914\" xlink:href=\"#mef6e2c8e8a\" y=\"191.888372\"/>\n     <use style=\"fill:#1f77b4;stroke:#1f77b4;\" x=\"222.676001\" xlink:href=\"#mef6e2c8e8a\" y=\"191.745831\"/>\n     <use style=\"fill:#1f77b4;stroke:#1f77b4;\" x=\"230.799894\" xlink:href=\"#mef6e2c8e8a\" y=\"191.603289\"/>\n     <use style=\"fill:#1f77b4;stroke:#1f77b4;\" x=\"251.013756\" xlink:href=\"#mef6e2c8e8a\" y=\"191.460747\"/>\n     <use style=\"fill:#1f77b4;stroke:#1f77b4;\" x=\"243.245473\" xlink:href=\"#mef6e2c8e8a\" y=\"191.318205\"/>\n     <use style=\"fill:#1f77b4;stroke:#1f77b4;\" x=\"247.979425\" xlink:href=\"#mef6e2c8e8a\" y=\"191.175663\"/>\n     <use style=\"fill:#1f77b4;stroke:#1f77b4;\" x=\"254.140966\" xlink:href=\"#mef6e2c8e8a\" y=\"191.033122\"/>\n     <use style=\"fill:#1f77b4;stroke:#1f77b4;\" x=\"254.082037\" xlink:href=\"#mef6e2c8e8a\" y=\"190.89058\"/>\n     <use style=\"fill:#1f77b4;stroke:#1f77b4;\" x=\"260.568792\" xlink:href=\"#mef6e2c8e8a\" y=\"190.748038\"/>\n     <use style=\"fill:#1f77b4;stroke:#1f77b4;\" x=\"275.402105\" xlink:href=\"#mef6e2c8e8a\" y=\"190.605496\"/>\n     <use style=\"fill:#1f77b4;stroke:#1f77b4;\" x=\"258.712716\" xlink:href=\"#mef6e2c8e8a\" y=\"190.462954\"/>\n     <use style=\"fill:#1f77b4;stroke:#1f77b4;\" x=\"263.596791\" xlink:href=\"#mef6e2c8e8a\" y=\"190.320412\"/>\n     <use style=\"fill:#1f77b4;stroke:#1f77b4;\" x=\"273.922913\" xlink:href=\"#mef6e2c8e8a\" y=\"190.177871\"/>\n     <use style=\"fill:#1f77b4;stroke:#1f77b4;\" x=\"273.471404\" xlink:href=\"#mef6e2c8e8a\" y=\"190.035329\"/>\n     <use style=\"fill:#1f77b4;stroke:#1f77b4;\" x=\"270.748301\" xlink:href=\"#mef6e2c8e8a\" y=\"189.892787\"/>\n     <use style=\"fill:#1f77b4;stroke:#1f77b4;\" x=\"276.461696\" xlink:href=\"#mef6e2c8e8a\" y=\"189.750245\"/>\n     <use style=\"fill:#1f77b4;stroke:#1f77b4;\" x=\"285.643428\" xlink:href=\"#mef6e2c8e8a\" y=\"189.607703\"/>\n     <use style=\"fill:#1f77b4;stroke:#1f77b4;\" x=\"281.426765\" xlink:href=\"#mef6e2c8e8a\" y=\"189.465162\"/>\n     <use style=\"fill:#1f77b4;stroke:#1f77b4;\" x=\"290.02461\" xlink:href=\"#mef6e2c8e8a\" y=\"189.32262\"/>\n     <use style=\"fill:#1f77b4;stroke:#1f77b4;\" x=\"300.957255\" xlink:href=\"#mef6e2c8e8a\" y=\"189.180078\"/>\n     <use style=\"fill:#1f77b4;stroke:#1f77b4;\" x=\"287.69474\" xlink:href=\"#mef6e2c8e8a\" y=\"189.037536\"/>\n     <use style=\"fill:#1f77b4;stroke:#1f77b4;\" x=\"305.62806\" xlink:href=\"#mef6e2c8e8a\" y=\"188.894994\"/>\n     <use style=\"fill:#1f77b4;stroke:#1f77b4;\" x=\"311.287859\" xlink:href=\"#mef6e2c8e8a\" y=\"188.752452\"/>\n     <use style=\"fill:#1f77b4;stroke:#1f77b4;\" x=\"312.907239\" xlink:href=\"#mef6e2c8e8a\" y=\"188.609911\"/>\n     <use style=\"fill:#1f77b4;stroke:#1f77b4;\" x=\"304.463714\" xlink:href=\"#mef6e2c8e8a\" y=\"188.467369\"/>\n     <use style=\"fill:#1f77b4;stroke:#1f77b4;\" x=\"312.03548\" xlink:href=\"#mef6e2c8e8a\" y=\"188.324827\"/>\n     <use style=\"fill:#1f77b4;stroke:#1f77b4;\" x=\"303.660989\" xlink:href=\"#mef6e2c8e8a\" y=\"188.182285\"/>\n     <use style=\"fill:#1f77b4;stroke:#1f77b4;\" x=\"324.105194\" xlink:href=\"#mef6e2c8e8a\" y=\"188.039743\"/>\n     <use style=\"fill:#1f77b4;stroke:#1f77b4;\" x=\"312.089949\" xlink:href=\"#mef6e2c8e8a\" y=\"187.897201\"/>\n     <use style=\"fill:#1f77b4;stroke:#1f77b4;\" x=\"329.237361\" xlink:href=\"#mef6e2c8e8a\" y=\"187.75466\"/>\n     <use style=\"fill:#1f77b4;stroke:#1f77b4;\" x=\"317.615577\" xlink:href=\"#mef6e2c8e8a\" y=\"187.612118\"/>\n     <use style=\"fill:#1f77b4;stroke:#1f77b4;\" x=\"322.166831\" xlink:href=\"#mef6e2c8e8a\" y=\"187.469576\"/>\n     <use style=\"fill:#1f77b4;stroke:#1f77b4;\" x=\"326.385871\" xlink:href=\"#mef6e2c8e8a\" y=\"187.327034\"/>\n     <use style=\"fill:#1f77b4;stroke:#1f77b4;\" x=\"320.247381\" xlink:href=\"#mef6e2c8e8a\" y=\"187.184492\"/>\n     <use style=\"fill:#1f77b4;stroke:#1f77b4;\" x=\"330.80796\" xlink:href=\"#mef6e2c8e8a\" y=\"187.041951\"/>\n     <use style=\"fill:#1f77b4;stroke:#1f77b4;\" x=\"337.419627\" xlink:href=\"#mef6e2c8e8a\" y=\"186.899409\"/>\n     <use style=\"fill:#1f77b4;stroke:#1f77b4;\" x=\"340.446827\" xlink:href=\"#mef6e2c8e8a\" y=\"186.756867\"/>\n     <use style=\"fill:#1f77b4;stroke:#1f77b4;\" x=\"338.554949\" xlink:href=\"#mef6e2c8e8a\" y=\"186.614325\"/>\n     <use style=\"fill:#1f77b4;stroke:#1f77b4;\" x=\"339.054596\" xlink:href=\"#mef6e2c8e8a\" y=\"186.471783\"/>\n     <use style=\"fill:#1f77b4;stroke:#1f77b4;\" x=\"350.747059\" xlink:href=\"#mef6e2c8e8a\" y=\"186.329241\"/>\n     <use style=\"fill:#1f77b4;stroke:#1f77b4;\" x=\"347.99401\" xlink:href=\"#mef6e2c8e8a\" y=\"59.418557\"/>\n     <use style=\"fill:#1f77b4;stroke:#1f77b4;\" x=\"350.803462\" xlink:href=\"#mef6e2c8e8a\" y=\"45.306917\"/>\n     <use style=\"fill:#1f77b4;stroke:#1f77b4;\" x=\"353.612914\" xlink:href=\"#mef6e2c8e8a\" y=\"31.195277\"/>\n     <use style=\"fill:#1f77b4;stroke:#1f77b4;\" x=\"356.422366\" xlink:href=\"#mef6e2c8e8a\" y=\"21.787516\"/>\n     <use style=\"fill:#1f77b4;stroke:#1f77b4;\" x=\"359.231818\" xlink:href=\"#mef6e2c8e8a\" y=\"17.083636\"/>\n    </g>\n   </g>\n   <g id=\"matplotlib.axis_1\">\n    <g id=\"xtick_1\">\n     <g id=\"line2d_1\">\n      <defs>\n       <path d=\"M 0 0 \nL 0 3.5 \n\" id=\"m041f6813e5\" style=\"stroke:#000000;stroke-width:0.8;\"/>\n      </defs>\n      <g>\n       <use style=\"stroke:#000000;stroke-width:0.8;\" x=\"67.048818\" xlink:href=\"#m041f6813e5\" y=\"224.64\"/>\n      </g>\n     </g>\n     <g id=\"text_1\">\n      <!-- 0 -->\n      <g transform=\"translate(63.867568 239.238437)scale(0.1 -0.1)\">\n       <defs>\n        <path d=\"M 31.78125 66.40625 \nQ 24.171875 66.40625 20.328125 58.90625 \nQ 16.5 51.421875 16.5 36.375 \nQ 16.5 21.390625 20.328125 13.890625 \nQ 24.171875 6.390625 31.78125 6.390625 \nQ 39.453125 6.390625 43.28125 13.890625 \nQ 47.125 21.390625 47.125 36.375 \nQ 47.125 51.421875 43.28125 58.90625 \nQ 39.453125 66.40625 31.78125 66.40625 \nz\nM 31.78125 74.21875 \nQ 44.046875 74.21875 50.515625 64.515625 \nQ 56.984375 54.828125 56.984375 36.375 \nQ 56.984375 17.96875 50.515625 8.265625 \nQ 44.046875 -1.421875 31.78125 -1.421875 \nQ 19.53125 -1.421875 13.0625 8.265625 \nQ 6.59375 17.96875 6.59375 36.375 \nQ 6.59375 54.828125 13.0625 64.515625 \nQ 19.53125 74.21875 31.78125 74.21875 \nz\n\" id=\"DejaVuSans-48\"/>\n       </defs>\n       <use xlink:href=\"#DejaVuSans-48\"/>\n      </g>\n     </g>\n    </g>\n    <g id=\"xtick_2\">\n     <g id=\"line2d_2\">\n      <g>\n       <use style=\"stroke:#000000;stroke-width:0.8;\" x=\"123.237856\" xlink:href=\"#m041f6813e5\" y=\"224.64\"/>\n      </g>\n     </g>\n     <g id=\"text_2\">\n      <!-- 20 -->\n      <g transform=\"translate(116.875356 239.238437)scale(0.1 -0.1)\">\n       <defs>\n        <path d=\"M 19.1875 8.296875 \nL 53.609375 8.296875 \nL 53.609375 0 \nL 7.328125 0 \nL 7.328125 8.296875 \nQ 12.9375 14.109375 22.625 23.890625 \nQ 32.328125 33.6875 34.8125 36.53125 \nQ 39.546875 41.84375 41.421875 45.53125 \nQ 43.3125 49.21875 43.3125 52.78125 \nQ 43.3125 58.59375 39.234375 62.25 \nQ 35.15625 65.921875 28.609375 65.921875 \nQ 23.96875 65.921875 18.8125 64.3125 \nQ 13.671875 62.703125 7.8125 59.421875 \nL 7.8125 69.390625 \nQ 13.765625 71.78125 18.9375 73 \nQ 24.125 74.21875 28.421875 74.21875 \nQ 39.75 74.21875 46.484375 68.546875 \nQ 53.21875 62.890625 53.21875 53.421875 \nQ 53.21875 48.921875 51.53125 44.890625 \nQ 49.859375 40.875 45.40625 35.40625 \nQ 44.1875 33.984375 37.640625 27.21875 \nQ 31.109375 20.453125 19.1875 8.296875 \nz\n\" id=\"DejaVuSans-50\"/>\n       </defs>\n       <use xlink:href=\"#DejaVuSans-50\"/>\n       <use x=\"63.623047\" xlink:href=\"#DejaVuSans-48\"/>\n      </g>\n     </g>\n    </g>\n    <g id=\"xtick_3\">\n     <g id=\"line2d_3\">\n      <g>\n       <use style=\"stroke:#000000;stroke-width:0.8;\" x=\"179.426895\" xlink:href=\"#m041f6813e5\" y=\"224.64\"/>\n      </g>\n     </g>\n     <g id=\"text_3\">\n      <!-- 40 -->\n      <g transform=\"translate(173.064395 239.238437)scale(0.1 -0.1)\">\n       <defs>\n        <path d=\"M 37.796875 64.3125 \nL 12.890625 25.390625 \nL 37.796875 25.390625 \nz\nM 35.203125 72.90625 \nL 47.609375 72.90625 \nL 47.609375 25.390625 \nL 58.015625 25.390625 \nL 58.015625 17.1875 \nL 47.609375 17.1875 \nL 47.609375 0 \nL 37.796875 0 \nL 37.796875 17.1875 \nL 4.890625 17.1875 \nL 4.890625 26.703125 \nz\n\" id=\"DejaVuSans-52\"/>\n       </defs>\n       <use xlink:href=\"#DejaVuSans-52\"/>\n       <use x=\"63.623047\" xlink:href=\"#DejaVuSans-48\"/>\n      </g>\n     </g>\n    </g>\n    <g id=\"xtick_4\">\n     <g id=\"line2d_4\">\n      <g>\n       <use style=\"stroke:#000000;stroke-width:0.8;\" x=\"235.615933\" xlink:href=\"#m041f6813e5\" y=\"224.64\"/>\n      </g>\n     </g>\n     <g id=\"text_4\">\n      <!-- 60 -->\n      <g transform=\"translate(229.253433 239.238437)scale(0.1 -0.1)\">\n       <defs>\n        <path d=\"M 33.015625 40.375 \nQ 26.375 40.375 22.484375 35.828125 \nQ 18.609375 31.296875 18.609375 23.390625 \nQ 18.609375 15.53125 22.484375 10.953125 \nQ 26.375 6.390625 33.015625 6.390625 \nQ 39.65625 6.390625 43.53125 10.953125 \nQ 47.40625 15.53125 47.40625 23.390625 \nQ 47.40625 31.296875 43.53125 35.828125 \nQ 39.65625 40.375 33.015625 40.375 \nz\nM 52.59375 71.296875 \nL 52.59375 62.3125 \nQ 48.875 64.0625 45.09375 64.984375 \nQ 41.3125 65.921875 37.59375 65.921875 \nQ 27.828125 65.921875 22.671875 59.328125 \nQ 17.53125 52.734375 16.796875 39.40625 \nQ 19.671875 43.65625 24.015625 45.921875 \nQ 28.375 48.1875 33.59375 48.1875 \nQ 44.578125 48.1875 50.953125 41.515625 \nQ 57.328125 34.859375 57.328125 23.390625 \nQ 57.328125 12.15625 50.6875 5.359375 \nQ 44.046875 -1.421875 33.015625 -1.421875 \nQ 20.359375 -1.421875 13.671875 8.265625 \nQ 6.984375 17.96875 6.984375 36.375 \nQ 6.984375 53.65625 15.1875 63.9375 \nQ 23.390625 74.21875 37.203125 74.21875 \nQ 40.921875 74.21875 44.703125 73.484375 \nQ 48.484375 72.75 52.59375 71.296875 \nz\n\" id=\"DejaVuSans-54\"/>\n       </defs>\n       <use xlink:href=\"#DejaVuSans-54\"/>\n       <use x=\"63.623047\" xlink:href=\"#DejaVuSans-48\"/>\n      </g>\n     </g>\n    </g>\n    <g id=\"xtick_5\">\n     <g id=\"line2d_5\">\n      <g>\n       <use style=\"stroke:#000000;stroke-width:0.8;\" x=\"291.804972\" xlink:href=\"#m041f6813e5\" y=\"224.64\"/>\n      </g>\n     </g>\n     <g id=\"text_5\">\n      <!-- 80 -->\n      <g transform=\"translate(285.442472 239.238437)scale(0.1 -0.1)\">\n       <defs>\n        <path d=\"M 31.78125 34.625 \nQ 24.75 34.625 20.71875 30.859375 \nQ 16.703125 27.09375 16.703125 20.515625 \nQ 16.703125 13.921875 20.71875 10.15625 \nQ 24.75 6.390625 31.78125 6.390625 \nQ 38.8125 6.390625 42.859375 10.171875 \nQ 46.921875 13.96875 46.921875 20.515625 \nQ 46.921875 27.09375 42.890625 30.859375 \nQ 38.875 34.625 31.78125 34.625 \nz\nM 21.921875 38.8125 \nQ 15.578125 40.375 12.03125 44.71875 \nQ 8.5 49.078125 8.5 55.328125 \nQ 8.5 64.0625 14.71875 69.140625 \nQ 20.953125 74.21875 31.78125 74.21875 \nQ 42.671875 74.21875 48.875 69.140625 \nQ 55.078125 64.0625 55.078125 55.328125 \nQ 55.078125 49.078125 51.53125 44.71875 \nQ 48 40.375 41.703125 38.8125 \nQ 48.828125 37.15625 52.796875 32.3125 \nQ 56.78125 27.484375 56.78125 20.515625 \nQ 56.78125 9.90625 50.3125 4.234375 \nQ 43.84375 -1.421875 31.78125 -1.421875 \nQ 19.734375 -1.421875 13.25 4.234375 \nQ 6.78125 9.90625 6.78125 20.515625 \nQ 6.78125 27.484375 10.78125 32.3125 \nQ 14.796875 37.15625 21.921875 38.8125 \nz\nM 18.3125 54.390625 \nQ 18.3125 48.734375 21.84375 45.5625 \nQ 25.390625 42.390625 31.78125 42.390625 \nQ 38.140625 42.390625 41.71875 45.5625 \nQ 45.3125 48.734375 45.3125 54.390625 \nQ 45.3125 60.0625 41.71875 63.234375 \nQ 38.140625 66.40625 31.78125 66.40625 \nQ 25.390625 66.40625 21.84375 63.234375 \nQ 18.3125 60.0625 18.3125 54.390625 \nz\n\" id=\"DejaVuSans-56\"/>\n       </defs>\n       <use xlink:href=\"#DejaVuSans-56\"/>\n       <use x=\"63.623047\" xlink:href=\"#DejaVuSans-48\"/>\n      </g>\n     </g>\n    </g>\n    <g id=\"xtick_6\">\n     <g id=\"line2d_6\">\n      <g>\n       <use style=\"stroke:#000000;stroke-width:0.8;\" x=\"347.99401\" xlink:href=\"#m041f6813e5\" y=\"224.64\"/>\n      </g>\n     </g>\n     <g id=\"text_6\">\n      <!-- 100 -->\n      <g transform=\"translate(338.45026 239.238437)scale(0.1 -0.1)\">\n       <defs>\n        <path d=\"M 12.40625 8.296875 \nL 28.515625 8.296875 \nL 28.515625 63.921875 \nL 10.984375 60.40625 \nL 10.984375 69.390625 \nL 28.421875 72.90625 \nL 38.28125 72.90625 \nL 38.28125 8.296875 \nL 54.390625 8.296875 \nL 54.390625 0 \nL 12.40625 0 \nz\n\" id=\"DejaVuSans-49\"/>\n       </defs>\n       <use xlink:href=\"#DejaVuSans-49\"/>\n       <use x=\"63.623047\" xlink:href=\"#DejaVuSans-48\"/>\n       <use x=\"127.246094\" xlink:href=\"#DejaVuSans-48\"/>\n      </g>\n     </g>\n    </g>\n   </g>\n   <g id=\"matplotlib.axis_2\">\n    <g id=\"ytick_1\">\n     <g id=\"line2d_7\">\n      <defs>\n       <path d=\"M 0 0 \nL -3.5 0 \n\" id=\"m7a9c987cd1\" style=\"stroke:#000000;stroke-width:0.8;\"/>\n      </defs>\n      <g>\n       <use style=\"stroke:#000000;stroke-width:0.8;\" x=\"39.65\" xlink:href=\"#m7a9c987cd1\" y=\"200.534959\"/>\n      </g>\n     </g>\n     <g id=\"text_7\">\n      <!-- 0 -->\n      <g transform=\"translate(26.2875 204.334178)scale(0.1 -0.1)\">\n       <use xlink:href=\"#DejaVuSans-48\"/>\n      </g>\n     </g>\n    </g>\n    <g id=\"ytick_2\">\n     <g id=\"line2d_8\">\n      <g>\n       <use style=\"stroke:#000000;stroke-width:0.8;\" x=\"39.65\" xlink:href=\"#m7a9c987cd1\" y=\"153.496159\"/>\n      </g>\n     </g>\n     <g id=\"text_8\">\n      <!-- 1000 -->\n      <g transform=\"translate(7.2 157.295377)scale(0.1 -0.1)\">\n       <use xlink:href=\"#DejaVuSans-49\"/>\n       <use x=\"63.623047\" xlink:href=\"#DejaVuSans-48\"/>\n       <use x=\"127.246094\" xlink:href=\"#DejaVuSans-48\"/>\n       <use x=\"190.869141\" xlink:href=\"#DejaVuSans-48\"/>\n      </g>\n     </g>\n    </g>\n    <g id=\"ytick_3\">\n     <g id=\"line2d_9\">\n      <g>\n       <use style=\"stroke:#000000;stroke-width:0.8;\" x=\"39.65\" xlink:href=\"#m7a9c987cd1\" y=\"106.457358\"/>\n      </g>\n     </g>\n     <g id=\"text_9\">\n      <!-- 2000 -->\n      <g transform=\"translate(7.2 110.256577)scale(0.1 -0.1)\">\n       <use xlink:href=\"#DejaVuSans-50\"/>\n       <use x=\"63.623047\" xlink:href=\"#DejaVuSans-48\"/>\n       <use x=\"127.246094\" xlink:href=\"#DejaVuSans-48\"/>\n       <use x=\"190.869141\" xlink:href=\"#DejaVuSans-48\"/>\n      </g>\n     </g>\n    </g>\n    <g id=\"ytick_4\">\n     <g id=\"line2d_10\">\n      <g>\n       <use style=\"stroke:#000000;stroke-width:0.8;\" x=\"39.65\" xlink:href=\"#m7a9c987cd1\" y=\"59.418557\"/>\n      </g>\n     </g>\n     <g id=\"text_10\">\n      <!-- 3000 -->\n      <g transform=\"translate(7.2 63.217776)scale(0.1 -0.1)\">\n       <defs>\n        <path d=\"M 40.578125 39.3125 \nQ 47.65625 37.796875 51.625 33 \nQ 55.609375 28.21875 55.609375 21.1875 \nQ 55.609375 10.40625 48.1875 4.484375 \nQ 40.765625 -1.421875 27.09375 -1.421875 \nQ 22.515625 -1.421875 17.65625 -0.515625 \nQ 12.796875 0.390625 7.625 2.203125 \nL 7.625 11.71875 \nQ 11.71875 9.328125 16.59375 8.109375 \nQ 21.484375 6.890625 26.8125 6.890625 \nQ 36.078125 6.890625 40.9375 10.546875 \nQ 45.796875 14.203125 45.796875 21.1875 \nQ 45.796875 27.640625 41.28125 31.265625 \nQ 36.765625 34.90625 28.71875 34.90625 \nL 20.21875 34.90625 \nL 20.21875 43.015625 \nL 29.109375 43.015625 \nQ 36.375 43.015625 40.234375 45.921875 \nQ 44.09375 48.828125 44.09375 54.296875 \nQ 44.09375 59.90625 40.109375 62.90625 \nQ 36.140625 65.921875 28.71875 65.921875 \nQ 24.65625 65.921875 20.015625 65.03125 \nQ 15.375 64.15625 9.8125 62.3125 \nL 9.8125 71.09375 \nQ 15.4375 72.65625 20.34375 73.4375 \nQ 25.25 74.21875 29.59375 74.21875 \nQ 40.828125 74.21875 47.359375 69.109375 \nQ 53.90625 64.015625 53.90625 55.328125 \nQ 53.90625 49.265625 50.4375 45.09375 \nQ 46.96875 40.921875 40.578125 39.3125 \nz\n\" id=\"DejaVuSans-51\"/>\n       </defs>\n       <use xlink:href=\"#DejaVuSans-51\"/>\n       <use x=\"63.623047\" xlink:href=\"#DejaVuSans-48\"/>\n       <use x=\"127.246094\" xlink:href=\"#DejaVuSans-48\"/>\n       <use x=\"190.869141\" xlink:href=\"#DejaVuSans-48\"/>\n      </g>\n     </g>\n    </g>\n    <g id=\"ytick_5\">\n     <g id=\"line2d_11\">\n      <g>\n       <use style=\"stroke:#000000;stroke-width:0.8;\" x=\"39.65\" xlink:href=\"#m7a9c987cd1\" y=\"12.379756\"/>\n      </g>\n     </g>\n     <g id=\"text_11\">\n      <!-- 4000 -->\n      <g transform=\"translate(7.2 16.178975)scale(0.1 -0.1)\">\n       <use xlink:href=\"#DejaVuSans-52\"/>\n       <use x=\"63.623047\" xlink:href=\"#DejaVuSans-48\"/>\n       <use x=\"127.246094\" xlink:href=\"#DejaVuSans-48\"/>\n       <use x=\"190.869141\" xlink:href=\"#DejaVuSans-48\"/>\n      </g>\n     </g>\n    </g>\n   </g>\n   <g id=\"line2d_12\">\n    <path clip-path=\"url(#p1a96eae782)\" d=\"M 74.276075 211.28547 \nL 71.898567 211.710662 \nL 55.221672 214.693146 \nL 80.209949 210.224261 \nL 54.868182 214.756364 \nL 72.238652 211.649842 \nL 77.926001 210.63272 \nL 103.516878 206.056067 \nL 67.369754 212.520592 \nL 83.335118 209.665358 \nL 102.28625 206.276152 \nL 106.49663 205.52317 \nL 96.475461 207.315349 \nL 112.15462 204.5113 \nL 107.268039 205.385212 \nL 119.863191 203.132705 \nL 115.131791 203.978864 \nL 115.205617 203.965662 \nL 138.432224 199.811833 \nL 127.530877 201.761421 \nL 119.86921 203.131628 \nL 130.855317 201.166881 \nL 132.994667 200.784281 \nL 132.149278 200.93547 \nL 138.471965 199.804725 \nL 149.341827 197.860767 \nL 146.926504 198.292722 \nL 143.892835 198.835261 \nL 143.674144 198.874371 \nL 153.436889 197.128409 \nL 149.727233 197.791841 \nL 148.54972 198.002427 \nL 145.506087 198.546748 \nL 151.752047 197.429725 \nL 173.236688 193.587428 \nL 168.933276 194.357047 \nL 149.256641 197.876002 \nL 172.206196 193.77172 \nL 172.232816 193.76696 \nL 176.015891 193.090397 \nL 174.100352 193.432971 \nL 191.528854 190.316071 \nL 200.33379 188.741402 \nL 176.570899 192.99114 \nL 194.28407 189.82333 \nL 200.566894 188.699714 \nL 199.590712 188.874294 \nL 196.072842 189.503427 \nL 187.49655 191.037205 \nL 189.630563 190.65556 \nL 200.597463 188.694247 \nL 213.019148 186.472762 \nL 211.801762 186.690479 \nL 208.440688 187.291571 \nL 211.988796 186.65703 \nL 228.385216 183.724706 \nL 222.139708 184.841648 \nL 236.184961 182.329806 \nL 224.65835 184.391216 \nL 219.370083 185.336966 \nL 238.530914 181.910257 \nL 222.676001 184.745738 \nL 230.799894 183.292867 \nL 251.013756 179.677835 \nL 243.245473 181.067109 \nL 247.979425 180.220492 \nL 254.140966 179.118567 \nL 254.082037 179.129106 \nL 260.568792 177.969019 \nL 275.402105 175.316241 \nL 258.712716 178.300959 \nL 263.596791 177.427494 \nL 273.922913 175.580778 \nL 273.471404 175.661526 \nL 270.748301 176.148524 \nL 276.461696 175.126744 \nL 285.643428 173.48469 \nL 281.426765 174.238795 \nL 290.02461 172.701163 \nL 300.957255 170.745977 \nL 287.69474 173.117835 \nL 305.62806 169.910653 \nL 311.287859 168.898459 \nL 312.907239 168.60885 \nL 304.463714 170.118884 \nL 312.03548 168.764755 \nL 303.660989 170.262443 \nL 324.105194 166.606216 \nL 312.089949 168.755014 \nL 329.237361 165.688384 \nL 317.615577 167.766815 \nL 322.166831 166.952872 \nL 326.385871 166.198342 \nL 320.247381 167.296145 \nL 330.80796 165.407499 \nL 337.419627 164.225073 \nL 340.446827 163.683691 \nL 338.554949 164.022033 \nL 339.054596 163.932677 \nL 350.747059 161.841605 \nL 347.99401 162.333958 \nL 350.803462 161.831518 \nL 353.612914 161.329078 \nL 356.422366 160.826637 \nL 359.231818 160.324197 \n\" style=\"fill:none;stroke:#ff0000;stroke-linecap:square;stroke-width:1.5;\"/>\n   </g>\n   <g id=\"patch_3\">\n    <path d=\"M 39.65 224.64 \nL 39.65 7.2 \n\" style=\"fill:none;stroke:#000000;stroke-linecap:square;stroke-linejoin:miter;stroke-width:0.8;\"/>\n   </g>\n   <g id=\"patch_4\">\n    <path d=\"M 374.45 224.64 \nL 374.45 7.2 \n\" style=\"fill:none;stroke:#000000;stroke-linecap:square;stroke-linejoin:miter;stroke-width:0.8;\"/>\n   </g>\n   <g id=\"patch_5\">\n    <path d=\"M 39.65 224.64 \nL 374.45 224.64 \n\" style=\"fill:none;stroke:#000000;stroke-linecap:square;stroke-linejoin:miter;stroke-width:0.8;\"/>\n   </g>\n   <g id=\"patch_6\">\n    <path d=\"M 39.65 7.2 \nL 374.45 7.2 \n\" style=\"fill:none;stroke:#000000;stroke-linecap:square;stroke-linejoin:miter;stroke-width:0.8;\"/>\n   </g>\n  </g>\n </g>\n <defs>\n  <clipPath id=\"p1a96eae782\">\n   <rect height=\"217.44\" width=\"334.8\" x=\"39.65\" y=\"7.2\"/>\n  </clipPath>\n </defs>\n</svg>\n",
      "image/png": "[encoded data removed]"
     },
     "metadata": {
      "needs_background": "light"
     }
    }
   ],
   "metadata": {}
  },
  {
   "cell_type": "code",
   "execution_count": 6,
   "source": [
    "alpha/beta"
   ],
   "outputs": [
    {
     "output_type": "execute_result",
     "data": {
      "text/plain": [
       "4.076823130998718"
      ]
     },
     "metadata": {},
     "execution_count": 6
    }
   ],
   "metadata": {}
  },
  {
   "cell_type": "markdown",
   "source": [
    "可以发现证据近似最终选择的L2正则化系数为4，而从上一节的测试可以发现最优的L2正则化系数应该在100左右，可以发现证据近似与我们的理想情况还有一定的距离，接下来我们看看利用变分推断拟合的效果会怎样"
   ],
   "metadata": {}
  },
  {
   "cell_type": "code",
   "execution_count": null,
   "source": [],
   "outputs": [],
   "metadata": {}
  }
 ],
 "metadata": {
  "kernelspec": {
   "name": "python3",
   "display_name": "Python 3.8.5 64-bit ('base': conda)"
  },
  "language_info": {
   "codemirror_mode": {
    "name": "ipython",
    "version": 3
   },
   "file_extension": ".py",
   "mimetype": "text/x-python",
   "name": "python",
   "nbconvert_exporter": "python",
   "pygments_lexer": "ipython3",
   "version": "3.8.5"
  },
  "interpreter": {
   "hash": "2b0d8445d30565f6cf0731071b42a683b7aa132b1cb9bae01ff5d96fc7237cfa"
  }
 },
 "nbformat": 4,
 "nbformat_minor": 2
}