{
 "cells": [
  {
   "cell_type": "markdown",
   "source": [
    "### 一.原理介绍\n",
    "主成分分析想做的事如下图所示，将原始坐标系$<w_1,w_2>$变换为新的坐标系$<w'_1,w'_2>$，是的原始数据在新的坐标系下具有如下特点：   \n",
    "\n",
    "（1）在第一个坐标轴上的投影分散的尽可能的开（第一主成分），在第二个坐标轴上的投影其次（第二主成分）....  \n",
    "\n",
    "（2）新的坐标轴彼此正交，这样可以去掉变量间的相关性，如下面第一张图中数据几乎排在$y=x$这条线上，而经过pca的变换后，数据各维度失去了相关性\n",
    "![avatar](./source/19_pca1.png)"
   ],
   "metadata": {}
  },
  {
   "cell_type": "markdown",
   "source": [
    "### 二.求解第一个坐标轴（第一主成分）\n",
    "\n",
    "接下来让我们先从第一个坐标轴入手，根据我们的目标，我们要让原始的数据点$X\\in R^{m\\times n}$在某一个方向$w\\in R^n$上的投影点尽可能的分散，这里涉及两个点：   \n",
    "\n",
    "（1）如果计算投影坐标；   \n",
    "\n",
    "（2）如何衡量分散程度；   \n",
    "\n",
    "下面依次推导\n",
    "#### 投影坐标的计算\n",
    "\n",
    "抽样坐标的计算推导如下图，将某样本点$x$看做一个向量，将坐标轴方向向量$w$移动到与$x$相同的原点，假设两向量的夹角为$\\theta$，在$w^Tw=1$的约束条件下，经过推导可得投影坐标可表示为$x^Tw$\n",
    "![avatar](./source/19_pca2.png)\n",
    "\n",
    "#### 分散程度的衡量：方差\n",
    "\n",
    "对于分散程度，显然最直接的一个参考指标可以使用方差，方差越大说明数据越分散，那么在坐标轴$w$上所有数据投影点的方差如下：  \n",
    "\n",
    "$$\n",
    "S(X,w)=\\sum_{i=1}^m(x_i^Tw-\\bar{x}^Tw)^2\n",
    "$$  \n",
    "\n",
    "这里，$x_i\\in R^n$，$\\bar{x}=\\frac{\\sum_{i=1}^m x_i}{m}$，通常为了方便可以先进行**去中心化**的操作，即令$X$中的样本点都减去它每个维度的均值\n",
    "\n",
    "$$\n",
    "X=X-\\bar{X}\n",
    "$$  \n",
    "\n",
    "所以这时的方差就可以简单写作：   \n",
    "\n",
    "$$\n",
    "S(X,w)=\\sum_{i=1}^m(x_i^Tw)^2=\\sum_{i=1}^m w^Tx_ix_i^Tw=w^T\\sum_{i=1}^m (x_ix_i^T)w=w^T[x_1,x_2,...,x_m]\\cdot\\begin{bmatrix}\n",
    "x_1^T\\\\ \n",
    "x_2^T\\\\ \n",
    "...\\\\ \n",
    "x_m^T\n",
    "\\end{bmatrix}w=w^TX^TXw\n",
    "$$  \n",
    "\n",
    "所以，我们我们要求最优$w^*$便是  \n",
    "\n",
    "$$\n",
    "w^*=arg\\max_{w}w^TX^TXw\n",
    "$$  \n",
    "\n",
    "这依赖于$X^TX$的性质"
   ],
   "metadata": {}
  },
  {
   "cell_type": "markdown",
   "source": [
    "### 三.基于$X^TX$求解前$k$个主成分\n",
    "\n",
    "由于$X^TX$为实对称矩阵，我们可以对其进行正交分解，且其特征值均大于等于0，所以我们可以将$X^TX$分解为如下形式：   \n",
    "\n",
    "$$\n",
    "X^TX=U\\Lambda U^T=[u_1,u_2,...,u_n]\\begin{bmatrix}\n",
    "\\lambda_1 & 0 & 0 & 0 \\\\ \n",
    "0 & \\lambda_2 & 0 & 0\\\\ \n",
    "0 & 0 & \\ddots & 0\\\\ \n",
    "0 & 0 & 0 & \\lambda_n\n",
    "\\end{bmatrix}\\begin{bmatrix}\n",
    "u_1^T\\\\ \n",
    "u_2^T\\\\ \n",
    "...\\\\ \n",
    "u_n^T\n",
    "\\end{bmatrix}\n",
    "$$  \n",
    "\n",
    "其中，$\\lambda_1\\geq\\lambda_2\\geq\\cdots\\geq\\lambda_n\\geq 0,u_i^Tu_j=\\left\\{\\begin{matrix}\n",
    "1 &i=j \\\\ \n",
    "0 &i\\neq j\n",
    "\\end{matrix}\\right.\n",
    "$\n",
    "\n",
    "对于，任意$w(s.t. w^Tw=1)$，都有：   \n",
    "\n",
    "$$\n",
    "w^TX^TXw=(w^Tu_1)^2\\lambda_1+(w^Tu_2)^2\\lambda_2+\\cdots+(w^Tu_n)^2\\lambda_n\n",
    "$$  \n",
    "\n",
    "\n",
    "由于$u_1,u_2,...,u_n$彼此正交，且为单位向量，所以$(w^Tu_1)^2+(w^Tu_2)^2+\\cdots+(w^Tu_n)^2=1$，所以结果也就可以看出来了：   \n",
    "\n",
    "（1）对于第一个坐标轴（第一主成分），即是$\\lambda_1$对应的特征向量$u_1$...\n",
    "\n",
    "（2）对于第二个坐标轴（第二主成分），即是$\\lambda_2$对应的特征向量$u_2$...\n",
    "\n",
    "（3）......  \n",
    "\n",
    "通常，我们选择前$k$个坐标轴进行映射$U_k=[u_1,u_2,...,u_k]$，生成的新数据为$X_k=XU_k$"
   ],
   "metadata": {}
  },
  {
   "cell_type": "markdown",
   "source": [
    "### 四.代码实现\n",
    "\n",
    "#### 造伪数据\n",
    "将数据点$(x,y)$分布在$y=3x+2$上下"
   ],
   "metadata": {}
  },
  {
   "cell_type": "code",
   "execution_count": 32,
   "source": [
    "import numpy as np\n",
    "#造伪样本\n",
    "X=np.linspace(0,10,100)\n",
    "Y=3*X+2\n",
    "Y+=np.random.normal(size=(X.shape))*1.0#添加噪声\n",
    "data=np.c_[X,Y]"
   ],
   "outputs": [],
   "metadata": {}
  },
  {
   "cell_type": "code",
   "execution_count": 33,
   "source": [
    "import matplotlib.pyplot as plt\n",
    "%matplotlib inline\n",
    "plt.scatter(data[:,0],data[:,1])\n",
    "plt.xlabel('x')\n",
    "plt.ylabel('y')"
   ],
   "outputs": [
    {
     "output_type": "execute_result",
     "data": {
      "text/plain": [
       "Text(0, 0.5, 'y')"
      ]
     },
     "metadata": {},
     "execution_count": 33
    },
    {
     "output_type": "display_data",
     "data": {
      "text/plain": [
       "<Figure size 432x288 with 1 Axes>"
      ],
      "image/svg+xml": "<?xml version=\"1.0\" encoding=\"utf-8\" standalone=\"no\"?>\n<!DOCTYPE svg PUBLIC \"-//W3C//DTD SVG 1.1//EN\"\n  \"http://www.w3.org/Graphics/SVG/1.1/DTD/svg11.dtd\">\n<!-- Created with matplotlib (https://matplotlib.org/) -->\n<svg height=\"262.19625pt\" version=\"1.1\" viewBox=\"0 0 382.603125 262.19625\" width=\"382.603125pt\" xmlns=\"http://www.w3.org/2000/svg\" xmlns:xlink=\"http://www.w3.org/1999/xlink\">\n <metadata>\n  <rdf:RDF xmlns:cc=\"http://creativecommons.org/ns#\" xmlns:dc=\"http://purl.org/dc/elements/1.1/\" xmlns:rdf=\"http://www.w3.org/1999/02/22-rdf-syntax-ns#\">\n   <cc:Work>\n    <dc:type rdf:resource=\"http://purl.org/dc/dcmitype/StillImage\"/>\n    <dc:date>2021-08-10T22:45:03.050105</dc:date>\n    <dc:format>image/svg+xml</dc:format>\n    <dc:creator>\n     <cc:Agent>\n      <dc:title>Matplotlib v3.3.2, https://matplotlib.org/</dc:title>\n     </cc:Agent>\n    </dc:creator>\n   </cc:Work>\n  </rdf:RDF>\n </metadata>\n <defs>\n  <style type=\"text/css\">*{stroke-linecap:butt;stroke-linejoin:round;}</style>\n </defs>\n <g id=\"figure_1\">\n  <g id=\"patch_1\">\n   <path d=\"M 0 262.19625 \nL 382.603125 262.19625 \nL 382.603125 0 \nL 0 0 \nz\n\" style=\"fill:none;\"/>\n  </g>\n  <g id=\"axes_1\">\n   <g id=\"patch_2\">\n    <path d=\"M 40.603125 224.64 \nL 375.403125 224.64 \nL 375.403125 7.2 \nL 40.603125 7.2 \nz\n\" style=\"fill:#ffffff;\"/>\n   </g>\n   <g id=\"PathCollection_1\">\n    <defs>\n     <path d=\"M 0 3 \nC 0.795609 3 1.55874 2.683901 2.12132 2.12132 \nC 2.683901 1.55874 3 0.795609 3 0 \nC 3 -0.795609 2.683901 -1.55874 2.12132 -2.12132 \nC 1.55874 -2.683901 0.795609 -3 0 -3 \nC -0.795609 -3 -1.55874 -2.683901 -2.12132 -2.12132 \nC -2.683901 -1.55874 -3 -0.795609 -3 0 \nC -3 0.795609 -2.683901 1.55874 -2.12132 2.12132 \nC -1.55874 2.683901 -0.795609 3 0 3 \nz\n\" id=\"m95cacad089\" style=\"stroke:#1f77b4;\"/>\n    </defs>\n    <g clip-path=\"url(#p8eede73589)\">\n     <use style=\"fill:#1f77b4;stroke:#1f77b4;\" x=\"55.821307\" xlink:href=\"#m95cacad089\" y=\"214.756364\"/>\n     <use style=\"fill:#1f77b4;stroke:#1f77b4;\" x=\"58.895687\" xlink:href=\"#m95cacad089\" y=\"211.729294\"/>\n     <use style=\"fill:#1f77b4;stroke:#1f77b4;\" x=\"61.970067\" xlink:href=\"#m95cacad089\" y=\"202.749935\"/>\n     <use style=\"fill:#1f77b4;stroke:#1f77b4;\" x=\"65.044447\" xlink:href=\"#m95cacad089\" y=\"208.015151\"/>\n     <use style=\"fill:#1f77b4;stroke:#1f77b4;\" x=\"68.118827\" xlink:href=\"#m95cacad089\" y=\"210.278973\"/>\n     <use style=\"fill:#1f77b4;stroke:#1f77b4;\" x=\"71.193208\" xlink:href=\"#m95cacad089\" y=\"206.990996\"/>\n     <use style=\"fill:#1f77b4;stroke:#1f77b4;\" x=\"74.267588\" xlink:href=\"#m95cacad089\" y=\"201.924273\"/>\n     <use style=\"fill:#1f77b4;stroke:#1f77b4;\" x=\"77.341968\" xlink:href=\"#m95cacad089\" y=\"194.538662\"/>\n     <use style=\"fill:#1f77b4;stroke:#1f77b4;\" x=\"80.416348\" xlink:href=\"#m95cacad089\" y=\"196.137239\"/>\n     <use style=\"fill:#1f77b4;stroke:#1f77b4;\" x=\"83.490728\" xlink:href=\"#m95cacad089\" y=\"192.252146\"/>\n     <use style=\"fill:#1f77b4;stroke:#1f77b4;\" x=\"86.565108\" xlink:href=\"#m95cacad089\" y=\"202.054672\"/>\n     <use style=\"fill:#1f77b4;stroke:#1f77b4;\" x=\"89.639489\" xlink:href=\"#m95cacad089\" y=\"200.346341\"/>\n     <use style=\"fill:#1f77b4;stroke:#1f77b4;\" x=\"92.713869\" xlink:href=\"#m95cacad089\" y=\"192.552573\"/>\n     <use style=\"fill:#1f77b4;stroke:#1f77b4;\" x=\"95.788249\" xlink:href=\"#m95cacad089\" y=\"181.367644\"/>\n     <use style=\"fill:#1f77b4;stroke:#1f77b4;\" x=\"98.862629\" xlink:href=\"#m95cacad089\" y=\"187.464363\"/>\n     <use style=\"fill:#1f77b4;stroke:#1f77b4;\" x=\"101.937009\" xlink:href=\"#m95cacad089\" y=\"175.395939\"/>\n     <use style=\"fill:#1f77b4;stroke:#1f77b4;\" x=\"105.011389\" xlink:href=\"#m95cacad089\" y=\"174.238784\"/>\n     <use style=\"fill:#1f77b4;stroke:#1f77b4;\" x=\"108.08577\" xlink:href=\"#m95cacad089\" y=\"189.680189\"/>\n     <use style=\"fill:#1f77b4;stroke:#1f77b4;\" x=\"111.16015\" xlink:href=\"#m95cacad089\" y=\"181.623973\"/>\n     <use style=\"fill:#1f77b4;stroke:#1f77b4;\" x=\"114.23453\" xlink:href=\"#m95cacad089\" y=\"174.528822\"/>\n     <use style=\"fill:#1f77b4;stroke:#1f77b4;\" x=\"117.30891\" xlink:href=\"#m95cacad089\" y=\"168.099833\"/>\n     <use style=\"fill:#1f77b4;stroke:#1f77b4;\" x=\"120.38329\" xlink:href=\"#m95cacad089\" y=\"164.545825\"/>\n     <use style=\"fill:#1f77b4;stroke:#1f77b4;\" x=\"123.45767\" xlink:href=\"#m95cacad089\" y=\"163.973076\"/>\n     <use style=\"fill:#1f77b4;stroke:#1f77b4;\" x=\"126.532051\" xlink:href=\"#m95cacad089\" y=\"158.970439\"/>\n     <use style=\"fill:#1f77b4;stroke:#1f77b4;\" x=\"129.606431\" xlink:href=\"#m95cacad089\" y=\"161.843395\"/>\n     <use style=\"fill:#1f77b4;stroke:#1f77b4;\" x=\"132.680811\" xlink:href=\"#m95cacad089\" y=\"152.127519\"/>\n     <use style=\"fill:#1f77b4;stroke:#1f77b4;\" x=\"135.755191\" xlink:href=\"#m95cacad089\" y=\"151.73395\"/>\n     <use style=\"fill:#1f77b4;stroke:#1f77b4;\" x=\"138.829571\" xlink:href=\"#m95cacad089\" y=\"161.708234\"/>\n     <use style=\"fill:#1f77b4;stroke:#1f77b4;\" x=\"141.903951\" xlink:href=\"#m95cacad089\" y=\"162.279484\"/>\n     <use style=\"fill:#1f77b4;stroke:#1f77b4;\" x=\"144.978332\" xlink:href=\"#m95cacad089\" y=\"147.957888\"/>\n     <use style=\"fill:#1f77b4;stroke:#1f77b4;\" x=\"148.052712\" xlink:href=\"#m95cacad089\" y=\"156.278136\"/>\n     <use style=\"fill:#1f77b4;stroke:#1f77b4;\" x=\"151.127092\" xlink:href=\"#m95cacad089\" y=\"157.749791\"/>\n     <use style=\"fill:#1f77b4;stroke:#1f77b4;\" x=\"154.201472\" xlink:href=\"#m95cacad089\" y=\"149.879604\"/>\n     <use style=\"fill:#1f77b4;stroke:#1f77b4;\" x=\"157.275852\" xlink:href=\"#m95cacad089\" y=\"147.253942\"/>\n     <use style=\"fill:#1f77b4;stroke:#1f77b4;\" x=\"160.350232\" xlink:href=\"#m95cacad089\" y=\"135.415538\"/>\n     <use style=\"fill:#1f77b4;stroke:#1f77b4;\" x=\"163.424613\" xlink:href=\"#m95cacad089\" y=\"148.056696\"/>\n     <use style=\"fill:#1f77b4;stroke:#1f77b4;\" x=\"166.498993\" xlink:href=\"#m95cacad089\" y=\"135.245445\"/>\n     <use style=\"fill:#1f77b4;stroke:#1f77b4;\" x=\"169.573373\" xlink:href=\"#m95cacad089\" y=\"142.976107\"/>\n     <use style=\"fill:#1f77b4;stroke:#1f77b4;\" x=\"172.647753\" xlink:href=\"#m95cacad089\" y=\"135.764714\"/>\n     <use style=\"fill:#1f77b4;stroke:#1f77b4;\" x=\"175.722133\" xlink:href=\"#m95cacad089\" y=\"131.728381\"/>\n     <use style=\"fill:#1f77b4;stroke:#1f77b4;\" x=\"178.796513\" xlink:href=\"#m95cacad089\" y=\"126.555458\"/>\n     <use style=\"fill:#1f77b4;stroke:#1f77b4;\" x=\"181.870894\" xlink:href=\"#m95cacad089\" y=\"133.747114\"/>\n     <use style=\"fill:#1f77b4;stroke:#1f77b4;\" x=\"184.945274\" xlink:href=\"#m95cacad089\" y=\"125.428682\"/>\n     <use style=\"fill:#1f77b4;stroke:#1f77b4;\" x=\"188.019654\" xlink:href=\"#m95cacad089\" y=\"123.985203\"/>\n     <use style=\"fill:#1f77b4;stroke:#1f77b4;\" x=\"191.094034\" xlink:href=\"#m95cacad089\" y=\"120.456011\"/>\n     <use style=\"fill:#1f77b4;stroke:#1f77b4;\" x=\"194.168414\" xlink:href=\"#m95cacad089\" y=\"127.056785\"/>\n     <use style=\"fill:#1f77b4;stroke:#1f77b4;\" x=\"197.242794\" xlink:href=\"#m95cacad089\" y=\"123.129074\"/>\n     <use style=\"fill:#1f77b4;stroke:#1f77b4;\" x=\"200.317175\" xlink:href=\"#m95cacad089\" y=\"122.953777\"/>\n     <use style=\"fill:#1f77b4;stroke:#1f77b4;\" x=\"203.391555\" xlink:href=\"#m95cacad089\" y=\"126.852745\"/>\n     <use style=\"fill:#1f77b4;stroke:#1f77b4;\" x=\"206.465935\" xlink:href=\"#m95cacad089\" y=\"110.935422\"/>\n     <use style=\"fill:#1f77b4;stroke:#1f77b4;\" x=\"209.540315\" xlink:href=\"#m95cacad089\" y=\"118.765529\"/>\n     <use style=\"fill:#1f77b4;stroke:#1f77b4;\" x=\"212.614695\" xlink:href=\"#m95cacad089\" y=\"110.451654\"/>\n     <use style=\"fill:#1f77b4;stroke:#1f77b4;\" x=\"215.689075\" xlink:href=\"#m95cacad089\" y=\"98.783921\"/>\n     <use style=\"fill:#1f77b4;stroke:#1f77b4;\" x=\"218.763456\" xlink:href=\"#m95cacad089\" y=\"108.187925\"/>\n     <use style=\"fill:#1f77b4;stroke:#1f77b4;\" x=\"221.837836\" xlink:href=\"#m95cacad089\" y=\"113.25428\"/>\n     <use style=\"fill:#1f77b4;stroke:#1f77b4;\" x=\"224.912216\" xlink:href=\"#m95cacad089\" y=\"107.611216\"/>\n     <use style=\"fill:#1f77b4;stroke:#1f77b4;\" x=\"227.986596\" xlink:href=\"#m95cacad089\" y=\"107.101343\"/>\n     <use style=\"fill:#1f77b4;stroke:#1f77b4;\" x=\"231.060976\" xlink:href=\"#m95cacad089\" y=\"102.70302\"/>\n     <use style=\"fill:#1f77b4;stroke:#1f77b4;\" x=\"234.135356\" xlink:href=\"#m95cacad089\" y=\"79.67706\"/>\n     <use style=\"fill:#1f77b4;stroke:#1f77b4;\" x=\"237.209737\" xlink:href=\"#m95cacad089\" y=\"90.130727\"/>\n     <use style=\"fill:#1f77b4;stroke:#1f77b4;\" x=\"240.284117\" xlink:href=\"#m95cacad089\" y=\"93.083558\"/>\n     <use style=\"fill:#1f77b4;stroke:#1f77b4;\" x=\"243.358497\" xlink:href=\"#m95cacad089\" y=\"86.730177\"/>\n     <use style=\"fill:#1f77b4;stroke:#1f77b4;\" x=\"246.432877\" xlink:href=\"#m95cacad089\" y=\"100.080791\"/>\n     <use style=\"fill:#1f77b4;stroke:#1f77b4;\" x=\"249.507257\" xlink:href=\"#m95cacad089\" y=\"91.468068\"/>\n     <use style=\"fill:#1f77b4;stroke:#1f77b4;\" x=\"252.581637\" xlink:href=\"#m95cacad089\" y=\"88.482495\"/>\n     <use style=\"fill:#1f77b4;stroke:#1f77b4;\" x=\"255.656018\" xlink:href=\"#m95cacad089\" y=\"80.349263\"/>\n     <use style=\"fill:#1f77b4;stroke:#1f77b4;\" x=\"258.730398\" xlink:href=\"#m95cacad089\" y=\"78.355642\"/>\n     <use style=\"fill:#1f77b4;stroke:#1f77b4;\" x=\"261.804778\" xlink:href=\"#m95cacad089\" y=\"86.664303\"/>\n     <use style=\"fill:#1f77b4;stroke:#1f77b4;\" x=\"264.879158\" xlink:href=\"#m95cacad089\" y=\"87.590028\"/>\n     <use style=\"fill:#1f77b4;stroke:#1f77b4;\" x=\"267.953538\" xlink:href=\"#m95cacad089\" y=\"78.749089\"/>\n     <use style=\"fill:#1f77b4;stroke:#1f77b4;\" x=\"271.027918\" xlink:href=\"#m95cacad089\" y=\"80.64934\"/>\n     <use style=\"fill:#1f77b4;stroke:#1f77b4;\" x=\"274.102299\" xlink:href=\"#m95cacad089\" y=\"66.667144\"/>\n     <use style=\"fill:#1f77b4;stroke:#1f77b4;\" x=\"277.176679\" xlink:href=\"#m95cacad089\" y=\"64.505708\"/>\n     <use style=\"fill:#1f77b4;stroke:#1f77b4;\" x=\"280.251059\" xlink:href=\"#m95cacad089\" y=\"67.605899\"/>\n     <use style=\"fill:#1f77b4;stroke:#1f77b4;\" x=\"283.325439\" xlink:href=\"#m95cacad089\" y=\"57.824491\"/>\n     <use style=\"fill:#1f77b4;stroke:#1f77b4;\" x=\"286.399819\" xlink:href=\"#m95cacad089\" y=\"62.805038\"/>\n     <use style=\"fill:#1f77b4;stroke:#1f77b4;\" x=\"289.474199\" xlink:href=\"#m95cacad089\" y=\"66.361202\"/>\n     <use style=\"fill:#1f77b4;stroke:#1f77b4;\" x=\"292.54858\" xlink:href=\"#m95cacad089\" y=\"66.425005\"/>\n     <use style=\"fill:#1f77b4;stroke:#1f77b4;\" x=\"295.62296\" xlink:href=\"#m95cacad089\" y=\"60.518469\"/>\n     <use style=\"fill:#1f77b4;stroke:#1f77b4;\" x=\"298.69734\" xlink:href=\"#m95cacad089\" y=\"60.047702\"/>\n     <use style=\"fill:#1f77b4;stroke:#1f77b4;\" x=\"301.77172\" xlink:href=\"#m95cacad089\" y=\"59.732191\"/>\n     <use style=\"fill:#1f77b4;stroke:#1f77b4;\" x=\"304.8461\" xlink:href=\"#m95cacad089\" y=\"52.710532\"/>\n     <use style=\"fill:#1f77b4;stroke:#1f77b4;\" x=\"307.92048\" xlink:href=\"#m95cacad089\" y=\"32.973935\"/>\n     <use style=\"fill:#1f77b4;stroke:#1f77b4;\" x=\"310.994861\" xlink:href=\"#m95cacad089\" y=\"35.3508\"/>\n     <use style=\"fill:#1f77b4;stroke:#1f77b4;\" x=\"314.069241\" xlink:href=\"#m95cacad089\" y=\"32.85165\"/>\n     <use style=\"fill:#1f77b4;stroke:#1f77b4;\" x=\"317.143621\" xlink:href=\"#m95cacad089\" y=\"41.90251\"/>\n     <use style=\"fill:#1f77b4;stroke:#1f77b4;\" x=\"320.218001\" xlink:href=\"#m95cacad089\" y=\"37.122487\"/>\n     <use style=\"fill:#1f77b4;stroke:#1f77b4;\" x=\"323.292381\" xlink:href=\"#m95cacad089\" y=\"25.937465\"/>\n     <use style=\"fill:#1f77b4;stroke:#1f77b4;\" x=\"326.366761\" xlink:href=\"#m95cacad089\" y=\"38.212793\"/>\n     <use style=\"fill:#1f77b4;stroke:#1f77b4;\" x=\"329.441142\" xlink:href=\"#m95cacad089\" y=\"36.49425\"/>\n     <use style=\"fill:#1f77b4;stroke:#1f77b4;\" x=\"332.515522\" xlink:href=\"#m95cacad089\" y=\"33.369745\"/>\n     <use style=\"fill:#1f77b4;stroke:#1f77b4;\" x=\"335.589902\" xlink:href=\"#m95cacad089\" y=\"35.716905\"/>\n     <use style=\"fill:#1f77b4;stroke:#1f77b4;\" x=\"338.664282\" xlink:href=\"#m95cacad089\" y=\"28.73146\"/>\n     <use style=\"fill:#1f77b4;stroke:#1f77b4;\" x=\"341.738662\" xlink:href=\"#m95cacad089\" y=\"22.660481\"/>\n     <use style=\"fill:#1f77b4;stroke:#1f77b4;\" x=\"344.813042\" xlink:href=\"#m95cacad089\" y=\"18.147826\"/>\n     <use style=\"fill:#1f77b4;stroke:#1f77b4;\" x=\"347.887423\" xlink:href=\"#m95cacad089\" y=\"25.490054\"/>\n     <use style=\"fill:#1f77b4;stroke:#1f77b4;\" x=\"350.961803\" xlink:href=\"#m95cacad089\" y=\"32.570846\"/>\n     <use style=\"fill:#1f77b4;stroke:#1f77b4;\" x=\"354.036183\" xlink:href=\"#m95cacad089\" y=\"17.083636\"/>\n     <use style=\"fill:#1f77b4;stroke:#1f77b4;\" x=\"357.110563\" xlink:href=\"#m95cacad089\" y=\"24.441672\"/>\n     <use style=\"fill:#1f77b4;stroke:#1f77b4;\" x=\"360.184943\" xlink:href=\"#m95cacad089\" y=\"22.707163\"/>\n    </g>\n   </g>\n   <g id=\"matplotlib.axis_1\">\n    <g id=\"xtick_1\">\n     <g id=\"line2d_1\">\n      <defs>\n       <path d=\"M 0 0 \nL 0 3.5 \n\" id=\"mecd2b83ab9\" style=\"stroke:#000000;stroke-width:0.8;\"/>\n      </defs>\n      <g>\n       <use style=\"stroke:#000000;stroke-width:0.8;\" x=\"55.821307\" xlink:href=\"#mecd2b83ab9\" y=\"224.64\"/>\n      </g>\n     </g>\n     <g id=\"text_1\">\n      <!-- 0 -->\n      <g transform=\"translate(52.640057 239.238437)scale(0.1 -0.1)\">\n       <defs>\n        <path d=\"M 31.78125 66.40625 \nQ 24.171875 66.40625 20.328125 58.90625 \nQ 16.5 51.421875 16.5 36.375 \nQ 16.5 21.390625 20.328125 13.890625 \nQ 24.171875 6.390625 31.78125 6.390625 \nQ 39.453125 6.390625 43.28125 13.890625 \nQ 47.125 21.390625 47.125 36.375 \nQ 47.125 51.421875 43.28125 58.90625 \nQ 39.453125 66.40625 31.78125 66.40625 \nz\nM 31.78125 74.21875 \nQ 44.046875 74.21875 50.515625 64.515625 \nQ 56.984375 54.828125 56.984375 36.375 \nQ 56.984375 17.96875 50.515625 8.265625 \nQ 44.046875 -1.421875 31.78125 -1.421875 \nQ 19.53125 -1.421875 13.0625 8.265625 \nQ 6.59375 17.96875 6.59375 36.375 \nQ 6.59375 54.828125 13.0625 64.515625 \nQ 19.53125 74.21875 31.78125 74.21875 \nz\n\" id=\"DejaVuSans-48\"/>\n       </defs>\n       <use xlink:href=\"#DejaVuSans-48\"/>\n      </g>\n     </g>\n    </g>\n    <g id=\"xtick_2\">\n     <g id=\"line2d_2\">\n      <g>\n       <use style=\"stroke:#000000;stroke-width:0.8;\" x=\"116.694034\" xlink:href=\"#mecd2b83ab9\" y=\"224.64\"/>\n      </g>\n     </g>\n     <g id=\"text_2\">\n      <!-- 2 -->\n      <g transform=\"translate(113.512784 239.238437)scale(0.1 -0.1)\">\n       <defs>\n        <path d=\"M 19.1875 8.296875 \nL 53.609375 8.296875 \nL 53.609375 0 \nL 7.328125 0 \nL 7.328125 8.296875 \nQ 12.9375 14.109375 22.625 23.890625 \nQ 32.328125 33.6875 34.8125 36.53125 \nQ 39.546875 41.84375 41.421875 45.53125 \nQ 43.3125 49.21875 43.3125 52.78125 \nQ 43.3125 58.59375 39.234375 62.25 \nQ 35.15625 65.921875 28.609375 65.921875 \nQ 23.96875 65.921875 18.8125 64.3125 \nQ 13.671875 62.703125 7.8125 59.421875 \nL 7.8125 69.390625 \nQ 13.765625 71.78125 18.9375 73 \nQ 24.125 74.21875 28.421875 74.21875 \nQ 39.75 74.21875 46.484375 68.546875 \nQ 53.21875 62.890625 53.21875 53.421875 \nQ 53.21875 48.921875 51.53125 44.890625 \nQ 49.859375 40.875 45.40625 35.40625 \nQ 44.1875 33.984375 37.640625 27.21875 \nQ 31.109375 20.453125 19.1875 8.296875 \nz\n\" id=\"DejaVuSans-50\"/>\n       </defs>\n       <use xlink:href=\"#DejaVuSans-50\"/>\n      </g>\n     </g>\n    </g>\n    <g id=\"xtick_3\">\n     <g id=\"line2d_3\">\n      <g>\n       <use style=\"stroke:#000000;stroke-width:0.8;\" x=\"177.566761\" xlink:href=\"#mecd2b83ab9\" y=\"224.64\"/>\n      </g>\n     </g>\n     <g id=\"text_3\">\n      <!-- 4 -->\n      <g transform=\"translate(174.385511 239.238437)scale(0.1 -0.1)\">\n       <defs>\n        <path d=\"M 37.796875 64.3125 \nL 12.890625 25.390625 \nL 37.796875 25.390625 \nz\nM 35.203125 72.90625 \nL 47.609375 72.90625 \nL 47.609375 25.390625 \nL 58.015625 25.390625 \nL 58.015625 17.1875 \nL 47.609375 17.1875 \nL 47.609375 0 \nL 37.796875 0 \nL 37.796875 17.1875 \nL 4.890625 17.1875 \nL 4.890625 26.703125 \nz\n\" id=\"DejaVuSans-52\"/>\n       </defs>\n       <use xlink:href=\"#DejaVuSans-52\"/>\n      </g>\n     </g>\n    </g>\n    <g id=\"xtick_4\">\n     <g id=\"line2d_4\">\n      <g>\n       <use style=\"stroke:#000000;stroke-width:0.8;\" x=\"238.439489\" xlink:href=\"#mecd2b83ab9\" y=\"224.64\"/>\n      </g>\n     </g>\n     <g id=\"text_4\">\n      <!-- 6 -->\n      <g transform=\"translate(235.258239 239.238437)scale(0.1 -0.1)\">\n       <defs>\n        <path d=\"M 33.015625 40.375 \nQ 26.375 40.375 22.484375 35.828125 \nQ 18.609375 31.296875 18.609375 23.390625 \nQ 18.609375 15.53125 22.484375 10.953125 \nQ 26.375 6.390625 33.015625 6.390625 \nQ 39.65625 6.390625 43.53125 10.953125 \nQ 47.40625 15.53125 47.40625 23.390625 \nQ 47.40625 31.296875 43.53125 35.828125 \nQ 39.65625 40.375 33.015625 40.375 \nz\nM 52.59375 71.296875 \nL 52.59375 62.3125 \nQ 48.875 64.0625 45.09375 64.984375 \nQ 41.3125 65.921875 37.59375 65.921875 \nQ 27.828125 65.921875 22.671875 59.328125 \nQ 17.53125 52.734375 16.796875 39.40625 \nQ 19.671875 43.65625 24.015625 45.921875 \nQ 28.375 48.1875 33.59375 48.1875 \nQ 44.578125 48.1875 50.953125 41.515625 \nQ 57.328125 34.859375 57.328125 23.390625 \nQ 57.328125 12.15625 50.6875 5.359375 \nQ 44.046875 -1.421875 33.015625 -1.421875 \nQ 20.359375 -1.421875 13.671875 8.265625 \nQ 6.984375 17.96875 6.984375 36.375 \nQ 6.984375 53.65625 15.1875 63.9375 \nQ 23.390625 74.21875 37.203125 74.21875 \nQ 40.921875 74.21875 44.703125 73.484375 \nQ 48.484375 72.75 52.59375 71.296875 \nz\n\" id=\"DejaVuSans-54\"/>\n       </defs>\n       <use xlink:href=\"#DejaVuSans-54\"/>\n      </g>\n     </g>\n    </g>\n    <g id=\"xtick_5\">\n     <g id=\"line2d_5\">\n      <g>\n       <use style=\"stroke:#000000;stroke-width:0.8;\" x=\"299.312216\" xlink:href=\"#mecd2b83ab9\" y=\"224.64\"/>\n      </g>\n     </g>\n     <g id=\"text_5\">\n      <!-- 8 -->\n      <g transform=\"translate(296.130966 239.238437)scale(0.1 -0.1)\">\n       <defs>\n        <path d=\"M 31.78125 34.625 \nQ 24.75 34.625 20.71875 30.859375 \nQ 16.703125 27.09375 16.703125 20.515625 \nQ 16.703125 13.921875 20.71875 10.15625 \nQ 24.75 6.390625 31.78125 6.390625 \nQ 38.8125 6.390625 42.859375 10.171875 \nQ 46.921875 13.96875 46.921875 20.515625 \nQ 46.921875 27.09375 42.890625 30.859375 \nQ 38.875 34.625 31.78125 34.625 \nz\nM 21.921875 38.8125 \nQ 15.578125 40.375 12.03125 44.71875 \nQ 8.5 49.078125 8.5 55.328125 \nQ 8.5 64.0625 14.71875 69.140625 \nQ 20.953125 74.21875 31.78125 74.21875 \nQ 42.671875 74.21875 48.875 69.140625 \nQ 55.078125 64.0625 55.078125 55.328125 \nQ 55.078125 49.078125 51.53125 44.71875 \nQ 48 40.375 41.703125 38.8125 \nQ 48.828125 37.15625 52.796875 32.3125 \nQ 56.78125 27.484375 56.78125 20.515625 \nQ 56.78125 9.90625 50.3125 4.234375 \nQ 43.84375 -1.421875 31.78125 -1.421875 \nQ 19.734375 -1.421875 13.25 4.234375 \nQ 6.78125 9.90625 6.78125 20.515625 \nQ 6.78125 27.484375 10.78125 32.3125 \nQ 14.796875 37.15625 21.921875 38.8125 \nz\nM 18.3125 54.390625 \nQ 18.3125 48.734375 21.84375 45.5625 \nQ 25.390625 42.390625 31.78125 42.390625 \nQ 38.140625 42.390625 41.71875 45.5625 \nQ 45.3125 48.734375 45.3125 54.390625 \nQ 45.3125 60.0625 41.71875 63.234375 \nQ 38.140625 66.40625 31.78125 66.40625 \nQ 25.390625 66.40625 21.84375 63.234375 \nQ 18.3125 60.0625 18.3125 54.390625 \nz\n\" id=\"DejaVuSans-56\"/>\n       </defs>\n       <use xlink:href=\"#DejaVuSans-56\"/>\n      </g>\n     </g>\n    </g>\n    <g id=\"xtick_6\">\n     <g id=\"line2d_6\">\n      <g>\n       <use style=\"stroke:#000000;stroke-width:0.8;\" x=\"360.184943\" xlink:href=\"#mecd2b83ab9\" y=\"224.64\"/>\n      </g>\n     </g>\n     <g id=\"text_6\">\n      <!-- 10 -->\n      <g transform=\"translate(353.822443 239.238437)scale(0.1 -0.1)\">\n       <defs>\n        <path d=\"M 12.40625 8.296875 \nL 28.515625 8.296875 \nL 28.515625 63.921875 \nL 10.984375 60.40625 \nL 10.984375 69.390625 \nL 28.421875 72.90625 \nL 38.28125 72.90625 \nL 38.28125 8.296875 \nL 54.390625 8.296875 \nL 54.390625 0 \nL 12.40625 0 \nz\n\" id=\"DejaVuSans-49\"/>\n       </defs>\n       <use xlink:href=\"#DejaVuSans-49\"/>\n       <use x=\"63.623047\" xlink:href=\"#DejaVuSans-48\"/>\n      </g>\n     </g>\n    </g>\n    <g id=\"text_7\">\n     <!-- x -->\n     <g transform=\"translate(205.04375 252.916562)scale(0.1 -0.1)\">\n      <defs>\n       <path d=\"M 54.890625 54.6875 \nL 35.109375 28.078125 \nL 55.90625 0 \nL 45.3125 0 \nL 29.390625 21.484375 \nL 13.484375 0 \nL 2.875 0 \nL 24.125 28.609375 \nL 4.6875 54.6875 \nL 15.28125 54.6875 \nL 29.78125 35.203125 \nL 44.28125 54.6875 \nz\n\" id=\"DejaVuSans-120\"/>\n      </defs>\n      <use xlink:href=\"#DejaVuSans-120\"/>\n     </g>\n    </g>\n   </g>\n   <g id=\"matplotlib.axis_2\">\n    <g id=\"ytick_1\">\n     <g id=\"line2d_7\">\n      <defs>\n       <path d=\"M 0 0 \nL -3.5 0 \n\" id=\"me91f6475a0\" style=\"stroke:#000000;stroke-width:0.8;\"/>\n      </defs>\n      <g>\n       <use style=\"stroke:#000000;stroke-width:0.8;\" x=\"40.603125\" xlink:href=\"#me91f6475a0\" y=\"193.302327\"/>\n      </g>\n     </g>\n     <g id=\"text_8\">\n      <!-- 5 -->\n      <g transform=\"translate(27.240625 197.101546)scale(0.1 -0.1)\">\n       <defs>\n        <path d=\"M 10.796875 72.90625 \nL 49.515625 72.90625 \nL 49.515625 64.59375 \nL 19.828125 64.59375 \nL 19.828125 46.734375 \nQ 21.96875 47.46875 24.109375 47.828125 \nQ 26.265625 48.1875 28.421875 48.1875 \nQ 40.625 48.1875 47.75 41.5 \nQ 54.890625 34.8125 54.890625 23.390625 \nQ 54.890625 11.625 47.5625 5.09375 \nQ 40.234375 -1.421875 26.90625 -1.421875 \nQ 22.3125 -1.421875 17.546875 -0.640625 \nQ 12.796875 0.140625 7.71875 1.703125 \nL 7.71875 11.625 \nQ 12.109375 9.234375 16.796875 8.0625 \nQ 21.484375 6.890625 26.703125 6.890625 \nQ 35.15625 6.890625 40.078125 11.328125 \nQ 45.015625 15.765625 45.015625 23.390625 \nQ 45.015625 31 40.078125 35.4375 \nQ 35.15625 39.890625 26.703125 39.890625 \nQ 22.75 39.890625 18.8125 39.015625 \nQ 14.890625 38.140625 10.796875 36.28125 \nz\n\" id=\"DejaVuSans-53\"/>\n       </defs>\n       <use xlink:href=\"#DejaVuSans-53\"/>\n      </g>\n     </g>\n    </g>\n    <g id=\"ytick_2\">\n     <g id=\"line2d_8\">\n      <g>\n       <use style=\"stroke:#000000;stroke-width:0.8;\" x=\"40.603125\" xlink:href=\"#me91f6475a0\" y=\"160.557895\"/>\n      </g>\n     </g>\n     <g id=\"text_9\">\n      <!-- 10 -->\n      <g transform=\"translate(20.878125 164.357114)scale(0.1 -0.1)\">\n       <use xlink:href=\"#DejaVuSans-49\"/>\n       <use x=\"63.623047\" xlink:href=\"#DejaVuSans-48\"/>\n      </g>\n     </g>\n    </g>\n    <g id=\"ytick_3\">\n     <g id=\"line2d_9\">\n      <g>\n       <use style=\"stroke:#000000;stroke-width:0.8;\" x=\"40.603125\" xlink:href=\"#me91f6475a0\" y=\"127.813463\"/>\n      </g>\n     </g>\n     <g id=\"text_10\">\n      <!-- 15 -->\n      <g transform=\"translate(20.878125 131.612682)scale(0.1 -0.1)\">\n       <use xlink:href=\"#DejaVuSans-49\"/>\n       <use x=\"63.623047\" xlink:href=\"#DejaVuSans-53\"/>\n      </g>\n     </g>\n    </g>\n    <g id=\"ytick_4\">\n     <g id=\"line2d_10\">\n      <g>\n       <use style=\"stroke:#000000;stroke-width:0.8;\" x=\"40.603125\" xlink:href=\"#me91f6475a0\" y=\"95.069031\"/>\n      </g>\n     </g>\n     <g id=\"text_11\">\n      <!-- 20 -->\n      <g transform=\"translate(20.878125 98.86825)scale(0.1 -0.1)\">\n       <use xlink:href=\"#DejaVuSans-50\"/>\n       <use x=\"63.623047\" xlink:href=\"#DejaVuSans-48\"/>\n      </g>\n     </g>\n    </g>\n    <g id=\"ytick_5\">\n     <g id=\"line2d_11\">\n      <g>\n       <use style=\"stroke:#000000;stroke-width:0.8;\" x=\"40.603125\" xlink:href=\"#me91f6475a0\" y=\"62.324599\"/>\n      </g>\n     </g>\n     <g id=\"text_12\">\n      <!-- 25 -->\n      <g transform=\"translate(20.878125 66.123817)scale(0.1 -0.1)\">\n       <use xlink:href=\"#DejaVuSans-50\"/>\n       <use x=\"63.623047\" xlink:href=\"#DejaVuSans-53\"/>\n      </g>\n     </g>\n    </g>\n    <g id=\"ytick_6\">\n     <g id=\"line2d_12\">\n      <g>\n       <use style=\"stroke:#000000;stroke-width:0.8;\" x=\"40.603125\" xlink:href=\"#me91f6475a0\" y=\"29.580167\"/>\n      </g>\n     </g>\n     <g id=\"text_13\">\n      <!-- 30 -->\n      <g transform=\"translate(20.878125 33.379385)scale(0.1 -0.1)\">\n       <defs>\n        <path d=\"M 40.578125 39.3125 \nQ 47.65625 37.796875 51.625 33 \nQ 55.609375 28.21875 55.609375 21.1875 \nQ 55.609375 10.40625 48.1875 4.484375 \nQ 40.765625 -1.421875 27.09375 -1.421875 \nQ 22.515625 -1.421875 17.65625 -0.515625 \nQ 12.796875 0.390625 7.625 2.203125 \nL 7.625 11.71875 \nQ 11.71875 9.328125 16.59375 8.109375 \nQ 21.484375 6.890625 26.8125 6.890625 \nQ 36.078125 6.890625 40.9375 10.546875 \nQ 45.796875 14.203125 45.796875 21.1875 \nQ 45.796875 27.640625 41.28125 31.265625 \nQ 36.765625 34.90625 28.71875 34.90625 \nL 20.21875 34.90625 \nL 20.21875 43.015625 \nL 29.109375 43.015625 \nQ 36.375 43.015625 40.234375 45.921875 \nQ 44.09375 48.828125 44.09375 54.296875 \nQ 44.09375 59.90625 40.109375 62.90625 \nQ 36.140625 65.921875 28.71875 65.921875 \nQ 24.65625 65.921875 20.015625 65.03125 \nQ 15.375 64.15625 9.8125 62.3125 \nL 9.8125 71.09375 \nQ 15.4375 72.65625 20.34375 73.4375 \nQ 25.25 74.21875 29.59375 74.21875 \nQ 40.828125 74.21875 47.359375 69.109375 \nQ 53.90625 64.015625 53.90625 55.328125 \nQ 53.90625 49.265625 50.4375 45.09375 \nQ 46.96875 40.921875 40.578125 39.3125 \nz\n\" id=\"DejaVuSans-51\"/>\n       </defs>\n       <use xlink:href=\"#DejaVuSans-51\"/>\n       <use x=\"63.623047\" xlink:href=\"#DejaVuSans-48\"/>\n      </g>\n     </g>\n    </g>\n    <g id=\"text_14\">\n     <!-- y -->\n     <g transform=\"translate(14.798438 118.879375)rotate(-90)scale(0.1 -0.1)\">\n      <defs>\n       <path d=\"M 32.171875 -5.078125 \nQ 28.375 -14.84375 24.75 -17.8125 \nQ 21.140625 -20.796875 15.09375 -20.796875 \nL 7.90625 -20.796875 \nL 7.90625 -13.28125 \nL 13.1875 -13.28125 \nQ 16.890625 -13.28125 18.9375 -11.515625 \nQ 21 -9.765625 23.484375 -3.21875 \nL 25.09375 0.875 \nL 2.984375 54.6875 \nL 12.5 54.6875 \nL 29.59375 11.921875 \nL 46.6875 54.6875 \nL 56.203125 54.6875 \nz\n\" id=\"DejaVuSans-121\"/>\n      </defs>\n      <use xlink:href=\"#DejaVuSans-121\"/>\n     </g>\n    </g>\n   </g>\n   <g id=\"patch_3\">\n    <path d=\"M 40.603125 224.64 \nL 40.603125 7.2 \n\" style=\"fill:none;stroke:#000000;stroke-linecap:square;stroke-linejoin:miter;stroke-width:0.8;\"/>\n   </g>\n   <g id=\"patch_4\">\n    <path d=\"M 375.403125 224.64 \nL 375.403125 7.2 \n\" style=\"fill:none;stroke:#000000;stroke-linecap:square;stroke-linejoin:miter;stroke-width:0.8;\"/>\n   </g>\n   <g id=\"patch_5\">\n    <path d=\"M 40.603125 224.64 \nL 375.403125 224.64 \n\" style=\"fill:none;stroke:#000000;stroke-linecap:square;stroke-linejoin:miter;stroke-width:0.8;\"/>\n   </g>\n   <g id=\"patch_6\">\n    <path d=\"M 40.603125 7.2 \nL 375.403125 7.2 \n\" style=\"fill:none;stroke:#000000;stroke-linecap:square;stroke-linejoin:miter;stroke-width:0.8;\"/>\n   </g>\n  </g>\n </g>\n <defs>\n  <clipPath id=\"p8eede73589\">\n   <rect height=\"217.44\" width=\"334.8\" x=\"40.603125\" y=\"7.2\"/>\n  </clipPath>\n </defs>\n</svg>\n",
      "image/png": "[encoded data removed]"
     },
     "metadata": {
      "needs_background": "light"
     }
    }
   ],
   "metadata": {}
  },
  {
   "cell_type": "markdown",
   "source": [
    "#### 去中心化"
   ],
   "metadata": {}
  },
  {
   "cell_type": "code",
   "execution_count": 34,
   "source": [
    "data=data-np.mean(data,axis=0,keepdims=True)\n",
    "plt.scatter(data[:,0],data[:,1])\n",
    "plt.xlabel('x')\n",
    "plt.ylabel('y')"
   ],
   "outputs": [],
   "metadata": {}
  },
  {
   "cell_type": "markdown",
   "source": [
    "#### 求$X^TX$"
   ],
   "metadata": {}
  },
  {
   "cell_type": "code",
   "execution_count": 35,
   "source": [
    "tmp = data / np.sqrt(data.shape[0] - 1)\n",
    "xTx=tmp.T @ tmp "
   ],
   "outputs": [],
   "metadata": {}
  },
  {
   "cell_type": "markdown",
   "source": [
    "#### 正交分解"
   ],
   "metadata": {}
  },
  {
   "cell_type": "code",
   "execution_count": 36,
   "source": [
    "eig_vals,eig_vecs=np.linalg.eig(xTx)"
   ],
   "outputs": [],
   "metadata": {}
  },
  {
   "cell_type": "code",
   "execution_count": 37,
   "source": [
    "eig_vals"
   ],
   "outputs": [
    {
     "output_type": "execute_result",
     "data": {
      "text/plain": [
       "array([ 0.08977172, 87.24806855])"
      ]
     },
     "metadata": {},
     "execution_count": 37
    }
   ],
   "metadata": {}
  },
  {
   "cell_type": "code",
   "execution_count": 38,
   "source": [
    "eig_vecs"
   ],
   "outputs": [
    {
     "output_type": "execute_result",
     "data": {
      "text/plain": [
       "array([[-0.95000089, -0.31224721],\n",
       "       [ 0.31224721, -0.95000089]])"
      ]
     },
     "metadata": {},
     "execution_count": 38
    }
   ],
   "metadata": {}
  },
  {
   "cell_type": "markdown",
   "source": [
    "校验一下特征分解结果"
   ],
   "metadata": {}
  },
  {
   "cell_type": "code",
   "execution_count": 39,
   "source": [
    "print(eig_vecs @ np.diag(eig_vals) @ eig_vecs.T - xTx)\n",
    "np.isclose(eig_vecs @ np.diag(eig_vals) @ eig_vecs.T,xTx)"
   ],
   "outputs": [
    {
     "output_type": "execute_result",
     "data": {
      "text/plain": [
       "array([[1.06581410e-14, 3.55271368e-15],\n",
       "       [3.55271368e-15, 0.00000000e+00]])"
      ]
     },
     "metadata": {},
     "execution_count": 39
    }
   ],
   "metadata": {}
  },
  {
   "cell_type": "markdown",
   "source": [
    "由于`np.linalg.eig`的特征值并未按从大到小的顺序排序，所以我们需要进行一下重排"
   ],
   "metadata": {}
  },
  {
   "cell_type": "code",
   "execution_count": 40,
   "source": [
    "sorted_indice=np.argsort(-1*eig_vals)#默认是升序排序\n",
    "eig_vals=eig_vals[sorted_indice]\n",
    "eig_vecs[:]=eig_vecs[:,sorted_indice]"
   ],
   "outputs": [],
   "metadata": {}
  },
  {
   "cell_type": "markdown",
   "source": [
    "现在的特征矩阵，第一列便是第一主成分，第二列便是第二主成分，接下来我们可以轻易拿到转换后的数据，只需要去中心化数据矩阵和特征矩阵相乘即可"
   ],
   "metadata": {}
  },
  {
   "cell_type": "code",
   "execution_count": 41,
   "source": [
    "new_data=data @ eig_vecs"
   ],
   "outputs": [],
   "metadata": {}
  },
  {
   "cell_type": "markdown",
   "source": [
    "#### 变化后的数据"
   ],
   "metadata": {}
  },
  {
   "cell_type": "code",
   "execution_count": 42,
   "source": [
    "plt.scatter(new_data[:,0],new_data[:,1])\n",
    "plt.xlabel('x')\n",
    "plt.ylabel('y')\n",
    "plt.xlim(-20, 20)\n",
    "plt.ylim(-20, 20)"
   ],
   "outputs": [
    {
     "output_type": "execute_result",
     "data": {
      "text/plain": [
       "(-20.0, 20.0)"
      ]
     },
     "metadata": {},
     "execution_count": 42
    },
    {
     "output_type": "display_data",
     "data": {
      "text/plain": [
       "<Figure size 432x288 with 1 Axes>"
      ],
      "image/svg+xml": "<?xml version=\"1.0\" encoding=\"utf-8\" standalone=\"no\"?>\n<!DOCTYPE svg PUBLIC \"-//W3C//DTD SVG 1.1//EN\"\n  \"http://www.w3.org/Graphics/SVG/1.1/DTD/svg11.dtd\">\n<!-- Created with matplotlib (https://matplotlib.org/) -->\n<svg height=\"265.995469pt\" version=\"1.1\" viewBox=\"0 0 397.345312 265.995469\" width=\"397.345312pt\" xmlns=\"http://www.w3.org/2000/svg\" xmlns:xlink=\"http://www.w3.org/1999/xlink\">\n <metadata>\n  <rdf:RDF xmlns:cc=\"http://creativecommons.org/ns#\" xmlns:dc=\"http://purl.org/dc/elements/1.1/\" xmlns:rdf=\"http://www.w3.org/1999/02/22-rdf-syntax-ns#\">\n   <cc:Work>\n    <dc:type rdf:resource=\"http://purl.org/dc/dcmitype/StillImage\"/>\n    <dc:date>2021-08-10T22:45:03.605218</dc:date>\n    <dc:format>image/svg+xml</dc:format>\n    <dc:creator>\n     <cc:Agent>\n      <dc:title>Matplotlib v3.3.2, https://matplotlib.org/</dc:title>\n     </cc:Agent>\n    </dc:creator>\n   </cc:Work>\n  </rdf:RDF>\n </metadata>\n <defs>\n  <style type=\"text/css\">*{stroke-linecap:butt;stroke-linejoin:round;}</style>\n </defs>\n <g id=\"figure_1\">\n  <g id=\"patch_1\">\n   <path d=\"M 0 265.995469 \nL 397.345312 265.995469 \nL 397.345312 0 \nL 0 0 \nz\n\" style=\"fill:none;\"/>\n  </g>\n  <g id=\"axes_1\">\n   <g id=\"patch_2\">\n    <path d=\"M 48.982813 228.439219 \nL 383.782813 228.439219 \nL 383.782813 10.999219 \nL 48.982813 10.999219 \nz\n\" style=\"fill:#ffffff;\"/>\n   </g>\n   <g id=\"PathCollection_1\">\n    <defs>\n     <path d=\"M 0 3 \nC 0.795609 3 1.55874 2.683901 2.12132 2.12132 \nC 2.683901 1.55874 3 0.795609 3 0 \nC 3 -0.795609 2.683901 -1.55874 2.12132 -2.12132 \nC 1.55874 -2.683901 0.795609 -3 0 -3 \nC -0.795609 -3 -1.55874 -2.683901 -2.12132 -2.12132 \nC -2.683901 -1.55874 -3 -0.795609 -3 0 \nC -3 0.795609 -2.683901 1.55874 -2.12132 2.12132 \nC -1.55874 2.683901 -0.795609 3 0 3 \nz\n\" id=\"mea4b3f297d\" style=\"stroke:#1f77b4;\"/>\n    </defs>\n    <g clip-path=\"url(#p53aaf9830d)\">\n     <use style=\"fill:#1f77b4;stroke:#1f77b4;\" x=\"351.91812\" xlink:href=\"#mea4b3f297d\" y=\"120.040888\"/>\n     <use style=\"fill:#1f77b4;stroke:#1f77b4;\" x=\"347.978731\" xlink:href=\"#mea4b3f297d\" y=\"119.777952\"/>\n     <use style=\"fill:#1f77b4;stroke:#1f77b4;\" x=\"336.812209\" xlink:href=\"#mea4b3f297d\" y=\"117.97227\"/>\n     <use style=\"fill:#1f77b4;stroke:#1f77b4;\" x=\"342.941123\" xlink:href=\"#mea4b3f297d\" y=\"119.858574\"/>\n     <use style=\"fill:#1f77b4;stroke:#1f77b4;\" x=\"345.425812\" xlink:href=\"#mea4b3f297d\" y=\"120.966961\"/>\n     <use style=\"fill:#1f77b4;stroke:#1f77b4;\" x=\"341.169635\" xlink:href=\"#mea4b3f297d\" y=\"120.636402\"/>\n     <use style=\"fill:#1f77b4;stroke:#1f77b4;\" x=\"334.753746\" xlink:href=\"#mea4b3f297d\" y=\"119.844818\"/>\n     <use style=\"fill:#1f77b4;stroke:#1f77b4;\" x=\"325.522316\" xlink:href=\"#mea4b3f297d\" y=\"118.452212\"/>\n     <use style=\"fill:#1f77b4;stroke:#1f77b4;\" x=\"327.19928\" xlink:href=\"#mea4b3f297d\" y=\"119.388177\"/>\n     <use style=\"fill:#1f77b4;stroke:#1f77b4;\" x=\"322.218099\" xlink:href=\"#mea4b3f297d\" y=\"118.902855\"/>\n     <use style=\"fill:#1f77b4;stroke:#1f77b4;\" x=\"333.85611\" xlink:href=\"#mea4b3f297d\" y=\"121.965163\"/>\n     <use style=\"fill:#1f77b4;stroke:#1f77b4;\" x=\"331.517902\" xlink:href=\"#mea4b3f297d\" y=\"122.044025\"/>\n     <use style=\"fill:#1f77b4;stroke:#1f77b4;\" x=\"321.790898\" xlink:href=\"#mea4b3f297d\" y=\"120.545631\"/>\n     <use style=\"fill:#1f77b4;stroke:#1f77b4;\" x=\"307.946424\" xlink:href=\"#mea4b3f297d\" y=\"118.168298\"/>\n     <use style=\"fill:#1f77b4;stroke:#1f77b4;\" x=\"315.084929\" xlink:href=\"#mea4b3f297d\" y=\"120.270115\"/>\n     <use style=\"fill:#1f77b4;stroke:#1f77b4;\" x=\"300.167734\" xlink:href=\"#mea4b3f297d\" y=\"117.663793\"/>\n     <use style=\"fill:#1f77b4;stroke:#1f77b4;\" x=\"298.498752\" xlink:href=\"#mea4b3f297d\" y=\"117.885512\"/>\n     <use style=\"fill:#1f77b4;stroke:#1f77b4;\" x=\"316.983362\" xlink:href=\"#mea4b3f297d\" y=\"122.409336\"/>\n     <use style=\"fill:#1f77b4;stroke:#1f77b4;\" x=\"306.937698\" xlink:href=\"#mea4b3f297d\" y=\"120.842919\"/>\n     <use style=\"fill:#1f77b4;stroke:#1f77b4;\" x=\"298.058938\" xlink:href=\"#mea4b3f297d\" y=\"119.525596\"/>\n     <use style=\"fill:#1f77b4;stroke:#1f77b4;\" x=\"289.989016\" xlink:href=\"#mea4b3f297d\" y=\"118.380933\"/>\n     <use style=\"fill:#1f77b4;stroke:#1f77b4;\" x=\"285.40983\" xlink:href=\"#mea4b3f297d\" y=\"117.981422\"/>\n     <use style=\"fill:#1f77b4;stroke:#1f77b4;\" x=\"284.450421\" xlink:href=\"#mea4b3f297d\" y=\"118.354611\"/>\n     <use style=\"fill:#1f77b4;stroke:#1f77b4;\" x=\"278.112343\" xlink:href=\"#mea4b3f297d\" y=\"117.579637\"/>\n     <use style=\"fill:#1f77b4;stroke:#1f77b4;\" x=\"281.33663\" xlink:href=\"#mea4b3f297d\" y=\"118.845903\"/>\n     <use style=\"fill:#1f77b4;stroke:#1f77b4;\" x=\"269.275846\" xlink:href=\"#mea4b3f297d\" y=\"116.849326\"/>\n     <use style=\"fill:#1f77b4;stroke:#1f77b4;\" x=\"268.533993\" xlink:href=\"#mea4b3f297d\" y=\"117.268956\"/>\n     <use style=\"fill:#1f77b4;stroke:#1f77b4;\" x=\"280.380548\" xlink:href=\"#mea4b3f297d\" y=\"120.375781\"/>\n     <use style=\"fill:#1f77b4;stroke:#1f77b4;\" x=\"280.810156\" xlink:href=\"#mea4b3f297d\" y=\"121.045478\"/>\n     <use style=\"fill:#1f77b4;stroke:#1f77b4;\" x=\"263.157213\" xlink:href=\"#mea4b3f297d\" y=\"117.855166\"/>\n     <use style=\"fill:#1f77b4;stroke:#1f77b4;\" x=\"272.995475\" xlink:href=\"#mea4b3f297d\" y=\"120.53329\"/>\n     <use style=\"fill:#1f77b4;stroke:#1f77b4;\" x=\"274.518334\" xlink:href=\"#mea4b3f297d\" y=\"121.436358\"/>\n     <use style=\"fill:#1f77b4;stroke:#1f77b4;\" x=\"264.698544\" xlink:href=\"#mea4b3f297d\" y=\"119.918157\"/>\n     <use style=\"fill:#1f77b4;stroke:#1f77b4;\" x=\"261.246534\" xlink:href=\"#mea4b3f297d\" y=\"119.759261\"/>\n     <use style=\"fill:#1f77b4;stroke:#1f77b4;\" x=\"246.608625\" xlink:href=\"#mea4b3f297d\" y=\"117.212556\"/>\n     <use style=\"fill:#1f77b4;stroke:#1f77b4;\" x=\"261.693238\" xlink:href=\"#mea4b3f297d\" y=\"121.010597\"/>\n     <use style=\"fill:#1f77b4;stroke:#1f77b4;\" x=\"245.874121\" xlink:href=\"#mea4b3f297d\" y=\"118.211744\"/>\n     <use style=\"fill:#1f77b4;stroke:#1f77b4;\" x=\"254.996521\" xlink:href=\"#mea4b3f297d\" y=\"120.737056\"/>\n     <use style=\"fill:#1f77b4;stroke:#1f77b4;\" x=\"245.976624\" xlink:href=\"#mea4b3f297d\" y=\"119.389605\"/>\n     <use style=\"fill:#1f77b4;stroke:#1f77b4;\" x=\"240.81181\" xlink:href=\"#mea4b3f297d\" y=\"118.865083\"/>\n     <use style=\"fill:#1f77b4;stroke:#1f77b4;\" x=\"234.266975\" xlink:href=\"#mea4b3f297d\" y=\"118.045974\"/>\n     <use style=\"fill:#1f77b4;stroke:#1f77b4;\" x=\"242.734927\" xlink:href=\"#mea4b3f297d\" y=\"120.431583\"/>\n     <use style=\"fill:#1f77b4;stroke:#1f77b4;\" x=\"232.370887\" xlink:href=\"#mea4b3f297d\" y=\"118.797204\"/>\n     <use style=\"fill:#1f77b4;stroke:#1f77b4;\" x=\"230.354257\" xlink:href=\"#mea4b3f297d\" y=\"118.944712\"/>\n     <use style=\"fill:#1f77b4;stroke:#1f77b4;\" x=\"225.805204\" xlink:href=\"#mea4b3f297d\" y=\"118.551634\"/>\n     <use style=\"fill:#1f77b4;stroke:#1f77b4;\" x=\"233.55572\" xlink:href=\"#mea4b3f297d\" y=\"120.784095\"/>\n     <use style=\"fill:#1f77b4;stroke:#1f77b4;\" x=\"228.522793\" xlink:href=\"#mea4b3f297d\" y=\"120.287726\"/>\n     <use style=\"fill:#1f77b4;stroke:#1f77b4;\" x=\"228.045961\" xlink:href=\"#mea4b3f297d\" y=\"120.763929\"/>\n     <use style=\"fill:#1f77b4;stroke:#1f77b4;\" x=\"232.516007\" xlink:href=\"#mea4b3f297d\" y=\"122.296121\"/>\n     <use style=\"fill:#1f77b4;stroke:#1f77b4;\" x=\"212.925568\" xlink:href=\"#mea4b3f297d\" y=\"118.69222\"/>\n     <use style=\"fill:#1f77b4;stroke:#1f77b4;\" x=\"222.168714\" xlink:href=\"#mea4b3f297d\" y=\"121.243306\"/>\n     <use style=\"fill:#1f77b4;stroke:#1f77b4;\" x=\"211.810207\" xlink:href=\"#mea4b3f297d\" y=\"119.610108\"/>\n     <use style=\"fill:#1f77b4;stroke:#1f77b4;\" x=\"197.379522\" xlink:href=\"#mea4b3f297d\" y=\"117.107639\"/>\n     <use style=\"fill:#1f77b4;stroke:#1f77b4;\" x=\"208.533658\" xlink:href=\"#mea4b3f297d\" y=\"120.066656\"/>\n     <use style=\"fill:#1f77b4;stroke:#1f77b4;\" x=\"214.421118\" xlink:href=\"#mea4b3f297d\" y=\"121.901418\"/>\n     <use style=\"fill:#1f77b4;stroke:#1f77b4;\" x=\"207.305449\" xlink:href=\"#mea4b3f297d\" y=\"120.960455\"/>\n     <use style=\"fill:#1f77b4;stroke:#1f77b4;\" x=\"206.422382\" xlink:href=\"#mea4b3f297d\" y=\"121.349941\"/>\n     <use style=\"fill:#1f77b4;stroke:#1f77b4;\" x=\"200.818049\" xlink:href=\"#mea4b3f297d\" y=\"120.731596\"/>\n     <use style=\"fill:#1f77b4;stroke:#1f77b4;\" x=\"172.596467\" xlink:href=\"#mea4b3f297d\" y=\"115.28524\"/>\n     <use style=\"fill:#1f77b4;stroke:#1f77b4;\" x=\"185.025078\" xlink:href=\"#mea4b3f297d\" y=\"118.516315\"/>\n     <use style=\"fill:#1f77b4;stroke:#1f77b4;\" x=\"188.346346\" xlink:href=\"#mea4b3f297d\" y=\"119.803283\"/>\n     <use style=\"fill:#1f77b4;stroke:#1f77b4;\" x=\"180.368226\" xlink:href=\"#mea4b3f297d\" y=\"118.678216\"/>\n     <use style=\"fill:#1f77b4;stroke:#1f77b4;\" x=\"196.314245\" xlink:href=\"#mea4b3f297d\" y=\"122.660137\"/>\n     <use style=\"fill:#1f77b4;stroke:#1f77b4;\" x=\"185.592883\" xlink:href=\"#mea4b3f297d\" y=\"120.949482\"/>\n     <use style=\"fill:#1f77b4;stroke:#1f77b4;\" x=\"181.703878\" xlink:href=\"#mea4b3f297d\" y=\"120.697302\"/>\n     <use style=\"fill:#1f77b4;stroke:#1f77b4;\" x=\"171.564704\" xlink:href=\"#mea4b3f297d\" y=\"119.110923\"/>\n     <use style=\"fill:#1f77b4;stroke:#1f77b4;\" x=\"168.880104\" xlink:href=\"#mea4b3f297d\" y=\"119.115843\"/>\n     <use style=\"fill:#1f77b4;stroke:#1f77b4;\" x=\"178.704299\" xlink:href=\"#mea4b3f297d\" y=\"121.790963\"/>\n     <use style=\"fill:#1f77b4;stroke:#1f77b4;\" x=\"179.564302\" xlink:href=\"#mea4b3f297d\" y=\"122.552535\"/>\n     <use style=\"fill:#1f77b4;stroke:#1f77b4;\" x=\"168.565847\" xlink:href=\"#mea4b3f297d\" y=\"120.782729\"/>\n     <use style=\"fill:#1f77b4;stroke:#1f77b4;\" x=\"170.609097\" xlink:href=\"#mea4b3f297d\" y=\"121.796883\"/>\n     <use style=\"fill:#1f77b4;stroke:#1f77b4;\" x=\"153.368245\" xlink:href=\"#mea4b3f297d\" y=\"118.694539\"/>\n     <use style=\"fill:#1f77b4;stroke:#1f77b4;\" x=\"150.479888\" xlink:href=\"#mea4b3f297d\" y=\"118.655963\"/>\n     <use style=\"fill:#1f77b4;stroke:#1f77b4;\" x=\"153.980077\" xlink:href=\"#mea4b3f297d\" y=\"119.981124\"/>\n     <use style=\"fill:#1f77b4;stroke:#1f77b4;\" x=\"141.839726\" xlink:href=\"#mea4b3f297d\" y=\"117.967563\"/>\n     <use style=\"fill:#1f77b4;stroke:#1f77b4;\" x=\"147.623001\" xlink:href=\"#mea4b3f297d\" y=\"119.780085\"/>\n     <use style=\"fill:#1f77b4;stroke:#1f77b4;\" x=\"151.676823\" xlink:href=\"#mea4b3f297d\" y=\"121.223428\"/>\n     <use style=\"fill:#1f77b4;stroke:#1f77b4;\" x=\"151.4903\" xlink:href=\"#mea4b3f297d\" y=\"121.761601\"/>\n     <use style=\"fill:#1f77b4;stroke:#1f77b4;\" x=\"144.054729\" xlink:href=\"#mea4b3f297d\" y=\"120.75235\"/>\n     <use style=\"fill:#1f77b4;stroke:#1f77b4;\" x=\"143.219143\" xlink:href=\"#mea4b3f297d\" y=\"121.151971\"/>\n     <use style=\"fill:#1f77b4;stroke:#1f77b4;\" x=\"142.572066\" xlink:href=\"#mea4b3f297d\" y=\"121.591832\"/>\n     <use style=\"fill:#1f77b4;stroke:#1f77b4;\" x=\"133.782539\" xlink:href=\"#mea4b3f297d\" y=\"120.293557\"/>\n     <use style=\"fill:#1f77b4;stroke:#1f77b4;\" x=\"109.554825\" xlink:href=\"#mea4b3f297d\" y=\"115.699756\"/>\n     <use style=\"fill:#1f77b4;stroke:#1f77b4;\" x=\"112.176769\" xlink:href=\"#mea4b3f297d\" y=\"116.837442\"/>\n     <use style=\"fill:#1f77b4;stroke:#1f77b4;\" x=\"108.878368\" xlink:href=\"#mea4b3f297d\" y=\"116.711335\"/>\n     <use style=\"fill:#1f77b4;stroke:#1f77b4;\" x=\"119.603723\" xlink:href=\"#mea4b3f297d\" y=\"119.578823\"/>\n     <use style=\"fill:#1f77b4;stroke:#1f77b4;\" x=\"113.535939\" xlink:href=\"#mea4b3f297d\" y=\"118.861548\"/>\n     <use style=\"fill:#1f77b4;stroke:#1f77b4;\" x=\"99.691351\" xlink:href=\"#mea4b3f297d\" y=\"116.48419\"/>\n     <use style=\"fill:#1f77b4;stroke:#1f77b4;\" x=\"114.331781\" xlink:href=\"#mea4b3f297d\" y=\"120.187413\"/>\n     <use style=\"fill:#1f77b4;stroke:#1f77b4;\" x=\"111.981175\" xlink:href=\"#mea4b3f297d\" y=\"120.263628\"/>\n     <use style=\"fill:#1f77b4;stroke:#1f77b4;\" x=\"107.923483\" xlink:href=\"#mea4b3f297d\" y=\"119.975439\"/>\n     <use style=\"fill:#1f77b4;stroke:#1f77b4;\" x=\"110.50936\" xlink:href=\"#mea4b3f297d\" y=\"121.105426\"/>\n     <use style=\"fill:#1f77b4;stroke:#1f77b4;\" x=\"101.763801\" xlink:href=\"#mea4b3f297d\" y=\"119.816537\"/>\n     <use style=\"fill:#1f77b4;stroke:#1f77b4;\" x=\"94.128567\" xlink:href=\"#mea4b3f297d\" y=\"118.764664\"/>\n     <use style=\"fill:#1f77b4;stroke:#1f77b4;\" x=\"88.385415\" xlink:href=\"#mea4b3f297d\" y=\"118.116687\"/>\n     <use style=\"fill:#1f77b4;stroke:#1f77b4;\" x=\"97.036189\" xlink:href=\"#mea4b3f297d\" y=\"120.541322\"/>\n     <use style=\"fill:#1f77b4;stroke:#1f77b4;\" x=\"105.369532\" xlink:href=\"#mea4b3f297d\" y=\"122.898197\"/>\n     <use style=\"fill:#1f77b4;stroke:#1f77b4;\" x=\"86.301328\" xlink:href=\"#mea4b3f297d\" y=\"119.405775\"/>\n     <use style=\"fill:#1f77b4;stroke:#1f77b4;\" x=\"94.971295\" xlink:href=\"#mea4b3f297d\" y=\"121.834508\"/>\n     <use style=\"fill:#1f77b4;stroke:#1f77b4;\" x=\"92.601302\" xlink:href=\"#mea4b3f297d\" y=\"121.906585\"/>\n    </g>\n   </g>\n   <g id=\"matplotlib.axis_1\">\n    <g id=\"xtick_1\">\n     <g id=\"line2d_1\">\n      <defs>\n       <path d=\"M 0 0 \nL 0 3.5 \n\" id=\"m11b7e7767b\" style=\"stroke:#000000;stroke-width:0.8;\"/>\n      </defs>\n      <g>\n       <use style=\"stroke:#000000;stroke-width:0.8;\" x=\"48.982812\" xlink:href=\"#m11b7e7767b\" y=\"228.439219\"/>\n      </g>\n     </g>\n     <g id=\"text_1\">\n      <!-- −20 -->\n      <g transform=\"translate(38.430469 243.037656)scale(0.1 -0.1)\">\n       <defs>\n        <path d=\"M 10.59375 35.5 \nL 73.1875 35.5 \nL 73.1875 27.203125 \nL 10.59375 27.203125 \nz\n\" id=\"DejaVuSans-8722\"/>\n        <path d=\"M 19.1875 8.296875 \nL 53.609375 8.296875 \nL 53.609375 0 \nL 7.328125 0 \nL 7.328125 8.296875 \nQ 12.9375 14.109375 22.625 23.890625 \nQ 32.328125 33.6875 34.8125 36.53125 \nQ 39.546875 41.84375 41.421875 45.53125 \nQ 43.3125 49.21875 43.3125 52.78125 \nQ 43.3125 58.59375 39.234375 62.25 \nQ 35.15625 65.921875 28.609375 65.921875 \nQ 23.96875 65.921875 18.8125 64.3125 \nQ 13.671875 62.703125 7.8125 59.421875 \nL 7.8125 69.390625 \nQ 13.765625 71.78125 18.9375 73 \nQ 24.125 74.21875 28.421875 74.21875 \nQ 39.75 74.21875 46.484375 68.546875 \nQ 53.21875 62.890625 53.21875 53.421875 \nQ 53.21875 48.921875 51.53125 44.890625 \nQ 49.859375 40.875 45.40625 35.40625 \nQ 44.1875 33.984375 37.640625 27.21875 \nQ 31.109375 20.453125 19.1875 8.296875 \nz\n\" id=\"DejaVuSans-50\"/>\n        <path d=\"M 31.78125 66.40625 \nQ 24.171875 66.40625 20.328125 58.90625 \nQ 16.5 51.421875 16.5 36.375 \nQ 16.5 21.390625 20.328125 13.890625 \nQ 24.171875 6.390625 31.78125 6.390625 \nQ 39.453125 6.390625 43.28125 13.890625 \nQ 47.125 21.390625 47.125 36.375 \nQ 47.125 51.421875 43.28125 58.90625 \nQ 39.453125 66.40625 31.78125 66.40625 \nz\nM 31.78125 74.21875 \nQ 44.046875 74.21875 50.515625 64.515625 \nQ 56.984375 54.828125 56.984375 36.375 \nQ 56.984375 17.96875 50.515625 8.265625 \nQ 44.046875 -1.421875 31.78125 -1.421875 \nQ 19.53125 -1.421875 13.0625 8.265625 \nQ 6.59375 17.96875 6.59375 36.375 \nQ 6.59375 54.828125 13.0625 64.515625 \nQ 19.53125 74.21875 31.78125 74.21875 \nz\n\" id=\"DejaVuSans-48\"/>\n       </defs>\n       <use xlink:href=\"#DejaVuSans-8722\"/>\n       <use x=\"83.789062\" xlink:href=\"#DejaVuSans-50\"/>\n       <use x=\"147.412109\" xlink:href=\"#DejaVuSans-48\"/>\n      </g>\n     </g>\n    </g>\n    <g id=\"xtick_2\">\n     <g id=\"line2d_2\">\n      <g>\n       <use style=\"stroke:#000000;stroke-width:0.8;\" x=\"90.832812\" xlink:href=\"#m11b7e7767b\" y=\"228.439219\"/>\n      </g>\n     </g>\n     <g id=\"text_2\">\n      <!-- −15 -->\n      <g transform=\"translate(80.280469 243.037656)scale(0.1 -0.1)\">\n       <defs>\n        <path d=\"M 12.40625 8.296875 \nL 28.515625 8.296875 \nL 28.515625 63.921875 \nL 10.984375 60.40625 \nL 10.984375 69.390625 \nL 28.421875 72.90625 \nL 38.28125 72.90625 \nL 38.28125 8.296875 \nL 54.390625 8.296875 \nL 54.390625 0 \nL 12.40625 0 \nz\n\" id=\"DejaVuSans-49\"/>\n        <path d=\"M 10.796875 72.90625 \nL 49.515625 72.90625 \nL 49.515625 64.59375 \nL 19.828125 64.59375 \nL 19.828125 46.734375 \nQ 21.96875 47.46875 24.109375 47.828125 \nQ 26.265625 48.1875 28.421875 48.1875 \nQ 40.625 48.1875 47.75 41.5 \nQ 54.890625 34.8125 54.890625 23.390625 \nQ 54.890625 11.625 47.5625 5.09375 \nQ 40.234375 -1.421875 26.90625 -1.421875 \nQ 22.3125 -1.421875 17.546875 -0.640625 \nQ 12.796875 0.140625 7.71875 1.703125 \nL 7.71875 11.625 \nQ 12.109375 9.234375 16.796875 8.0625 \nQ 21.484375 6.890625 26.703125 6.890625 \nQ 35.15625 6.890625 40.078125 11.328125 \nQ 45.015625 15.765625 45.015625 23.390625 \nQ 45.015625 31 40.078125 35.4375 \nQ 35.15625 39.890625 26.703125 39.890625 \nQ 22.75 39.890625 18.8125 39.015625 \nQ 14.890625 38.140625 10.796875 36.28125 \nz\n\" id=\"DejaVuSans-53\"/>\n       </defs>\n       <use xlink:href=\"#DejaVuSans-8722\"/>\n       <use x=\"83.789062\" xlink:href=\"#DejaVuSans-49\"/>\n       <use x=\"147.412109\" xlink:href=\"#DejaVuSans-53\"/>\n      </g>\n     </g>\n    </g>\n    <g id=\"xtick_3\">\n     <g id=\"line2d_3\">\n      <g>\n       <use style=\"stroke:#000000;stroke-width:0.8;\" x=\"132.682812\" xlink:href=\"#m11b7e7767b\" y=\"228.439219\"/>\n      </g>\n     </g>\n     <g id=\"text_3\">\n      <!-- −10 -->\n      <g transform=\"translate(122.130469 243.037656)scale(0.1 -0.1)\">\n       <use xlink:href=\"#DejaVuSans-8722\"/>\n       <use x=\"83.789062\" xlink:href=\"#DejaVuSans-49\"/>\n       <use x=\"147.412109\" xlink:href=\"#DejaVuSans-48\"/>\n      </g>\n     </g>\n    </g>\n    <g id=\"xtick_4\">\n     <g id=\"line2d_4\">\n      <g>\n       <use style=\"stroke:#000000;stroke-width:0.8;\" x=\"174.532812\" xlink:href=\"#m11b7e7767b\" y=\"228.439219\"/>\n      </g>\n     </g>\n     <g id=\"text_4\">\n      <!-- −5 -->\n      <g transform=\"translate(167.161719 243.037656)scale(0.1 -0.1)\">\n       <use xlink:href=\"#DejaVuSans-8722\"/>\n       <use x=\"83.789062\" xlink:href=\"#DejaVuSans-53\"/>\n      </g>\n     </g>\n    </g>\n    <g id=\"xtick_5\">\n     <g id=\"line2d_5\">\n      <g>\n       <use style=\"stroke:#000000;stroke-width:0.8;\" x=\"216.382812\" xlink:href=\"#m11b7e7767b\" y=\"228.439219\"/>\n      </g>\n     </g>\n     <g id=\"text_5\">\n      <!-- 0 -->\n      <g transform=\"translate(213.201562 243.037656)scale(0.1 -0.1)\">\n       <use xlink:href=\"#DejaVuSans-48\"/>\n      </g>\n     </g>\n    </g>\n    <g id=\"xtick_6\">\n     <g id=\"line2d_6\">\n      <g>\n       <use style=\"stroke:#000000;stroke-width:0.8;\" x=\"258.232813\" xlink:href=\"#m11b7e7767b\" y=\"228.439219\"/>\n      </g>\n     </g>\n     <g id=\"text_6\">\n      <!-- 5 -->\n      <g transform=\"translate(255.051563 243.037656)scale(0.1 -0.1)\">\n       <use xlink:href=\"#DejaVuSans-53\"/>\n      </g>\n     </g>\n    </g>\n    <g id=\"xtick_7\">\n     <g id=\"line2d_7\">\n      <g>\n       <use style=\"stroke:#000000;stroke-width:0.8;\" x=\"300.082813\" xlink:href=\"#m11b7e7767b\" y=\"228.439219\"/>\n      </g>\n     </g>\n     <g id=\"text_7\">\n      <!-- 10 -->\n      <g transform=\"translate(293.720313 243.037656)scale(0.1 -0.1)\">\n       <use xlink:href=\"#DejaVuSans-49\"/>\n       <use x=\"63.623047\" xlink:href=\"#DejaVuSans-48\"/>\n      </g>\n     </g>\n    </g>\n    <g id=\"xtick_8\">\n     <g id=\"line2d_8\">\n      <g>\n       <use style=\"stroke:#000000;stroke-width:0.8;\" x=\"341.932813\" xlink:href=\"#m11b7e7767b\" y=\"228.439219\"/>\n      </g>\n     </g>\n     <g id=\"text_8\">\n      <!-- 15 -->\n      <g transform=\"translate(335.570312 243.037656)scale(0.1 -0.1)\">\n       <use xlink:href=\"#DejaVuSans-49\"/>\n       <use x=\"63.623047\" xlink:href=\"#DejaVuSans-53\"/>\n      </g>\n     </g>\n    </g>\n    <g id=\"xtick_9\">\n     <g id=\"line2d_9\">\n      <g>\n       <use style=\"stroke:#000000;stroke-width:0.8;\" x=\"383.782813\" xlink:href=\"#m11b7e7767b\" y=\"228.439219\"/>\n      </g>\n     </g>\n     <g id=\"text_9\">\n      <!-- 20 -->\n      <g transform=\"translate(377.420313 243.037656)scale(0.1 -0.1)\">\n       <use xlink:href=\"#DejaVuSans-50\"/>\n       <use x=\"63.623047\" xlink:href=\"#DejaVuSans-48\"/>\n      </g>\n     </g>\n    </g>\n    <g id=\"text_10\">\n     <!-- x -->\n     <g transform=\"translate(213.423438 256.715781)scale(0.1 -0.1)\">\n      <defs>\n       <path d=\"M 54.890625 54.6875 \nL 35.109375 28.078125 \nL 55.90625 0 \nL 45.3125 0 \nL 29.390625 21.484375 \nL 13.484375 0 \nL 2.875 0 \nL 24.125 28.609375 \nL 4.6875 54.6875 \nL 15.28125 54.6875 \nL 29.78125 35.203125 \nL 44.28125 54.6875 \nz\n\" id=\"DejaVuSans-120\"/>\n      </defs>\n      <use xlink:href=\"#DejaVuSans-120\"/>\n     </g>\n    </g>\n   </g>\n   <g id=\"matplotlib.axis_2\">\n    <g id=\"ytick_1\">\n     <g id=\"line2d_10\">\n      <defs>\n       <path d=\"M 0 0 \nL -3.5 0 \n\" id=\"m713df42802\" style=\"stroke:#000000;stroke-width:0.8;\"/>\n      </defs>\n      <g>\n       <use style=\"stroke:#000000;stroke-width:0.8;\" x=\"48.982813\" xlink:href=\"#m713df42802\" y=\"228.439219\"/>\n      </g>\n     </g>\n     <g id=\"text_11\">\n      <!-- −20 -->\n      <g transform=\"translate(20.878125 232.238437)scale(0.1 -0.1)\">\n       <use xlink:href=\"#DejaVuSans-8722\"/>\n       <use x=\"83.789062\" xlink:href=\"#DejaVuSans-50\"/>\n       <use x=\"147.412109\" xlink:href=\"#DejaVuSans-48\"/>\n      </g>\n     </g>\n    </g>\n    <g id=\"ytick_2\">\n     <g id=\"line2d_11\">\n      <g>\n       <use style=\"stroke:#000000;stroke-width:0.8;\" x=\"48.982813\" xlink:href=\"#m713df42802\" y=\"201.259219\"/>\n      </g>\n     </g>\n     <g id=\"text_12\">\n      <!-- −15 -->\n      <g transform=\"translate(20.878125 205.058437)scale(0.1 -0.1)\">\n       <use xlink:href=\"#DejaVuSans-8722\"/>\n       <use x=\"83.789062\" xlink:href=\"#DejaVuSans-49\"/>\n       <use x=\"147.412109\" xlink:href=\"#DejaVuSans-53\"/>\n      </g>\n     </g>\n    </g>\n    <g id=\"ytick_3\">\n     <g id=\"line2d_12\">\n      <g>\n       <use style=\"stroke:#000000;stroke-width:0.8;\" x=\"48.982813\" xlink:href=\"#m713df42802\" y=\"174.079219\"/>\n      </g>\n     </g>\n     <g id=\"text_13\">\n      <!-- −10 -->\n      <g transform=\"translate(20.878125 177.878437)scale(0.1 -0.1)\">\n       <use xlink:href=\"#DejaVuSans-8722\"/>\n       <use x=\"83.789062\" xlink:href=\"#DejaVuSans-49\"/>\n       <use x=\"147.412109\" xlink:href=\"#DejaVuSans-48\"/>\n      </g>\n     </g>\n    </g>\n    <g id=\"ytick_4\">\n     <g id=\"line2d_13\">\n      <g>\n       <use style=\"stroke:#000000;stroke-width:0.8;\" x=\"48.982813\" xlink:href=\"#m713df42802\" y=\"146.899219\"/>\n      </g>\n     </g>\n     <g id=\"text_14\">\n      <!-- −5 -->\n      <g transform=\"translate(27.240625 150.698437)scale(0.1 -0.1)\">\n       <use xlink:href=\"#DejaVuSans-8722\"/>\n       <use x=\"83.789062\" xlink:href=\"#DejaVuSans-53\"/>\n      </g>\n     </g>\n    </g>\n    <g id=\"ytick_5\">\n     <g id=\"line2d_14\">\n      <g>\n       <use style=\"stroke:#000000;stroke-width:0.8;\" x=\"48.982813\" xlink:href=\"#m713df42802\" y=\"119.719219\"/>\n      </g>\n     </g>\n     <g id=\"text_15\">\n      <!-- 0 -->\n      <g transform=\"translate(35.620312 123.518437)scale(0.1 -0.1)\">\n       <use xlink:href=\"#DejaVuSans-48\"/>\n      </g>\n     </g>\n    </g>\n    <g id=\"ytick_6\">\n     <g id=\"line2d_15\">\n      <g>\n       <use style=\"stroke:#000000;stroke-width:0.8;\" x=\"48.982813\" xlink:href=\"#m713df42802\" y=\"92.539219\"/>\n      </g>\n     </g>\n     <g id=\"text_16\">\n      <!-- 5 -->\n      <g transform=\"translate(35.620312 96.338437)scale(0.1 -0.1)\">\n       <use xlink:href=\"#DejaVuSans-53\"/>\n      </g>\n     </g>\n    </g>\n    <g id=\"ytick_7\">\n     <g id=\"line2d_16\">\n      <g>\n       <use style=\"stroke:#000000;stroke-width:0.8;\" x=\"48.982813\" xlink:href=\"#m713df42802\" y=\"65.359219\"/>\n      </g>\n     </g>\n     <g id=\"text_17\">\n      <!-- 10 -->\n      <g transform=\"translate(29.257812 69.158437)scale(0.1 -0.1)\">\n       <use xlink:href=\"#DejaVuSans-49\"/>\n       <use x=\"63.623047\" xlink:href=\"#DejaVuSans-48\"/>\n      </g>\n     </g>\n    </g>\n    <g id=\"ytick_8\">\n     <g id=\"line2d_17\">\n      <g>\n       <use style=\"stroke:#000000;stroke-width:0.8;\" x=\"48.982813\" xlink:href=\"#m713df42802\" y=\"38.179219\"/>\n      </g>\n     </g>\n     <g id=\"text_18\">\n      <!-- 15 -->\n      <g transform=\"translate(29.257812 41.978437)scale(0.1 -0.1)\">\n       <use xlink:href=\"#DejaVuSans-49\"/>\n       <use x=\"63.623047\" xlink:href=\"#DejaVuSans-53\"/>\n      </g>\n     </g>\n    </g>\n    <g id=\"ytick_9\">\n     <g id=\"line2d_18\">\n      <g>\n       <use style=\"stroke:#000000;stroke-width:0.8;\" x=\"48.982813\" xlink:href=\"#m713df42802\" y=\"10.999219\"/>\n      </g>\n     </g>\n     <g id=\"text_19\">\n      <!-- 20 -->\n      <g transform=\"translate(29.257812 14.798437)scale(0.1 -0.1)\">\n       <use xlink:href=\"#DejaVuSans-50\"/>\n       <use x=\"63.623047\" xlink:href=\"#DejaVuSans-48\"/>\n      </g>\n     </g>\n    </g>\n    <g id=\"text_20\">\n     <!-- y -->\n     <g transform=\"translate(14.798438 122.678594)rotate(-90)scale(0.1 -0.1)\">\n      <defs>\n       <path d=\"M 32.171875 -5.078125 \nQ 28.375 -14.84375 24.75 -17.8125 \nQ 21.140625 -20.796875 15.09375 -20.796875 \nL 7.90625 -20.796875 \nL 7.90625 -13.28125 \nL 13.1875 -13.28125 \nQ 16.890625 -13.28125 18.9375 -11.515625 \nQ 21 -9.765625 23.484375 -3.21875 \nL 25.09375 0.875 \nL 2.984375 54.6875 \nL 12.5 54.6875 \nL 29.59375 11.921875 \nL 46.6875 54.6875 \nL 56.203125 54.6875 \nz\n\" id=\"DejaVuSans-121\"/>\n      </defs>\n      <use xlink:href=\"#DejaVuSans-121\"/>\n     </g>\n    </g>\n   </g>\n   <g id=\"patch_3\">\n    <path d=\"M 48.982813 228.439219 \nL 48.982813 10.999219 \n\" style=\"fill:none;stroke:#000000;stroke-linecap:square;stroke-linejoin:miter;stroke-width:0.8;\"/>\n   </g>\n   <g id=\"patch_4\">\n    <path d=\"M 383.782813 228.439219 \nL 383.782813 10.999219 \n\" style=\"fill:none;stroke:#000000;stroke-linecap:square;stroke-linejoin:miter;stroke-width:0.8;\"/>\n   </g>\n   <g id=\"patch_5\">\n    <path d=\"M 48.982812 228.439219 \nL 383.782813 228.439219 \n\" style=\"fill:none;stroke:#000000;stroke-linecap:square;stroke-linejoin:miter;stroke-width:0.8;\"/>\n   </g>\n   <g id=\"patch_6\">\n    <path d=\"M 48.982812 10.999219 \nL 383.782813 10.999219 \n\" style=\"fill:none;stroke:#000000;stroke-linecap:square;stroke-linejoin:miter;stroke-width:0.8;\"/>\n   </g>\n  </g>\n </g>\n <defs>\n  <clipPath id=\"p53aaf9830d\">\n   <rect height=\"217.44\" width=\"334.8\" x=\"48.982813\" y=\"10.999219\"/>\n  </clipPath>\n </defs>\n</svg>\n",
      "image/png": "[encoded data removed]"
     },
     "metadata": {
      "needs_background": "light"
     }
    }
   ],
   "metadata": {}
  },
  {
   "cell_type": "markdown",
   "source": [
    "可以发现，最终得到了我们想要的结果...，最后将代码整理一下，放到`ml_models.decomposition.PCA`中"
   ],
   "metadata": {}
  },
  {
   "cell_type": "code",
   "execution_count": null,
   "source": [],
   "outputs": [],
   "metadata": {}
  }
 ],
 "metadata": {
  "kernelspec": {
   "name": "python3",
   "display_name": "Python 3.8.5 64-bit ('base': conda)"
  },
  "language_info": {
   "codemirror_mode": {
    "name": "ipython",
    "version": 3
   },
   "file_extension": ".py",
   "mimetype": "text/x-python",
   "name": "python",
   "nbconvert_exporter": "python",
   "pygments_lexer": "ipython3",
   "version": "3.8.5"
  },
  "interpreter": {
   "hash": "2b0d8445d30565f6cf0731071b42a683b7aa132b1cb9bae01ff5d96fc7237cfa"
  }
 },
 "nbformat": 4,
 "nbformat_minor": 2
}