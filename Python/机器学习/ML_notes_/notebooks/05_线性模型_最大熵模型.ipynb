{
 "cells": [
  {
   "cell_type": "code",
   "execution_count": 81,
   "source": [
    "import numpy as np\n",
    "import os\n",
    "os.chdir('../')\n",
    "import matplotlib.pyplot as plt\n",
    "%matplotlib inline"
   ],
   "outputs": [],
   "metadata": {}
  },
  {
   "cell_type": "markdown",
   "source": [
    "### 一.最大熵原理\n",
    "最大熵的思想很朴素，即将已知事实以外的未知部分看做“等可能”的，而熵是描述“等可能”大小很合适的量化指标，熵的公式如下：  \n",
    "\n",
    "$$\n",
    "H(p)=-\\sum_{i}p_i log p_i\n",
    "$$  \n",
    "\n",
    "这里分布$p$的取值有$i$种情况，每种情况的概率为$p_i$，下图绘制了二值随机变量的熵："
   ],
   "metadata": {}
  },
  {
   "cell_type": "code",
   "execution_count": 82,
   "source": [
    "p=np.linspace(0.1,0.9,90)"
   ],
   "outputs": [],
   "metadata": {}
  },
  {
   "cell_type": "code",
   "execution_count": 83,
   "source": [
    "def entropy(p):\n",
    "    return -np.log(p)*p-np.log(1-p)*(1-p)"
   ],
   "outputs": [],
   "metadata": {}
  },
  {
   "cell_type": "code",
   "execution_count": 84,
   "source": [
    "plt.plot(p,entropy(p))"
   ],
   "outputs": [
    {
     "output_type": "execute_result",
     "data": {
      "text/plain": [
       "[<matplotlib.lines.Line2D at 0x7fa5eea5cd30>]"
      ]
     },
     "metadata": {},
     "execution_count": 84
    },
    {
     "output_type": "display_data",
     "data": {
      "text/plain": [
       "<Figure size 432x288 with 1 Axes>"
      ],
      "image/svg+xml": "<?xml version=\"1.0\" encoding=\"utf-8\" standalone=\"no\"?>\n<!DOCTYPE svg PUBLIC \"-//W3C//DTD SVG 1.1//EN\"\n  \"http://www.w3.org/Graphics/SVG/1.1/DTD/svg11.dtd\">\n<!-- Created with matplotlib (https://matplotlib.org/) -->\n<svg height=\"248.518125pt\" version=\"1.1\" viewBox=\"0 0 378.465625 248.518125\" width=\"378.465625pt\" xmlns=\"http://www.w3.org/2000/svg\" xmlns:xlink=\"http://www.w3.org/1999/xlink\">\n <metadata>\n  <rdf:RDF xmlns:cc=\"http://creativecommons.org/ns#\" xmlns:dc=\"http://purl.org/dc/elements/1.1/\" xmlns:rdf=\"http://www.w3.org/1999/02/22-rdf-syntax-ns#\">\n   <cc:Work>\n    <dc:type rdf:resource=\"http://purl.org/dc/dcmitype/StillImage\"/>\n    <dc:date>2021-08-09T23:00:03.638072</dc:date>\n    <dc:format>image/svg+xml</dc:format>\n    <dc:creator>\n     <cc:Agent>\n      <dc:title>Matplotlib v3.3.2, https://matplotlib.org/</dc:title>\n     </cc:Agent>\n    </dc:creator>\n   </cc:Work>\n  </rdf:RDF>\n </metadata>\n <defs>\n  <style type=\"text/css\">*{stroke-linecap:butt;stroke-linejoin:round;}</style>\n </defs>\n <g id=\"figure_1\">\n  <g id=\"patch_1\">\n   <path d=\"M 0 248.518125 \nL 378.465625 248.518125 \nL 378.465625 0 \nL 0 0 \nz\n\" style=\"fill:none;\"/>\n  </g>\n  <g id=\"axes_1\">\n   <g id=\"patch_2\">\n    <path d=\"M 36.465625 224.64 \nL 371.265625 224.64 \nL 371.265625 7.2 \nL 36.465625 7.2 \nz\n\" style=\"fill:#ffffff;\"/>\n   </g>\n   <g id=\"matplotlib.axis_1\">\n    <g id=\"xtick_1\">\n     <g id=\"line2d_1\">\n      <defs>\n       <path d=\"M 0 0 \nL 0 3.5 \n\" id=\"m31ef43691a\" style=\"stroke:#000000;stroke-width:0.8;\"/>\n      </defs>\n      <g>\n       <use style=\"stroke:#000000;stroke-width:0.8;\" x=\"51.683807\" xlink:href=\"#m31ef43691a\" y=\"224.64\"/>\n      </g>\n     </g>\n     <g id=\"text_1\">\n      <!-- 0.1 -->\n      <g transform=\"translate(43.732244 239.238437)scale(0.1 -0.1)\">\n       <defs>\n        <path d=\"M 31.78125 66.40625 \nQ 24.171875 66.40625 20.328125 58.90625 \nQ 16.5 51.421875 16.5 36.375 \nQ 16.5 21.390625 20.328125 13.890625 \nQ 24.171875 6.390625 31.78125 6.390625 \nQ 39.453125 6.390625 43.28125 13.890625 \nQ 47.125 21.390625 47.125 36.375 \nQ 47.125 51.421875 43.28125 58.90625 \nQ 39.453125 66.40625 31.78125 66.40625 \nz\nM 31.78125 74.21875 \nQ 44.046875 74.21875 50.515625 64.515625 \nQ 56.984375 54.828125 56.984375 36.375 \nQ 56.984375 17.96875 50.515625 8.265625 \nQ 44.046875 -1.421875 31.78125 -1.421875 \nQ 19.53125 -1.421875 13.0625 8.265625 \nQ 6.59375 17.96875 6.59375 36.375 \nQ 6.59375 54.828125 13.0625 64.515625 \nQ 19.53125 74.21875 31.78125 74.21875 \nz\n\" id=\"DejaVuSans-48\"/>\n        <path d=\"M 10.6875 12.40625 \nL 21 12.40625 \nL 21 0 \nL 10.6875 0 \nz\n\" id=\"DejaVuSans-46\"/>\n        <path d=\"M 12.40625 8.296875 \nL 28.515625 8.296875 \nL 28.515625 63.921875 \nL 10.984375 60.40625 \nL 10.984375 69.390625 \nL 28.421875 72.90625 \nL 38.28125 72.90625 \nL 38.28125 8.296875 \nL 54.390625 8.296875 \nL 54.390625 0 \nL 12.40625 0 \nz\n\" id=\"DejaVuSans-49\"/>\n       </defs>\n       <use xlink:href=\"#DejaVuSans-48\"/>\n       <use x=\"63.623047\" xlink:href=\"#DejaVuSans-46\"/>\n       <use x=\"95.410156\" xlink:href=\"#DejaVuSans-49\"/>\n      </g>\n     </g>\n    </g>\n    <g id=\"xtick_2\">\n     <g id=\"line2d_2\">\n      <g>\n       <use style=\"stroke:#000000;stroke-width:0.8;\" x=\"89.729261\" xlink:href=\"#m31ef43691a\" y=\"224.64\"/>\n      </g>\n     </g>\n     <g id=\"text_2\">\n      <!-- 0.2 -->\n      <g transform=\"translate(81.777699 239.238437)scale(0.1 -0.1)\">\n       <defs>\n        <path d=\"M 19.1875 8.296875 \nL 53.609375 8.296875 \nL 53.609375 0 \nL 7.328125 0 \nL 7.328125 8.296875 \nQ 12.9375 14.109375 22.625 23.890625 \nQ 32.328125 33.6875 34.8125 36.53125 \nQ 39.546875 41.84375 41.421875 45.53125 \nQ 43.3125 49.21875 43.3125 52.78125 \nQ 43.3125 58.59375 39.234375 62.25 \nQ 35.15625 65.921875 28.609375 65.921875 \nQ 23.96875 65.921875 18.8125 64.3125 \nQ 13.671875 62.703125 7.8125 59.421875 \nL 7.8125 69.390625 \nQ 13.765625 71.78125 18.9375 73 \nQ 24.125 74.21875 28.421875 74.21875 \nQ 39.75 74.21875 46.484375 68.546875 \nQ 53.21875 62.890625 53.21875 53.421875 \nQ 53.21875 48.921875 51.53125 44.890625 \nQ 49.859375 40.875 45.40625 35.40625 \nQ 44.1875 33.984375 37.640625 27.21875 \nQ 31.109375 20.453125 19.1875 8.296875 \nz\n\" id=\"DejaVuSans-50\"/>\n       </defs>\n       <use xlink:href=\"#DejaVuSans-48\"/>\n       <use x=\"63.623047\" xlink:href=\"#DejaVuSans-46\"/>\n       <use x=\"95.410156\" xlink:href=\"#DejaVuSans-50\"/>\n      </g>\n     </g>\n    </g>\n    <g id=\"xtick_3\">\n     <g id=\"line2d_3\">\n      <g>\n       <use style=\"stroke:#000000;stroke-width:0.8;\" x=\"127.774716\" xlink:href=\"#m31ef43691a\" y=\"224.64\"/>\n      </g>\n     </g>\n     <g id=\"text_3\">\n      <!-- 0.3 -->\n      <g transform=\"translate(119.823153 239.238437)scale(0.1 -0.1)\">\n       <defs>\n        <path d=\"M 40.578125 39.3125 \nQ 47.65625 37.796875 51.625 33 \nQ 55.609375 28.21875 55.609375 21.1875 \nQ 55.609375 10.40625 48.1875 4.484375 \nQ 40.765625 -1.421875 27.09375 -1.421875 \nQ 22.515625 -1.421875 17.65625 -0.515625 \nQ 12.796875 0.390625 7.625 2.203125 \nL 7.625 11.71875 \nQ 11.71875 9.328125 16.59375 8.109375 \nQ 21.484375 6.890625 26.8125 6.890625 \nQ 36.078125 6.890625 40.9375 10.546875 \nQ 45.796875 14.203125 45.796875 21.1875 \nQ 45.796875 27.640625 41.28125 31.265625 \nQ 36.765625 34.90625 28.71875 34.90625 \nL 20.21875 34.90625 \nL 20.21875 43.015625 \nL 29.109375 43.015625 \nQ 36.375 43.015625 40.234375 45.921875 \nQ 44.09375 48.828125 44.09375 54.296875 \nQ 44.09375 59.90625 40.109375 62.90625 \nQ 36.140625 65.921875 28.71875 65.921875 \nQ 24.65625 65.921875 20.015625 65.03125 \nQ 15.375 64.15625 9.8125 62.3125 \nL 9.8125 71.09375 \nQ 15.4375 72.65625 20.34375 73.4375 \nQ 25.25 74.21875 29.59375 74.21875 \nQ 40.828125 74.21875 47.359375 69.109375 \nQ 53.90625 64.015625 53.90625 55.328125 \nQ 53.90625 49.265625 50.4375 45.09375 \nQ 46.96875 40.921875 40.578125 39.3125 \nz\n\" id=\"DejaVuSans-51\"/>\n       </defs>\n       <use xlink:href=\"#DejaVuSans-48\"/>\n       <use x=\"63.623047\" xlink:href=\"#DejaVuSans-46\"/>\n       <use x=\"95.410156\" xlink:href=\"#DejaVuSans-51\"/>\n      </g>\n     </g>\n    </g>\n    <g id=\"xtick_4\">\n     <g id=\"line2d_4\">\n      <g>\n       <use style=\"stroke:#000000;stroke-width:0.8;\" x=\"165.82017\" xlink:href=\"#m31ef43691a\" y=\"224.64\"/>\n      </g>\n     </g>\n     <g id=\"text_4\">\n      <!-- 0.4 -->\n      <g transform=\"translate(157.868608 239.238437)scale(0.1 -0.1)\">\n       <defs>\n        <path d=\"M 37.796875 64.3125 \nL 12.890625 25.390625 \nL 37.796875 25.390625 \nz\nM 35.203125 72.90625 \nL 47.609375 72.90625 \nL 47.609375 25.390625 \nL 58.015625 25.390625 \nL 58.015625 17.1875 \nL 47.609375 17.1875 \nL 47.609375 0 \nL 37.796875 0 \nL 37.796875 17.1875 \nL 4.890625 17.1875 \nL 4.890625 26.703125 \nz\n\" id=\"DejaVuSans-52\"/>\n       </defs>\n       <use xlink:href=\"#DejaVuSans-48\"/>\n       <use x=\"63.623047\" xlink:href=\"#DejaVuSans-46\"/>\n       <use x=\"95.410156\" xlink:href=\"#DejaVuSans-52\"/>\n      </g>\n     </g>\n    </g>\n    <g id=\"xtick_5\">\n     <g id=\"line2d_5\">\n      <g>\n       <use style=\"stroke:#000000;stroke-width:0.8;\" x=\"203.865625\" xlink:href=\"#m31ef43691a\" y=\"224.64\"/>\n      </g>\n     </g>\n     <g id=\"text_5\">\n      <!-- 0.5 -->\n      <g transform=\"translate(195.914062 239.238437)scale(0.1 -0.1)\">\n       <defs>\n        <path d=\"M 10.796875 72.90625 \nL 49.515625 72.90625 \nL 49.515625 64.59375 \nL 19.828125 64.59375 \nL 19.828125 46.734375 \nQ 21.96875 47.46875 24.109375 47.828125 \nQ 26.265625 48.1875 28.421875 48.1875 \nQ 40.625 48.1875 47.75 41.5 \nQ 54.890625 34.8125 54.890625 23.390625 \nQ 54.890625 11.625 47.5625 5.09375 \nQ 40.234375 -1.421875 26.90625 -1.421875 \nQ 22.3125 -1.421875 17.546875 -0.640625 \nQ 12.796875 0.140625 7.71875 1.703125 \nL 7.71875 11.625 \nQ 12.109375 9.234375 16.796875 8.0625 \nQ 21.484375 6.890625 26.703125 6.890625 \nQ 35.15625 6.890625 40.078125 11.328125 \nQ 45.015625 15.765625 45.015625 23.390625 \nQ 45.015625 31 40.078125 35.4375 \nQ 35.15625 39.890625 26.703125 39.890625 \nQ 22.75 39.890625 18.8125 39.015625 \nQ 14.890625 38.140625 10.796875 36.28125 \nz\n\" id=\"DejaVuSans-53\"/>\n       </defs>\n       <use xlink:href=\"#DejaVuSans-48\"/>\n       <use x=\"63.623047\" xlink:href=\"#DejaVuSans-46\"/>\n       <use x=\"95.410156\" xlink:href=\"#DejaVuSans-53\"/>\n      </g>\n     </g>\n    </g>\n    <g id=\"xtick_6\">\n     <g id=\"line2d_6\">\n      <g>\n       <use style=\"stroke:#000000;stroke-width:0.8;\" x=\"241.91108\" xlink:href=\"#m31ef43691a\" y=\"224.64\"/>\n      </g>\n     </g>\n     <g id=\"text_6\">\n      <!-- 0.6 -->\n      <g transform=\"translate(233.959517 239.238437)scale(0.1 -0.1)\">\n       <defs>\n        <path d=\"M 33.015625 40.375 \nQ 26.375 40.375 22.484375 35.828125 \nQ 18.609375 31.296875 18.609375 23.390625 \nQ 18.609375 15.53125 22.484375 10.953125 \nQ 26.375 6.390625 33.015625 6.390625 \nQ 39.65625 6.390625 43.53125 10.953125 \nQ 47.40625 15.53125 47.40625 23.390625 \nQ 47.40625 31.296875 43.53125 35.828125 \nQ 39.65625 40.375 33.015625 40.375 \nz\nM 52.59375 71.296875 \nL 52.59375 62.3125 \nQ 48.875 64.0625 45.09375 64.984375 \nQ 41.3125 65.921875 37.59375 65.921875 \nQ 27.828125 65.921875 22.671875 59.328125 \nQ 17.53125 52.734375 16.796875 39.40625 \nQ 19.671875 43.65625 24.015625 45.921875 \nQ 28.375 48.1875 33.59375 48.1875 \nQ 44.578125 48.1875 50.953125 41.515625 \nQ 57.328125 34.859375 57.328125 23.390625 \nQ 57.328125 12.15625 50.6875 5.359375 \nQ 44.046875 -1.421875 33.015625 -1.421875 \nQ 20.359375 -1.421875 13.671875 8.265625 \nQ 6.984375 17.96875 6.984375 36.375 \nQ 6.984375 53.65625 15.1875 63.9375 \nQ 23.390625 74.21875 37.203125 74.21875 \nQ 40.921875 74.21875 44.703125 73.484375 \nQ 48.484375 72.75 52.59375 71.296875 \nz\n\" id=\"DejaVuSans-54\"/>\n       </defs>\n       <use xlink:href=\"#DejaVuSans-48\"/>\n       <use x=\"63.623047\" xlink:href=\"#DejaVuSans-46\"/>\n       <use x=\"95.410156\" xlink:href=\"#DejaVuSans-54\"/>\n      </g>\n     </g>\n    </g>\n    <g id=\"xtick_7\">\n     <g id=\"line2d_7\">\n      <g>\n       <use style=\"stroke:#000000;stroke-width:0.8;\" x=\"279.956534\" xlink:href=\"#m31ef43691a\" y=\"224.64\"/>\n      </g>\n     </g>\n     <g id=\"text_7\">\n      <!-- 0.7 -->\n      <g transform=\"translate(272.004972 239.238437)scale(0.1 -0.1)\">\n       <defs>\n        <path d=\"M 8.203125 72.90625 \nL 55.078125 72.90625 \nL 55.078125 68.703125 \nL 28.609375 0 \nL 18.3125 0 \nL 43.21875 64.59375 \nL 8.203125 64.59375 \nz\n\" id=\"DejaVuSans-55\"/>\n       </defs>\n       <use xlink:href=\"#DejaVuSans-48\"/>\n       <use x=\"63.623047\" xlink:href=\"#DejaVuSans-46\"/>\n       <use x=\"95.410156\" xlink:href=\"#DejaVuSans-55\"/>\n      </g>\n     </g>\n    </g>\n    <g id=\"xtick_8\">\n     <g id=\"line2d_8\">\n      <g>\n       <use style=\"stroke:#000000;stroke-width:0.8;\" x=\"318.001989\" xlink:href=\"#m31ef43691a\" y=\"224.64\"/>\n      </g>\n     </g>\n     <g id=\"text_8\">\n      <!-- 0.8 -->\n      <g transform=\"translate(310.050426 239.238437)scale(0.1 -0.1)\">\n       <defs>\n        <path d=\"M 31.78125 34.625 \nQ 24.75 34.625 20.71875 30.859375 \nQ 16.703125 27.09375 16.703125 20.515625 \nQ 16.703125 13.921875 20.71875 10.15625 \nQ 24.75 6.390625 31.78125 6.390625 \nQ 38.8125 6.390625 42.859375 10.171875 \nQ 46.921875 13.96875 46.921875 20.515625 \nQ 46.921875 27.09375 42.890625 30.859375 \nQ 38.875 34.625 31.78125 34.625 \nz\nM 21.921875 38.8125 \nQ 15.578125 40.375 12.03125 44.71875 \nQ 8.5 49.078125 8.5 55.328125 \nQ 8.5 64.0625 14.71875 69.140625 \nQ 20.953125 74.21875 31.78125 74.21875 \nQ 42.671875 74.21875 48.875 69.140625 \nQ 55.078125 64.0625 55.078125 55.328125 \nQ 55.078125 49.078125 51.53125 44.71875 \nQ 48 40.375 41.703125 38.8125 \nQ 48.828125 37.15625 52.796875 32.3125 \nQ 56.78125 27.484375 56.78125 20.515625 \nQ 56.78125 9.90625 50.3125 4.234375 \nQ 43.84375 -1.421875 31.78125 -1.421875 \nQ 19.734375 -1.421875 13.25 4.234375 \nQ 6.78125 9.90625 6.78125 20.515625 \nQ 6.78125 27.484375 10.78125 32.3125 \nQ 14.796875 37.15625 21.921875 38.8125 \nz\nM 18.3125 54.390625 \nQ 18.3125 48.734375 21.84375 45.5625 \nQ 25.390625 42.390625 31.78125 42.390625 \nQ 38.140625 42.390625 41.71875 45.5625 \nQ 45.3125 48.734375 45.3125 54.390625 \nQ 45.3125 60.0625 41.71875 63.234375 \nQ 38.140625 66.40625 31.78125 66.40625 \nQ 25.390625 66.40625 21.84375 63.234375 \nQ 18.3125 60.0625 18.3125 54.390625 \nz\n\" id=\"DejaVuSans-56\"/>\n       </defs>\n       <use xlink:href=\"#DejaVuSans-48\"/>\n       <use x=\"63.623047\" xlink:href=\"#DejaVuSans-46\"/>\n       <use x=\"95.410156\" xlink:href=\"#DejaVuSans-56\"/>\n      </g>\n     </g>\n    </g>\n    <g id=\"xtick_9\">\n     <g id=\"line2d_9\">\n      <g>\n       <use style=\"stroke:#000000;stroke-width:0.8;\" x=\"356.047443\" xlink:href=\"#m31ef43691a\" y=\"224.64\"/>\n      </g>\n     </g>\n     <g id=\"text_9\">\n      <!-- 0.9 -->\n      <g transform=\"translate(348.095881 239.238437)scale(0.1 -0.1)\">\n       <defs>\n        <path d=\"M 10.984375 1.515625 \nL 10.984375 10.5 \nQ 14.703125 8.734375 18.5 7.8125 \nQ 22.3125 6.890625 25.984375 6.890625 \nQ 35.75 6.890625 40.890625 13.453125 \nQ 46.046875 20.015625 46.78125 33.40625 \nQ 43.953125 29.203125 39.59375 26.953125 \nQ 35.25 24.703125 29.984375 24.703125 \nQ 19.046875 24.703125 12.671875 31.3125 \nQ 6.296875 37.9375 6.296875 49.421875 \nQ 6.296875 60.640625 12.9375 67.421875 \nQ 19.578125 74.21875 30.609375 74.21875 \nQ 43.265625 74.21875 49.921875 64.515625 \nQ 56.59375 54.828125 56.59375 36.375 \nQ 56.59375 19.140625 48.40625 8.859375 \nQ 40.234375 -1.421875 26.421875 -1.421875 \nQ 22.703125 -1.421875 18.890625 -0.6875 \nQ 15.09375 0.046875 10.984375 1.515625 \nz\nM 30.609375 32.421875 \nQ 37.25 32.421875 41.125 36.953125 \nQ 45.015625 41.5 45.015625 49.421875 \nQ 45.015625 57.28125 41.125 61.84375 \nQ 37.25 66.40625 30.609375 66.40625 \nQ 23.96875 66.40625 20.09375 61.84375 \nQ 16.21875 57.28125 16.21875 49.421875 \nQ 16.21875 41.5 20.09375 36.953125 \nQ 23.96875 32.421875 30.609375 32.421875 \nz\n\" id=\"DejaVuSans-57\"/>\n       </defs>\n       <use xlink:href=\"#DejaVuSans-48\"/>\n       <use x=\"63.623047\" xlink:href=\"#DejaVuSans-46\"/>\n       <use x=\"95.410156\" xlink:href=\"#DejaVuSans-57\"/>\n      </g>\n     </g>\n    </g>\n   </g>\n   <g id=\"matplotlib.axis_2\">\n    <g id=\"ytick_1\">\n     <g id=\"line2d_10\">\n      <defs>\n       <path d=\"M 0 0 \nL -3.5 0 \n\" id=\"m9a0df31a3f\" style=\"stroke:#000000;stroke-width:0.8;\"/>\n      </defs>\n      <g>\n       <use style=\"stroke:#000000;stroke-width:0.8;\" x=\"36.465625\" xlink:href=\"#m9a0df31a3f\" y=\"201.372945\"/>\n      </g>\n     </g>\n     <g id=\"text_10\">\n      <!-- 0.35 -->\n      <g transform=\"translate(7.2 205.172164)scale(0.1 -0.1)\">\n       <use xlink:href=\"#DejaVuSans-48\"/>\n       <use x=\"63.623047\" xlink:href=\"#DejaVuSans-46\"/>\n       <use x=\"95.410156\" xlink:href=\"#DejaVuSans-51\"/>\n       <use x=\"159.033203\" xlink:href=\"#DejaVuSans-53\"/>\n      </g>\n     </g>\n    </g>\n    <g id=\"ytick_2\">\n     <g id=\"line2d_11\">\n      <g>\n       <use style=\"stroke:#000000;stroke-width:0.8;\" x=\"36.465625\" xlink:href=\"#m9a0df31a3f\" y=\"174.516975\"/>\n      </g>\n     </g>\n     <g id=\"text_11\">\n      <!-- 0.40 -->\n      <g transform=\"translate(7.2 178.316194)scale(0.1 -0.1)\">\n       <use xlink:href=\"#DejaVuSans-48\"/>\n       <use x=\"63.623047\" xlink:href=\"#DejaVuSans-46\"/>\n       <use x=\"95.410156\" xlink:href=\"#DejaVuSans-52\"/>\n       <use x=\"159.033203\" xlink:href=\"#DejaVuSans-48\"/>\n      </g>\n     </g>\n    </g>\n    <g id=\"ytick_3\">\n     <g id=\"line2d_12\">\n      <g>\n       <use style=\"stroke:#000000;stroke-width:0.8;\" x=\"36.465625\" xlink:href=\"#m9a0df31a3f\" y=\"147.661005\"/>\n      </g>\n     </g>\n     <g id=\"text_12\">\n      <!-- 0.45 -->\n      <g transform=\"translate(7.2 151.460224)scale(0.1 -0.1)\">\n       <use xlink:href=\"#DejaVuSans-48\"/>\n       <use x=\"63.623047\" xlink:href=\"#DejaVuSans-46\"/>\n       <use x=\"95.410156\" xlink:href=\"#DejaVuSans-52\"/>\n       <use x=\"159.033203\" xlink:href=\"#DejaVuSans-53\"/>\n      </g>\n     </g>\n    </g>\n    <g id=\"ytick_4\">\n     <g id=\"line2d_13\">\n      <g>\n       <use style=\"stroke:#000000;stroke-width:0.8;\" x=\"36.465625\" xlink:href=\"#m9a0df31a3f\" y=\"120.805035\"/>\n      </g>\n     </g>\n     <g id=\"text_13\">\n      <!-- 0.50 -->\n      <g transform=\"translate(7.2 124.604254)scale(0.1 -0.1)\">\n       <use xlink:href=\"#DejaVuSans-48\"/>\n       <use x=\"63.623047\" xlink:href=\"#DejaVuSans-46\"/>\n       <use x=\"95.410156\" xlink:href=\"#DejaVuSans-53\"/>\n       <use x=\"159.033203\" xlink:href=\"#DejaVuSans-48\"/>\n      </g>\n     </g>\n    </g>\n    <g id=\"ytick_5\">\n     <g id=\"line2d_14\">\n      <g>\n       <use style=\"stroke:#000000;stroke-width:0.8;\" x=\"36.465625\" xlink:href=\"#m9a0df31a3f\" y=\"93.949065\"/>\n      </g>\n     </g>\n     <g id=\"text_14\">\n      <!-- 0.55 -->\n      <g transform=\"translate(7.2 97.748284)scale(0.1 -0.1)\">\n       <use xlink:href=\"#DejaVuSans-48\"/>\n       <use x=\"63.623047\" xlink:href=\"#DejaVuSans-46\"/>\n       <use x=\"95.410156\" xlink:href=\"#DejaVuSans-53\"/>\n       <use x=\"159.033203\" xlink:href=\"#DejaVuSans-53\"/>\n      </g>\n     </g>\n    </g>\n    <g id=\"ytick_6\">\n     <g id=\"line2d_15\">\n      <g>\n       <use style=\"stroke:#000000;stroke-width:0.8;\" x=\"36.465625\" xlink:href=\"#m9a0df31a3f\" y=\"67.093095\"/>\n      </g>\n     </g>\n     <g id=\"text_15\">\n      <!-- 0.60 -->\n      <g transform=\"translate(7.2 70.892314)scale(0.1 -0.1)\">\n       <use xlink:href=\"#DejaVuSans-48\"/>\n       <use x=\"63.623047\" xlink:href=\"#DejaVuSans-46\"/>\n       <use x=\"95.410156\" xlink:href=\"#DejaVuSans-54\"/>\n       <use x=\"159.033203\" xlink:href=\"#DejaVuSans-48\"/>\n      </g>\n     </g>\n    </g>\n    <g id=\"ytick_7\">\n     <g id=\"line2d_16\">\n      <g>\n       <use style=\"stroke:#000000;stroke-width:0.8;\" x=\"36.465625\" xlink:href=\"#m9a0df31a3f\" y=\"40.237125\"/>\n      </g>\n     </g>\n     <g id=\"text_16\">\n      <!-- 0.65 -->\n      <g transform=\"translate(7.2 44.036344)scale(0.1 -0.1)\">\n       <use xlink:href=\"#DejaVuSans-48\"/>\n       <use x=\"63.623047\" xlink:href=\"#DejaVuSans-46\"/>\n       <use x=\"95.410156\" xlink:href=\"#DejaVuSans-54\"/>\n       <use x=\"159.033203\" xlink:href=\"#DejaVuSans-53\"/>\n      </g>\n     </g>\n    </g>\n    <g id=\"ytick_8\">\n     <g id=\"line2d_17\">\n      <g>\n       <use style=\"stroke:#000000;stroke-width:0.8;\" x=\"36.465625\" xlink:href=\"#m9a0df31a3f\" y=\"13.381155\"/>\n      </g>\n     </g>\n     <g id=\"text_17\">\n      <!-- 0.70 -->\n      <g transform=\"translate(7.2 17.180373)scale(0.1 -0.1)\">\n       <use xlink:href=\"#DejaVuSans-48\"/>\n       <use x=\"63.623047\" xlink:href=\"#DejaVuSans-46\"/>\n       <use x=\"95.410156\" xlink:href=\"#DejaVuSans-55\"/>\n       <use x=\"159.033203\" xlink:href=\"#DejaVuSans-48\"/>\n      </g>\n     </g>\n    </g>\n   </g>\n   <g id=\"line2d_18\">\n    <path clip-path=\"url(#p0f5d4ac060)\" d=\"M 51.683807 214.756364 \nL 55.103623 204.383033 \nL 58.523439 194.457052 \nL 61.943255 184.948482 \nL 65.363071 175.831717 \nL 68.782888 167.084621 \nL 72.202704 158.687886 \nL 75.62252 150.624536 \nL 79.042336 142.879542 \nL 82.462152 135.439518 \nL 85.881968 128.292479 \nL 89.301784 121.427643 \nL 92.7216 114.835271 \nL 96.141417 108.506531 \nL 99.561233 102.433391 \nL 102.981049 96.608523 \nL 106.400865 91.025223 \nL 109.820681 85.677348 \nL 113.240497 80.559256 \nL 116.660313 75.665757 \nL 120.08013 70.99207 \nL 123.499946 66.533784 \nL 126.919762 62.286832 \nL 130.339578 58.247454 \nL 133.759394 54.41218 \nL 137.17921 50.777801 \nL 140.599026 47.341357 \nL 144.018843 44.100112 \nL 147.438659 41.051545 \nL 150.858475 38.193335 \nL 154.278291 35.523345 \nL 157.698107 33.039617 \nL 161.117923 30.740359 \nL 164.537739 28.623939 \nL 167.957556 26.688874 \nL 171.377372 24.933828 \nL 174.797188 23.3576 \nL 178.217004 21.959126 \nL 181.63682 20.737469 \nL 185.056636 19.691818 \nL 188.476452 18.821483 \nL 191.896269 18.125893 \nL 195.316085 17.604596 \nL 198.735901 17.257252 \nL 202.155717 17.083636 \nL 205.575533 17.083636 \nL 208.995349 17.257252 \nL 212.415165 17.604596 \nL 215.834981 18.125893 \nL 219.254798 18.821483 \nL 222.674614 19.691818 \nL 226.09443 20.737469 \nL 229.514246 21.959126 \nL 232.934062 23.3576 \nL 236.353878 24.933828 \nL 239.773694 26.688874 \nL 243.193511 28.623939 \nL 246.613327 30.740359 \nL 250.033143 33.039617 \nL 253.452959 35.523345 \nL 256.872775 38.193335 \nL 260.292591 41.051545 \nL 263.712407 44.100112 \nL 267.132224 47.341357 \nL 270.55204 50.777801 \nL 273.971856 54.41218 \nL 277.391672 58.247454 \nL 280.811488 62.286832 \nL 284.231304 66.533784 \nL 287.65112 70.99207 \nL 291.070937 75.665757 \nL 294.490753 80.559256 \nL 297.910569 85.677348 \nL 301.330385 91.025223 \nL 304.750201 96.608523 \nL 308.170017 102.433391 \nL 311.589833 108.506531 \nL 315.00965 114.835271 \nL 318.429466 121.427643 \nL 321.849282 128.292479 \nL 325.269098 135.439518 \nL 328.688914 142.879542 \nL 332.10873 150.624536 \nL 335.528546 158.687886 \nL 338.948362 167.084621 \nL 342.368179 175.831717 \nL 345.787995 184.948482 \nL 349.207811 194.457052 \nL 352.627627 204.383033 \nL 356.047443 214.756364 \n\" style=\"fill:none;stroke:#1f77b4;stroke-linecap:square;stroke-width:1.5;\"/>\n   </g>\n   <g id=\"patch_3\">\n    <path d=\"M 36.465625 224.64 \nL 36.465625 7.2 \n\" style=\"fill:none;stroke:#000000;stroke-linecap:square;stroke-linejoin:miter;stroke-width:0.8;\"/>\n   </g>\n   <g id=\"patch_4\">\n    <path d=\"M 371.265625 224.64 \nL 371.265625 7.2 \n\" style=\"fill:none;stroke:#000000;stroke-linecap:square;stroke-linejoin:miter;stroke-width:0.8;\"/>\n   </g>\n   <g id=\"patch_5\">\n    <path d=\"M 36.465625 224.64 \nL 371.265625 224.64 \n\" style=\"fill:none;stroke:#000000;stroke-linecap:square;stroke-linejoin:miter;stroke-width:0.8;\"/>\n   </g>\n   <g id=\"patch_6\">\n    <path d=\"M 36.465625 7.2 \nL 371.265625 7.2 \n\" style=\"fill:none;stroke:#000000;stroke-linecap:square;stroke-linejoin:miter;stroke-width:0.8;\"/>\n   </g>\n  </g>\n </g>\n <defs>\n  <clipPath id=\"p0f5d4ac060\">\n   <rect height=\"217.44\" width=\"334.8\" x=\"36.465625\" y=\"7.2\"/>\n  </clipPath>\n </defs>\n</svg>\n",
      "image/png": "[encoded data removed]"
     },
     "metadata": {
      "needs_background": "light"
     }
    }
   ],
   "metadata": {}
  },
  {
   "cell_type": "markdown",
   "source": [
    "当两者概率均为0.5时，熵取得最大值，通过最大化熵，可以使得分布更“等可能”；另外，熵还有优秀的性质，它是一个凹函数，所以最大化熵其实是一个凸问题。  \n",
    "\n",
    "对于“已知事实”，可以用约束条件来描述，比如4个值的随机变量分布，其中已知$p_1+p_2=0.4$，它的求解可以表述如下：  \n",
    "\n",
    "$$\n",
    "\\max_{p} -\\sum_{i=1}^4 p_ilogp_i \\\\\n",
    "s.t. p_1+p_2=0.4\\\\\n",
    "p_i\\geq 0,i=1,2,3,4\\\\\n",
    "\\sum_i p_i=1\n",
    "$$  \n",
    "显然，最优解为：$p_1=0.2,p_2=0.2,p_3=0.3,p_4=0.3$"
   ],
   "metadata": {}
  },
  {
   "cell_type": "markdown",
   "source": [
    "### 二.最大熵模型\n",
    "最大熵模型是最大熵原理在分类问题上的应用，它假设分类模型是一个条件概率分布$P(Y|X)$，即对于给定的输入$X$，以概率$P(Y|X)$输出$Y$，这时最大熵模型的目标函数定义为条件熵：  \n",
    "\n",
    "$$\n",
    "H(P)=-\\sum_{x,y}\\tilde{P}(x)P(y|x)logP(y|x)\n",
    "$$  \n",
    "\n",
    "这里，$\\tilde{P}(x)$表示边缘分布$P(X)$的经验分布，$\\tilde{P}(x)=\\frac{v(X=x)}{N}$，$v(X=x)$表示训练样本中输入$x$出现的次数，$N$表示训练样本的总数。  \n",
    "\n",
    "而最大熵模型的“已知事实”可以通过如下等式来约束：  \n",
    "\n",
    "$$\n",
    "\\sum_{x,y}\\tilde{P}(x)P(y|x)f(x,y)=\\sum_{x,y}\\tilde{P}(x,y)f(x,y)\n",
    "$$\n",
    "\n",
    "为了方便，左边式子记着$E_P(f)$，右边式子记着$E_{\\tilde{P}}(f)$，等式描述的是某函数$f(x,y)$关于模型$P(Y|X)$与经验分布$\\tilde{P}(X)$的期望与函数$f(x,y)$关于经验分布$\\tilde{P}(X,Y)$的期望相同。(这里$\\tilde{P}(x,y)=\\frac{v(X=x,Y=y)}{N}$)  \n",
    "所以重要的约束信息将由$f(x,y)$来表示，它的定义如下：  \n",
    "$$\n",
    "f(x,y)=\\left\\{\\begin{matrix}\n",
    "1 & x与y满足某一事实\\\\ \n",
    "0 & 否则\n",
    "\\end{matrix}\\right.\n",
    "$$  \n",
    "\n",
    "故最大熵模型可以理解为，模型在某些事实发生的期望和训练集相同的条件下，使得条件熵最大化。所以，对于有$n$个约束条件的最大熵模型可以表示为：  \n",
    "\n",
    "$$\n",
    "\\max_P -\\sum_{x,y}\\tilde{P}(x)P(y|x)logP(y|x) \\\\\n",
    "s.t. E_P(f_i)=E_{\\tilde{P}}(f_i),i=1,2,...,n\\\\\n",
    "\\sum_y P(y|x)=1\n",
    "$$  \n",
    "\n",
    "按照优化问题的习惯，可以改写为如下：  \n",
    "\n",
    "$$\n",
    "\\min_P \\sum_{x,y}\\tilde{P}(x)P(y|x)logP(y|x) \\\\\n",
    "s.t. E_P(f_i)-E_{\\tilde{P}}(f_i)=0,i=1,2,...,n\\\\\n",
    "\\sum_y P(y|x)-1=0\n",
    "$$  \n",
    "\n",
    "由于目标函数为凸函数，约束条件为仿射，所以我们可以通过求解对偶问题，得到原始问题的最优解，首先引入拉格朗日乘子$w_0,w_1,...,w_n$，定义拉格朗日函数$L(P,w)$：  \n",
    "\n",
    "$$\n",
    "L(P,w)=-H(P)+w_0(1-\\sum_yP(y|x)+\\sum_{i=1}^nw_i(E_{\\tilde{P}}(f_i))-E_P(f_i))\n",
    "$$  \n",
    "\n",
    "所以原问题等价于：  \n",
    "$$\n",
    "\\min_P\\max_w L(P,w)\n",
    "$$  \n",
    "它的对偶问题：  \n",
    "$$\n",
    "\\max_w\\min_P L(P,w)\n",
    "$$  \n",
    "\n",
    "首先，解里面的 $\\min_P L(P,w)$，其实对于$\\forall w$，$L(P,w)$都是关于$P$的凸函数，因为$-H(P)$是关于$P$的凸函数，而后面的$w_0(1-\\sum_yP(y|x)+\\sum_{i=1}^nw_i(E_{\\tilde{P}}(f_i))-E_P(f_i))$是关于$P(y|x)$的仿射函数，所以求$L(P,w)$对$P$的偏导数，并令其等于0，即可解得最优的$P(y|x)$,记为$P_w(y|x)$，即：  \n",
    "$$\n",
    "\\frac{\\partial L(P,w)}{\\partial P(y|x)}=\\sum_{x,y}\\tilde{P}(x)(logP(y|x)+1)-\\sum_yw_0+\\sum_{i=1}^n\\sum_{x,y}\\tilde{P}(x)f_i(x,y)w_i\\\\\n",
    "=\\sum_{x,y}\\tilde{P}(x)(logP(y|x)+1-w_0-\\sum_{i=1}^nw_if_i(x,y))\\\\\n",
    "=0\n",
    "$$  \n",
    "\n",
    "在训练集中对任意样本$\\forall x,y$，都有$\\tilde{P}(x)(logP(y|x)+1-w_0-\\sum_{i=1}^nw_if_i(x,y))=0$，显然$\\tilde{P}(x)>0$($x$本来就是训练集中的一个样本，自然概率大于0)，所以$logP(y|x)+1-w_0-\\sum_{i=1}^nw_if_i(x,y)=0$，所以：  \n",
    "$$\n",
    "P_w(y|x)=exp(\\sum_{i=1}^nw_if_i(x,y)+w_0-1)\\\\\n",
    "=\\frac{exp(\\sum_{i=1}^nw_if_i(x,y))}{exp(1-w_0)}\\\\\n",
    "    =\\frac{exp(\\sum_{i=1}^nw_if_i(x,y))}{\\sum_y exp(\\sum_{i=1}^nw_if_i(x,y))}\n",
    "$$  \n",
    "\n",
    "这就是最大熵模型的表达式（最后一步变换用到了$\\sum_y P(y|x)=1$），这里$w$即是模型的参数，聪明的童鞋其实已经发现，最大熵模型其实就是一个线性函数外面套了一个**softmax**函数，它大概就是如下图所示的这么回事：  \n",
    "![avatar](./source/05_最大熵模型.svg)"
   ],
   "metadata": {}
  },
  {
   "cell_type": "markdown",
   "source": [
    "接下来，将$L(P_w,w)$带入外层的$max$函数，即可求解最优的参数$w^*$：  \n",
    "\n",
    "$$\n",
    "w^*=arg\\max_w L(P_w,w)\n",
    "$$  \n",
    "\n",
    "推导一下模型的梯度更新公式：  \n",
    "$$\n",
    "L(P_w,w)=\\sum_{x,y}\\tilde{P}(x)P_w(y|x)logP_w(y|x)+\\sum_{i=1}^nw_i\\sum_{x,y}(\\tilde{P}(x,y)f_i(x,y)-\\tilde{P}(x)P_w(y|x)f_i(x,y))\\\\\n",
    "=\\sum_{x,y}\\tilde{P}(x,y)\\sum_{i=1}^nw_if_i(x,y)+\\sum_{x,y}\\tilde{P}(x)P_w(y|x)(logP_w(y|x)-\\sum_{i=1}^nw_if_i(x,y))\\\\\n",
    "=\\sum_{x,y}\\tilde{P}(x,y)\\sum_{i=1}^nw_if_i(x,y)-\\sum_{x,y}\\tilde{P}(x)P_w(y|x)log(\\sum_{y^{'}}exp(\\sum_{i=1}^nw_if_i(x,y^{'})))\\\\\n",
    "=\\sum_{x,y}\\tilde{P}(x,y)\\sum_{i=1}^nw_if_i(x,y)-\\sum_{x}\\tilde{P}(x)log(\\sum_{y^{'}}exp(\\sum_{i=1}^nw_if_i(x,y^{'})))\\\\\n",
    "=\\sum_{x,y}\\tilde{P}(x,y)w^Tf(x,y)-\\sum_{x}\\tilde{P}(x)log(\\sum_{y^{'}}exp(w^Tf(x,y^{'})))\n",
    "$$  \n",
    "这里，倒数第三步到倒数第二步用到了$\\sum_yP(y|x)=1$，最后一步中$w=[w_1,w_2,...,w_n]^T,f(x,y)=[f_1(x,y),f_2(x,y),...,f_n(x,y)]^T$，所以：  \n",
    "$$\n",
    "\\frac{\\partial L(P_w,w)}{\\partial w}=\\sum_{x,y}\\tilde{P}(x,y)f(x,y)-\\sum_x\\tilde{P}(x)\\frac{exp(w^Tf(x,y))f(x,y)}{\\sum_{y^{'}}exp(w^Tf(x,y^{'}))} \n",
    "$$  \n",
    "\n",
    "所以，自然$w$的更新公式：  \n",
    "$$\n",
    "w=w+\\eta\\frac{\\partial L(P_w,w)}{\\partial w}\n",
    "$$  \n",
    "这里，$\\eta$是学习率"
   ],
   "metadata": {}
  },
  {
   "cell_type": "markdown",
   "source": [
    "### 三.对特征函数的进一步理解\n",
    "上面推导出了最大熵模型的梯度更新公式，想必大家对$f(x,y)$还是有点疑惑，**“满足某一事实”**这句话该如何理解？这其实与我们的学习目的相关，学习目的决定了我们的**“事实”**，比如有这样一个任务，判断“打”这个词是量词还是动词，我们收集了如下的语料：  \n",
    "\n",
    "| 句子/$x$ |  目标/$y$  |\n",
    "|-|-|\n",
    "| $x_1:$一打火柴 |  $y_1:$量词 |\n",
    "|  $x_2:$三打啤酒 |  $y_2:$量词 |\n",
    "|  $x_3:$打电话 | $y_3:$ 动词 |\n",
    "|  $x_4:$打篮球 | $y_4:$ 动词 |  \n",
    "\n",
    "通过观察，我们可以设计如下的两个特征函数来分别识别\"量词\"和\"动词\"任务：  \n",
    "$$\n",
    "f_1(x,y)=\\left\\{\\begin{matrix}\n",
    "1 & \"打\"前是数字\\\\ \n",
    "0 & 否则\n",
    "\\end{matrix}\\right.\n",
    "$$  \n",
    "\n",
    "$$\n",
    "f_2(x,y)=\\left\\{\\begin{matrix}\n",
    "1 & \"打\"后是名词，且前面无数字\\\\ \n",
    "0 & 否则\n",
    "\\end{matrix}\\right.\n",
    "$$  \n",
    "\n",
    "当然，你也可以设计这样的特征函数来做识别“量词”的任务：  \n",
    "$$\n",
    "f(x,y)=\\left\\{\\begin{matrix}\n",
    "1 & \"打\"前是\"一\",\"打\"后是\"火柴\"\\\\ \n",
    "0 & 否则\n",
    "\\end{matrix}\\right.\n",
    "$$  \n",
    "\n",
    "$$\n",
    "f(x,y)=\\left\\{\\begin{matrix}\n",
    "1 & \"打\"前是\"三\",\"打\"后是\"啤酒\"\\\\ \n",
    "0 & 否则\n",
    "\\end{matrix}\\right.\n",
    "$$  \n",
    "只是，这样的特征函数设计会使得模型学习能力变弱，比如遇到“三打火柴”，采用后面的特征函数设计就识别不出“打”是量词，而采用第一种特征函数设计就能很好的识别出来，所以要使模型具有更好的泛化能力，就需要设计更好的特征函数，而这往往依赖于人工经验，对于自然语言处理这类任务（比如上面的例子），我们可以较容易的归纳总结出一些有用的经验知识，但是对于其他情况，人工往往难以总结出一般性的规律，所以对于这些问题，我们需要设计更**“一般”**的特征函数。  \n",
    "#### 一种简单的特征函数设计\n",
    "我们可以简单考虑$x$的某个特征取某个值和$y$取某个类的组合做特征函数（对于连续型特征，可以采用分箱操作），所以我们可以设计这样两类特征函数：  \n",
    "\n",
    "（1）离散型：  \n",
    "$$\n",
    "f(x,y)=\\left\\{\\begin{matrix}\n",
    "1 & x_i=某值,y=某类\\\\ \n",
    "0 & 否则\n",
    "\\end{matrix}\\right.\n",
    "$$  \n",
    "\n",
    "（2）连续型：  \n",
    "$$\n",
    "f(x,y)=\\left\\{\\begin{matrix}\n",
    "1 & 某值1\\leq x_i< 某值2,y=某类\\\\ \n",
    "0 & 否则\n",
    "\\end{matrix}\\right.\n",
    "$$ "
   ],
   "metadata": {}
  },
  {
   "cell_type": "markdown",
   "source": [
    " ### 四.代码实现\n",
    "为了方便演示，首先构建训练数据和测试数据"
   ],
   "metadata": {}
  },
  {
   "cell_type": "code",
   "execution_count": 85,
   "source": [
    "# 测试\n",
    "from sklearn import datasets\n",
    "from sklearn import model_selection\n",
    "from sklearn.metrics import f1_score\n",
    "\n",
    "iris = datasets.load_iris()\n",
    "data = iris['data']\n",
    "target = iris['target']\n",
    "X_train, X_test, y_train, y_test = model_selection.train_test_split(data, target, test_size=0.2,random_state=0)\n",
    "print(X_train.shape,y_train.shape)\n",
    "print(np.unique(y_train))"
   ],
   "outputs": [
    {
     "output_type": "stream",
     "name": "stdout",
     "text": [
      "(120, 4) (120,)\n",
      "[0 1 2]\n"
     ]
    }
   ],
   "metadata": {}
  },
  {
   "cell_type": "markdown",
   "source": [
    "为了方便对数据进行分箱操作，封装一个DataBinWrapper类，并对X_train和X_test进行转换（该类放到ml_models.wrapper_models中）"
   ],
   "metadata": {}
  },
  {
   "cell_type": "code",
   "execution_count": 86,
   "source": [
    "class DataBinWrapper(object):\n",
    "    def __init__(self, max_bins=10):\n",
    "        # 分段数\n",
    "        self.max_bins = max_bins\n",
    "        # 记录x各个特征的分段区间\n",
    "        self.XrangeMap = None\n",
    "\n",
    "    def fit(self, x):\n",
    "        n_sample, n_feature = x.shape\n",
    "        # 构建分段数据\n",
    "        self.XrangeMap = [[] for _ in range(0, n_feature)]\n",
    "        for index in range(0, n_feature):\n",
    "            tmp = x[:, index]\n",
    "            for percent in range(1, self.max_bins):\n",
    "                percent_value = np.percentile(tmp, (1.0 * percent / self.max_bins) * 100.0 // 1)\n",
    "                self.XrangeMap[index].append(percent_value)\n",
    "\n",
    "    def transform(self, x):\n",
    "        \"\"\"\n",
    "        抽取x_bin_index\n",
    "        :param x:\n",
    "        :return:\n",
    "        \"\"\"\n",
    "        if x.ndim == 1:\n",
    "            return np.asarray([np.digitize(x[i], self.XrangeMap[i]) for i in range(0, x.size)])\n",
    "        else:\n",
    "            return np.asarray([np.digitize(x[:, i], self.XrangeMap[i]) for i in range(0, x.shape[1])]).T"
   ],
   "outputs": [],
   "metadata": {}
  },
  {
   "cell_type": "code",
   "execution_count": 87,
   "source": [
    "data_bin_wrapper=DataBinWrapper(max_bins=10)\n",
    "data_bin_wrapper.fit(X_train)\n",
    "X_train=data_bin_wrapper.transform(X_train)\n",
    "X_test=data_bin_wrapper.transform(X_test)"
   ],
   "outputs": [],
   "metadata": {}
  },
  {
   "cell_type": "code",
   "execution_count": 88,
   "source": [
    "X_train[:5,:]"
   ],
   "outputs": [
    {
     "output_type": "execute_result",
     "data": {
      "text/plain": [
       "array([[7, 6, 8, 7],\n",
       "       [3, 5, 5, 6],\n",
       "       [2, 8, 2, 2],\n",
       "       [6, 5, 6, 7],\n",
       "       [7, 2, 8, 8]])"
      ]
     },
     "metadata": {},
     "execution_count": 88
    }
   ],
   "metadata": {}
  },
  {
   "cell_type": "code",
   "execution_count": 89,
   "source": [
    "X_test[:5,:]"
   ],
   "outputs": [
    {
     "output_type": "execute_result",
     "data": {
      "text/plain": [
       "array([[5, 2, 7, 9],\n",
       "       [5, 0, 4, 3],\n",
       "       [3, 9, 1, 2],\n",
       "       [9, 3, 9, 7],\n",
       "       [1, 8, 2, 2]])"
      ]
     },
     "metadata": {},
     "execution_count": 89
    }
   ],
   "metadata": {}
  },
  {
   "cell_type": "markdown",
   "source": [
    "由于特征函数可以有不同的形式，这里我们将特征函数解耦出来，构造一个SimpleFeatureFunction类（后续构造其他复杂的特征函数，需要定义和该类相同的函数名，该类放置到ml_models.linear_model中）"
   ],
   "metadata": {}
  },
  {
   "cell_type": "code",
   "execution_count": 90,
   "source": [
    "class SimpleFeatureFunction(object):\n",
    "    def __init__(self):\n",
    "        \"\"\"\n",
    "        记录特征函数\n",
    "        {\n",
    "            (x_index,x_value,y_index)\n",
    "        }\n",
    "        \"\"\"\n",
    "        self.feature_funcs = set()\n",
    "\n",
    "    # 构建特征函数\n",
    "    def build_feature_funcs(self, X, y):\n",
    "        n_sample, _ = X.shape\n",
    "        for index in range(0, n_sample):\n",
    "            x = X[index, :].tolist()\n",
    "            for feature_index in range(0, len(x)):\n",
    "                self.feature_funcs.add(tuple([feature_index, x[feature_index], y[index]]))\n",
    "\n",
    "    # 获取特征函数总数\n",
    "    def get_feature_funcs_num(self):\n",
    "        return len(self.feature_funcs)\n",
    "\n",
    "    # 分别命中了那几个特征函数\n",
    "    def match_feature_funcs_indices(self, x, y):\n",
    "        match_indices = []\n",
    "        index = 0\n",
    "        for feature_index, feature_value, feature_y in self.feature_funcs:\n",
    "            if feature_y == y and x[feature_index] == feature_value:\n",
    "                match_indices.append(index)\n",
    "            index += 1\n",
    "        return match_indices"
   ],
   "outputs": [],
   "metadata": {}
  },
  {
   "cell_type": "markdown",
   "source": [
    "接下来对MaxEnt类进行实现，首先实现一个softmax函数的功能(ml_models.utils)"
   ],
   "metadata": {}
  },
  {
   "cell_type": "code",
   "execution_count": 91,
   "source": [
    "def softmax(x):\n",
    "    if x.ndim == 1:\n",
    "        return np.exp(x) / np.exp(x).sum()\n",
    "    else:\n",
    "        return np.exp(x) / np.exp(x).sum(axis=1, keepdims=True)"
   ],
   "outputs": [],
   "metadata": {}
  },
  {
   "cell_type": "markdown",
   "source": [
    "进行MaxEnt类的具体实现（ml_models.linear_model）"
   ],
   "metadata": {}
  },
  {
   "cell_type": "code",
   "execution_count": 95,
   "source": [
    "from ml_models import utils\n",
    "class MaxEnt(object):\n",
    "    def __init__(self, feature_func, epochs=5, eta=0.01):\n",
    "        self.feature_func = feature_func\n",
    "        self.epochs = epochs\n",
    "        self.eta = eta\n",
    "\n",
    "        self.class_num = None\n",
    "        \"\"\"\n",
    "        记录联合概率分布:\n",
    "        {\n",
    "            (x_0,x_1,...,x_p,y_index):p\n",
    "        }\n",
    "        \"\"\"\n",
    "        self.Pxy = {}\n",
    "        \"\"\"\n",
    "        记录边缘概率分布:\n",
    "        {\n",
    "            (x_0,x_1,...,x_p):p\n",
    "        }\n",
    "        \"\"\"\n",
    "        self.Px = {}\n",
    "\n",
    "        \"\"\"\n",
    "        w[i]-->feature_func[i]\n",
    "        \"\"\"\n",
    "        self.w = None\n",
    "\n",
    "    def init_params(self, X, y):\n",
    "        \"\"\"\n",
    "        初始化相应的数据\n",
    "        :return:\n",
    "        \"\"\"\n",
    "        n_sample, n_feature = X.shape\n",
    "        self.class_num = np.max(y) + 1\n",
    "\n",
    "        # 初始化联合概率分布、边缘概率分布、特征函数\n",
    "        for index in range(0, n_sample):\n",
    "            range_indices = X[index, :].tolist()\n",
    "\n",
    "            if self.Px.get(tuple(range_indices)) is None:\n",
    "                self.Px[tuple(range_indices)] = 1\n",
    "            else:\n",
    "                self.Px[tuple(range_indices)] += 1\n",
    "\n",
    "            if self.Pxy.get(tuple(range_indices + [y[index]])) is None:\n",
    "                self.Pxy[tuple(range_indices + [y[index]])] = 1\n",
    "            else:\n",
    "                self.Pxy[tuple(range_indices + [y[index]])] += 1\n",
    "\n",
    "        for key, value in self.Pxy.items():\n",
    "            self.Pxy[key] = 1.0 * self.Pxy[key] / n_sample\n",
    "        for key, value in self.Px.items():\n",
    "            self.Px[key] = 1.0 * self.Px[key] / n_sample\n",
    "\n",
    "        # 初始化参数权重\n",
    "        self.w = np.zeros(self.feature_func.get_feature_funcs_num())\n",
    "\n",
    "    def _sum_exp_w_on_all_y(self, x):\n",
    "        \"\"\"\n",
    "        sum_y exp(self._sum_w_on_feature_funcs(x))\n",
    "        :param x:\n",
    "        :return:\n",
    "        \"\"\"\n",
    "        sum_w = 0\n",
    "        for y in range(0, self.class_num):\n",
    "            tmp_w = self._sum_exp_w_on_y(x, y)\n",
    "            sum_w += tmp_w\n",
    "        return sum_w\n",
    "\n",
    "    def _sum_exp_w_on_y(self, x, y):\n",
    "        tmp_w = 0\n",
    "        match_feature_func_indices = self.feature_func.match_feature_funcs_indices(x, y)\n",
    "        for match_feature_func_index in match_feature_func_indices:\n",
    "            tmp_w += self.w[match_feature_func_index]\n",
    "        return np.exp(tmp_w)\n",
    "    \n",
    "    def _P_w_y_conditioned_x(self,x,y):\n",
    "        return self._sum_exp_w_on_y(x,y) / (1e-7 + self._sum_exp_w_on_all_y(x))\n",
    "\n",
    "    def fit(self, X, y):\n",
    "        self.eta = max(1.0 / np.sqrt(X.shape[0]), self.eta)\n",
    "        self.init_params(X, y)\n",
    "        x_y = np.c_[X, y]\n",
    "        for epoch in range(self.epochs):\n",
    "            count = 0\n",
    "            np.random.shuffle(x_y)\n",
    "            for index in range(x_y.shape[0]):\n",
    "                count += 1\n",
    "                x_point = x_y[index, :-1]\n",
    "                y_point = x_y[index, -1:][0]\n",
    "                # 获取联合概率分布\n",
    "                p_xy = self.Pxy.get(tuple(x_point.tolist() + [y_point]))\n",
    "                # 获取边缘概率分布\n",
    "                p_x = self.Px.get(tuple(x_point))\n",
    "                # 更新w\n",
    "                dw = np.zeros(shape=self.w.shape)\n",
    "                match_feature_func_indices = self.feature_func.match_feature_funcs_indices(x_point, y_point)\n",
    "                if len(match_feature_func_indices) == 0:\n",
    "                    continue\n",
    "                if p_xy is not None:\n",
    "                    for match_feature_func_index in match_feature_func_indices:\n",
    "                        dw[match_feature_func_index] = p_xy\n",
    "                \n",
    "                if p_x is not None:\n",
    "                    for y_i in range(self.class_num):\n",
    "                        match_func_indices = self.feature_func.match_feature_funcs_indices(x_point,y_i)\n",
    "                        for index in match_func_indices:\n",
    "                            dw[index] -= p_x * self._P_w_y_conditioned_x(x_point,y_i)\n",
    "                # 更新\n",
    "                self.w += self.eta * dw\n",
    "                # 打印训练进度\n",
    "                if count % (X.shape[0] // 4) == 0:\n",
    "                    print(\"processing:\\tepoch:\" + str(epoch + 1) + \"/\" + str(self.epochs) + \",percent:\" + str(\n",
    "                        count) + \"/\" + str(X.shape[0]))\n",
    "\n",
    "    def predict_proba(self, x):\n",
    "        \"\"\"\n",
    "        预测为y的概率分布\n",
    "        :param x:\n",
    "        :return:\n",
    "        \"\"\"\n",
    "        y = []\n",
    "        for x_point in x:\n",
    "            y_tmp = []\n",
    "            for y_index in range(0, self.class_num):\n",
    "                match_feature_func_indices = self.feature_func.match_feature_funcs_indices(x_point, y_index)\n",
    "                tmp = 0\n",
    "                for match_feature_func_index in match_feature_func_indices:\n",
    "                    tmp += self.w[match_feature_func_index]\n",
    "                y_tmp.append(tmp)\n",
    "            y.append(y_tmp)\n",
    "        return utils.softmax(np.asarray(y))\n",
    "\n",
    "    def predict(self, x):\n",
    "        return np.argmax(self.predict_proba(x), axis=1)"
   ],
   "outputs": [],
   "metadata": {}
  },
  {
   "cell_type": "code",
   "execution_count": 96,
   "source": [
    "# 构建特征函数类\n",
    "feature_func=SimpleFeatureFunction()\n",
    "feature_func.build_feature_funcs(X_train,y_train)\n",
    "\n",
    "maxEnt = MaxEnt(feature_func=feature_func)\n",
    "maxEnt.fit(X_train, y_train)\n",
    "y = maxEnt.predict(X_test)\n",
    "\n",
    "print('f1:', f1_score(y_test, y, average='macro'))"
   ],
   "outputs": [
    {
     "output_type": "stream",
     "name": "stdout",
     "text": [
      "processing:\tepoch:1/5,percent:30/120\n",
      "processing:\tepoch:1/5,percent:60/120\n",
      "processing:\tepoch:1/5,percent:90/120\n",
      "processing:\tepoch:1/5,percent:120/120\n",
      "processing:\tepoch:2/5,percent:30/120\n",
      "processing:\tepoch:2/5,percent:60/120\n",
      "processing:\tepoch:2/5,percent:90/120\n",
      "processing:\tepoch:2/5,percent:120/120\n",
      "processing:\tepoch:3/5,percent:30/120\n",
      "processing:\tepoch:3/5,percent:60/120\n",
      "processing:\tepoch:3/5,percent:90/120\n",
      "processing:\tepoch:3/5,percent:120/120\n",
      "processing:\tepoch:4/5,percent:30/120\n",
      "processing:\tepoch:4/5,percent:60/120\n",
      "processing:\tepoch:4/5,percent:90/120\n",
      "processing:\tepoch:4/5,percent:120/120\n",
      "processing:\tepoch:5/5,percent:30/120\n",
      "processing:\tepoch:5/5,percent:60/120\n",
      "processing:\tepoch:5/5,percent:90/120\n",
      "processing:\tepoch:5/5,percent:120/120\n",
      "f1: 0.9188034188034188\n"
     ]
    }
   ],
   "metadata": {}
  },
  {
   "cell_type": "markdown",
   "source": [
    "通过前面的分析，我们知道特征函数的复杂程度决定了模型的复杂度，下面我们添加更复杂的特征函数来增强MaxEnt的效果，上面的特征函数仅考虑了单个特征与目标的关系，我们进一步考虑二个特征与目标的关系，即：  \n",
    "\n",
    "$$\n",
    "f(x,y)=\\left\\{\\begin{matrix}\n",
    "1 & x_i=某值,x_j=某值,y=某类\\\\ \n",
    "0 & 否则\n",
    "\\end{matrix}\\right.\n",
    "$$  \n",
    "\n",
    "如此，我们可以定义一个新的UserDefineFeatureFunction类（**注意:类中的方法名称要和SimpleFeatureFunction一样**）"
   ],
   "metadata": {}
  },
  {
   "cell_type": "code",
   "execution_count": 94,
   "source": [
    "class UserDefineFeatureFunction(object):\n",
    "    def __init__(self):\n",
    "        \"\"\"\n",
    "        记录特征函数\n",
    "        {\n",
    "            (x_index1,x_value1,x_index2,x_value2,y_index)\n",
    "        }\n",
    "        \"\"\"\n",
    "        self.feature_funcs = set()\n",
    "\n",
    "    # 构建特征函数\n",
    "    def build_feature_funcs(self, X, y):\n",
    "        n_sample, _ = X.shape\n",
    "        for index in range(0, n_sample):\n",
    "            x = X[index, :].tolist()\n",
    "            for feature_index in range(0, len(x)):\n",
    "                self.feature_funcs.add(tuple([feature_index, x[feature_index], y[index]]))\n",
    "                for new_feature_index in range(0,len(x)):\n",
    "                    if feature_index!=new_feature_index:\n",
    "                        self.feature_funcs.add(tuple([feature_index, x[feature_index],new_feature_index,x[new_feature_index],y[index]]))\n",
    "\n",
    "    # 获取特征函数总数\n",
    "    def get_feature_funcs_num(self):\n",
    "        return len(self.feature_funcs)\n",
    "\n",
    "    # 分别命中了那几个特征函数\n",
    "    def match_feature_funcs_indices(self, x, y):\n",
    "        match_indices = []\n",
    "        index = 0\n",
    "        for item in self.feature_funcs:\n",
    "            if len(item)==5:\n",
    "                feature_index1, feature_value1,feature_index2,feature_value2, feature_y=item\n",
    "                if feature_y == y and x[feature_index1] == feature_value1 and x[feature_index2]==feature_value2:\n",
    "                    match_indices.append(index)\n",
    "            else:\n",
    "                feature_index1, feature_value1, feature_y=item\n",
    "                if feature_y == y and x[feature_index1] == feature_value1:\n",
    "                    match_indices.append(index)\n",
    "            index += 1\n",
    "        return match_indices"
   ],
   "outputs": [],
   "metadata": {}
  },
  {
   "cell_type": "code",
   "execution_count": 80,
   "source": [
    "# 检验\n",
    "feature_func=UserDefineFeatureFunction()\n",
    "feature_func.build_feature_funcs(X_train,y_train)\n",
    "\n",
    "maxEnt = MaxEnt(feature_func=feature_func)\n",
    "maxEnt.fit(X_train, y_train)\n",
    "y = maxEnt.predict(X_test)\n",
    "\n",
    "print('f1:', f1_score(y_test, y, average='macro'))"
   ],
   "outputs": [
    {
     "output_type": "stream",
     "name": "stdout",
     "text": [
      "processing:\tepoch:1/5,percent:30/120\n",
      "processing:\tepoch:1/5,percent:60/120\n",
      "processing:\tepoch:1/5,percent:90/120\n",
      "processing:\tepoch:1/5,percent:120/120\n",
      "processing:\tepoch:2/5,percent:30/120\n",
      "processing:\tepoch:2/5,percent:60/120\n",
      "processing:\tepoch:2/5,percent:90/120\n",
      "processing:\tepoch:2/5,percent:120/120\n",
      "processing:\tepoch:3/5,percent:30/120\n",
      "processing:\tepoch:3/5,percent:60/120\n",
      "processing:\tepoch:3/5,percent:90/120\n",
      "processing:\tepoch:3/5,percent:120/120\n",
      "processing:\tepoch:4/5,percent:30/120\n",
      "processing:\tepoch:4/5,percent:60/120\n",
      "processing:\tepoch:4/5,percent:90/120\n",
      "processing:\tepoch:4/5,percent:120/120\n",
      "processing:\tepoch:5/5,percent:30/120\n",
      "processing:\tepoch:5/5,percent:60/120\n",
      "processing:\tepoch:5/5,percent:90/120\n",
      "processing:\tepoch:5/5,percent:120/120\n",
      "f1: 0.957351290684624\n"
     ]
    }
   ],
   "metadata": {}
  },
  {
   "cell_type": "markdown",
   "source": [
    "我们可以根据自己对数据的认识，不断为模型添加一些新特征函数去增强模型的效果，只需要修改`build_feature_funcs`和`match_feature_funcs_indices`这两个函数即可（**但注意控制函数的数量规模**）  \n",
    "简单总结一下MaxEnt的优缺点，优点很明显：我们可以diy任意复杂的特征函数进去，缺点也很明显：训练很耗时，而且特征函数的设计好坏需要先验知识，对于某些任务很难直观获取"
   ],
   "metadata": {}
  },
  {
   "cell_type": "code",
   "execution_count": null,
   "source": [],
   "outputs": [],
   "metadata": {}
  }
 ],
 "metadata": {
  "kernelspec": {
   "name": "python3",
   "display_name": "Python 3.8.5 64-bit ('base': conda)"
  },
  "language_info": {
   "codemirror_mode": {
    "name": "ipython",
    "version": 3
   },
   "file_extension": ".py",
   "mimetype": "text/x-python",
   "name": "python",
   "nbconvert_exporter": "python",
   "pygments_lexer": "ipython3",
   "version": "3.8.5"
  },
  "interpreter": {
   "hash": "2b0d8445d30565f6cf0731071b42a683b7aa132b1cb9bae01ff5d96fc7237cfa"
  }
 },
 "nbformat": 4,
 "nbformat_minor": 2
}