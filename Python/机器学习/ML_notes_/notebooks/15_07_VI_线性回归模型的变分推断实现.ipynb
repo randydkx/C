{
 "cells": [
  {
   "cell_type": "markdown",
   "source": [
    "### 一.联合概率分布\n",
    "前两节我们分别介绍了线性回归的贝叶斯估计以及它的一种近似计算方法：证据近似，贝叶斯估计的图模型结构如下  \n",
    "![avatar](./source/15_VI_贝叶斯线性回归图模型.png)\n",
    "为了方便，我们将$\\beta$看做一个常数，回忆一下上一节，我们的似然函数和共轭先验如下：   \n",
    "\n",
    "$$\n",
    "p(t\\mid w)=\\prod_{n=1}^N N(t_n\\mid w^T\\phi(x_n),\\beta^{-1})\\\\\n",
    "p(w\\mid \\alpha)=N(w\\mid 0,\\alpha^{-1}I)\n",
    "$$  \n",
    "这里，$X=\\{x_1,x_2,...,x_N\\}$，$I$为单位矩阵，与上一节给$\\alpha$取定值不同，我们这里将$\\alpha$看做来源于一个Gamma分布，即   \n",
    "$$\n",
    "p(\\alpha)=Gam(\\alpha\\mid a_0,b_0)\n",
    "$$   \n",
    "所以，所有变量上的联合概率分布就有了   \n",
    "\n",
    "$$\n",
    "p(t,w,\\alpha)=p(t\\mid w)p(w\\mid\\alpha)p(\\alpha)\n",
    "$$"
   ],
   "metadata": {}
  },
  {
   "cell_type": "markdown",
   "source": [
    "### 二.变分分布\n",
    "接下来，我们就是要构建一个变分分布$q(w,\\alpha)$去近似后验概率分布$p(w,\\alpha\\mid t)$，利用平均场假设，令：   \n",
    "\n",
    "$$\n",
    "q(w,\\alpha)=q(w)q(\\alpha)\n",
    "$$  \n",
    "\n",
    "根据VI第一节最后推导的公式，我们可以直接写出最优解：   \n",
    "\n",
    "$$\n",
    "ln\\ q^*(\\alpha)=ln\\ p(\\alpha)+E_w[ln\\ p(w\\mid\\alpha)]+const\\\\\n",
    "=(a_0-1)ln\\ \\alpha-b_0\\alpha+\\frac{M}{2}ln\\ \\alpha-\\frac{\\alpha}{2}E[w^Tw]+const\n",
    "$$  \n",
    "\n",
    "可以发现这个Gamma分布取对数的形式，通过观察系数项，我们有  \n",
    "\n",
    "$$\n",
    "q^*(\\alpha)=Gam(a\\mid a_N,b_N)\n",
    "$$  \n",
    "\n",
    "其中  \n",
    "\n",
    "$$\n",
    "a_N=a_0+\\frac{M}{2}\\\\\n",
    "b_N=b_0+\\frac{1}{2}E[w^Tw]\n",
    "$$  \n",
    "\n",
    "同样的方式，我们可以求解$q^*(w)$:   \n",
    "\n",
    "$$\n",
    "ln\\ q^*(w)=ln\\ p(t\\mid w)+E_\\alpha[ln\\ p(w\\mid \\alpha)]+const\\\\\n",
    "=-\\frac{\\beta}{2}\\sum_{n=1}^N\\left \\{w^T\\phi(x_n)-t_n\\right \\}^2-\\frac{1}{2}E[\\alpha]w^Tw+const\\\\\n",
    "=-\\frac{1}{2}w^T(E[\\alpha]I+\\beta\\Phi^T\\Phi)w+\\beta w^T\\Phi^Tt+const\n",
    "$$  \n",
    "\n",
    "可以发现这是关于$w$的二次型，所以$q^*(w)$是一个高斯分布，通过配方可以得到：   \n",
    "\n",
    "$$\n",
    "q^*(w)=N(w\\mid m_N,S_N)\n",
    "$$  \n",
    "\n",
    "其中   \n",
    "\n",
    "$$\n",
    "m_N=\\beta S_N\\Phi^Tt\\\\\n",
    "S_N=(E[\\alpha]I+\\beta\\Phi^T\\Phi)^{-1}\n",
    "$$  \n",
    "\n",
    "细心的同学已经发现了，把$E[\\alpha]$换成$\\alpha$就是上一节推导出来的结果"
   ],
   "metadata": {}
  },
  {
   "cell_type": "markdown",
   "source": [
    "### 三.迭代求解\n",
    "\n",
    "可以发现$q^*(w)$与$q^*(\\alpha)$之间是相互耦合的，$q^*(w)$中需要用到$E[\\alpha]$，而$q^*(\\alpha)$中需要用到$E[w^Tw]$，而根据Gamma分布和高斯分布的性质，我们可以很方便的写出这两个期望的求解公式   \n",
    "\n",
    "$$\n",
    "E[\\alpha]=\\frac{a_N}{b_N}\\\\\n",
    "E[w^Tw]=m_N^Tm_N+Tr(S_N)\n",
    "$$  \n",
    "\n",
    "那么，我们初始随意为$E[\\alpha]$赋予一个大于0的值，就可以迭代起来了：$E_0[\\alpha]\\rightarrow E_0[w^Tw]\\rightarrow E_1[\\alpha]\\rightarrow E_1[w^Tw]\\rightarrow \\cdots$"
   ],
   "metadata": {}
  },
  {
   "cell_type": "markdown",
   "source": [
    "### 四.应用：预测分布\n",
    "对于新的样本点$\\hat{x}$，我们需要给出预测$\\hat{t}$，其概率预测同样使用上一节的贝叶斯积分，只不过将后验分布替换成变分分布   \n",
    "\n",
    "$$\n",
    "p(\\hat{t}\\mid \\hat{x},t)=\\int p(\\hat{t}\\mid\\hat{x},w)p(w\\mid t)dw\\\\\n",
    "\\simeq \\int p(\\hat{t}\\mid\\hat{x},w)q(w)dw\\\\\n",
    "=\\int N(\\hat{t}\\mid w^T\\phi(\\hat{x}),\\beta^{-1})N(w\\mid m_N,S_N)dw\\\\\n",
    "=N(\\hat{t}\\mid m_N^T\\phi(\\hat{x}),\\sigma^2(\\hat{x}))\n",
    "$$  \n",
    "\n",
    "这里$\\sigma^2(\\hat{x})=\\frac{1}{\\beta}+\\phi(\\hat{x})^TS_N\\phi(\\hat{x})$"
   ],
   "metadata": {}
  },
  {
   "cell_type": "markdown",
   "source": [
    " ### 五.代码实现"
   ],
   "metadata": {}
  },
  {
   "cell_type": "code",
   "execution_count": 1,
   "source": [
    "\"\"\"\n",
    "线性回归的vi实现，代码封装到ml_models.vi中\n",
    "\"\"\"\n",
    "import numpy as np\n",
    "import matplotlib.pyplot as plt\n",
    "\n",
    "\n",
    "class LinearRegression(object):\n",
    "    def __init__(self, basis_func=None, beta=1e-12, tol=1e-5, epochs=100):\n",
    "        \"\"\"\n",
    "        :param basis_func: list,基函数列表，包括rbf,sigmoid,poly_{num},linear，默认None为linear，其中poly_{num}中的{num}表示多项式的最高阶数\n",
    "        :param beta: 生成t标签的高斯噪声，这里可以设置低一点\n",
    "        :param tol:  两次迭代参数平均绝对值变化小于tol则停止\n",
    "        :param epochs: 默认迭代次数\n",
    "        \"\"\"\n",
    "        if basis_func is None:\n",
    "            self.basis_func = ['linear']\n",
    "        else:\n",
    "            self.basis_func = basis_func\n",
    "        self.beta = beta\n",
    "        self.tol = tol\n",
    "        self.epochs = epochs\n",
    "        # 特征均值、标准差\n",
    "        self.feature_mean = None\n",
    "        self.feature_std = None\n",
    "        # 训练参数，也就是m_N\n",
    "        self.w = None\n",
    "\n",
    "    def _map_basis(self, X):\n",
    "        \"\"\"\n",
    "        将X进行基函数映射\n",
    "        :param X:\n",
    "        :return:\n",
    "        \"\"\"\n",
    "        x_list = []\n",
    "        for basis_func in self.basis_func:\n",
    "            if basis_func == \"linear\":\n",
    "                x_list.append(X)\n",
    "            elif basis_func == \"rbf\":\n",
    "                x_list.append(np.exp(-0.5 * X * X))\n",
    "            elif basis_func == \"sigmoid\":\n",
    "                x_list.append(1 / (1 + np.exp(-1 * X)))\n",
    "            elif basis_func.startswith(\"poly\"):\n",
    "                p = int(basis_func.split(\"_\")[1])\n",
    "                for pow in range(1, p + 1):\n",
    "                    x_list.append(np.power(X, pow))\n",
    "        return np.concatenate(x_list, axis=1)\n",
    "\n",
    "    def fit(self, X, y):\n",
    "        self.feature_mean = np.mean(X, axis=0)\n",
    "        self.feature_std = np.std(X, axis=0) + 1e-8\n",
    "        X_ = (X - self.feature_mean) / self.feature_std\n",
    "        X_ = self._map_basis(X_)\n",
    "        X_ = np.c_[np.ones(X_.shape[0]), X_]\n",
    "        n_sample, n_feature = X_.shape\n",
    "\n",
    "        E_alpha = self.beta  # 初始就和beta设置一样，让它自动去调节（这里设置任意大于0的值都是可以的）\n",
    "        current_w = None\n",
    "        for _ in range(0, self.epochs):\n",
    "            S_N = np.linalg.inv(E_alpha * np.eye(n_feature) + self.beta * X_.T @ X_)\n",
    "            self.w = self.beta * S_N @ X_.T @ y.reshape((-1, 1))  # 即m_N\n",
    "            if current_w is not None and np.mean(np.abs(current_w - self.w)) < self.tol:\n",
    "                break\n",
    "            current_w = self.w\n",
    "            E_w = (self.w.T @ self.w)[0][0] + np.trace(S_N)\n",
    "            E_alpha = (n_feature - 1) / E_w  # 这里假设a_0,b_0都为0\n",
    "        #ml_models包中不会return,这里用作分析\n",
    "        return E_alpha,self.beta\n",
    "\n",
    "    def predict(self, X):\n",
    "        X_ = (X - self.feature_mean) / self.feature_std\n",
    "        X_ = self._map_basis(X_)\n",
    "        X_ = np.c_[np.ones(X_.shape[0]), X_]\n",
    "        return (self.w.T @ X_.T).reshape(-1)\n",
    "\n",
    "    def plot_fit_boundary(self, x, y):\n",
    "        \"\"\"\n",
    "        绘制拟合结果\n",
    "        :param x:\n",
    "        :param y:\n",
    "        :return:\n",
    "        \"\"\"\n",
    "        plt.scatter(x[:, 0], y)\n",
    "        plt.plot(x[:, 0], self.predict(x), 'r')"
   ],
   "outputs": [],
   "metadata": {}
  },
  {
   "cell_type": "markdown",
   "source": [
    "### 六.测试"
   ],
   "metadata": {}
  },
  {
   "cell_type": "code",
   "execution_count": 2,
   "source": [
    "#造伪样本\n",
    "X=np.linspace(0,100,100)\n",
    "X=np.c_[X,np.ones(100)]\n",
    "w=np.asarray([3,2])\n",
    "Y=X.dot(w)\n",
    "X=X.astype('float')\n",
    "Y=Y.astype('float')\n",
    "X[:,0]+=np.random.normal(size=(X[:,0].shape))*3#添加噪声\n",
    "Y=Y.reshape(100,1)"
   ],
   "outputs": [],
   "metadata": {}
  },
  {
   "cell_type": "code",
   "execution_count": 3,
   "source": [
    "#加噪声\n",
    "X=np.concatenate([X,np.asanyarray([[100,1],[101,1],[102,1],[103,1],[104,1]])])\n",
    "Y=np.concatenate([Y,np.asanyarray([[3000],[3300],[3600],[3800],[3900]])])"
   ],
   "outputs": [],
   "metadata": {}
  },
  {
   "cell_type": "code",
   "execution_count": 4,
   "source": [
    "%matplotlib inline\n",
    "lr=LinearRegression()\n",
    "alpha,beta=lr.fit(X[:,:-1],Y)\n",
    "lr.plot_fit_boundary(X[:,:-1],Y)"
   ],
   "outputs": [
    {
     "output_type": "display_data",
     "data": {
      "text/plain": [
       "<Figure size 432x288 with 1 Axes>"
      ],
      "image/svg+xml": "<?xml version=\"1.0\" encoding=\"utf-8\" standalone=\"no\"?>\n<!DOCTYPE svg PUBLIC \"-//W3C//DTD SVG 1.1//EN\"\n  \"http://www.w3.org/Graphics/SVG/1.1/DTD/svg11.dtd\">\n<!-- Created with matplotlib (https://matplotlib.org/) -->\n<svg height=\"248.518125pt\" version=\"1.1\" viewBox=\"0 0 381.65 248.518125\" width=\"381.65pt\" xmlns=\"http://www.w3.org/2000/svg\" xmlns:xlink=\"http://www.w3.org/1999/xlink\">\n <metadata>\n  <rdf:RDF xmlns:cc=\"http://creativecommons.org/ns#\" xmlns:dc=\"http://purl.org/dc/elements/1.1/\" xmlns:rdf=\"http://www.w3.org/1999/02/22-rdf-syntax-ns#\">\n   <cc:Work>\n    <dc:type rdf:resource=\"http://purl.org/dc/dcmitype/StillImage\"/>\n    <dc:date>2021-08-26T10:20:16.738561</dc:date>\n    <dc:format>image/svg+xml</dc:format>\n    <dc:creator>\n     <cc:Agent>\n      <dc:title>Matplotlib v3.3.2, https://matplotlib.org/</dc:title>\n     </cc:Agent>\n    </dc:creator>\n   </cc:Work>\n  </rdf:RDF>\n </metadata>\n <defs>\n  <style type=\"text/css\">*{stroke-linecap:butt;stroke-linejoin:round;}</style>\n </defs>\n <g id=\"figure_1\">\n  <g id=\"patch_1\">\n   <path d=\"M -0 248.518125 \nL 381.65 248.518125 \nL 381.65 0 \nL -0 0 \nz\n\" style=\"fill:none;\"/>\n  </g>\n  <g id=\"axes_1\">\n   <g id=\"patch_2\">\n    <path d=\"M 39.65 224.64 \nL 374.45 224.64 \nL 374.45 7.2 \nL 39.65 7.2 \nz\n\" style=\"fill:#ffffff;\"/>\n   </g>\n   <g id=\"PathCollection_1\">\n    <defs>\n     <path d=\"M 0 3 \nC 0.795609 3 1.55874 2.683901 2.12132 2.12132 \nC 2.683901 1.55874 3 0.795609 3 0 \nC 3 -0.795609 2.683901 -1.55874 2.12132 -2.12132 \nC 1.55874 -2.683901 0.795609 -3 0 -3 \nC -0.795609 -3 -1.55874 -2.683901 -2.12132 -2.12132 \nC -2.683901 -1.55874 -3 -0.795609 -3 0 \nC -3 0.795609 -2.683901 1.55874 -2.12132 2.12132 \nC -1.55874 2.683901 -0.795609 3 0 3 \nz\n\" id=\"m50702d1bb1\" style=\"stroke:#1f77b4;\"/>\n    </defs>\n    <g clip-path=\"url(#p995ab35dec)\">\n     <use style=\"fill:#1f77b4;stroke:#1f77b4;\" x=\"58.058857\" xlink:href=\"#m50702d1bb1\" y=\"208.081394\"/>\n     <use style=\"fill:#1f77b4;stroke:#1f77b4;\" x=\"65.262786\" xlink:href=\"#m50702d1bb1\" y=\"207.932912\"/>\n     <use style=\"fill:#1f77b4;stroke:#1f77b4;\" x=\"62.603049\" xlink:href=\"#m50702d1bb1\" y=\"207.784431\"/>\n     <use style=\"fill:#1f77b4;stroke:#1f77b4;\" x=\"54.868182\" xlink:href=\"#m50702d1bb1\" y=\"207.635949\"/>\n     <use style=\"fill:#1f77b4;stroke:#1f77b4;\" x=\"82.151894\" xlink:href=\"#m50702d1bb1\" y=\"207.487467\"/>\n     <use style=\"fill:#1f77b4;stroke:#1f77b4;\" x=\"77.242759\" xlink:href=\"#m50702d1bb1\" y=\"207.338986\"/>\n     <use style=\"fill:#1f77b4;stroke:#1f77b4;\" x=\"77.917989\" xlink:href=\"#m50702d1bb1\" y=\"207.190504\"/>\n     <use style=\"fill:#1f77b4;stroke:#1f77b4;\" x=\"56.4689\" xlink:href=\"#m50702d1bb1\" y=\"207.042023\"/>\n     <use style=\"fill:#1f77b4;stroke:#1f77b4;\" x=\"79.724027\" xlink:href=\"#m50702d1bb1\" y=\"206.893541\"/>\n     <use style=\"fill:#1f77b4;stroke:#1f77b4;\" x=\"80.224592\" xlink:href=\"#m50702d1bb1\" y=\"206.74506\"/>\n     <use style=\"fill:#1f77b4;stroke:#1f77b4;\" x=\"79.418761\" xlink:href=\"#m50702d1bb1\" y=\"206.596578\"/>\n     <use style=\"fill:#1f77b4;stroke:#1f77b4;\" x=\"89.098107\" xlink:href=\"#m50702d1bb1\" y=\"206.448097\"/>\n     <use style=\"fill:#1f77b4;stroke:#1f77b4;\" x=\"82.034361\" xlink:href=\"#m50702d1bb1\" y=\"206.299615\"/>\n     <use style=\"fill:#1f77b4;stroke:#1f77b4;\" x=\"98.124366\" xlink:href=\"#m50702d1bb1\" y=\"206.151134\"/>\n     <use style=\"fill:#1f77b4;stroke:#1f77b4;\" x=\"92.41661\" xlink:href=\"#m50702d1bb1\" y=\"206.002652\"/>\n     <use style=\"fill:#1f77b4;stroke:#1f77b4;\" x=\"99.51661\" xlink:href=\"#m50702d1bb1\" y=\"205.85417\"/>\n     <use style=\"fill:#1f77b4;stroke:#1f77b4;\" x=\"106.244641\" xlink:href=\"#m50702d1bb1\" y=\"205.705689\"/>\n     <use style=\"fill:#1f77b4;stroke:#1f77b4;\" x=\"98.880671\" xlink:href=\"#m50702d1bb1\" y=\"205.557207\"/>\n     <use style=\"fill:#1f77b4;stroke:#1f77b4;\" x=\"102.341334\" xlink:href=\"#m50702d1bb1\" y=\"205.408726\"/>\n     <use style=\"fill:#1f77b4;stroke:#1f77b4;\" x=\"117.543127\" xlink:href=\"#m50702d1bb1\" y=\"205.260244\"/>\n     <use style=\"fill:#1f77b4;stroke:#1f77b4;\" x=\"120.594126\" xlink:href=\"#m50702d1bb1\" y=\"205.111763\"/>\n     <use style=\"fill:#1f77b4;stroke:#1f77b4;\" x=\"121.124746\" xlink:href=\"#m50702d1bb1\" y=\"204.963281\"/>\n     <use style=\"fill:#1f77b4;stroke:#1f77b4;\" x=\"115.790072\" xlink:href=\"#m50702d1bb1\" y=\"204.8148\"/>\n     <use style=\"fill:#1f77b4;stroke:#1f77b4;\" x=\"128.817952\" xlink:href=\"#m50702d1bb1\" y=\"204.666318\"/>\n     <use style=\"fill:#1f77b4;stroke:#1f77b4;\" x=\"114.749522\" xlink:href=\"#m50702d1bb1\" y=\"204.517836\"/>\n     <use style=\"fill:#1f77b4;stroke:#1f77b4;\" x=\"127.601968\" xlink:href=\"#m50702d1bb1\" y=\"204.369355\"/>\n     <use style=\"fill:#1f77b4;stroke:#1f77b4;\" x=\"119.53501\" xlink:href=\"#m50702d1bb1\" y=\"204.220873\"/>\n     <use style=\"fill:#1f77b4;stroke:#1f77b4;\" x=\"137.107569\" xlink:href=\"#m50702d1bb1\" y=\"204.072392\"/>\n     <use style=\"fill:#1f77b4;stroke:#1f77b4;\" x=\"125.140256\" xlink:href=\"#m50702d1bb1\" y=\"203.92391\"/>\n     <use style=\"fill:#1f77b4;stroke:#1f77b4;\" x=\"138.635657\" xlink:href=\"#m50702d1bb1\" y=\"203.775429\"/>\n     <use style=\"fill:#1f77b4;stroke:#1f77b4;\" x=\"134.298226\" xlink:href=\"#m50702d1bb1\" y=\"203.626947\"/>\n     <use style=\"fill:#1f77b4;stroke:#1f77b4;\" x=\"139.805015\" xlink:href=\"#m50702d1bb1\" y=\"203.478466\"/>\n     <use style=\"fill:#1f77b4;stroke:#1f77b4;\" x=\"145.998321\" xlink:href=\"#m50702d1bb1\" y=\"203.329984\"/>\n     <use style=\"fill:#1f77b4;stroke:#1f77b4;\" x=\"148.936735\" xlink:href=\"#m50702d1bb1\" y=\"203.181503\"/>\n     <use style=\"fill:#1f77b4;stroke:#1f77b4;\" x=\"135.602008\" xlink:href=\"#m50702d1bb1\" y=\"203.033021\"/>\n     <use style=\"fill:#1f77b4;stroke:#1f77b4;\" x=\"163.400494\" xlink:href=\"#m50702d1bb1\" y=\"202.884539\"/>\n     <use style=\"fill:#1f77b4;stroke:#1f77b4;\" x=\"163.038188\" xlink:href=\"#m50702d1bb1\" y=\"202.736058\"/>\n     <use style=\"fill:#1f77b4;stroke:#1f77b4;\" x=\"175.639068\" xlink:href=\"#m50702d1bb1\" y=\"202.587576\"/>\n     <use style=\"fill:#1f77b4;stroke:#1f77b4;\" x=\"168.098744\" xlink:href=\"#m50702d1bb1\" y=\"202.439095\"/>\n     <use style=\"fill:#1f77b4;stroke:#1f77b4;\" x=\"170.855959\" xlink:href=\"#m50702d1bb1\" y=\"202.290613\"/>\n     <use style=\"fill:#1f77b4;stroke:#1f77b4;\" x=\"183.114827\" xlink:href=\"#m50702d1bb1\" y=\"202.142132\"/>\n     <use style=\"fill:#1f77b4;stroke:#1f77b4;\" x=\"170.916884\" xlink:href=\"#m50702d1bb1\" y=\"201.99365\"/>\n     <use style=\"fill:#1f77b4;stroke:#1f77b4;\" x=\"178.766311\" xlink:href=\"#m50702d1bb1\" y=\"201.845169\"/>\n     <use style=\"fill:#1f77b4;stroke:#1f77b4;\" x=\"192.243663\" xlink:href=\"#m50702d1bb1\" y=\"201.696687\"/>\n     <use style=\"fill:#1f77b4;stroke:#1f77b4;\" x=\"191.415398\" xlink:href=\"#m50702d1bb1\" y=\"201.548205\"/>\n     <use style=\"fill:#1f77b4;stroke:#1f77b4;\" x=\"175.303525\" xlink:href=\"#m50702d1bb1\" y=\"201.399724\"/>\n     <use style=\"fill:#1f77b4;stroke:#1f77b4;\" x=\"186.313188\" xlink:href=\"#m50702d1bb1\" y=\"201.251242\"/>\n     <use style=\"fill:#1f77b4;stroke:#1f77b4;\" x=\"176.969369\" xlink:href=\"#m50702d1bb1\" y=\"201.102761\"/>\n     <use style=\"fill:#1f77b4;stroke:#1f77b4;\" x=\"187.267944\" xlink:href=\"#m50702d1bb1\" y=\"200.954279\"/>\n     <use style=\"fill:#1f77b4;stroke:#1f77b4;\" x=\"199.946897\" xlink:href=\"#m50702d1bb1\" y=\"200.805798\"/>\n     <use style=\"fill:#1f77b4;stroke:#1f77b4;\" x=\"191.040722\" xlink:href=\"#m50702d1bb1\" y=\"200.657316\"/>\n     <use style=\"fill:#1f77b4;stroke:#1f77b4;\" x=\"214.990651\" xlink:href=\"#m50702d1bb1\" y=\"200.508835\"/>\n     <use style=\"fill:#1f77b4;stroke:#1f77b4;\" x=\"207.230637\" xlink:href=\"#m50702d1bb1\" y=\"200.360353\"/>\n     <use style=\"fill:#1f77b4;stroke:#1f77b4;\" x=\"215.04321\" xlink:href=\"#m50702d1bb1\" y=\"200.211872\"/>\n     <use style=\"fill:#1f77b4;stroke:#1f77b4;\" x=\"200.819838\" xlink:href=\"#m50702d1bb1\" y=\"200.06339\"/>\n     <use style=\"fill:#1f77b4;stroke:#1f77b4;\" x=\"232.482186\" xlink:href=\"#m50702d1bb1\" y=\"199.914908\"/>\n     <use style=\"fill:#1f77b4;stroke:#1f77b4;\" x=\"226.763302\" xlink:href=\"#m50702d1bb1\" y=\"199.766427\"/>\n     <use style=\"fill:#1f77b4;stroke:#1f77b4;\" x=\"222.614479\" xlink:href=\"#m50702d1bb1\" y=\"199.617945\"/>\n     <use style=\"fill:#1f77b4;stroke:#1f77b4;\" x=\"226.529995\" xlink:href=\"#m50702d1bb1\" y=\"199.469464\"/>\n     <use style=\"fill:#1f77b4;stroke:#1f77b4;\" x=\"214.314072\" xlink:href=\"#m50702d1bb1\" y=\"199.320982\"/>\n     <use style=\"fill:#1f77b4;stroke:#1f77b4;\" x=\"217.134272\" xlink:href=\"#m50702d1bb1\" y=\"199.172501\"/>\n     <use style=\"fill:#1f77b4;stroke:#1f77b4;\" x=\"243.151911\" xlink:href=\"#m50702d1bb1\" y=\"199.024019\"/>\n     <use style=\"fill:#1f77b4;stroke:#1f77b4;\" x=\"222.903426\" xlink:href=\"#m50702d1bb1\" y=\"198.875538\"/>\n     <use style=\"fill:#1f77b4;stroke:#1f77b4;\" x=\"229.372519\" xlink:href=\"#m50702d1bb1\" y=\"198.727056\"/>\n     <use style=\"fill:#1f77b4;stroke:#1f77b4;\" x=\"227.718318\" xlink:href=\"#m50702d1bb1\" y=\"198.578574\"/>\n     <use style=\"fill:#1f77b4;stroke:#1f77b4;\" x=\"239.113915\" xlink:href=\"#m50702d1bb1\" y=\"198.430093\"/>\n     <use style=\"fill:#1f77b4;stroke:#1f77b4;\" x=\"246.783322\" xlink:href=\"#m50702d1bb1\" y=\"198.281611\"/>\n     <use style=\"fill:#1f77b4;stroke:#1f77b4;\" x=\"241.731967\" xlink:href=\"#m50702d1bb1\" y=\"198.13313\"/>\n     <use style=\"fill:#1f77b4;stroke:#1f77b4;\" x=\"238.988122\" xlink:href=\"#m50702d1bb1\" y=\"197.984648\"/>\n     <use style=\"fill:#1f77b4;stroke:#1f77b4;\" x=\"246.75111\" xlink:href=\"#m50702d1bb1\" y=\"197.836167\"/>\n     <use style=\"fill:#1f77b4;stroke:#1f77b4;\" x=\"255.870161\" xlink:href=\"#m50702d1bb1\" y=\"197.687685\"/>\n     <use style=\"fill:#1f77b4;stroke:#1f77b4;\" x=\"262.941165\" xlink:href=\"#m50702d1bb1\" y=\"197.539204\"/>\n     <use style=\"fill:#1f77b4;stroke:#1f77b4;\" x=\"265.647457\" xlink:href=\"#m50702d1bb1\" y=\"197.390722\"/>\n     <use style=\"fill:#1f77b4;stroke:#1f77b4;\" x=\"272.937279\" xlink:href=\"#m50702d1bb1\" y=\"197.242241\"/>\n     <use style=\"fill:#1f77b4;stroke:#1f77b4;\" x=\"269.64335\" xlink:href=\"#m50702d1bb1\" y=\"197.093759\"/>\n     <use style=\"fill:#1f77b4;stroke:#1f77b4;\" x=\"286.64523\" xlink:href=\"#m50702d1bb1\" y=\"196.945277\"/>\n     <use style=\"fill:#1f77b4;stroke:#1f77b4;\" x=\"273.86263\" xlink:href=\"#m50702d1bb1\" y=\"196.796796\"/>\n     <use style=\"fill:#1f77b4;stroke:#1f77b4;\" x=\"282.990865\" xlink:href=\"#m50702d1bb1\" y=\"196.648314\"/>\n     <use style=\"fill:#1f77b4;stroke:#1f77b4;\" x=\"281.34622\" xlink:href=\"#m50702d1bb1\" y=\"196.499833\"/>\n     <use style=\"fill:#1f77b4;stroke:#1f77b4;\" x=\"293.102201\" xlink:href=\"#m50702d1bb1\" y=\"196.351351\"/>\n     <use style=\"fill:#1f77b4;stroke:#1f77b4;\" x=\"288.590411\" xlink:href=\"#m50702d1bb1\" y=\"196.20287\"/>\n     <use style=\"fill:#1f77b4;stroke:#1f77b4;\" x=\"284.372124\" xlink:href=\"#m50702d1bb1\" y=\"196.054388\"/>\n     <use style=\"fill:#1f77b4;stroke:#1f77b4;\" x=\"289.430585\" xlink:href=\"#m50702d1bb1\" y=\"195.905907\"/>\n     <use style=\"fill:#1f77b4;stroke:#1f77b4;\" x=\"312.344678\" xlink:href=\"#m50702d1bb1\" y=\"195.757425\"/>\n     <use style=\"fill:#1f77b4;stroke:#1f77b4;\" x=\"296.504222\" xlink:href=\"#m50702d1bb1\" y=\"195.608943\"/>\n     <use style=\"fill:#1f77b4;stroke:#1f77b4;\" x=\"308.926351\" xlink:href=\"#m50702d1bb1\" y=\"195.460462\"/>\n     <use style=\"fill:#1f77b4;stroke:#1f77b4;\" x=\"303.709371\" xlink:href=\"#m50702d1bb1\" y=\"195.31198\"/>\n     <use style=\"fill:#1f77b4;stroke:#1f77b4;\" x=\"297.117968\" xlink:href=\"#m50702d1bb1\" y=\"195.163499\"/>\n     <use style=\"fill:#1f77b4;stroke:#1f77b4;\" x=\"303.456315\" xlink:href=\"#m50702d1bb1\" y=\"195.015017\"/>\n     <use style=\"fill:#1f77b4;stroke:#1f77b4;\" x=\"317.974117\" xlink:href=\"#m50702d1bb1\" y=\"194.866536\"/>\n     <use style=\"fill:#1f77b4;stroke:#1f77b4;\" x=\"320.545035\" xlink:href=\"#m50702d1bb1\" y=\"194.718054\"/>\n     <use style=\"fill:#1f77b4;stroke:#1f77b4;\" x=\"309.982329\" xlink:href=\"#m50702d1bb1\" y=\"194.569573\"/>\n     <use style=\"fill:#1f77b4;stroke:#1f77b4;\" x=\"334.100923\" xlink:href=\"#m50702d1bb1\" y=\"194.421091\"/>\n     <use style=\"fill:#1f77b4;stroke:#1f77b4;\" x=\"321.473465\" xlink:href=\"#m50702d1bb1\" y=\"194.27261\"/>\n     <use style=\"fill:#1f77b4;stroke:#1f77b4;\" x=\"341.104419\" xlink:href=\"#m50702d1bb1\" y=\"194.124128\"/>\n     <use style=\"fill:#1f77b4;stroke:#1f77b4;\" x=\"334.897341\" xlink:href=\"#m50702d1bb1\" y=\"193.975646\"/>\n     <use style=\"fill:#1f77b4;stroke:#1f77b4;\" x=\"337.243285\" xlink:href=\"#m50702d1bb1\" y=\"193.827165\"/>\n     <use style=\"fill:#1f77b4;stroke:#1f77b4;\" x=\"339.363721\" xlink:href=\"#m50702d1bb1\" y=\"193.678683\"/>\n     <use style=\"fill:#1f77b4;stroke:#1f77b4;\" x=\"359.231818\" xlink:href=\"#m50702d1bb1\" y=\"193.530202\"/>\n     <use style=\"fill:#1f77b4;stroke:#1f77b4;\" x=\"338.081882\" xlink:href=\"#m50702d1bb1\" y=\"193.38172\"/>\n     <use style=\"fill:#1f77b4;stroke:#1f77b4;\" x=\"344.99613\" xlink:href=\"#m50702d1bb1\" y=\"61.182657\"/>\n     <use style=\"fill:#1f77b4;stroke:#1f77b4;\" x=\"347.884583\" xlink:href=\"#m50702d1bb1\" y=\"46.482983\"/>\n     <use style=\"fill:#1f77b4;stroke:#1f77b4;\" x=\"350.773036\" xlink:href=\"#m50702d1bb1\" y=\"31.78331\"/>\n     <use style=\"fill:#1f77b4;stroke:#1f77b4;\" x=\"353.661489\" xlink:href=\"#m50702d1bb1\" y=\"21.983528\"/>\n     <use style=\"fill:#1f77b4;stroke:#1f77b4;\" x=\"356.549942\" xlink:href=\"#m50702d1bb1\" y=\"17.083636\"/>\n    </g>\n   </g>\n   <g id=\"matplotlib.axis_1\">\n    <g id=\"xtick_1\">\n     <g id=\"line2d_1\">\n      <defs>\n       <path d=\"M 0 0 \nL 0 3.5 \n\" id=\"m853eeae0d3\" style=\"stroke:#000000;stroke-width:0.8;\"/>\n      </defs>\n      <g>\n       <use style=\"stroke:#000000;stroke-width:0.8;\" x=\"56.150836\" xlink:href=\"#m853eeae0d3\" y=\"224.64\"/>\n      </g>\n     </g>\n     <g id=\"text_1\">\n      <!-- 0 -->\n      <g transform=\"translate(52.969586 239.238437)scale(0.1 -0.1)\">\n       <defs>\n        <path d=\"M 31.78125 66.40625 \nQ 24.171875 66.40625 20.328125 58.90625 \nQ 16.5 51.421875 16.5 36.375 \nQ 16.5 21.390625 20.328125 13.890625 \nQ 24.171875 6.390625 31.78125 6.390625 \nQ 39.453125 6.390625 43.28125 13.890625 \nQ 47.125 21.390625 47.125 36.375 \nQ 47.125 51.421875 43.28125 58.90625 \nQ 39.453125 66.40625 31.78125 66.40625 \nz\nM 31.78125 74.21875 \nQ 44.046875 74.21875 50.515625 64.515625 \nQ 56.984375 54.828125 56.984375 36.375 \nQ 56.984375 17.96875 50.515625 8.265625 \nQ 44.046875 -1.421875 31.78125 -1.421875 \nQ 19.53125 -1.421875 13.0625 8.265625 \nQ 6.59375 17.96875 6.59375 36.375 \nQ 6.59375 54.828125 13.0625 64.515625 \nQ 19.53125 74.21875 31.78125 74.21875 \nz\n\" id=\"DejaVuSans-48\"/>\n       </defs>\n       <use xlink:href=\"#DejaVuSans-48\"/>\n      </g>\n     </g>\n    </g>\n    <g id=\"xtick_2\">\n     <g id=\"line2d_2\">\n      <g>\n       <use style=\"stroke:#000000;stroke-width:0.8;\" x=\"113.919895\" xlink:href=\"#m853eeae0d3\" y=\"224.64\"/>\n      </g>\n     </g>\n     <g id=\"text_2\">\n      <!-- 20 -->\n      <g transform=\"translate(107.557395 239.238437)scale(0.1 -0.1)\">\n       <defs>\n        <path d=\"M 19.1875 8.296875 \nL 53.609375 8.296875 \nL 53.609375 0 \nL 7.328125 0 \nL 7.328125 8.296875 \nQ 12.9375 14.109375 22.625 23.890625 \nQ 32.328125 33.6875 34.8125 36.53125 \nQ 39.546875 41.84375 41.421875 45.53125 \nQ 43.3125 49.21875 43.3125 52.78125 \nQ 43.3125 58.59375 39.234375 62.25 \nQ 35.15625 65.921875 28.609375 65.921875 \nQ 23.96875 65.921875 18.8125 64.3125 \nQ 13.671875 62.703125 7.8125 59.421875 \nL 7.8125 69.390625 \nQ 13.765625 71.78125 18.9375 73 \nQ 24.125 74.21875 28.421875 74.21875 \nQ 39.75 74.21875 46.484375 68.546875 \nQ 53.21875 62.890625 53.21875 53.421875 \nQ 53.21875 48.921875 51.53125 44.890625 \nQ 49.859375 40.875 45.40625 35.40625 \nQ 44.1875 33.984375 37.640625 27.21875 \nQ 31.109375 20.453125 19.1875 8.296875 \nz\n\" id=\"DejaVuSans-50\"/>\n       </defs>\n       <use xlink:href=\"#DejaVuSans-50\"/>\n       <use x=\"63.623047\" xlink:href=\"#DejaVuSans-48\"/>\n      </g>\n     </g>\n    </g>\n    <g id=\"xtick_3\">\n     <g id=\"line2d_3\">\n      <g>\n       <use style=\"stroke:#000000;stroke-width:0.8;\" x=\"171.688954\" xlink:href=\"#m853eeae0d3\" y=\"224.64\"/>\n      </g>\n     </g>\n     <g id=\"text_3\">\n      <!-- 40 -->\n      <g transform=\"translate(165.326454 239.238437)scale(0.1 -0.1)\">\n       <defs>\n        <path d=\"M 37.796875 64.3125 \nL 12.890625 25.390625 \nL 37.796875 25.390625 \nz\nM 35.203125 72.90625 \nL 47.609375 72.90625 \nL 47.609375 25.390625 \nL 58.015625 25.390625 \nL 58.015625 17.1875 \nL 47.609375 17.1875 \nL 47.609375 0 \nL 37.796875 0 \nL 37.796875 17.1875 \nL 4.890625 17.1875 \nL 4.890625 26.703125 \nz\n\" id=\"DejaVuSans-52\"/>\n       </defs>\n       <use xlink:href=\"#DejaVuSans-52\"/>\n       <use x=\"63.623047\" xlink:href=\"#DejaVuSans-48\"/>\n      </g>\n     </g>\n    </g>\n    <g id=\"xtick_4\">\n     <g id=\"line2d_4\">\n      <g>\n       <use style=\"stroke:#000000;stroke-width:0.8;\" x=\"229.458013\" xlink:href=\"#m853eeae0d3\" y=\"224.64\"/>\n      </g>\n     </g>\n     <g id=\"text_4\">\n      <!-- 60 -->\n      <g transform=\"translate(223.095513 239.238437)scale(0.1 -0.1)\">\n       <defs>\n        <path d=\"M 33.015625 40.375 \nQ 26.375 40.375 22.484375 35.828125 \nQ 18.609375 31.296875 18.609375 23.390625 \nQ 18.609375 15.53125 22.484375 10.953125 \nQ 26.375 6.390625 33.015625 6.390625 \nQ 39.65625 6.390625 43.53125 10.953125 \nQ 47.40625 15.53125 47.40625 23.390625 \nQ 47.40625 31.296875 43.53125 35.828125 \nQ 39.65625 40.375 33.015625 40.375 \nz\nM 52.59375 71.296875 \nL 52.59375 62.3125 \nQ 48.875 64.0625 45.09375 64.984375 \nQ 41.3125 65.921875 37.59375 65.921875 \nQ 27.828125 65.921875 22.671875 59.328125 \nQ 17.53125 52.734375 16.796875 39.40625 \nQ 19.671875 43.65625 24.015625 45.921875 \nQ 28.375 48.1875 33.59375 48.1875 \nQ 44.578125 48.1875 50.953125 41.515625 \nQ 57.328125 34.859375 57.328125 23.390625 \nQ 57.328125 12.15625 50.6875 5.359375 \nQ 44.046875 -1.421875 33.015625 -1.421875 \nQ 20.359375 -1.421875 13.671875 8.265625 \nQ 6.984375 17.96875 6.984375 36.375 \nQ 6.984375 53.65625 15.1875 63.9375 \nQ 23.390625 74.21875 37.203125 74.21875 \nQ 40.921875 74.21875 44.703125 73.484375 \nQ 48.484375 72.75 52.59375 71.296875 \nz\n\" id=\"DejaVuSans-54\"/>\n       </defs>\n       <use xlink:href=\"#DejaVuSans-54\"/>\n       <use x=\"63.623047\" xlink:href=\"#DejaVuSans-48\"/>\n      </g>\n     </g>\n    </g>\n    <g id=\"xtick_5\">\n     <g id=\"line2d_5\">\n      <g>\n       <use style=\"stroke:#000000;stroke-width:0.8;\" x=\"287.227071\" xlink:href=\"#m853eeae0d3\" y=\"224.64\"/>\n      </g>\n     </g>\n     <g id=\"text_5\">\n      <!-- 80 -->\n      <g transform=\"translate(280.864571 239.238437)scale(0.1 -0.1)\">\n       <defs>\n        <path d=\"M 31.78125 34.625 \nQ 24.75 34.625 20.71875 30.859375 \nQ 16.703125 27.09375 16.703125 20.515625 \nQ 16.703125 13.921875 20.71875 10.15625 \nQ 24.75 6.390625 31.78125 6.390625 \nQ 38.8125 6.390625 42.859375 10.171875 \nQ 46.921875 13.96875 46.921875 20.515625 \nQ 46.921875 27.09375 42.890625 30.859375 \nQ 38.875 34.625 31.78125 34.625 \nz\nM 21.921875 38.8125 \nQ 15.578125 40.375 12.03125 44.71875 \nQ 8.5 49.078125 8.5 55.328125 \nQ 8.5 64.0625 14.71875 69.140625 \nQ 20.953125 74.21875 31.78125 74.21875 \nQ 42.671875 74.21875 48.875 69.140625 \nQ 55.078125 64.0625 55.078125 55.328125 \nQ 55.078125 49.078125 51.53125 44.71875 \nQ 48 40.375 41.703125 38.8125 \nQ 48.828125 37.15625 52.796875 32.3125 \nQ 56.78125 27.484375 56.78125 20.515625 \nQ 56.78125 9.90625 50.3125 4.234375 \nQ 43.84375 -1.421875 31.78125 -1.421875 \nQ 19.734375 -1.421875 13.25 4.234375 \nQ 6.78125 9.90625 6.78125 20.515625 \nQ 6.78125 27.484375 10.78125 32.3125 \nQ 14.796875 37.15625 21.921875 38.8125 \nz\nM 18.3125 54.390625 \nQ 18.3125 48.734375 21.84375 45.5625 \nQ 25.390625 42.390625 31.78125 42.390625 \nQ 38.140625 42.390625 41.71875 45.5625 \nQ 45.3125 48.734375 45.3125 54.390625 \nQ 45.3125 60.0625 41.71875 63.234375 \nQ 38.140625 66.40625 31.78125 66.40625 \nQ 25.390625 66.40625 21.84375 63.234375 \nQ 18.3125 60.0625 18.3125 54.390625 \nz\n\" id=\"DejaVuSans-56\"/>\n       </defs>\n       <use xlink:href=\"#DejaVuSans-56\"/>\n       <use x=\"63.623047\" xlink:href=\"#DejaVuSans-48\"/>\n      </g>\n     </g>\n    </g>\n    <g id=\"xtick_6\">\n     <g id=\"line2d_6\">\n      <g>\n       <use style=\"stroke:#000000;stroke-width:0.8;\" x=\"344.99613\" xlink:href=\"#m853eeae0d3\" y=\"224.64\"/>\n      </g>\n     </g>\n     <g id=\"text_6\">\n      <!-- 100 -->\n      <g transform=\"translate(335.45238 239.238437)scale(0.1 -0.1)\">\n       <defs>\n        <path d=\"M 12.40625 8.296875 \nL 28.515625 8.296875 \nL 28.515625 63.921875 \nL 10.984375 60.40625 \nL 10.984375 69.390625 \nL 28.421875 72.90625 \nL 38.28125 72.90625 \nL 38.28125 8.296875 \nL 54.390625 8.296875 \nL 54.390625 0 \nL 12.40625 0 \nz\n\" id=\"DejaVuSans-49\"/>\n       </defs>\n       <use xlink:href=\"#DejaVuSans-49\"/>\n       <use x=\"63.623047\" xlink:href=\"#DejaVuSans-48\"/>\n       <use x=\"127.246094\" xlink:href=\"#DejaVuSans-48\"/>\n      </g>\n     </g>\n    </g>\n   </g>\n   <g id=\"matplotlib.axis_2\">\n    <g id=\"ytick_1\">\n     <g id=\"line2d_7\">\n      <defs>\n       <path d=\"M 0 0 \nL -3.5 0 \n\" id=\"m6a071a60fe\" style=\"stroke:#000000;stroke-width:0.8;\"/>\n      </defs>\n      <g>\n       <use style=\"stroke:#000000;stroke-width:0.8;\" x=\"39.65\" xlink:href=\"#m6a071a60fe\" y=\"208.179391\"/>\n      </g>\n     </g>\n     <g id=\"text_7\">\n      <!-- 0 -->\n      <g transform=\"translate(26.2875 211.97861)scale(0.1 -0.1)\">\n       <use xlink:href=\"#DejaVuSans-48\"/>\n      </g>\n     </g>\n    </g>\n    <g id=\"ytick_2\">\n     <g id=\"line2d_8\">\n      <g>\n       <use style=\"stroke:#000000;stroke-width:0.8;\" x=\"39.65\" xlink:href=\"#m6a071a60fe\" y=\"183.679936\"/>\n      </g>\n     </g>\n     <g id=\"text_8\">\n      <!-- 500 -->\n      <g transform=\"translate(13.5625 187.479154)scale(0.1 -0.1)\">\n       <defs>\n        <path d=\"M 10.796875 72.90625 \nL 49.515625 72.90625 \nL 49.515625 64.59375 \nL 19.828125 64.59375 \nL 19.828125 46.734375 \nQ 21.96875 47.46875 24.109375 47.828125 \nQ 26.265625 48.1875 28.421875 48.1875 \nQ 40.625 48.1875 47.75 41.5 \nQ 54.890625 34.8125 54.890625 23.390625 \nQ 54.890625 11.625 47.5625 5.09375 \nQ 40.234375 -1.421875 26.90625 -1.421875 \nQ 22.3125 -1.421875 17.546875 -0.640625 \nQ 12.796875 0.140625 7.71875 1.703125 \nL 7.71875 11.625 \nQ 12.109375 9.234375 16.796875 8.0625 \nQ 21.484375 6.890625 26.703125 6.890625 \nQ 35.15625 6.890625 40.078125 11.328125 \nQ 45.015625 15.765625 45.015625 23.390625 \nQ 45.015625 31 40.078125 35.4375 \nQ 35.15625 39.890625 26.703125 39.890625 \nQ 22.75 39.890625 18.8125 39.015625 \nQ 14.890625 38.140625 10.796875 36.28125 \nz\n\" id=\"DejaVuSans-53\"/>\n       </defs>\n       <use xlink:href=\"#DejaVuSans-53\"/>\n       <use x=\"63.623047\" xlink:href=\"#DejaVuSans-48\"/>\n       <use x=\"127.246094\" xlink:href=\"#DejaVuSans-48\"/>\n      </g>\n     </g>\n    </g>\n    <g id=\"ytick_3\">\n     <g id=\"line2d_9\">\n      <g>\n       <use style=\"stroke:#000000;stroke-width:0.8;\" x=\"39.65\" xlink:href=\"#m6a071a60fe\" y=\"159.18048\"/>\n      </g>\n     </g>\n     <g id=\"text_9\">\n      <!-- 1000 -->\n      <g transform=\"translate(7.2 162.979699)scale(0.1 -0.1)\">\n       <use xlink:href=\"#DejaVuSans-49\"/>\n       <use x=\"63.623047\" xlink:href=\"#DejaVuSans-48\"/>\n       <use x=\"127.246094\" xlink:href=\"#DejaVuSans-48\"/>\n       <use x=\"190.869141\" xlink:href=\"#DejaVuSans-48\"/>\n      </g>\n     </g>\n    </g>\n    <g id=\"ytick_4\">\n     <g id=\"line2d_10\">\n      <g>\n       <use style=\"stroke:#000000;stroke-width:0.8;\" x=\"39.65\" xlink:href=\"#m6a071a60fe\" y=\"134.681024\"/>\n      </g>\n     </g>\n     <g id=\"text_10\">\n      <!-- 1500 -->\n      <g transform=\"translate(7.2 138.480243)scale(0.1 -0.1)\">\n       <use xlink:href=\"#DejaVuSans-49\"/>\n       <use x=\"63.623047\" xlink:href=\"#DejaVuSans-53\"/>\n       <use x=\"127.246094\" xlink:href=\"#DejaVuSans-48\"/>\n       <use x=\"190.869141\" xlink:href=\"#DejaVuSans-48\"/>\n      </g>\n     </g>\n    </g>\n    <g id=\"ytick_5\">\n     <g id=\"line2d_11\">\n      <g>\n       <use style=\"stroke:#000000;stroke-width:0.8;\" x=\"39.65\" xlink:href=\"#m6a071a60fe\" y=\"110.181568\"/>\n      </g>\n     </g>\n     <g id=\"text_11\">\n      <!-- 2000 -->\n      <g transform=\"translate(7.2 113.980787)scale(0.1 -0.1)\">\n       <use xlink:href=\"#DejaVuSans-50\"/>\n       <use x=\"63.623047\" xlink:href=\"#DejaVuSans-48\"/>\n       <use x=\"127.246094\" xlink:href=\"#DejaVuSans-48\"/>\n       <use x=\"190.869141\" xlink:href=\"#DejaVuSans-48\"/>\n      </g>\n     </g>\n    </g>\n    <g id=\"ytick_6\">\n     <g id=\"line2d_12\">\n      <g>\n       <use style=\"stroke:#000000;stroke-width:0.8;\" x=\"39.65\" xlink:href=\"#m6a071a60fe\" y=\"85.682113\"/>\n      </g>\n     </g>\n     <g id=\"text_12\">\n      <!-- 2500 -->\n      <g transform=\"translate(7.2 89.481331)scale(0.1 -0.1)\">\n       <use xlink:href=\"#DejaVuSans-50\"/>\n       <use x=\"63.623047\" xlink:href=\"#DejaVuSans-53\"/>\n       <use x=\"127.246094\" xlink:href=\"#DejaVuSans-48\"/>\n       <use x=\"190.869141\" xlink:href=\"#DejaVuSans-48\"/>\n      </g>\n     </g>\n    </g>\n    <g id=\"ytick_7\">\n     <g id=\"line2d_13\">\n      <g>\n       <use style=\"stroke:#000000;stroke-width:0.8;\" x=\"39.65\" xlink:href=\"#m6a071a60fe\" y=\"61.182657\"/>\n      </g>\n     </g>\n     <g id=\"text_13\">\n      <!-- 3000 -->\n      <g transform=\"translate(7.2 64.981876)scale(0.1 -0.1)\">\n       <defs>\n        <path d=\"M 40.578125 39.3125 \nQ 47.65625 37.796875 51.625 33 \nQ 55.609375 28.21875 55.609375 21.1875 \nQ 55.609375 10.40625 48.1875 4.484375 \nQ 40.765625 -1.421875 27.09375 -1.421875 \nQ 22.515625 -1.421875 17.65625 -0.515625 \nQ 12.796875 0.390625 7.625 2.203125 \nL 7.625 11.71875 \nQ 11.71875 9.328125 16.59375 8.109375 \nQ 21.484375 6.890625 26.8125 6.890625 \nQ 36.078125 6.890625 40.9375 10.546875 \nQ 45.796875 14.203125 45.796875 21.1875 \nQ 45.796875 27.640625 41.28125 31.265625 \nQ 36.765625 34.90625 28.71875 34.90625 \nL 20.21875 34.90625 \nL 20.21875 43.015625 \nL 29.109375 43.015625 \nQ 36.375 43.015625 40.234375 45.921875 \nQ 44.09375 48.828125 44.09375 54.296875 \nQ 44.09375 59.90625 40.109375 62.90625 \nQ 36.140625 65.921875 28.71875 65.921875 \nQ 24.65625 65.921875 20.015625 65.03125 \nQ 15.375 64.15625 9.8125 62.3125 \nL 9.8125 71.09375 \nQ 15.4375 72.65625 20.34375 73.4375 \nQ 25.25 74.21875 29.59375 74.21875 \nQ 40.828125 74.21875 47.359375 69.109375 \nQ 53.90625 64.015625 53.90625 55.328125 \nQ 53.90625 49.265625 50.4375 45.09375 \nQ 46.96875 40.921875 40.578125 39.3125 \nz\n\" id=\"DejaVuSans-51\"/>\n       </defs>\n       <use xlink:href=\"#DejaVuSans-51\"/>\n       <use x=\"63.623047\" xlink:href=\"#DejaVuSans-48\"/>\n       <use x=\"127.246094\" xlink:href=\"#DejaVuSans-48\"/>\n       <use x=\"190.869141\" xlink:href=\"#DejaVuSans-48\"/>\n      </g>\n     </g>\n    </g>\n    <g id=\"ytick_8\">\n     <g id=\"line2d_14\">\n      <g>\n       <use style=\"stroke:#000000;stroke-width:0.8;\" x=\"39.65\" xlink:href=\"#m6a071a60fe\" y=\"36.683201\"/>\n      </g>\n     </g>\n     <g id=\"text_14\">\n      <!-- 3500 -->\n      <g transform=\"translate(7.2 40.48242)scale(0.1 -0.1)\">\n       <use xlink:href=\"#DejaVuSans-51\"/>\n       <use x=\"63.623047\" xlink:href=\"#DejaVuSans-53\"/>\n       <use x=\"127.246094\" xlink:href=\"#DejaVuSans-48\"/>\n       <use x=\"190.869141\" xlink:href=\"#DejaVuSans-48\"/>\n      </g>\n     </g>\n    </g>\n    <g id=\"ytick_9\">\n     <g id=\"line2d_15\">\n      <g>\n       <use style=\"stroke:#000000;stroke-width:0.8;\" x=\"39.65\" xlink:href=\"#m6a071a60fe\" y=\"12.183745\"/>\n      </g>\n     </g>\n     <g id=\"text_15\">\n      <!-- 4000 -->\n      <g transform=\"translate(7.2 15.982964)scale(0.1 -0.1)\">\n       <use xlink:href=\"#DejaVuSans-52\"/>\n       <use x=\"63.623047\" xlink:href=\"#DejaVuSans-48\"/>\n       <use x=\"127.246094\" xlink:href=\"#DejaVuSans-48\"/>\n       <use x=\"190.869141\" xlink:href=\"#DejaVuSans-48\"/>\n      </g>\n     </g>\n    </g>\n   </g>\n   <g id=\"line2d_16\">\n    <path clip-path=\"url(#p995ab35dec)\" d=\"M 58.058857 214.456126 \nL 65.262786 213.778248 \nL 62.603049 214.028525 \nL 54.868182 214.756364 \nL 82.151894 212.18901 \nL 77.242759 212.650952 \nL 77.917989 212.587414 \nL 56.4689 214.605739 \nL 79.724027 212.417468 \nL 80.224592 212.370366 \nL 79.418761 212.446193 \nL 89.098107 211.535382 \nL 82.034361 212.20007 \nL 98.124366 210.686026 \nL 92.41661 211.223117 \nL 99.51661 210.555018 \nL 106.244641 209.921921 \nL 98.880671 210.614859 \nL 102.341334 210.289216 \nL 117.543127 208.858751 \nL 120.594126 208.571657 \nL 121.124746 208.521727 \nL 115.790072 209.023711 \nL 128.817952 207.797808 \nL 114.749522 209.121625 \nL 127.601968 207.912231 \nL 119.53501 208.671318 \nL 137.107569 207.017769 \nL 125.140256 208.143874 \nL 138.635657 206.873978 \nL 134.298226 207.282123 \nL 139.805015 206.763943 \nL 145.998321 206.181163 \nL 148.936735 205.904663 \nL 135.602008 207.15944 \nL 163.400494 204.543647 \nL 163.038188 204.577739 \nL 175.639068 203.392016 \nL 168.098744 204.101549 \nL 170.855959 203.842099 \nL 183.114827 202.688559 \nL 170.916884 203.836366 \nL 178.766311 203.097748 \nL 192.243663 201.82955 \nL 191.415398 201.907489 \nL 175.303525 203.42359 \nL 186.313188 202.387599 \nL 176.969369 203.266837 \nL 187.267944 202.297758 \nL 199.946897 201.104688 \nL 191.040722 201.942745 \nL 214.990651 199.689095 \nL 207.230637 200.4193 \nL 215.04321 199.684149 \nL 200.819838 201.022546 \nL 232.482186 198.04317 \nL 226.763302 198.581308 \nL 222.614479 198.971705 \nL 226.529995 198.603261 \nL 214.314072 199.75276 \nL 217.134272 199.487384 \nL 243.151911 197.039166 \nL 222.903426 198.944516 \nL 229.372519 198.335784 \nL 227.718318 198.491442 \nL 239.113915 197.419135 \nL 246.783322 196.697456 \nL 241.731967 197.17278 \nL 238.988122 197.430971 \nL 246.75111 196.700487 \nL 255.870161 195.842399 \nL 262.941165 195.177028 \nL 265.647457 194.922371 \nL 272.937279 194.23641 \nL 269.64335 194.546364 \nL 286.64523 192.946514 \nL 273.86263 194.149336 \nL 282.990865 193.290384 \nL 281.34622 193.445142 \nL 293.102201 192.338923 \nL 288.590411 192.763475 \nL 284.372124 193.160409 \nL 289.430585 192.684416 \nL 312.344678 190.528237 \nL 296.504222 192.018798 \nL 308.926351 190.849896 \nL 303.709371 191.340805 \nL 297.117968 191.961046 \nL 303.456315 191.364618 \nL 317.974117 189.998516 \nL 320.545035 189.756596 \nL 309.982329 190.75053 \nL 334.100923 188.481009 \nL 321.473465 189.669233 \nL 341.104419 187.821991 \nL 334.897341 188.406067 \nL 337.243285 188.185318 \nL 339.363721 187.985788 \nL 359.231818 186.116232 \nL 338.081882 188.106407 \nL 344.99613 187.455787 \nL 347.884583 187.183989 \nL 350.773036 186.91219 \nL 353.661489 186.640391 \nL 356.549942 186.368592 \n\" style=\"fill:none;stroke:#ff0000;stroke-linecap:square;stroke-width:1.5;\"/>\n   </g>\n   <g id=\"patch_3\">\n    <path d=\"M 39.65 224.64 \nL 39.65 7.2 \n\" style=\"fill:none;stroke:#000000;stroke-linecap:square;stroke-linejoin:miter;stroke-width:0.8;\"/>\n   </g>\n   <g id=\"patch_4\">\n    <path d=\"M 374.45 224.64 \nL 374.45 7.2 \n\" style=\"fill:none;stroke:#000000;stroke-linecap:square;stroke-linejoin:miter;stroke-width:0.8;\"/>\n   </g>\n   <g id=\"patch_5\">\n    <path d=\"M 39.65 224.64 \nL 374.45 224.64 \n\" style=\"fill:none;stroke:#000000;stroke-linecap:square;stroke-linejoin:miter;stroke-width:0.8;\"/>\n   </g>\n   <g id=\"patch_6\">\n    <path d=\"M 39.65 7.2 \nL 374.45 7.2 \n\" style=\"fill:none;stroke:#000000;stroke-linecap:square;stroke-linejoin:miter;stroke-width:0.8;\"/>\n   </g>\n  </g>\n </g>\n <defs>\n  <clipPath id=\"p995ab35dec\">\n   <rect height=\"217.44\" width=\"334.8\" x=\"39.65\" y=\"7.2\"/>\n  </clipPath>\n </defs>\n</svg>\n",
      "image/png": "[encoded data removed]"
     },
     "metadata": {
      "needs_background": "light"
     }
    }
   ],
   "metadata": {}
  },
  {
   "cell_type": "markdown",
   "source": [
    "可以发现成功省去了调节超参`alpha`的烦恼，本节由于将`alpha`也视作随机变量，并假设它来源于一个Gamma分布，最后通过求期望的方式得到一个更优的`alpha`，如下，可以发现最终迭代求解的较优的L2正则化系数为104，当然我们也可以将$\\beta$假设为一个Gamma分布一并放到变分框架中求解，这样可以免去对`beta`的设置"
   ],
   "metadata": {}
  },
  {
   "cell_type": "code",
   "execution_count": 5,
   "source": [
    "alpha/beta"
   ],
   "outputs": [
    {
     "output_type": "execute_result",
     "data": {
      "text/plain": [
       "104.9988082576348"
      ]
     },
     "metadata": {},
     "execution_count": 5
    }
   ],
   "metadata": {}
  },
  {
   "cell_type": "code",
   "execution_count": null,
   "source": [],
   "outputs": [],
   "metadata": {}
  }
 ],
 "metadata": {
  "kernelspec": {
   "name": "python3",
   "display_name": "Python 3.8.5 64-bit ('base': conda)"
  },
  "language_info": {
   "codemirror_mode": {
    "name": "ipython",
    "version": 3
   },
   "file_extension": ".py",
   "mimetype": "text/x-python",
   "name": "python",
   "nbconvert_exporter": "python",
   "pygments_lexer": "ipython3",
   "version": "3.8.5"
  },
  "interpreter": {
   "hash": "2b0d8445d30565f6cf0731071b42a683b7aa132b1cb9bae01ff5d96fc7237cfa"
  }
 },
 "nbformat": 4,
 "nbformat_minor": 2
}