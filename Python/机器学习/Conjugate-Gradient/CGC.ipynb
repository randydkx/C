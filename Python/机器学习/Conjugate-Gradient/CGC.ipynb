{
 "cells": [
  {
   "cell_type": "markdown",
   "metadata": {},
   "source": [
    "## C. Ugly Proofs <a id=\"C\"></a>"
   ]
  },
  {
   "cell_type": "markdown",
   "metadata": {},
   "source": [
    "### C.1 The Solution to $AX = b$ Minimizes the Quadratic Form <a id=\"C.1\"></a>"
   ]
  },
  {
   "cell_type": "markdown",
   "metadata": {},
   "source": [
    "Suppose $A$ is symmetric. Let $x$ be a point that satisfies $Ax=b$ and minimizes the quadratic form\n",
    "(Equation 3), and let $e$ be an error term. Then\n",
    "\n",
    "\\begin{align*}\n",
    "f(x+e) &= \\frac{1}{2}(x+e)^T A (x+e) - b^T (x+e) + c \\qquad \\text{(by Equation 3)} \\\\\n",
    "&= \\frac{1}{2}x^T A x + e^T A x + \\frac{1}{2} e^T A e - b^T x - b^T e + c \\qquad \\text{(by symmetry of }A\\text{)} \\\\\n",
    "&= \\frac{1}{2}x^T A x - b^T x + c + e^T b + \\frac{1}{2} e^T A e - b^T e \\\\\n",
    "&= f(x) + \\frac{1}{2}e^T A e.\n",
    "\\end{align*}\n",
    "\n",
    "If $A$ is positive-definite, then the latter term is positive for all $e \\neq 0$; therefore $x$ minimizes $f$."
   ]
  },
  {
   "cell_type": "markdown",
   "metadata": {},
   "source": [
    "### C.2 A Symmetric Matrix Has $n$ Orthogonal Eigenvectors <a id=\"C.2\"></a>"
   ]
  },
  {
   "cell_type": "markdown",
   "metadata": {},
   "source": [
    "Any matrix has at least one eigenvector. To see this, note that det($A-\\lambda I$) is a polynomial in $\\lambda$, and therefore has at least one zero (possibly complex); call it $\\lambda_A$. The matrix $A-\\lambda_A I$ has determinant zero and is therefore singular, so there must be a nonzero vector $v$ for which $(A-\\lambda I)v = 0$. The vector $v$ is an eigenvector, because $A v = \\lambda v$.\n",
    "\n",
    "Any symmetric matrix has a full complement of $n$ orthogonal eigenvectors. To prove this, I will demonstrate for the case of a $4 /times 4$ matrix $A$ and let you make the obvious generalization to matrices of arbitrary size. It has already been proven that $A$ has at least one eigenvector $v$ with eigenvalue $\\lambda_A$. Let $x_1 = v/\\|v\\|$, which has unit length. Choose three arbitrary vectors $x_2, x_3, x_4$ so that the $x_i$ are mutually orthogonal and all of unit length (such vectors can be found by Gram-Schmidt orthogonalization). Let $X = [x_1 x_2 x_3 x_4]$. Because the $x_i$ are orthonormal, $X^T X = I$, and so $X^T = X^{-1}$. Note also that for $i \\neq 1, x^T_1 A x_i = x^T_i A x_1 = x^T_i \\lambda_A x_1 = 0$. Thus,\n",
    "\n",
    "\\begin{align*}\n",
    "X^T A X &= \n",
    "\\begin{bmatrix}\n",
    "x^T_1\\\\\n",
    "x^T_2\\\\\n",
    "x^T_3\\\\\n",
    "x^T_4\\\\\n",
    "\\end{bmatrix}\n",
    "A\n",
    "\\begin{bmatrix}\n",
    "x_1 & x_2 & x_3 & x_4\\\\\n",
    "\\end{bmatrix}\n",
    "=\n",
    "\\begin{bmatrix}\n",
    "x^T_1\\\\\n",
    "x^T_2\\\\\n",
    "x^T_3\\\\\n",
    "x^T_4\\\\\n",
    "\\end{bmatrix}\n",
    "\\begin{bmatrix}\n",
    "\\lambda_A x_1 & Ax_2 & Ax_3 & Ax_4\n",
    "\\end{bmatrix}\\\\\n",
    "&= \n",
    "\\begin{bmatrix}\n",
    "\\lambda_A & 0 & 0 & 0\\\\\n",
    "0\\\\\n",
    "0 & & B \\\\\n",
    "0\n",
    "\\end{bmatrix},\n",
    "\\end{align*}\n",
    "\n",
    "\n",
    "\n",
    "where $B$ is a $3 \\times 3$ symmetric matrix. $B$ must have some eigenvalue $w$ with eigenvalue $\\lambda_B$. Let $\\widehat{w}$ be a vector of length 4 whose first element is zero, and whose remaining elements are the elements of $w$. Clearly,\n",
    "\n",
    "$$\n",
    "X^{-1} A X \\widehat{w} = X^T A X \\widehat{w} = \n",
    "\\begin{bmatrix}\n",
    "\\lambda_A & 0 & 0 & 0\\\\\n",
    "0\\\\\n",
    "0 & & B \\\\\n",
    "0\n",
    "\\end{bmatrix} \\widehat{w} = \\lambda_B \\widehat{w}.\n",
    "$$\n",
    "\n",
    "In other words, $A X \\widehat{w} = \\lambda_B X \\widehat{w}$, and thus is an eigenvector of $A$. Furthermore, $x^T_1 X \\widehat{w} = \\begin{bmatrix} 1 & 0 & 0 & 0 \\end{bmatrix} \\widehat{w}$, so $x_1$ and $X \\widehat{w}$ are orthogonal. Thus, $A$ has at least two orthogonal eigenvectors!\n",
    "\n",
    "The more general statement that a symmetric matrix has $n$ orthogonal eigenvectors is proven by induction. For the example above, assume any 3 3 matrix (such as $B$) has 3 orthogonal eigenvectors; call them $\\widehat{w}_1, \\widehat{w}_2$ and $\\widehat{w}_3$. Then $X \\widehat{w}_1, X \\widehat{w}_2$ and $X \\widehat{w}_3$ are eigenvectors of $A$, and they are orthogonal because $X$ has orthonormal columns, and therefore maps orthogonal vectors to orthogonal vectors. Thus, $A$ has 4 orthogonal eigenvectors."
   ]
  },
  {
   "cell_type": "markdown",
   "metadata": {},
   "source": [
    "### C.3 Optimality of Chebyshev Polynomials <a id=\"C.3\"></a>"
   ]
  },
  {
   "cell_type": "markdown",
   "metadata": {},
   "source": [
    "Chebyshev polynomials are optimal for minimization of expressions like Expression 50 because they increase in magnitude more quickly outside the range $[-1, 1]$ than any other polynomial that is restricted to have magnitude no greater than one inside the range $[-1, 1]$.\n",
    "\n",
    "The Chebyshev polynomial of degree $i$,\n",
    "\n",
    "$$\n",
    "T_i(\\omega) = \\frac{1}{2} \\left[ (\\omega + \\sqrt{\\omega^2 - 1})^i + (\\omega - \\sqrt{\\omega^2 - 1})^i \\right].\n",
    "$$\n",
    "\n",
    "can also be expressed on the region $[-1, 1]$ as\n",
    "\n",
    "$$\n",
    "T_i(\\omega) = \\cos{(i\\cos^{-1}{w})}, \\qquad -1 \\leq \\omega \\leq 1.\n",
    "$$\n",
    "\n",
    "From this expression (and from Figure 32), one can deduce that the Chebyshev polynomials have the property\n",
    "\n",
    "$$\n",
    "|T_i(\\omega)| \\leq 1, \\qquad -1 \\leq \\omega \\leq 1\n",
    "$$\n",
    "\n",
    "and oscillate rapidly between -1 and 1:\n",
    "\n",
    "$$\n",
    "T_i \\left( \\cos{\\left( \\frac{k\\pi}{i} \\right)} \\right) = (-1)^k, \\qquad k= 0, 1, \\dots, i.\n",
    "$$\n",
    "\n",
    "Notice that the $i$ zeros of $T_i$ must fall between the $i+1$ extrema of $T_i$ in the range [-1, 1]. For an example, see the five zeros of $T_5(\\omega)$ in Figure 32.\n",
    "\n",
    "Similarly, the function\n",
    "\n",
    "$$\n",
    "P_i(\\lambda) = \\frac{T_i \\left( \\frac{\\lambda_{max} + \\lambda_{min} - 2\\lambda}{\\lambda_{max}-\\lambda_{min}} \\right)}{T_i \\left( \\frac{\\lambda_{max} + \\lambda_{min}}{\\lambda_{max}-\\lambda_{min}} \\right)}\n",
    "$$\n",
    "\n",
    "oscillates in the range ${T_i \\left( \\frac{\\lambda_{max} + \\lambda_{min}}{\\lambda_{max}-\\lambda_{min}} \\right)}^{-1}$ on the domain $[\\lambda_{min}, \\lambda_{max}]$. $P_i(\\lambda)$ also satisfies the requirement that $P_i(0) = 1$.\n",
    "\n",
    "The proof relies on a cute trick. There is no polynomial $Q_i(\\lambda)$ of degree $i$ such that $Q_i(0) = 1$ and $Q_i$ is better than $P_i$ on the range $[\\lambda_{min}, \\lambda_{max}]$. To prove this, suppose that there is such a polynomial; then, $Q_i(\\lambda) < {T_i \\left( \\frac{\\lambda_{max} + \\lambda_{min}}{\\lambda_{max}-\\lambda_{min}} \\right)}^{-1}$ on the range $[\\lambda_{min}, \\lambda_{max}]$. It follows that the polynomial $P_i - Q_i$ has a zero at $\\lambda = 0$, and also has $i$ zeros on the range $[\\lambda_{min}, \\lambda_{max}]$. Hence, $P_i - Q_i$ is a polynomial of degree $i$ with at least $i + 1$ zeros, which is impossible. By contradiction, I conclude that the Chebyshev polynomial of degree $i$ optimizes Expression 50."
   ]
  },
  {
   "cell_type": "markdown",
   "metadata": {},
   "source": [
    "Next: [D. Homework](CGD.ipynb)"
   ]
  }
 ],
 "metadata": {
  "anaconda-cloud": {},
  "hide_input": false,
  "kernelspec": {
   "display_name": "Python 3",
   "language": "python",
   "name": "python3"
  },
  "language_info": {
   "codemirror_mode": {
    "name": "ipython",
    "version": 3
   },
   "file_extension": ".py",
   "mimetype": "text/x-python",
   "name": "python",
   "nbconvert_exporter": "python",
   "pygments_lexer": "ipython3",
   "version": "3.7.9"
  },
  "latex_envs": {
   "bibliofile": "biblio.bib",
   "cite_by": "apalike",
   "current_citInitial": 1,
   "eqLabelWithNumbers": true,
   "eqNumInitial": 0
  },
  "widgets": {
   "state": {},
   "version": "1.1.2"
  }
 },
 "nbformat": 4,
 "nbformat_minor": 4
}
