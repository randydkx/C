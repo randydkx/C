{
 "cells": [
  {
   "cell_type": "markdown",
   "metadata": {},
   "source": [
    "## 10. Complexity <a id=\"10\"></a>"
   ]
  },
  {
   "cell_type": "markdown",
   "metadata": {},
   "source": [
    "The dominating operations during an iteration of either Steepest Descent or CG are matrix-vector products. In general, matrix-vector multiplication requires $\\mathcal{O}(m)$ operations, where $m$ is the number of non-zero entries in the matrix. For many problems, including those listed in the introduction, $A$ is sparse and $m \\in \\mathcal{O}(n)$.\n",
    "\n",
    "Suppose we wish to perform enough iterations to reduce the norm of the error by a factor of $\\varepsilon$; that is, $\\|e_{[i]}\\| \\leq \\varepsilon \\|e_{[0]}\\|$. Equation 28 can be used to show that the maximum number of iterations required to achieve this bound using Steepest Descent is\n",
    "\n",
    "$$\n",
    "i \\leq \\left\\lceil \\frac{1}{2} \\kappa \\ln\\left(\\frac{1}{\\epsilon}\\right) \\right\\rceil,\n",
    "$$\n",
    "\n",
    "whereas Equation 52 suggests that the maximum number of iterations CG requires is\n",
    "\n",
    "$$\n",
    "i \\leq \\left\\lceil \\frac{1}{2} \\sqrt{\\kappa} \\ln\\left(\\frac{2}{\\epsilon}\\right) \\right\\rceil.\n",
    "$$\n",
    "\n",
    "\n",
    "I conclude that Steepest Descent has a time complexity of $\\mathcal{O}(m\\kappa)$, whereas CG has a time complexity of $\\mathcal{O}(m\\sqrt{\\kappa})$. Both algorithms have a space complexity of $\\mathcal{O}(m)$.\n",
    "\n",
    "Finite difference and finite element approximations of second-order elliptic boundary value problems posed on $d$-dimensional domains often have $\\kappa \\in \\mathcal{O}(n^{2/d})$. Thus, Steepest Descent has a time complexity of $\\mathcal{O}(n^2)$ for two-dimensional problems, versus $\\mathcal{O}(n^{3/2})$ for CG; and Steepest Descent has a time complexity of $\\mathcal{O}(n^{5/3})$ for three-dimensional problems, versus $\\mathcal{O}(n^{4/3})$ for CG.\n"
   ]
  },
  {
   "cell_type": "markdown",
   "metadata": {},
   "source": [
    "Next: [11. Starting and Stopping](CG11.ipynb)"
   ]
  }
 ],
 "metadata": {
  "anaconda-cloud": {},
  "hide_input": false,
  "kernelspec": {
   "display_name": "Python 3",
   "language": "python",
   "name": "python3"
  },
  "language_info": {
   "codemirror_mode": {
    "name": "ipython",
    "version": 3
   },
   "file_extension": ".py",
   "mimetype": "text/x-python",
   "name": "python",
   "nbconvert_exporter": "python",
   "pygments_lexer": "ipython3",
   "version": "3.7.9"
  },
  "latex_envs": {
   "bibliofile": "biblio.bib",
   "cite_by": "apalike",
   "current_citInitial": 1,
   "eqLabelWithNumbers": true,
   "eqNumInitial": 0
  },
  "widgets": {
   "state": {},
   "version": "1.1.2"
  }
 },
 "nbformat": 4,
 "nbformat_minor": 4
}
