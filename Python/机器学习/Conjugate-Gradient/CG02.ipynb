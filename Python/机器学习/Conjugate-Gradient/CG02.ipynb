{
 "cells": [
  {
   "cell_type": "markdown",
   "metadata": {},
   "source": [
    "## 2. Notation <a id=\"2\"></a>"
   ]
  },
  {
   "cell_type": "markdown",
   "metadata": {},
   "source": [
    "Let us begin with a few definitions and notes on notation.\n",
    "\n",
    "With a few exceptions, I shall use capital letters to denote matrices, lower case letters to denote vectors,\n",
    "and Greek letters to denote scalars. $A$ is an $n \\times n$ matrix, and $x$ and $b$ are vectors - that is, $n \\times 1$ matrices. Written out fully, Equation 1 is\n",
    "\n",
    "$$   \n",
    "\\begin{bmatrix}\n",
    "    A_{11} & A_{12} & \\dots & A_{1n} \\\\\n",
    "    A_{21} & A_{22} &        & A_{2n} \\\\\n",
    "    \\vdots &        & \\ddots & \\vdots \\\\\n",
    "    A_{n1} & A_{n2} & \\dots & A_{nn} \\\\\n",
    "  \\end{bmatrix}\n",
    "\\begin{bmatrix}\n",
    "    x_1\\\\\n",
    "    x_2\\\\\n",
    "    \\vdots\\\\\n",
    "    x_n\\\\\n",
    "    \\end{bmatrix}\n",
    "    =\n",
    "\\begin{bmatrix}\n",
    "    b_1\\\\\n",
    "    b_2\\\\\n",
    "    \\vdots\\\\\n",
    "    b_n\\\\\n",
    "    \\end{bmatrix}\n",
    "\\\n",
    "$$\n",
    "\n",
    "The *inner product* of two vectors is written $x^Ty$, and represents the scalar sum $\\sum_{i=1}^{n} x_iy_i$. Note that $x^Ty = y^T$. If $x$ and $y$ are orthogonal, then $x^Ty = 0$. In general, expressions that reduce to $1 \\times 1$ matrices, such as $x^Ty$ and $x^TAx$, are treated as scalar values."
   ]
  },
  {
   "cell_type": "markdown",
   "metadata": {},
   "source": [
    "A matrix $A$ is *positive-definite* if, for every non-zero vector $x$,\n",
    "\n",
    "\\begin{equation}\n",
    "x^TAx > 0 \\tag{2}\n",
    "\\end{equation}\n",
    "\n",
    "This may mean little to you, but don’t feel bad; it’s not a very intuitive idea, and it’s hard to imagine how a matrix that is positive-definite might look differently from one that isn’t. We will get a feeling for what positive-definiteness is about when we see how it affects the shape of quadratic forms.\n",
    "\n",
    "Finally, don’t forget the important basic identities $(AB)^T = B^TA^T$ and $(AB)^{-1} = B^{-1}A^{-1}$."
   ]
  },
  {
   "cell_type": "markdown",
   "metadata": {},
   "source": [
    "Next: [3. The Quadratic Form](CG03.ipynb)"
   ]
  }
 ],
 "metadata": {
  "anaconda-cloud": {},
  "hide_input": false,
  "kernelspec": {
   "display_name": "Python 3",
   "language": "python",
   "name": "python3"
  },
  "language_info": {
   "codemirror_mode": {
    "name": "ipython",
    "version": 3
   },
   "file_extension": ".py",
   "mimetype": "text/x-python",
   "name": "python",
   "nbconvert_exporter": "python",
   "pygments_lexer": "ipython3",
   "version": "3.7.9"
  },
  "latex_envs": {
   "bibliofile": "biblio.bib",
   "cite_by": "apalike",
   "current_citInitial": 1,
   "eqLabelWithNumbers": true,
   "eqNumInitial": 0
  },
  "widgets": {
   "state": {},
   "version": "1.1.2"
  }
 },
 "nbformat": 4,
 "nbformat_minor": 4
}
