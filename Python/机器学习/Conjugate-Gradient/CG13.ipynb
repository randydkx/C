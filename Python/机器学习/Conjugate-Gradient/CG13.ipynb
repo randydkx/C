{
 "cells": [
  {
   "cell_type": "markdown",
   "metadata": {},
   "source": [
    "## 13. Conjugate Gradients on the Normal Equations <a id=\"13\"></a>"
   ]
  },
  {
   "cell_type": "markdown",
   "metadata": {},
   "source": [
    "CG can be used to solve systems where $A$ is not symmetric, not positive-definite, and even not square. A\n",
    "solution to the least squares problem\n",
    "\n",
    "\\begin{equation}\n",
    "\\min_x{\\|Ax - b\\|^2}\n",
    "\\end{equation}\n",
    "\n",
    "can be found by setting the derivative of Expression 54 to zero:\n",
    "\n",
    "\\begin{equation}\n",
    "A^T A x = A^T b.\n",
    "\\end{equation}\n",
    "\n",
    "If $A$ is square and nonsingular, the solution to Equation 55 is the solution to $Ax=b$. If $A$ is not square, and $Ax=b$ is *overconstrained* — that is, has more linearly independent equations than variables — then there may or may not be a solution to $Ax=b$, but it is always possible to find a value of that minimizes Expression 54, the sum of the squares of the errors of each linear equation.\n",
    "\n",
    "$A^TA$ is symmetric and positive (for any $x, x^TA^TAx = \\|Ax\\|^2 \\geq 0$). If is not underconstrained, then $A^TA$ is nonsingular, and methods like Steepest Descent and CG can be used to solve Equation 55. The only nuisance in doing so is that the condition number of $ATA$ is the square of that of $A$, so convergence is significantly slower.\n",
    "\n",
    "An important technical point is that the matrix $A^TA$ is never formed explicitly, because it is less sparse than $A$. Instead, $A^TA$ is multiplied by $d$ by first finding the product $Ad$, and then $A^TAd$. Also, numerical stability is improved if the value $d^T A^T A d$ (in Equation 46) is computed by taking the inner product of $Ad$ with itself."
   ]
  },
  {
   "cell_type": "markdown",
   "metadata": {},
   "source": [
    "Next: [14. The Nonlinear Conjugate Gradient Method](CG14.ipynb)"
   ]
  }
 ],
 "metadata": {
  "anaconda-cloud": {},
  "hide_input": false,
  "kernelspec": {
   "display_name": "Python 3",
   "language": "python",
   "name": "python3"
  },
  "language_info": {
   "codemirror_mode": {
    "name": "ipython",
    "version": 3
   },
   "file_extension": ".py",
   "mimetype": "text/x-python",
   "name": "python",
   "nbconvert_exporter": "python",
   "pygments_lexer": "ipython3",
   "version": "3.7.9"
  },
  "latex_envs": {
   "bibliofile": "biblio.bib",
   "cite_by": "apalike",
   "current_citInitial": 1,
   "eqLabelWithNumbers": true,
   "eqNumInitial": 0
  },
  "widgets": {
   "state": {},
   "version": "1.1.2"
  }
 },
 "nbformat": 4,
 "nbformat_minor": 4
}
