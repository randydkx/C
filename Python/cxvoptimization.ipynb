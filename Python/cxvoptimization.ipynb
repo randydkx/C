{
 "cells": [
  {
   "cell_type": "code",
   "execution_count": 1,
   "metadata": {},
   "outputs": [
    {
     "name": "stdout",
     "output_type": "stream",
     "text": [
      "status: optimal\n",
      "optimal value 1.0\n",
      "optimal var 1.0 1.570086213240983e-22\n"
     ]
    }
   ],
   "source": [
    "import cvxpy as cp\n",
    "# Create two scalar optimization variables.\n",
    "x = cp.Variable()\n",
    "y = cp.Variable()\n",
    "# Create two constraints.\n",
    "constraints = [x + y == 1,\n",
    "x - y >= 1]\n",
    "# Form objective.\n",
    "obj = cp.Minimize((x - y)**2)\n",
    "# Form and solve problem.\n",
    "prob = cp.Problem(obj, constraints)\n",
    "prob.solve() # Returns the optimal value.\n",
    "print(\"status:\", prob.status)\n",
    "print(\"optimal value\", prob.value)\n",
    "print(\"optimal var\", x.value, y.value)"
   ]
  },
  {
   "cell_type": "code",
   "execution_count": 22,
   "metadata": {},
   "outputs": [
    {
     "name": "stdout",
     "output_type": "stream",
     "text": [
      "-Sum([ 4.8069281   6.54478554  1.00192051 14.43584027 12.72829623  5.72984073\n",
      " 11.91873463  8.18405943  7.06474957  9.22763902] @ log([0.08037766 0.0754897  0.02620376 0.19454287 0.03646743 0.00238092\n",
      " 0.0165103  0.04957525 0.04558878 0.05363139] @ Promote(var742, (10,)) + [0.1156762  0.02581912 0.16191049 0.01530128 0.04570296 0.03165182\n",
      " 0.00728113 0.04122465 0.03540156 0.0364486 ]), None, False)\n",
      "status: optimal\n",
      "optimal value 202.3676855373706\n",
      "optimal var 0.999999993004107\n"
     ]
    },
    {
     "name": "stderr",
     "output_type": "stream",
     "text": [
      "/usr/local/lib/python3.9/site-packages/cvxpy/expressions/expression.py:593: UserWarning: \n",
      "This use of ``*`` has resulted in matrix multiplication.\n",
      "Using ``*`` for matrix multiplication has been deprecated since CVXPY 1.1.\n",
      "    Use ``*`` for matrix-scalar and vector-scalar multiplication.\n",
      "    Use ``@`` for matrix-matrix and matrix-vector multiplication.\n",
      "    Use ``multiply`` for elementwise multiplication.\n",
      "This code path has been hit 19 times so far.\n",
      "\n",
      "  warnings.warn(msg, UserWarning)\n",
      "/usr/local/lib/python3.9/site-packages/cvxpy/expressions/expression.py:593: UserWarning: \n",
      "This use of ``*`` has resulted in matrix multiplication.\n",
      "Using ``*`` for matrix multiplication has been deprecated since CVXPY 1.1.\n",
      "    Use ``*`` for matrix-scalar and vector-scalar multiplication.\n",
      "    Use ``@`` for matrix-matrix and matrix-vector multiplication.\n",
      "    Use ``multiply`` for elementwise multiplication.\n",
      "This code path has been hit 20 times so far.\n",
      "\n",
      "  warnings.warn(msg, UserWarning)\n"
     ]
    }
   ],
   "source": [
    "import cvxpy as cp\n",
    "import numpy as np\n",
    "# Create two scalar optimization variables.\n",
    "x = cp.Variable()\n",
    "# Create two constraints.\n",
    "constraints = [x >=0, x <= 1]\n",
    "# Form objective.\n",
    "a = np.random.randn(10) *10\n",
    "b = np.random.randn(10) /10\n",
    "c = np.random.randn(10) /10\n",
    "for index in range(len(a)):\n",
    "    if a[index] < 0:\n",
    "        a[index] = -a[index]\n",
    "    if b[index] < 0:\n",
    "        b[index] = -b[index]\n",
    "    if c[index] < 0:\n",
    "        c[index] = -c[index]\n",
    "print(-cp.sum(a * cp.log(b * x + c)))\n",
    "obj = cp.Minimize(-cp.sum(a * cp.log(b * x + c)))\n",
    "# Form and solve problem.\n",
    "prob = cp.Problem(obj, constraints)\n",
    "prob.solve() # Returns the optimal value.\n",
    "print(\"status:\", prob.status)\n",
    "print(\"optimal value\", prob.value)\n",
    "print(\"optimal var\", x.value)"
   ]
  },
  {
   "cell_type": "code",
   "execution_count": 2,
   "metadata": {},
   "outputs": [
    {
     "name": "stdout",
     "output_type": "stream",
     "text": [
      "optimal value 0.9999999999945575\n",
      "optimal value 0.9999999999945575\n"
     ]
    }
   ],
   "source": [
    "# Replace the objective.\n",
    "prob2 = cp.Problem(cp.Maximize(x + y), prob.constraints)\n",
    "print(\"optimal value\", prob2.solve())\n",
    "# Replace the constraint (x + y == 1).\n",
    "constraints = [x + y <= 3] + prob2.constraints[1:]\n",
    "prob3 = cp.Problem(prob2.objective, constraints)\n",
    "print(\"optimal value\", prob2.solve())"
   ]
  },
  {
   "cell_type": "code",
   "execution_count": 3,
   "metadata": {},
   "outputs": [
    {
     "name": "stdout",
     "output_type": "stream",
     "text": [
      "status: infeasible\n",
      "optimal value inf\n",
      "status: unbounded\n",
      "optimal value -inf\n"
     ]
    }
   ],
   "source": [
    "x = cp.Variable()\n",
    "# An infeasible problem.\n",
    "prob = cp.Problem(cp.Minimize(x), [x >= 1, x <= 0])\n",
    "prob.solve()\n",
    "print(\"status:\", prob.status)\n",
    "print(\"optimal value\", prob.value)\n",
    "# An unbounded problem.\n",
    "prob = cp.Problem(cp.Minimize(x))\n",
    "prob.solve()\n",
    "print(\"status:\", prob.status)\n",
    "print(\"optimal value\", prob.value)"
   ]
  },
  {
   "cell_type": "markdown",
   "metadata": {},
   "source": [
    "## bounded least-squares problem"
   ]
  },
  {
   "cell_type": "code",
   "execution_count": 12,
   "metadata": {},
   "outputs": [
    {
     "name": "stdout",
     "output_type": "stream",
     "text": [
      "Optimal value 4.141338603672535\n",
      "Optimal var\n",
      "[-0.     0.     0.135  0.125 -0.   ]\n"
     ]
    }
   ],
   "source": [
    "# Solves a bounded least-squares problem.\n",
    "import cvxpy as cp\n",
    "import numpy\n",
    "# Problem data.\n",
    "m = 10\n",
    "n = 5\n",
    "numpy.random.seed(1)\n",
    "A = numpy.random.randn(m, n)\n",
    "b = numpy.random.randn(m)\n",
    "# Construct the problem.\n",
    "x = cp.Variable(n)\n",
    "objective = cp.Minimize(cp.sum_squares(A @ x - b))\n",
    "constraints = [0 <= x, x <= 1]\n",
    "prob = cp.Problem(objective, constraints)\n",
    "print(\"Optimal value\", prob.solve())\n",
    "print(\"Optimal var\")\n",
    "print(x.value.round(3)) # A numpy ndarray."
   ]
  },
  {
   "cell_type": "code",
   "execution_count": 24,
   "metadata": {},
   "outputs": [
    {
     "data": {
      "image/png": "[encoded data removed]",
      "text/plain": [
       "<Figure size 432x720 with 2 Axes>"
      ]
     },
     "metadata": {
      "needs_background": "light"
     },
     "output_type": "display_data"
    }
   ],
   "source": [
    "import cvxpy as cp\n",
    "import numpy\n",
    "import matplotlib.pyplot as plt\n",
    "# Problem data.\n",
    "n = 15\n",
    "m = 10\n",
    "numpy.random.seed(1)\n",
    "A = numpy.random.randn(n, m)\n",
    "b = numpy.random.randn(n)\n",
    "# gamma must be nonnegative due to DCP rules.\n",
    "gamma = cp.Parameter(nonneg=True)\n",
    "# Construct the problem.\n",
    "x = cp.Variable(m)\n",
    "error = cp.sum_squares(A @ x - b)\n",
    "obj = cp.Minimize(error + gamma*cp.norm(x, 1))\n",
    "prob = cp.Problem(obj)\n",
    "# Construct a trade-off curve of ||Ax-b||^2 vs. ||x||_1\n",
    "sq_penalty = []\n",
    "l1_penalty = []\n",
    "x_values = []\n",
    "gamma_vals = numpy.logspace(-4, 6)\n",
    "for val in gamma_vals:\n",
    "    gamma.value = val\n",
    "    prob.solve()\n",
    "    # Use expr.value to get the numerical value of\n",
    "    # an expression in the problem.\n",
    "    sq_penalty.append(error.value)\n",
    "    l1_penalty.append(cp.norm(x, 1).value)\n",
    "    x_values.append(x.value)\n",
    "plt.rc('text', usetex=True)\n",
    "plt.rc('font', family='serif')\n",
    "plt.figure(figsize=(6,10))\n",
    "# Plot trade-off curve.\n",
    "plt.subplot(211)\n",
    "plt.plot(l1_penalty, sq_penalty)\n",
    "plt.xlabel('$\\|x\\|_1$', fontsize=16)\n",
    "plt.ylabel('$\\|Ax-b\\|^2$', fontsize=16)\n",
    "plt.title('Trade-Off Curve for LASSO', fontsize=16)\n",
    "# Plot entries of x vs. gamma.\n",
    "plt.subplot(212)\n",
    "for i in range(m):\n",
    "    plt.plot(gamma_vals, [xi[i] for xi in x_values])\n",
    "plt.xlabel('$\\gamma$', fontsize=16)\n",
    "plt.ylabel('$x_{i}$', fontsize=16)\n",
    "plt.xscale('log')\n",
    "plt.title('Entries of x vs. $\\gamma$', fontsize=16)\n",
    "plt.tight_layout()\n",
    "plt.show()"
   ]
  },
  {
   "cell_type": "markdown",
   "metadata": {},
   "source": [
    "## 凸性测试"
   ]
  },
  {
   "cell_type": "code",
   "execution_count": 27,
   "metadata": {},
   "outputs": [
    {
     "name": "stdout",
     "output_type": "stream",
     "text": [
      "curvature of x: AFFINE\n",
      "curvature of a: CONSTANT\n",
      "curvature of square(x): CONVEX\n",
      "curvature of sqrt(x): CONCAVE\n"
     ]
    }
   ],
   "source": [
    "x = cp.Variable()\n",
    "a = cp.Parameter(nonneg=True)\n",
    "print(\"curvature of x:\", x.curvature)\n",
    "print(\"curvature of a:\", a.curvature)\n",
    "print(\"curvature of square(x):\", cp.square(x).curvature)\n",
    "print(\"curvature of sqrt(x):\", cp.sqrt(x).curvature)"
   ]
  },
  {
   "cell_type": "code",
   "execution_count": 1,
   "metadata": {},
   "outputs": [
    {
     "name": "stdout",
     "output_type": "stream",
     "text": [
      "prob1 is DCP: True\n",
      "prob2 is DCP: True\n",
      "prob3 is DCP: False\n",
      "Maximize(square(x)) is DCP: False\n",
      "prob4 is DCP: False\n",
      "sqrt(x) <= 2 is DCP: False\n"
     ]
    }
   ],
   "source": [
    "import cvxpy as cp\n",
    "x = cp.Variable()\n",
    "y = cp.Variable()\n",
    "# DCP problems.\n",
    "prob1 = cp.Problem(cp.Minimize(cp.square(x - y)),\n",
    "[x + y >= 0])\n",
    "prob2 = cp.Problem(cp.Maximize(cp.sqrt(x - y)),\n",
    "[2*x - 3 == y,\n",
    "cp.square(x) <= 2])\n",
    "print(\"prob1 is DCP:\", prob1.is_dcp())\n",
    "print(\"prob2 is DCP:\", prob2.is_dcp())\n",
    "# Non-DCP problems.\n",
    "# A non-DCP objective.\n",
    "obj = cp.Maximize(cp.square(x))\n",
    "prob3 = cp.Problem(obj)\n",
    "print(\"prob3 is DCP:\", prob3.is_dcp())\n",
    "print(\"Maximize(square(x)) is DCP:\", obj.is_dcp())\n",
    "# A non-DCP constraint.\n",
    "prob4 = cp.Problem(cp.Minimize(cp.square(x)),\n",
    "[cp.sqrt(x) <= 2])\n",
    "print( \"prob4 is DCP:\", prob4.is_dcp())\n",
    "print( \"sqrt(x) <= 2 is DCP:\", (cp.sqrt(x) <= 2).is_dcp())"
   ]
  },
  {
   "cell_type": "code",
   "execution_count": 9,
   "metadata": {},
   "outputs": [],
   "source": [
    "import numpy as np\n",
    "import cvxpy as cp\n",
    "x = cp.Variable(10)\n",
    "A = np.random.randn(100,10)\n",
    "b = np.random.randn(100)\n",
    "cp.geo_mean(A @ x + b).value"
   ]
  },
  {
   "cell_type": "markdown",
   "metadata": {},
   "source": [
    "## 对偶变量"
   ]
  },
  {
   "cell_type": "code",
   "execution_count": 10,
   "metadata": {},
   "outputs": [
    {
     "name": "stdout",
     "output_type": "stream",
     "text": [
      "optimal (x + y == 1) dual variable 0.0\n",
      "optimal (x - y >= 1) dual variable 2.0\n",
      "x - y value: 1.0\n"
     ]
    }
   ],
   "source": [
    "import cvxpy as cp\n",
    "# Create two scalar optimization variables.\n",
    "x = cp.Variable()\n",
    "y = cp.Variable()\n",
    "# Create two constraints.\n",
    "constraints = [x + y == 1,\n",
    "x - y >= 1]\n",
    "# Form objective.\n",
    "obj = cp.Minimize((x - y)**2)\n",
    "# Form and solve problem.\n",
    "prob = cp.Problem(obj, constraints)\n",
    "prob.solve()\n",
    "# The optimal dual variable (Lagrange multiplier) for\n",
    "# a constraint is stored in constraint.dual_value.\n",
    "print(\"optimal (x + y == 1) dual variable\", constraints[0].dual_value)\n",
    "print(\"optimal (x - y >= 1) dual variable\", constraints[1].dual_value)\n",
    "print(\"x - y value:\", (x - y).value)"
   ]
  },
  {
   "cell_type": "code",
   "execution_count": 17,
   "metadata": {},
   "outputs": [
    {
     "name": "stdout",
     "output_type": "stream",
     "text": [
      "0.0\n"
     ]
    }
   ],
   "source": [
    "# Creates a 100 by 100 positive semidefinite variable.\n",
    "X = cp.Variable((100, 100), PSD=True)\n",
    "# You can use X anywhere you would use\n",
    "# a normal CVXPY variable.\n",
    "obj = cp.Minimize(cp.norm(X) + cp.sum(X))\n",
    "\n",
    "Y = cp.Variable((10,10), PSD=True)\n",
    "cons = [X >> 0, X == X.T]\n",
    "obj2 = cp.Minimize(cp.norm(X,p=2) + cp.sum(X))\n",
    "pro2 = cp.Problem(obj2, cons)\n",
    "pro2.solve()\n",
    "print(X.value.round(2).sum())\n"
   ]
  },
  {
   "cell_type": "markdown",
   "metadata": {},
   "source": [
    "## 包含整数或者0-1变量的问题"
   ]
  },
  {
   "cell_type": "code",
   "execution_count": 18,
   "metadata": {},
   "outputs": [],
   "source": [
    "x = cp.Variable(10, boolean=True)"
   ]
  },
  {
   "cell_type": "code",
   "execution_count": 19,
   "metadata": {},
   "outputs": [],
   "source": [
    "x = cp.Variable(10, integer=True)"
   ]
  },
  {
   "cell_type": "markdown",
   "metadata": {},
   "source": [
    "## 使用不同的solver"
   ]
  },
  {
   "cell_type": "code",
   "execution_count": 2,
   "metadata": {},
   "outputs": [
    {
     "name": "stdout",
     "output_type": "stream",
     "text": [
      "optimal value with CBC: 6.0\n"
     ]
    }
   ],
   "source": [
    "import cvxpy as cp\n",
    "# Solving a problem with different solvers.\n",
    "x = cp.Variable(2)\n",
    "obj = cp.Minimize(x[0] + cp.norm(x, 1))\n",
    "constraints = [x >= 2]\n",
    "prob = cp.Problem(obj, constraints)\n",
    "# Solve with OSQP.\n",
    "prob.solve(solver=cp.OSQP)\n",
    "print(\"optimal value with OSQP:\", prob.value)\n",
    "# Solve with ECOS.\n",
    "prob.solve(solver=cp.ECOS)\n",
    "print(\"optimal value with ECOS:\", prob.value)\n",
    "\n",
    "# Solve with ECOS_BB.\n",
    "prob.solve(solver=cp.ECOS_BB)\n",
    "print(\"optimal value with ECOS_BB:\", prob.value)\n",
    "# Solve with CVXOPT.\n",
    "prob.solve(solver=cp.CVXOPT)\n",
    "print(\"optimal value with CVXOPT:\", prob.value)\n",
    "# Solve with SCS.\n",
    "prob.solve(solver=cp.SCS)\n",
    "print(\"optimal value with SCS:\", prob.value)\n",
    "# Solve with GLPK.\n",
    "prob.solve(solver=cp.GLPK)\n",
    "print(\"optimal value with GLPK:\", prob.value)\n",
    "# Solve with GLPK_MI.\n",
    "prob.solve(solver=cp.GLPK_MI)\n",
    "print(\"optimal value with GLPK_MI:\", prob.value)\n",
    "# Solve with GUROBI.\n",
    "# prob.solve(solver=cp.GUROBI)\n",
    "# print(\"optimal value with GUROBI:\", prob.value)\n",
    "# Solve with MOSEK.\n",
    "# prob.solve(solver=cp.MOSEK)\n",
    "# print(\"optimal value with MOSEK:\", prob.value)\n",
    "# Solve with Elemental.\n",
    "# prob.solve(solver=cp.ELEMENTAL)\n",
    "# print(\"optimal value with Elemental:\", prob.value)\n",
    "# Solve with CBC.\n",
    "prob.solve(solver=cp.CBC)\n",
    "print(\"optimal value with CBC:\", prob.value)\n",
    "# Solve with CPLEX.\n",
    "# prob.solve(solver=cp.CPLEX)\n",
    "# print( \"optimal value with CPLEX:\", prob.value)"
   ]
  },
  {
   "cell_type": "code",
   "execution_count": 3,
   "metadata": {},
   "outputs": [
    {
     "data": {
      "image/svg+xml": "<?xml version=\"1.0\" encoding=\"utf-8\" standalone=\"no\"?>\n<!DOCTYPE svg PUBLIC \"-//W3C//DTD SVG 1.1//EN\"\n  \"http://www.w3.org/Graphics/SVG/1.1/DTD/svg11.dtd\">\n<svg xmlns:xlink=\"http://www.w3.org/1999/xlink\" width=\"385.78125pt\" height=\"262.19625pt\" viewBox=\"0 0 385.78125 262.19625\" xmlns=\"http://www.w3.org/2000/svg\" version=\"1.1\">\n <metadata>\n  <rdf:RDF xmlns:dc=\"http://purl.org/dc/elements/1.1/\" xmlns:cc=\"http://creativecommons.org/ns#\" xmlns:rdf=\"http://www.w3.org/1999/02/22-rdf-syntax-ns#\">\n   <cc:Work>\n    <dc:type rdf:resource=\"http://purl.org/dc/dcmitype/StillImage\"/>\n    <dc:date>2022-05-10T12:35:38.953293</dc:date>\n    <dc:format>image/svg+xml</dc:format>\n    <dc:creator>\n     <cc:Agent>\n      <dc:title>Matplotlib v3.5.1, https://matplotlib.org/</dc:title>\n     </cc:Agent>\n    </dc:creator>\n   </cc:Work>\n  </rdf:RDF>\n </metadata>\n <defs>\n  <style type=\"text/css\">*{stroke-linejoin: round; stroke-linecap: butt}</style>\n </defs>\n <g id=\"figure_1\">\n  <g id=\"patch_1\">\n   <path d=\"M 0 262.19625 \nL 385.78125 262.19625 \nL 385.78125 0 \nL 0 0 \nL 0 262.19625 \nz\n\" style=\"fill: none\"/>\n  </g>\n  <g id=\"axes_1\">\n   <g id=\"patch_2\">\n    <path d=\"M 43.78125 224.64 \nL 378.58125 224.64 \nL 378.58125 7.2 \nL 43.78125 7.2 \nz\n\" style=\"fill: #ffffff\"/>\n   </g>\n   <g id=\"matplotlib.axis_1\">\n    <g id=\"xtick_1\">\n     <g id=\"line2d_1\">\n      <defs>\n       <path id=\"m8077d29953\" d=\"M 0 0 \nL 0 3.5 \n\" style=\"stroke: #000000; stroke-width: 0.8\"/>\n      </defs>\n      <g>\n       <use xlink:href=\"#m8077d29953\" x=\"73.4446\" y=\"224.64\" style=\"stroke: #000000; stroke-width: 0.8\"/>\n      </g>\n     </g>\n     <g id=\"text_1\">\n      <!-- 0.5 -->\n      <g transform=\"translate(65.493037 239.238438)scale(0.1 -0.1)\">\n       <defs>\n        <path id=\"DejaVuSans-30\" d=\"M 2034 4250 \nQ 1547 4250 1301 3770 \nQ 1056 3291 1056 2328 \nQ 1056 1369 1301 889 \nQ 1547 409 2034 409 \nQ 2525 409 2770 889 \nQ 3016 1369 3016 2328 \nQ 3016 3291 2770 3770 \nQ 2525 4250 2034 4250 \nz\nM 2034 4750 \nQ 2819 4750 3233 4129 \nQ 3647 3509 3647 2328 \nQ 3647 1150 3233 529 \nQ 2819 -91 2034 -91 \nQ 1250 -91 836 529 \nQ 422 1150 422 2328 \nQ 422 3509 836 4129 \nQ 1250 4750 2034 4750 \nz\n\" transform=\"scale(0.015625)\"/>\n        <path id=\"DejaVuSans-2e\" d=\"M 684 794 \nL 1344 794 \nL 1344 0 \nL 684 0 \nL 684 794 \nz\n\" transform=\"scale(0.015625)\"/>\n        <path id=\"DejaVuSans-35\" d=\"M 691 4666 \nL 3169 4666 \nL 3169 4134 \nL 1269 4134 \nL 1269 2991 \nQ 1406 3038 1543 3061 \nQ 1681 3084 1819 3084 \nQ 2600 3084 3056 2656 \nQ 3513 2228 3513 1497 \nQ 3513 744 3044 326 \nQ 2575 -91 1722 -91 \nQ 1428 -91 1123 -41 \nQ 819 9 494 109 \nL 494 744 \nQ 775 591 1075 516 \nQ 1375 441 1709 441 \nQ 2250 441 2565 725 \nQ 2881 1009 2881 1497 \nQ 2881 1984 2565 2268 \nQ 2250 2553 1709 2553 \nQ 1456 2553 1204 2497 \nQ 953 2441 691 2322 \nL 691 4666 \nz\n\" transform=\"scale(0.015625)\"/>\n       </defs>\n       <use xlink:href=\"#DejaVuSans-30\"/>\n       <use xlink:href=\"#DejaVuSans-2e\" x=\"63.623047\"/>\n       <use xlink:href=\"#DejaVuSans-35\" x=\"95.410156\"/>\n      </g>\n     </g>\n    </g>\n    <g id=\"xtick_2\">\n     <g id=\"line2d_2\">\n      <g>\n       <use xlink:href=\"#m8077d29953\" x=\"124.831411\" y=\"224.64\" style=\"stroke: #000000; stroke-width: 0.8\"/>\n      </g>\n     </g>\n     <g id=\"text_2\">\n      <!-- 1.0 -->\n      <g transform=\"translate(116.879848 239.238438)scale(0.1 -0.1)\">\n       <defs>\n        <path id=\"DejaVuSans-31\" d=\"M 794 531 \nL 1825 531 \nL 1825 4091 \nL 703 3866 \nL 703 4441 \nL 1819 4666 \nL 2450 4666 \nL 2450 531 \nL 3481 531 \nL 3481 0 \nL 794 0 \nL 794 531 \nz\n\" transform=\"scale(0.015625)\"/>\n       </defs>\n       <use xlink:href=\"#DejaVuSans-31\"/>\n       <use xlink:href=\"#DejaVuSans-2e\" x=\"63.623047\"/>\n       <use xlink:href=\"#DejaVuSans-30\" x=\"95.410156\"/>\n      </g>\n     </g>\n    </g>\n    <g id=\"xtick_3\">\n     <g id=\"line2d_3\">\n      <g>\n       <use xlink:href=\"#m8077d29953\" x=\"176.218222\" y=\"224.64\" style=\"stroke: #000000; stroke-width: 0.8\"/>\n      </g>\n     </g>\n     <g id=\"text_3\">\n      <!-- 1.5 -->\n      <g transform=\"translate(168.26666 239.238438)scale(0.1 -0.1)\">\n       <use xlink:href=\"#DejaVuSans-31\"/>\n       <use xlink:href=\"#DejaVuSans-2e\" x=\"63.623047\"/>\n       <use xlink:href=\"#DejaVuSans-35\" x=\"95.410156\"/>\n      </g>\n     </g>\n    </g>\n    <g id=\"xtick_4\">\n     <g id=\"line2d_4\">\n      <g>\n       <use xlink:href=\"#m8077d29953\" x=\"227.605033\" y=\"224.64\" style=\"stroke: #000000; stroke-width: 0.8\"/>\n      </g>\n     </g>\n     <g id=\"text_4\">\n      <!-- 2.0 -->\n      <g transform=\"translate(219.653471 239.238438)scale(0.1 -0.1)\">\n       <defs>\n        <path id=\"DejaVuSans-32\" d=\"M 1228 531 \nL 3431 531 \nL 3431 0 \nL 469 0 \nL 469 531 \nQ 828 903 1448 1529 \nQ 2069 2156 2228 2338 \nQ 2531 2678 2651 2914 \nQ 2772 3150 2772 3378 \nQ 2772 3750 2511 3984 \nQ 2250 4219 1831 4219 \nQ 1534 4219 1204 4116 \nQ 875 4013 500 3803 \nL 500 4441 \nQ 881 4594 1212 4672 \nQ 1544 4750 1819 4750 \nQ 2544 4750 2975 4387 \nQ 3406 4025 3406 3419 \nQ 3406 3131 3298 2873 \nQ 3191 2616 2906 2266 \nQ 2828 2175 2409 1742 \nQ 1991 1309 1228 531 \nz\n\" transform=\"scale(0.015625)\"/>\n       </defs>\n       <use xlink:href=\"#DejaVuSans-32\"/>\n       <use xlink:href=\"#DejaVuSans-2e\" x=\"63.623047\"/>\n       <use xlink:href=\"#DejaVuSans-30\" x=\"95.410156\"/>\n      </g>\n     </g>\n    </g>\n    <g id=\"xtick_5\">\n     <g id=\"line2d_5\">\n      <g>\n       <use xlink:href=\"#m8077d29953\" x=\"278.991845\" y=\"224.64\" style=\"stroke: #000000; stroke-width: 0.8\"/>\n      </g>\n     </g>\n     <g id=\"text_5\">\n      <!-- 2.5 -->\n      <g transform=\"translate(271.040282 239.238438)scale(0.1 -0.1)\">\n       <use xlink:href=\"#DejaVuSans-32\"/>\n       <use xlink:href=\"#DejaVuSans-2e\" x=\"63.623047\"/>\n       <use xlink:href=\"#DejaVuSans-35\" x=\"95.410156\"/>\n      </g>\n     </g>\n    </g>\n    <g id=\"xtick_6\">\n     <g id=\"line2d_6\">\n      <g>\n       <use xlink:href=\"#m8077d29953\" x=\"330.378656\" y=\"224.64\" style=\"stroke: #000000; stroke-width: 0.8\"/>\n      </g>\n     </g>\n     <g id=\"text_6\">\n      <!-- 3.0 -->\n      <g transform=\"translate(322.427093 239.238438)scale(0.1 -0.1)\">\n       <defs>\n        <path id=\"DejaVuSans-33\" d=\"M 2597 2516 \nQ 3050 2419 3304 2112 \nQ 3559 1806 3559 1356 \nQ 3559 666 3084 287 \nQ 2609 -91 1734 -91 \nQ 1441 -91 1130 -33 \nQ 819 25 488 141 \nL 488 750 \nQ 750 597 1062 519 \nQ 1375 441 1716 441 \nQ 2309 441 2620 675 \nQ 2931 909 2931 1356 \nQ 2931 1769 2642 2001 \nQ 2353 2234 1838 2234 \nL 1294 2234 \nL 1294 2753 \nL 1863 2753 \nQ 2328 2753 2575 2939 \nQ 2822 3125 2822 3475 \nQ 2822 3834 2567 4026 \nQ 2313 4219 1838 4219 \nQ 1578 4219 1281 4162 \nQ 984 4106 628 3988 \nL 628 4550 \nQ 988 4650 1302 4700 \nQ 1616 4750 1894 4750 \nQ 2613 4750 3031 4423 \nQ 3450 4097 3450 3541 \nQ 3450 3153 3228 2886 \nQ 3006 2619 2597 2516 \nz\n\" transform=\"scale(0.015625)\"/>\n       </defs>\n       <use xlink:href=\"#DejaVuSans-33\"/>\n       <use xlink:href=\"#DejaVuSans-2e\" x=\"63.623047\"/>\n       <use xlink:href=\"#DejaVuSans-30\" x=\"95.410156\"/>\n      </g>\n     </g>\n    </g>\n    <g id=\"text_7\">\n     <!-- Standard deviation -->\n     <g transform=\"translate(163.603906 252.916563)scale(0.1 -0.1)\">\n      <defs>\n       <path id=\"DejaVuSans-53\" d=\"M 3425 4513 \nL 3425 3897 \nQ 3066 4069 2747 4153 \nQ 2428 4238 2131 4238 \nQ 1616 4238 1336 4038 \nQ 1056 3838 1056 3469 \nQ 1056 3159 1242 3001 \nQ 1428 2844 1947 2747 \nL 2328 2669 \nQ 3034 2534 3370 2195 \nQ 3706 1856 3706 1288 \nQ 3706 609 3251 259 \nQ 2797 -91 1919 -91 \nQ 1588 -91 1214 -16 \nQ 841 59 441 206 \nL 441 856 \nQ 825 641 1194 531 \nQ 1563 422 1919 422 \nQ 2459 422 2753 634 \nQ 3047 847 3047 1241 \nQ 3047 1584 2836 1778 \nQ 2625 1972 2144 2069 \nL 1759 2144 \nQ 1053 2284 737 2584 \nQ 422 2884 422 3419 \nQ 422 4038 858 4394 \nQ 1294 4750 2059 4750 \nQ 2388 4750 2728 4690 \nQ 3069 4631 3425 4513 \nz\n\" transform=\"scale(0.015625)\"/>\n       <path id=\"DejaVuSans-74\" d=\"M 1172 4494 \nL 1172 3500 \nL 2356 3500 \nL 2356 3053 \nL 1172 3053 \nL 1172 1153 \nQ 1172 725 1289 603 \nQ 1406 481 1766 481 \nL 2356 481 \nL 2356 0 \nL 1766 0 \nQ 1100 0 847 248 \nQ 594 497 594 1153 \nL 594 3053 \nL 172 3053 \nL 172 3500 \nL 594 3500 \nL 594 4494 \nL 1172 4494 \nz\n\" transform=\"scale(0.015625)\"/>\n       <path id=\"DejaVuSans-61\" d=\"M 2194 1759 \nQ 1497 1759 1228 1600 \nQ 959 1441 959 1056 \nQ 959 750 1161 570 \nQ 1363 391 1709 391 \nQ 2188 391 2477 730 \nQ 2766 1069 2766 1631 \nL 2766 1759 \nL 2194 1759 \nz\nM 3341 1997 \nL 3341 0 \nL 2766 0 \nL 2766 531 \nQ 2569 213 2275 61 \nQ 1981 -91 1556 -91 \nQ 1019 -91 701 211 \nQ 384 513 384 1019 \nQ 384 1609 779 1909 \nQ 1175 2209 1959 2209 \nL 2766 2209 \nL 2766 2266 \nQ 2766 2663 2505 2880 \nQ 2244 3097 1772 3097 \nQ 1472 3097 1187 3025 \nQ 903 2953 641 2809 \nL 641 3341 \nQ 956 3463 1253 3523 \nQ 1550 3584 1831 3584 \nQ 2591 3584 2966 3190 \nQ 3341 2797 3341 1997 \nz\n\" transform=\"scale(0.015625)\"/>\n       <path id=\"DejaVuSans-6e\" d=\"M 3513 2113 \nL 3513 0 \nL 2938 0 \nL 2938 2094 \nQ 2938 2591 2744 2837 \nQ 2550 3084 2163 3084 \nQ 1697 3084 1428 2787 \nQ 1159 2491 1159 1978 \nL 1159 0 \nL 581 0 \nL 581 3500 \nL 1159 3500 \nL 1159 2956 \nQ 1366 3272 1645 3428 \nQ 1925 3584 2291 3584 \nQ 2894 3584 3203 3211 \nQ 3513 2838 3513 2113 \nz\n\" transform=\"scale(0.015625)\"/>\n       <path id=\"DejaVuSans-64\" d=\"M 2906 2969 \nL 2906 4863 \nL 3481 4863 \nL 3481 0 \nL 2906 0 \nL 2906 525 \nQ 2725 213 2448 61 \nQ 2172 -91 1784 -91 \nQ 1150 -91 751 415 \nQ 353 922 353 1747 \nQ 353 2572 751 3078 \nQ 1150 3584 1784 3584 \nQ 2172 3584 2448 3432 \nQ 2725 3281 2906 2969 \nz\nM 947 1747 \nQ 947 1113 1208 752 \nQ 1469 391 1925 391 \nQ 2381 391 2643 752 \nQ 2906 1113 2906 1747 \nQ 2906 2381 2643 2742 \nQ 2381 3103 1925 3103 \nQ 1469 3103 1208 2742 \nQ 947 2381 947 1747 \nz\n\" transform=\"scale(0.015625)\"/>\n       <path id=\"DejaVuSans-72\" d=\"M 2631 2963 \nQ 2534 3019 2420 3045 \nQ 2306 3072 2169 3072 \nQ 1681 3072 1420 2755 \nQ 1159 2438 1159 1844 \nL 1159 0 \nL 581 0 \nL 581 3500 \nL 1159 3500 \nL 1159 2956 \nQ 1341 3275 1631 3429 \nQ 1922 3584 2338 3584 \nQ 2397 3584 2469 3576 \nQ 2541 3569 2628 3553 \nL 2631 2963 \nz\n\" transform=\"scale(0.015625)\"/>\n       <path id=\"DejaVuSans-20\" transform=\"scale(0.015625)\"/>\n       <path id=\"DejaVuSans-65\" d=\"M 3597 1894 \nL 3597 1613 \nL 953 1613 \nQ 991 1019 1311 708 \nQ 1631 397 2203 397 \nQ 2534 397 2845 478 \nQ 3156 559 3463 722 \nL 3463 178 \nQ 3153 47 2828 -22 \nQ 2503 -91 2169 -91 \nQ 1331 -91 842 396 \nQ 353 884 353 1716 \nQ 353 2575 817 3079 \nQ 1281 3584 2069 3584 \nQ 2775 3584 3186 3129 \nQ 3597 2675 3597 1894 \nz\nM 3022 2063 \nQ 3016 2534 2758 2815 \nQ 2500 3097 2075 3097 \nQ 1594 3097 1305 2825 \nQ 1016 2553 972 2059 \nL 3022 2063 \nz\n\" transform=\"scale(0.015625)\"/>\n       <path id=\"DejaVuSans-76\" d=\"M 191 3500 \nL 800 3500 \nL 1894 563 \nL 2988 3500 \nL 3597 3500 \nL 2284 0 \nL 1503 0 \nL 191 3500 \nz\n\" transform=\"scale(0.015625)\"/>\n       <path id=\"DejaVuSans-69\" d=\"M 603 3500 \nL 1178 3500 \nL 1178 0 \nL 603 0 \nL 603 3500 \nz\nM 603 4863 \nL 1178 4863 \nL 1178 4134 \nL 603 4134 \nL 603 4863 \nz\n\" transform=\"scale(0.015625)\"/>\n       <path id=\"DejaVuSans-6f\" d=\"M 1959 3097 \nQ 1497 3097 1228 2736 \nQ 959 2375 959 1747 \nQ 959 1119 1226 758 \nQ 1494 397 1959 397 \nQ 2419 397 2687 759 \nQ 2956 1122 2956 1747 \nQ 2956 2369 2687 2733 \nQ 2419 3097 1959 3097 \nz\nM 1959 3584 \nQ 2709 3584 3137 3096 \nQ 3566 2609 3566 1747 \nQ 3566 888 3137 398 \nQ 2709 -91 1959 -91 \nQ 1206 -91 779 398 \nQ 353 888 353 1747 \nQ 353 2609 779 3096 \nQ 1206 3584 1959 3584 \nz\n\" transform=\"scale(0.015625)\"/>\n      </defs>\n      <use xlink:href=\"#DejaVuSans-53\"/>\n      <use xlink:href=\"#DejaVuSans-74\" x=\"63.476562\"/>\n      <use xlink:href=\"#DejaVuSans-61\" x=\"102.685547\"/>\n      <use xlink:href=\"#DejaVuSans-6e\" x=\"163.964844\"/>\n      <use xlink:href=\"#DejaVuSans-64\" x=\"227.34375\"/>\n      <use xlink:href=\"#DejaVuSans-61\" x=\"290.820312\"/>\n      <use xlink:href=\"#DejaVuSans-72\" x=\"352.099609\"/>\n      <use xlink:href=\"#DejaVuSans-64\" x=\"391.462891\"/>\n      <use xlink:href=\"#DejaVuSans-20\" x=\"454.939453\"/>\n      <use xlink:href=\"#DejaVuSans-64\" x=\"486.726562\"/>\n      <use xlink:href=\"#DejaVuSans-65\" x=\"550.203125\"/>\n      <use xlink:href=\"#DejaVuSans-76\" x=\"611.726562\"/>\n      <use xlink:href=\"#DejaVuSans-69\" x=\"670.90625\"/>\n      <use xlink:href=\"#DejaVuSans-61\" x=\"698.689453\"/>\n      <use xlink:href=\"#DejaVuSans-74\" x=\"759.96875\"/>\n      <use xlink:href=\"#DejaVuSans-69\" x=\"799.177734\"/>\n      <use xlink:href=\"#DejaVuSans-6f\" x=\"826.960938\"/>\n      <use xlink:href=\"#DejaVuSans-6e\" x=\"888.142578\"/>\n     </g>\n    </g>\n   </g>\n   <g id=\"matplotlib.axis_2\">\n    <g id=\"ytick_1\">\n     <g id=\"line2d_7\">\n      <defs>\n       <path id=\"m2d482dc374\" d=\"M 0 0 \nL -3.5 0 \n\" style=\"stroke: #000000; stroke-width: 0.8\"/>\n      </defs>\n      <g>\n       <use xlink:href=\"#m2d482dc374\" x=\"43.78125\" y=\"190.614756\" style=\"stroke: #000000; stroke-width: 0.8\"/>\n      </g>\n     </g>\n     <g id=\"text_8\">\n      <!-- 0.5 -->\n      <g transform=\"translate(20.878125 194.413975)scale(0.1 -0.1)\">\n       <use xlink:href=\"#DejaVuSans-30\"/>\n       <use xlink:href=\"#DejaVuSans-2e\" x=\"63.623047\"/>\n       <use xlink:href=\"#DejaVuSans-35\" x=\"95.410156\"/>\n      </g>\n     </g>\n    </g>\n    <g id=\"ytick_2\">\n     <g id=\"line2d_8\">\n      <g>\n       <use xlink:href=\"#m2d482dc374\" x=\"43.78125\" y=\"142.452838\" style=\"stroke: #000000; stroke-width: 0.8\"/>\n      </g>\n     </g>\n     <g id=\"text_9\">\n      <!-- 1.0 -->\n      <g transform=\"translate(20.878125 146.252057)scale(0.1 -0.1)\">\n       <use xlink:href=\"#DejaVuSans-31\"/>\n       <use xlink:href=\"#DejaVuSans-2e\" x=\"63.623047\"/>\n       <use xlink:href=\"#DejaVuSans-30\" x=\"95.410156\"/>\n      </g>\n     </g>\n    </g>\n    <g id=\"ytick_3\">\n     <g id=\"line2d_9\">\n      <g>\n       <use xlink:href=\"#m2d482dc374\" x=\"43.78125\" y=\"94.290919\" style=\"stroke: #000000; stroke-width: 0.8\"/>\n      </g>\n     </g>\n     <g id=\"text_10\">\n      <!-- 1.5 -->\n      <g transform=\"translate(20.878125 98.090138)scale(0.1 -0.1)\">\n       <use xlink:href=\"#DejaVuSans-31\"/>\n       <use xlink:href=\"#DejaVuSans-2e\" x=\"63.623047\"/>\n       <use xlink:href=\"#DejaVuSans-35\" x=\"95.410156\"/>\n      </g>\n     </g>\n    </g>\n    <g id=\"ytick_4\">\n     <g id=\"line2d_10\">\n      <g>\n       <use xlink:href=\"#m2d482dc374\" x=\"43.78125\" y=\"46.129001\" style=\"stroke: #000000; stroke-width: 0.8\"/>\n      </g>\n     </g>\n     <g id=\"text_11\">\n      <!-- 2.0 -->\n      <g transform=\"translate(20.878125 49.928219)scale(0.1 -0.1)\">\n       <use xlink:href=\"#DejaVuSans-32\"/>\n       <use xlink:href=\"#DejaVuSans-2e\" x=\"63.623047\"/>\n       <use xlink:href=\"#DejaVuSans-30\" x=\"95.410156\"/>\n      </g>\n     </g>\n    </g>\n    <g id=\"text_12\">\n     <!-- Return -->\n     <g transform=\"translate(14.798438 132.511406)rotate(-90)scale(0.1 -0.1)\">\n      <defs>\n       <path id=\"DejaVuSans-52\" d=\"M 2841 2188 \nQ 3044 2119 3236 1894 \nQ 3428 1669 3622 1275 \nL 4263 0 \nL 3584 0 \nL 2988 1197 \nQ 2756 1666 2539 1819 \nQ 2322 1972 1947 1972 \nL 1259 1972 \nL 1259 0 \nL 628 0 \nL 628 4666 \nL 2053 4666 \nQ 2853 4666 3247 4331 \nQ 3641 3997 3641 3322 \nQ 3641 2881 3436 2590 \nQ 3231 2300 2841 2188 \nz\nM 1259 4147 \nL 1259 2491 \nL 2053 2491 \nQ 2509 2491 2742 2702 \nQ 2975 2913 2975 3322 \nQ 2975 3731 2742 3939 \nQ 2509 4147 2053 4147 \nL 1259 4147 \nz\n\" transform=\"scale(0.015625)\"/>\n       <path id=\"DejaVuSans-75\" d=\"M 544 1381 \nL 544 3500 \nL 1119 3500 \nL 1119 1403 \nQ 1119 906 1312 657 \nQ 1506 409 1894 409 \nQ 2359 409 2629 706 \nQ 2900 1003 2900 1516 \nL 2900 3500 \nL 3475 3500 \nL 3475 0 \nL 2900 0 \nL 2900 538 \nQ 2691 219 2414 64 \nQ 2138 -91 1772 -91 \nQ 1169 -91 856 284 \nQ 544 659 544 1381 \nz\nM 1991 3584 \nL 1991 3584 \nz\n\" transform=\"scale(0.015625)\"/>\n      </defs>\n      <use xlink:href=\"#DejaVuSans-52\"/>\n      <use xlink:href=\"#DejaVuSans-65\" x=\"64.982422\"/>\n      <use xlink:href=\"#DejaVuSans-74\" x=\"126.505859\"/>\n      <use xlink:href=\"#DejaVuSans-75\" x=\"165.714844\"/>\n      <use xlink:href=\"#DejaVuSans-72\" x=\"229.09375\"/>\n      <use xlink:href=\"#DejaVuSans-6e\" x=\"268.457031\"/>\n     </g>\n    </g>\n   </g>\n   <g id=\"line2d_11\">\n    <path d=\"M 285.510086 17.083636 \nL 285.510086 17.083636 \nL 285.510086 17.083636 \nL 285.510086 17.083636 \nL 285.510086 17.083636 \nL 285.510086 17.083636 \nL 285.510086 17.083636 \nL 285.510086 17.083636 \nL 285.510086 17.083636 \nL 285.510086 17.083636 \nL 285.510086 17.083636 \nL 285.510086 17.083636 \nL 285.510086 17.083636 \nL 285.510086 17.083636 \nL 285.510086 17.083636 \nL 273.526714 20.147641 \nL 261.341207 23.449595 \nL 251.224658 26.389044 \nL 242.878527 29.005786 \nL 229.916643 33.395651 \nL 216.158762 38.257701 \nL 202.750878 43.234807 \nL 188.222614 48.846459 \nL 174.194996 54.410928 \nL 162.08378 59.364501 \nL 151.684622 63.774247 \nL 142.809042 67.69987 \nL 135.28221 71.194518 \nL 128.941517 74.305507 \nL 123.635896 77.074956 \nL 119.225738 79.540361 \nL 115.583176 81.735102 \nL 112.592476 83.688894 \nL 109.773635 85.706541 \nL 104.909532 89.422365 \nL 100.146628 93.282538 \nL 96.07621 96.781626 \nL 92.68405 99.896567 \nL 89.834443 102.711566 \nL 84.734022 108.041734 \nL 80.376055 112.786729 \nL 76.676025 117.010796 \nL 73.555344 120.771123 \nL 70.940963 124.118624 \nL 68.765289 127.098619 \nL 66.966304 129.751456 \nL 65.487743 132.113051 \nL 64.27925 134.215379 \nL 63.296393 136.086903 \nL 62.500535 137.752962 \nL 61.858529 139.236113 \nL 61.3423 140.556436 \nL 60.928327 141.731807 \nL 60.426549 143.321425 \nL 59.974942 144.900715 \nL 59.639709 146.19865 \nL 59.507736 146.771444 \nL 59.402818 147.281353 \nL 59.319463 147.735281 \nL 59.253272 148.139376 \nL 59.200734 148.499106 \nL 59.159045 148.819344 \nL 59.125975 149.104425 \nL 59.099746 149.358208 \nL 59.078946 149.584129 \nL 59.062455 149.785248 \nL 59.049381 149.964287 \nL 59.039016 150.12367 \nL 59.0308 150.265555 \nL 59.024288 150.391863 \nL 59.019127 150.504305 \nL 59.015036 150.604402 \nL 59.011793 150.69351 \nL 59.009224 150.772836 \nL 59.007187 150.843452 \nL 59.005573 150.906316 \nL 59.004294 150.962279 \nL 59.00328 151.012097 \nL 59.002477 151.056447 \nL 59.00184 151.095927 \nL 59.001336 151.131073 \nL 59.000936 151.162361 \nL 59.000619 151.190213 \nL 59.000368 151.215008 \nL 59.000169 151.237081 \nL 59.000011 151.25673 \nL 58.999886 151.274223 \nL 58.999787 151.289795 \nL 58.999708 151.303657 \nL 58.999646 151.315997 \nL 58.999597 151.326983 \nL 58.999558 151.336763 \nL 58.999527 151.345469 \nL 58.999502 151.353219 \nL 58.999483 151.360118 \nL 58.999467 151.36626 \nL 58.999455 151.371728 \nL 58.999446 151.376595 \nL 58.999438 151.380928 \nL 58.999432 151.384785 \n\" clip-path=\"url(#p776e76d0c8)\" style=\"fill: none; stroke: #008000; stroke-width: 1.5; stroke-linecap: square\"/>\n   </g>\n   <g id=\"line2d_12\">\n    <defs>\n     <path id=\"mc2af56dd4f\" d=\"M -3 3 \nL 3 3 \nL 3 -3 \nL -3 -3 \nz\n\" style=\"stroke: #0000ff; stroke-linejoin: miter\"/>\n    </defs>\n    <g clip-path=\"url(#p776e76d0c8)\">\n     <use xlink:href=\"#mc2af56dd4f\" x=\"123.635896\" y=\"77.074956\" style=\"fill: #0000ff; stroke: #0000ff; stroke-linejoin: miter\"/>\n    </g>\n   </g>\n   <g id=\"line2d_13\">\n    <g clip-path=\"url(#p776e76d0c8)\">\n     <use xlink:href=\"#mc2af56dd4f\" x=\"80.376055\" y=\"112.786729\" style=\"fill: #0000ff; stroke: #0000ff; stroke-linejoin: miter\"/>\n    </g>\n   </g>\n   <g id=\"line2d_14\">\n    <defs>\n     <path id=\"m4f89c02962\" d=\"M 0 3 \nC 0.795609 3 1.55874 2.683901 2.12132 2.12132 \nC 2.683901 1.55874 3 0.795609 3 0 \nC 3 -0.795609 2.683901 -1.55874 2.12132 -2.12132 \nC 1.55874 -2.683901 0.795609 -3 0 -3 \nC -0.795609 -3 -1.55874 -2.683901 -2.12132 -2.12132 \nC -2.683901 -1.55874 -3 -0.795609 -3 0 \nC -3 0.795609 -2.683901 1.55874 -2.12132 2.12132 \nC -1.55874 2.683901 -0.795609 3 0 3 \nz\n\" style=\"stroke: #ff0000\"/>\n    </defs>\n    <g clip-path=\"url(#p776e76d0c8)\">\n     <use xlink:href=\"#m4f89c02962\" x=\"318.070062\" y=\"82.313497\" style=\"fill: #ff0000; stroke: #ff0000\"/>\n    </g>\n   </g>\n   <g id=\"line2d_15\">\n    <g clip-path=\"url(#p776e76d0c8)\">\n     <use xlink:href=\"#m4f89c02962\" x=\"347.415783\" y=\"179.84995\" style=\"fill: #ff0000; stroke: #ff0000\"/>\n    </g>\n   </g>\n   <g id=\"line2d_16\">\n    <g clip-path=\"url(#p776e76d0c8)\">\n     <use xlink:href=\"#m4f89c02962\" x=\"224.492521\" y=\"187.901145\" style=\"fill: #ff0000; stroke: #ff0000\"/>\n    </g>\n   </g>\n   <g id=\"line2d_17\">\n    <g clip-path=\"url(#p776e76d0c8)\">\n     <use xlink:href=\"#m4f89c02962\" x=\"271.393448\" y=\"135.42422\" style=\"fill: #ff0000; stroke: #ff0000\"/>\n    </g>\n   </g>\n   <g id=\"line2d_18\">\n    <g clip-path=\"url(#p776e76d0c8)\">\n     <use xlink:href=\"#m4f89c02962\" x=\"236.397883\" y=\"155.417291\" style=\"fill: #ff0000; stroke: #ff0000\"/>\n    </g>\n   </g>\n   <g id=\"line2d_19\">\n    <g clip-path=\"url(#p776e76d0c8)\">\n     <use xlink:href=\"#m4f89c02962\" x=\"285.510086\" y=\"17.083636\" style=\"fill: #ff0000; stroke: #ff0000\"/>\n    </g>\n   </g>\n   <g id=\"line2d_20\">\n    <g clip-path=\"url(#p776e76d0c8)\">\n     <use xlink:href=\"#m4f89c02962\" x=\"240.662644\" y=\"70.709711\" style=\"fill: #ff0000; stroke: #ff0000\"/>\n    </g>\n   </g>\n   <g id=\"line2d_21\">\n    <g clip-path=\"url(#p776e76d0c8)\">\n     <use xlink:href=\"#m4f89c02962\" x=\"363.363068\" y=\"165.454305\" style=\"fill: #ff0000; stroke: #ff0000\"/>\n    </g>\n   </g>\n   <g id=\"line2d_22\">\n    <g clip-path=\"url(#p776e76d0c8)\">\n     <use xlink:href=\"#m4f89c02962\" x=\"316.792125\" y=\"208.045605\" style=\"fill: #ff0000; stroke: #ff0000\"/>\n    </g>\n   </g>\n   <g id=\"line2d_23\">\n    <g clip-path=\"url(#p776e76d0c8)\">\n     <use xlink:href=\"#m4f89c02962\" x=\"286.705433\" y=\"214.756364\" style=\"fill: #ff0000; stroke: #ff0000\"/>\n    </g>\n   </g>\n   <g id=\"patch_3\">\n    <path d=\"M 43.78125 224.64 \nL 43.78125 7.2 \n\" style=\"fill: none; stroke: #000000; stroke-width: 0.8; stroke-linejoin: miter; stroke-linecap: square\"/>\n   </g>\n   <g id=\"patch_4\">\n    <path d=\"M 378.58125 224.64 \nL 378.58125 7.2 \n\" style=\"fill: none; stroke: #000000; stroke-width: 0.8; stroke-linejoin: miter; stroke-linecap: square\"/>\n   </g>\n   <g id=\"patch_5\">\n    <path d=\"M 43.78125 224.64 \nL 378.58125 224.64 \n\" style=\"fill: none; stroke: #000000; stroke-width: 0.8; stroke-linejoin: miter; stroke-linecap: square\"/>\n   </g>\n   <g id=\"patch_6\">\n    <path d=\"M 43.78125 7.2 \nL 378.58125 7.2 \n\" style=\"fill: none; stroke: #000000; stroke-width: 0.8; stroke-linejoin: miter; stroke-linecap: square\"/>\n   </g>\n   <g id=\"text_13\">\n    <!-- $\\gamma = 0.29$ -->\n    <g transform=\"translate(131.857786 79.964671)scale(0.1 -0.1)\">\n     <defs>\n      <path id=\"DejaVuSans-Oblique-3b3\" d=\"M 1491 2950 \nL 1838 788 \nL 3456 3500 \nL 4066 3500 \nL 1972 0 \nL 1713 -1331 \nL 1138 -1331 \nL 1397 0 \nL 988 2613 \nQ 925 3006 628 3006 \nL 475 3006 \nL 569 3500 \nL 788 3500 \nQ 1403 3500 1491 2950 \nz\n\" transform=\"scale(0.015625)\"/>\n      <path id=\"DejaVuSans-3d\" d=\"M 678 2906 \nL 4684 2906 \nL 4684 2381 \nL 678 2381 \nL 678 2906 \nz\nM 678 1631 \nL 4684 1631 \nL 4684 1100 \nL 678 1100 \nL 678 1631 \nz\n\" transform=\"scale(0.015625)\"/>\n      <path id=\"DejaVuSans-39\" d=\"M 703 97 \nL 703 672 \nQ 941 559 1184 500 \nQ 1428 441 1663 441 \nQ 2288 441 2617 861 \nQ 2947 1281 2994 2138 \nQ 2813 1869 2534 1725 \nQ 2256 1581 1919 1581 \nQ 1219 1581 811 2004 \nQ 403 2428 403 3163 \nQ 403 3881 828 4315 \nQ 1253 4750 1959 4750 \nQ 2769 4750 3195 4129 \nQ 3622 3509 3622 2328 \nQ 3622 1225 3098 567 \nQ 2575 -91 1691 -91 \nQ 1453 -91 1209 -44 \nQ 966 3 703 97 \nz\nM 1959 2075 \nQ 2384 2075 2632 2365 \nQ 2881 2656 2881 3163 \nQ 2881 3666 2632 3958 \nQ 2384 4250 1959 4250 \nQ 1534 4250 1286 3958 \nQ 1038 3666 1038 3163 \nQ 1038 2656 1286 2365 \nQ 1534 2075 1959 2075 \nz\n\" transform=\"scale(0.015625)\"/>\n     </defs>\n     <use xlink:href=\"#DejaVuSans-Oblique-3b3\" transform=\"translate(0 0.78125)\"/>\n     <use xlink:href=\"#DejaVuSans-3d\" transform=\"translate(78.662109 0.78125)\"/>\n     <use xlink:href=\"#DejaVuSans-30\" transform=\"translate(181.933594 0.78125)\"/>\n     <use xlink:href=\"#DejaVuSans-2e\" transform=\"translate(245.556641 0.78125)\"/>\n     <use xlink:href=\"#DejaVuSans-32\" transform=\"translate(271.84375 0.78125)\"/>\n     <use xlink:href=\"#DejaVuSans-39\" transform=\"translate(333.716797 0.78125)\"/>\n    </g>\n   </g>\n   <g id=\"text_14\">\n    <!-- $\\gamma = 1.05$ -->\n    <g transform=\"translate(88.597944 115.676444)scale(0.1 -0.1)\">\n     <use xlink:href=\"#DejaVuSans-Oblique-3b3\" transform=\"translate(0 0.78125)\"/>\n     <use xlink:href=\"#DejaVuSans-3d\" transform=\"translate(78.662109 0.78125)\"/>\n     <use xlink:href=\"#DejaVuSans-31\" transform=\"translate(181.933594 0.78125)\"/>\n     <use xlink:href=\"#DejaVuSans-2e\" transform=\"translate(245.556641 0.78125)\"/>\n     <use xlink:href=\"#DejaVuSans-30\" transform=\"translate(277.34375 0.78125)\"/>\n     <use xlink:href=\"#DejaVuSans-35\" transform=\"translate(340.966797 0.78125)\"/>\n    </g>\n   </g>\n  </g>\n </g>\n <defs>\n  <clipPath id=\"p776e76d0c8\">\n   <rect x=\"43.78125\" y=\"7.2\" width=\"334.8\" height=\"217.44\"/>\n  </clipPath>\n </defs>\n</svg>\n",
      "text/plain": [
       "<Figure size 432x288 with 1 Axes>"
      ]
     },
     "metadata": {
      "needs_background": "light"
     },
     "output_type": "display_data"
    }
   ],
   "source": [
    "# Generate data for long only portfolio optimization.\n",
    "import numpy as np\n",
    "np.random.seed(1)\n",
    "n = 10\n",
    "mu = np.abs(np.random.randn(n, 1))\n",
    "Sigma = np.random.randn(n, n)\n",
    "Sigma = Sigma.T.dot(Sigma)\n",
    "# Long only portfolio optimization.\n",
    "import cvxpy as cp\n",
    "\n",
    "\n",
    "w = cp.Variable(n)\n",
    "gamma = cp.Parameter(nonneg=True)\n",
    "ret = mu.T @ w \n",
    "risk = cp.quad_form(w, Sigma)\n",
    "prob = cp.Problem(cp.Maximize(ret - gamma*risk), \n",
    "               [cp.sum(w) == 1, \n",
    "                w >= 0])\n",
    "# Compute trade-off curve.\n",
    "SAMPLES = 100\n",
    "risk_data = np.zeros(SAMPLES)\n",
    "ret_data = np.zeros(SAMPLES)\n",
    "gamma_vals = np.logspace(-2, 3, num=SAMPLES)\n",
    "for i in range(SAMPLES):\n",
    "    gamma.value = gamma_vals[i]\n",
    "    prob.solve()\n",
    "    risk_data[i] = cp.sqrt(risk).value\n",
    "    ret_data[i] = ret.value\n",
    "# Plot long only trade-off curve.\n",
    "import matplotlib.pyplot as plt\n",
    "%matplotlib inline\n",
    "%config InlineBackend.figure_format = 'svg'\n",
    "\n",
    "markers_on = [29, 40]\n",
    "fig = plt.figure()\n",
    "ax = fig.add_subplot(111)\n",
    "plt.plot(risk_data, ret_data, 'g-')\n",
    "for marker in markers_on:\n",
    "    plt.plot(risk_data[marker], ret_data[marker], 'bs')\n",
    "    ax.annotate(r\"$\\gamma = %.2f$\" % gamma_vals[marker], xy=(risk_data[marker]+.08, ret_data[marker]-.03))\n",
    "for i in range(n):\n",
    "    plt.plot(cp.sqrt(Sigma[i,i]).value, mu[i], 'ro')\n",
    "plt.xlabel('Standard deviation')\n",
    "plt.ylabel('Return')\n",
    "plt.show()"
   ]
  },
  {
   "cell_type": "code",
   "execution_count": 33,
   "metadata": {},
   "outputs": [
    {
     "name": "stdout",
     "output_type": "stream",
     "text": [
      "['CVXOPT', 'ECOS', 'ECOS_BB', 'GLPK', 'GLPK_MI', 'OSQP', 'SCIPY', 'SCS']\n"
     ]
    }
   ],
   "source": [
    "print (cp.installed_solvers())"
   ]
  },
  {
   "cell_type": "markdown",
   "metadata": {},
   "source": [
    "## 可视化cvxpy的计算结果"
   ]
  },
  {
   "cell_type": "code",
   "execution_count": 34,
   "metadata": {},
   "outputs": [
    {
     "name": "stdout",
     "output_type": "stream",
     "text": [
      "===============================================================================\n",
      "                                     CVXPY                                     \n",
      "                                    v1.1.14                                    \n",
      "===============================================================================\n",
      "(CVXPY) May 08 02:19:39 PM: Your problem has 10 variables, 2 constraints, and 1 parameters.\n",
      "(CVXPY) May 08 02:19:39 PM: It is compliant with the following grammars: DCP, DQCP\n",
      "(CVXPY) May 08 02:19:39 PM: CVXPY will first compile your problem; then, it will invoke a numerical solver to obtain a solution.\n",
      "-------------------------------------------------------------------------------\n",
      "                                  Compilation                                  \n",
      "-------------------------------------------------------------------------------\n",
      "(CVXPY) May 08 02:19:39 PM: Compiling problem (target solver=ECOS).\n",
      "(CVXPY) May 08 02:19:39 PM: Reduction chain: FlipObjective -> Dcp2Cone -> CvxAttr2Constr -> ConeMatrixStuffing -> ECOS\n",
      "(CVXPY) May 08 02:19:39 PM: Applying reduction FlipObjective\n",
      "(CVXPY) May 08 02:19:39 PM: Applying reduction Dcp2Cone\n",
      "(CVXPY) May 08 02:19:39 PM: Applying reduction CvxAttr2Constr\n",
      "(CVXPY) May 08 02:19:39 PM: Applying reduction ConeMatrixStuffing\n",
      "(CVXPY) May 08 02:19:39 PM: Applying reduction ECOS\n",
      "(CVXPY) May 08 02:19:39 PM: Finished problem compilation (took 2.210e-02 seconds).\n",
      "(CVXPY) May 08 02:19:39 PM: (Subsequent compilations of this problem, using the same arguments, should take less time.)\n",
      "-------------------------------------------------------------------------------\n",
      "                                Numerical solver                               \n",
      "-------------------------------------------------------------------------------\n",
      "(CVXPY) May 08 02:19:39 PM: Invoking solver ECOS  to obtain a solution.\n",
      "\n",
      "ECOS 2.0.7 - (C) embotech GmbH, Zurich Switzerland, 2012-15. Web: www.embotech.com/ECOS\n",
      "\n",
      "It     pcost       dcost      gap   pres   dres    k/t    mu     step   sigma     IR    |   BT\n",
      " 0  -1.014e+00  -1.356e+00  +6e+04  7e-01  5e-05  1e+00  5e+03    ---    ---    1  1  - |  -  - \n",
      " 1  -3.352e+00  -2.831e+00  +8e+02  2e-02  6e-07  5e-01  7e+01  0.9878  1e-04   1  2  2 |  0  0\n",
      " 2  +2.489e+00  +2.996e+00  +1e+02  4e-03  1e-07  5e-01  1e+01  0.8267  8e-03   1  2  2 |  0  0\n",
      " 3  +4.246e+01  +4.454e+01  +1e+02  4e-03  1e-07  2e+00  1e+01  0.2314  6e-01   2  4  4 |  0  0\n",
      " 4  +7.423e+01  +7.778e+01  +6e+01  2e-03  5e-08  4e+00  5e+00  0.8114  4e-01   2  4  5 |  0  0\n",
      " 5  +1.048e+02  +1.067e+02  +2e+01  8e-04  2e-08  2e+00  2e+00  0.7818  3e-01   2  4  4 |  0  0\n",
      " 6  +1.167e+02  +1.176e+02  +1e+01  3e-04  1e-08  9e-01  1e+00  0.6414  2e-01   2  4  4 |  0  0\n",
      " 7  +1.266e+02  +1.268e+02  +2e+00  7e-05  2e-09  2e-01  2e-01  0.9791  2e-01   3  5  5 |  0  0\n",
      " 8  +1.283e+02  +1.283e+02  +5e-02  3e-06  4e-11  4e-03  4e-03  0.9758  1e-04   2  3  3 |  0  0\n",
      " 9  +1.283e+02  +1.283e+02  +2e-03  1e-06  2e-12  2e-04  2e-04  0.9533  9e-04   2  3  3 |  0  0\n",
      "10  +1.283e+02  +1.283e+02  +1e-04  6e-07  1e-13  1e-05  1e-05  0.9685  2e-02   3  3  3 |  0  0\n",
      "11  +1.283e+02  +1.283e+02  +8e-06  6e-08  6e-15  7e-07  7e-07  0.9426  9e-03   2  2  2 |  0  0\n",
      "12  +1.283e+02  +1.283e+02  +1e-07  3e-09  1e-16  1e-08  1e-08  0.9818  1e-03   2  2  2 |  0  0\n",
      "\n",
      "OPTIMAL (within feastol=2.8e-09, reltol=1.1e-09, abstol=1.4e-07).\n",
      "Runtime: 0.000686 seconds.\n",
      "\n",
      "-------------------------------------------------------------------------------\n",
      "                                    Summary                                    \n",
      "-------------------------------------------------------------------------------\n",
      "(CVXPY) May 08 02:19:39 PM: Problem status: optimal\n",
      "(CVXPY) May 08 02:19:39 PM: Optimal value: -1.283e+02\n",
      "(CVXPY) May 08 02:19:39 PM: Compilation took 2.210e-02 seconds\n",
      "(CVXPY) May 08 02:19:39 PM: Solver (including time spent in interface) took 8.240e-04 seconds\n",
      "optimal value with ECOS: -128.2946860127386\n"
     ]
    }
   ],
   "source": [
    "prob.solve(solver=cp.ECOS, verbose=True)\n",
    "print (\"optimal value with ECOS:\", prob.value)"
   ]
  },
  {
   "cell_type": "markdown",
   "metadata": {},
   "source": [
    "## warm start 解决一系列超参数的搜索问题"
   ]
  },
  {
   "cell_type": "code",
   "execution_count": 36,
   "metadata": {},
   "outputs": [
    {
     "name": "stdout",
     "output_type": "stream",
     "text": [
      "First solve time: 14.256904516\n",
      "Second solve time: 9.01560664\n"
     ]
    }
   ],
   "source": [
    "import cvxpy as cp\n",
    "import numpy\n",
    "# Problem data.\n",
    "m = 2000\n",
    "n = 1000\n",
    "numpy.random.seed(1)\n",
    "A = numpy.random.randn(m, n)\n",
    "b = cp.Parameter(m)\n",
    "# Construct the problem.\n",
    "x = cp.Variable(n)\n",
    "prob = cp.Problem(cp.Minimize(cp.sum_squares(A @ x - b)),\n",
    "[x >= 0])\n",
    "b.value = numpy.random.randn(m)\n",
    "prob.solve()\n",
    "print(\"First solve time:\", prob.solver_stats.solve_time)\n",
    "b.value = numpy.random.randn(m)\n",
    "prob.solve(warm_start=True)\n",
    "print(\"Second solve time:\", prob.solver_stats.solve_time)\n",
    "\n",
    "\n",
    "# 关于特定优化器的参数，比如对于SCS，告诉其用非直接方法计算线性方程\n",
    "prob.solve(solver=cp.SCS, verbose=True, use_indirect=True)\n",
    "print( \"optimal value with SCS:\", prob.value)"
   ]
  },
  {
   "cell_type": "code",
   "execution_count": 48,
   "metadata": {},
   "outputs": [
    {
     "name": "stdout",
     "output_type": "stream",
     "text": [
      "[[-0.39  0.01 -0.29  0.49  2.28 -0.11  2.25 -0.61 -0.33  1.24]\n",
      " [ 0.16  0.71  0.37  1.67 -1.36 -0.98  0.41  2.78 -0.61  0.55]\n",
      " [ 1.87  0.99  2.3  -1.59 -1.11 -2.   -0.52  0.27 -0.84  0.3 ]\n",
      " [ 0.3  -0.71  0.5  -0.63 -0.82  1.09  1.91  0.93 -0.53  0.55]\n",
      " [ 0.97  0.53 -0.19 -2.65  0.72  0.02  0.1  -0.61 -2.15 -0.14]\n",
      " [ 1.14  0.72 -0.57  0.05 -0.37 -2.01  0.17  1.48  1.91 -0.22]\n",
      " [ 0.58 -1.84 -1.2   0.4   0.48 -1.53 -0.87 -0.8   0.74 -0.26]\n",
      " [ 0.04  1.1   0.53 -1.01  0.07 -1.08  0.13  1.18  0.87  0.7 ]\n",
      " [ 0.47  0.96  0.28  0.76  0.15  0.53  0.25  0.99  1.07 -0.53]\n",
      " [-1.03 -0.19  1.9   0.68 -2.32  0.73 -0.95  0.1  -1.53 -2.35]]\n",
      "[[-0.    0.   -0.    0.    0.   -0.    0.   -0.   -0.    0.  ]\n",
      " [ 0.    0.    0.    0.   -0.   -0.    0.    0.   -0.    0.  ]\n",
      " [ 0.    0.    0.   -0.   -0.   -0.   -0.    0.   -0.    0.  ]\n",
      " [ 0.   -0.    0.   -0.   -0.    0.    0.    0.   -0.    0.  ]\n",
      " [ 0.    0.   -0.   -0.    0.    0.    0.   -0.   -0.   -0.  ]\n",
      " [ 0.    0.   -0.    0.   -0.   -0.    0.    0.    0.   -0.  ]\n",
      " [ 0.   -0.   -0.    0.    0.   -0.   -0.   -0.    0.   -0.  ]\n",
      " [ 0.    0.    0.   -0.    0.   -0.    0.    0.    0.    0.  ]\n",
      " [ 0.    0.    0.    0.    0.    0.    0.    0.    0.   -0.  ]\n",
      " [-0.01 -0.    0.02  0.01 -0.03  0.01 -0.01  0.   -0.02 -0.03]]\n"
     ]
    }
   ],
   "source": [
    "import cvxpy as cp\n",
    "import numpy as np\n",
    "X = cp.Variable((10,10))\n",
    "Y = cp.Parameter((10,10))\n",
    "Y.value = np.random.randn(10,10)\n",
    "obj = 0.4 * cp.mixed_norm(X, 2, 1)+cp.norm(X - Y,'fro')\n",
    "cp.Problem(cp.Minimize(obj)).solve()\n",
    "print(Y.value.round(2))\n",
    "print(X.value.round(2))"
   ]
  },
  {
   "cell_type": "code",
   "execution_count": null,
   "metadata": {},
   "outputs": [],
   "source": []
  },
  {
   "cell_type": "code",
   "execution_count": null,
   "metadata": {},
   "outputs": [],
   "source": []
  }
 ],
 "metadata": {
  "kernelspec": {
   "display_name": "Python 3.9.5 64-bit",
   "language": "python",
   "name": "python3"
  },
  "language_info": {
   "codemirror_mode": {
    "name": "ipython",
    "version": 3
   },
   "file_extension": ".py",
   "mimetype": "text/x-python",
   "name": "python",
   "nbconvert_exporter": "python",
   "pygments_lexer": "ipython3",
   "version": "3.9.5"
  },
  "orig_nbformat": 4,
  "vscode": {
   "interpreter": {
    "hash": "aee8b7b246df8f9039afb4144a1f6fd8d2ca17a180786b69acc140d282b71a49"
   }
  }
 },
 "nbformat": 4,
 "nbformat_minor": 2
}
