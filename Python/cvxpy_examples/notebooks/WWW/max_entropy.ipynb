{
 "cells": [
  {
   "cell_type": "markdown",
   "metadata": {},
   "source": [
    "# Entropy maximization\n",
    "\n",
    "A derivative work by Judson Wilson, 6/2/2014.<br>\n",
    "Adapted from the CVX example of the same name, by Joëlle Skaf, 4/24/2008.\n",
    "\n",
    "## Introduction\n",
    "\n",
    "Consider the linear inequality constrained entropy maximization problem:\n",
    "\n",
    "$$\\begin{array}{ll}\n",
    "    \\text{maximize}   & -\\sum_{i=1}^n x_i \\log(x_i) \\\\\n",
    "    \\text{subject to} & \\sum_{i=1}^n x_i = 1 \\\\\n",
    "                      & Fx \\succeq g,\n",
    "    \\end{array}\n",
    "$$\n",
    "where the variable is $x \\in \\mathbf{{\\text{R}}}^{n}$.   \n",
    "\n",
    "This problem can be formulated in CVXPY using the `entr` atom.\n",
    "\n",
    "## Generate problem data"
   ]
  },
  {
   "cell_type": "code",
   "execution_count": 1,
   "metadata": {},
   "outputs": [],
   "source": [
    "import cvxpy as cp\n",
    "import numpy as np\n",
    "\n",
    "# Make random input repeatable. \n",
    "np.random.seed(0) \n",
    "\n",
    "# Matrix size parameters.\n",
    "n = 20\n",
    "m = 10\n",
    "p = 5\n",
    "\n",
    "# Generate random problem data.\n",
    "tmp = np.random.rand(n)\n",
    "A = np.random.randn(m, n)\n",
    "b = A.dot(tmp)\n",
    "F = np.random.randn(p, n)\n",
    "g = F.dot(tmp) + np.random.rand(p)"
   ]
  },
  {
   "cell_type": "markdown",
   "metadata": {},
   "source": [
    "## Formulate and solve problem"
   ]
  },
  {
   "cell_type": "code",
   "execution_count": 3,
   "metadata": {},
   "outputs": [
    {
     "name": "stdout",
     "output_type": "stream",
     "text": [
      "===============================================================================\n",
      "                                     CVXPY                                     \n",
      "                                    v1.1.14                                    \n",
      "===============================================================================\n",
      "(CVXPY) May 08 08:24:26 PM: Your problem has 20 variables, 3 constraints, and 0 parameters.\n",
      "(CVXPY) May 08 08:24:26 PM: It is compliant with the following grammars: DCP, DQCP\n",
      "(CVXPY) May 08 08:24:26 PM: (If you need to solve this problem multiple times, but with different data, consider using parameters.)\n",
      "(CVXPY) May 08 08:24:26 PM: CVXPY will first compile your problem; then, it will invoke a numerical solver to obtain a solution.\n",
      "-------------------------------------------------------------------------------\n",
      "                                  Compilation                                  \n",
      "-------------------------------------------------------------------------------\n",
      "(CVXPY) May 08 08:24:26 PM: Compiling problem (target solver=ECOS).\n",
      "(CVXPY) May 08 08:24:26 PM: Reduction chain: FlipObjective -> Dcp2Cone -> CvxAttr2Constr -> ConeMatrixStuffing -> ECOS\n",
      "(CVXPY) May 08 08:24:26 PM: Applying reduction FlipObjective\n",
      "(CVXPY) May 08 08:24:26 PM: Applying reduction Dcp2Cone\n",
      "(CVXPY) May 08 08:24:26 PM: Applying reduction CvxAttr2Constr\n",
      "(CVXPY) May 08 08:24:26 PM: Applying reduction ConeMatrixStuffing\n",
      "(CVXPY) May 08 08:24:26 PM: Applying reduction ECOS\n",
      "(CVXPY) May 08 08:24:26 PM: Finished problem compilation (took 1.782e-02 seconds).\n",
      "-------------------------------------------------------------------------------\n",
      "                                Numerical solver                               \n",
      "-------------------------------------------------------------------------------\n",
      "(CVXPY) May 08 08:24:26 PM: Invoking solver ECOS  to obtain a solution.\n",
      "\n",
      "ECOS 2.0.7 - (C) embotech GmbH, Zurich Switzerland, 2012-15. Web: www.embotech.com/ECOS\n",
      "\n",
      "It     pcost       dcost      gap   pres   dres    k/t    mu     step   sigma     IR    |   BT\n",
      " 0  +0.000e+00  -3.312e+01  +1e+02  1e+00  2e-01  1e+00  1e+00    ---    ---    0  0  - |  -  - \n",
      " 1  -1.489e+01  -2.619e+01  +2e+01  2e-01  7e-02  5e-01  2e-01  0.7833  5e-02   1  1  1 |  2  1\n",
      " 2  -8.842e+00  -1.213e+01  +5e+00  8e-02  2e-02  2e-01  5e-02  0.7833  5e-02   1  1  1 |  2  1\n",
      " 3  -4.750e+00  -5.744e+00  +1e+00  3e-02  6e-03  6e-02  1e-02  0.7833  5e-02   1  1  1 |  2  1\n",
      " 4  -3.547e+00  -3.805e+00  +3e-01  8e-03  1e-03  1e-02  3e-03  0.7833  8e-02   1  1  1 |  2  1\n",
      " 5  -3.125e+00  -3.195e+00  +7e-02  2e-03  4e-04  4e-03  7e-04  0.7833  5e-02   1  1  1 |  2  1\n",
      " 6  -3.030e+00  -3.045e+00  +2e-02  5e-04  8e-05  9e-04  2e-04  0.7793  1e-02   1  1  1 |  1  1\n",
      " 7  -3.003e+00  -3.007e+00  +4e-03  1e-04  2e-05  3e-04  4e-05  0.7833  5e-02   1  0  1 |  2  1\n",
      " 8  -2.998e+00  -2.999e+00  +1e-03  3e-05  5e-06  5e-05  1e-05  0.7719  1e-02   2  1  1 |  1  1\n",
      " 9  -2.996e+00  -2.996e+00  +2e-04  7e-06  1e-06  1e-05  2e-06  0.7833  9e-03   2  0  0 |  1  1\n",
      "10  -2.996e+00  -2.996e+00  +6e-05  2e-06  3e-07  3e-06  6e-07  0.7741  1e-02   2  0  0 |  1  1\n",
      "11  -2.996e+00  -2.996e+00  +1e-05  4e-07  7e-08  7e-07  1e-07  0.7833  9e-03   1  0  0 |  1  1\n",
      "12  -2.996e+00  -2.996e+00  +3e-06  8e-08  1e-08  1e-07  3e-08  0.7826  1e-02   2  0  0 |  1  1\n",
      "13  -2.996e+00  -2.996e+00  +6e-07  2e-08  3e-09  3e-08  6e-09  0.7833  9e-03   1  0  0 |  1  1\n",
      "14  -2.996e+00  -2.996e+00  +4e-08  8e-10  1e-10  9e-10  4e-10  0.9791  9e-03   1  0  0 |  1  0\n",
      "15  -2.996e+00  -2.996e+00  +2e-08  4e-10  8e-11  7e-10  2e-10  0.3208  3e-01   1  0  0 |  5  5\n",
      "\n",
      "OPTIMAL (within feastol=4.5e-10, reltol=5.4e-09, abstol=1.6e-08).\n",
      "Runtime: 0.001069 seconds.\n",
      "\n",
      "-------------------------------------------------------------------------------\n",
      "                                    Summary                                    \n",
      "-------------------------------------------------------------------------------\n",
      "(CVXPY) May 08 08:24:26 PM: Problem status: optimal\n",
      "(CVXPY) May 08 08:24:26 PM: Optimal value: 2.996e+00\n",
      "(CVXPY) May 08 08:24:26 PM: Compilation took 1.782e-02 seconds\n",
      "(CVXPY) May 08 08:24:26 PM: Solver (including time spent in interface) took 1.398e-03 seconds\n",
      "\n",
      "The optimal value is: 2.9957322727352023\n",
      "\n",
      "The optimal solution is:\n",
      "[0.05 0.05 0.05 0.05 0.05 0.05 0.05 0.05 0.05 0.05 0.05 0.05 0.05 0.05\n",
      " 0.05 0.05 0.05 0.05 0.05 0.05]\n"
     ]
    }
   ],
   "source": [
    "# Entropy maximization.\n",
    "x = cp.Variable(shape=n)\n",
    "obj = cp.Maximize(cp.sum(cp.entr(x)))\n",
    "constraints = [A @ x == b,\n",
    "               F @ x <= g ]\n",
    "# constraints = [0 <= x,\n",
    "#                 x <= 1,cp.sum(x) == 1]\n",
    "prob = cp.Problem(obj, constraints)\n",
    "prob.solve(solver=cp.ECOS, verbose=True)\n",
    "\n",
    "# Print result.\n",
    "print(\"\\nThe optimal value is:\", prob.value)\n",
    "print('\\nThe optimal solution is:')\n",
    "print(x.value)"
   ]
  },
  {
   "cell_type": "code",
   "execution_count": null,
   "metadata": {},
   "outputs": [],
   "source": []
  }
 ],
 "metadata": {
  "kernelspec": {
   "display_name": "Python 3.8.5 ('base')",
   "language": "python",
   "name": "python3"
  },
  "language_info": {
   "codemirror_mode": {
    "name": "ipython",
    "version": 3
   },
   "file_extension": ".py",
   "mimetype": "text/x-python",
   "name": "python",
   "nbconvert_exporter": "python",
   "pygments_lexer": "ipython3",
   "version": "3.8.5"
  },
  "vscode": {
   "interpreter": {
    "hash": "0533c625787255704bb8cb6b2cb8c19f7ef21acb7549e94194f8afd7ebe5bc1d"
   }
  }
 },
 "nbformat": 4,
 "nbformat_minor": 1
}
