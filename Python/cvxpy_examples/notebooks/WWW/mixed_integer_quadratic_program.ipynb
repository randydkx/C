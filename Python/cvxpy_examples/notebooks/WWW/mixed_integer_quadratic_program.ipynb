{
 "cells": [
  {
   "cell_type": "markdown",
   "metadata": {},
   "source": [
    "# Mixed-integer quadratic program\n",
    "A mixed-integer quadratic program (MIQP) is an optimization problem of the form\n",
    "$$  \n",
    "    \\begin{array}{ll}\n",
    "    \\text{minimize}   & x^T Q x + q^T x + r \\\\\n",
    "    \\text{subject to} & x \\in \\mathcal{C}\\\\\n",
    "    & x \\in \\mathbf{Z}^n,\n",
    "    \\end{array}\n",
    "$$\n",
    "where $x \\in \\mathbf{Z}^n$ is the optimization variable\n",
    "($\\mathbf Z^n$ is the set of $n$-dimensional vectors with integer-valued components),\n",
    "$Q \\in \\mathbf{S}_+^n$ (the set of $n \\times n$ symmetric positive semidefinite matrices), $q \\in \\mathbf{R}^n$, and $r \\in \\mathbf{R}$ are problem data,\n",
    "and $\\mathcal C$ is some convex set.\n",
    "\n",
    "An example of an MIQP is mixed-integer least squares, which has the form\n",
    "$$  \n",
    "    \\begin{array}{ll}\n",
    "    \\text{minimize}   & \\|Ax-b\\|_2^2 \\\\\n",
    "    \\text{subject to} & x \\in \\mathbf{Z}^n,\n",
    "    \\end{array}\n",
    "$$\n",
    "where $x \\in \\mathbf{Z}^n$ is the optimization variable,\n",
    "and $A \\in \\mathbf{R}^{m \\times n}$ and $b \\in \\mathbf{R}^{m}$ are the problem data.\n",
    "A solution $x^{\\star}$ of this problem will be a vector in $\\mathbf Z^n$ that minimizes\n",
    "$\\|Ax-b\\|_2^2$."
   ]
  },
  {
   "cell_type": "markdown",
   "metadata": {},
   "source": [
    "## Example\n",
    "In the following code, we solve a mixed-integer least-squares problem with CVXPY."
   ]
  },
  {
   "cell_type": "code",
   "execution_count": 1,
   "metadata": {},
   "outputs": [],
   "source": [
    "import cvxpy as cp\n",
    "import numpy as np"
   ]
  },
  {
   "cell_type": "code",
   "execution_count": 2,
   "metadata": {},
   "outputs": [],
   "source": [
    "# Generate a random problem\n",
    "np.random.seed(0)\n",
    "m, n= 40, 25\n",
    "\n",
    "A = np.random.rand(m, n)\n",
    "b = np.random.randn(m)"
   ]
  },
  {
   "cell_type": "code",
   "execution_count": 5,
   "metadata": {},
   "outputs": [
    {
     "ename": "SolverError",
     "evalue": "Either candidate conic solvers (['CBC']) do not support the cones output by the problem (SOC), or there are not enough constraints in the problem.",
     "output_type": "error",
     "traceback": [
      "\u001b[0;31m---------------------------------------------------------------------------\u001b[0m",
      "\u001b[0;31mSolverError\u001b[0m                               Traceback (most recent call last)",
      "\u001b[1;32m/Users/wenshuiluo/coding/Python/cvxpy_examples/notebooks/WWW/mixed_integer_quadratic_program.ipynb Cell 5'\u001b[0m in \u001b[0;36m<cell line: 5>\u001b[0;34m()\u001b[0m\n\u001b[1;32m      <a href='vscode-notebook-cell:/Users/wenshuiluo/coding/Python/cvxpy_examples/notebooks/WWW/mixed_integer_quadratic_program.ipynb#ch0000004?line=2'>3</a>\u001b[0m objective \u001b[39m=\u001b[39m cp\u001b[39m.\u001b[39mMinimize(cp\u001b[39m.\u001b[39msum_squares(A \u001b[39m@\u001b[39m x \u001b[39m-\u001b[39m b))\n\u001b[1;32m      <a href='vscode-notebook-cell:/Users/wenshuiluo/coding/Python/cvxpy_examples/notebooks/WWW/mixed_integer_quadratic_program.ipynb#ch0000004?line=3'>4</a>\u001b[0m prob \u001b[39m=\u001b[39m cp\u001b[39m.\u001b[39mProblem(objective)\n\u001b[0;32m----> <a href='vscode-notebook-cell:/Users/wenshuiluo/coding/Python/cvxpy_examples/notebooks/WWW/mixed_integer_quadratic_program.ipynb#ch0000004?line=4'>5</a>\u001b[0m prob\u001b[39m.\u001b[39;49msolve(solver \u001b[39m=\u001b[39;49m cp\u001b[39m.\u001b[39;49mCBC)\n",
      "File \u001b[0;32m/usr/local/lib/python3.9/site-packages/cvxpy/problems/problem.py:481\u001b[0m, in \u001b[0;36mProblem.solve\u001b[0;34m(self, *args, **kwargs)\u001b[0m\n\u001b[1;32m    <a href='file:///usr/local/lib/python3.9/site-packages/cvxpy/problems/problem.py?line=478'>479</a>\u001b[0m \u001b[39melse\u001b[39;00m:\n\u001b[1;32m    <a href='file:///usr/local/lib/python3.9/site-packages/cvxpy/problems/problem.py?line=479'>480</a>\u001b[0m     solve_func \u001b[39m=\u001b[39m Problem\u001b[39m.\u001b[39m_solve\n\u001b[0;32m--> <a href='file:///usr/local/lib/python3.9/site-packages/cvxpy/problems/problem.py?line=480'>481</a>\u001b[0m \u001b[39mreturn\u001b[39;00m solve_func(\u001b[39mself\u001b[39;49m, \u001b[39m*\u001b[39;49margs, \u001b[39m*\u001b[39;49m\u001b[39m*\u001b[39;49mkwargs)\n",
      "File \u001b[0;32m/usr/local/lib/python3.9/site-packages/cvxpy/problems/problem.py:1003\u001b[0m, in \u001b[0;36mProblem._solve\u001b[0;34m(self, solver, warm_start, verbose, gp, qcp, requires_grad, enforce_dpp, ignore_dpp, **kwargs)\u001b[0m\n\u001b[1;32m   <a href='file:///usr/local/lib/python3.9/site-packages/cvxpy/problems/problem.py?line=999'>1000</a>\u001b[0m         \u001b[39mself\u001b[39m\u001b[39m.\u001b[39munpack(chain\u001b[39m.\u001b[39mretrieve(soln))\n\u001b[1;32m   <a href='file:///usr/local/lib/python3.9/site-packages/cvxpy/problems/problem.py?line=1000'>1001</a>\u001b[0m         \u001b[39mreturn\u001b[39;00m \u001b[39mself\u001b[39m\u001b[39m.\u001b[39mvalue\n\u001b[0;32m-> <a href='file:///usr/local/lib/python3.9/site-packages/cvxpy/problems/problem.py?line=1002'>1003</a>\u001b[0m data, solving_chain, inverse_data \u001b[39m=\u001b[39m \u001b[39mself\u001b[39;49m\u001b[39m.\u001b[39;49mget_problem_data(\n\u001b[1;32m   <a href='file:///usr/local/lib/python3.9/site-packages/cvxpy/problems/problem.py?line=1003'>1004</a>\u001b[0m     solver, gp, enforce_dpp, ignore_dpp, verbose)\n\u001b[1;32m   <a href='file:///usr/local/lib/python3.9/site-packages/cvxpy/problems/problem.py?line=1005'>1006</a>\u001b[0m \u001b[39mif\u001b[39;00m verbose:\n\u001b[1;32m   <a href='file:///usr/local/lib/python3.9/site-packages/cvxpy/problems/problem.py?line=1006'>1007</a>\u001b[0m     \u001b[39mprint\u001b[39m(_NUM_SOLVER_STR)\n",
      "File \u001b[0;32m/usr/local/lib/python3.9/site-packages/cvxpy/problems/problem.py:607\u001b[0m, in \u001b[0;36mProblem.get_problem_data\u001b[0;34m(self, solver, gp, enforce_dpp, ignore_dpp, verbose)\u001b[0m\n\u001b[1;32m    <a href='file:///usr/local/lib/python3.9/site-packages/cvxpy/problems/problem.py?line=604'>605</a>\u001b[0m \u001b[39mif\u001b[39;00m key \u001b[39m!=\u001b[39m \u001b[39mself\u001b[39m\u001b[39m.\u001b[39m_cache\u001b[39m.\u001b[39mkey:\n\u001b[1;32m    <a href='file:///usr/local/lib/python3.9/site-packages/cvxpy/problems/problem.py?line=605'>606</a>\u001b[0m     \u001b[39mself\u001b[39m\u001b[39m.\u001b[39m_cache\u001b[39m.\u001b[39minvalidate()\n\u001b[0;32m--> <a href='file:///usr/local/lib/python3.9/site-packages/cvxpy/problems/problem.py?line=606'>607</a>\u001b[0m     solving_chain \u001b[39m=\u001b[39m \u001b[39mself\u001b[39;49m\u001b[39m.\u001b[39;49m_construct_chain(\n\u001b[1;32m    <a href='file:///usr/local/lib/python3.9/site-packages/cvxpy/problems/problem.py?line=607'>608</a>\u001b[0m         solver\u001b[39m=\u001b[39;49msolver, gp\u001b[39m=\u001b[39;49mgp,\n\u001b[1;32m    <a href='file:///usr/local/lib/python3.9/site-packages/cvxpy/problems/problem.py?line=608'>609</a>\u001b[0m         enforce_dpp\u001b[39m=\u001b[39;49menforce_dpp,\n\u001b[1;32m    <a href='file:///usr/local/lib/python3.9/site-packages/cvxpy/problems/problem.py?line=609'>610</a>\u001b[0m         ignore_dpp\u001b[39m=\u001b[39;49mignore_dpp)\n\u001b[1;32m    <a href='file:///usr/local/lib/python3.9/site-packages/cvxpy/problems/problem.py?line=610'>611</a>\u001b[0m     \u001b[39mself\u001b[39m\u001b[39m.\u001b[39m_cache\u001b[39m.\u001b[39mkey \u001b[39m=\u001b[39m key\n\u001b[1;32m    <a href='file:///usr/local/lib/python3.9/site-packages/cvxpy/problems/problem.py?line=611'>612</a>\u001b[0m     \u001b[39mself\u001b[39m\u001b[39m.\u001b[39m_cache\u001b[39m.\u001b[39msolving_chain \u001b[39m=\u001b[39m solving_chain\n",
      "File \u001b[0;32m/usr/local/lib/python3.9/site-packages/cvxpy/problems/problem.py:841\u001b[0m, in \u001b[0;36mProblem._construct_chain\u001b[0;34m(self, solver, gp, enforce_dpp, ignore_dpp)\u001b[0m\n\u001b[1;32m    <a href='file:///usr/local/lib/python3.9/site-packages/cvxpy/problems/problem.py?line=838'>839</a>\u001b[0m candidate_solvers \u001b[39m=\u001b[39m \u001b[39mself\u001b[39m\u001b[39m.\u001b[39m_find_candidate_solvers(solver\u001b[39m=\u001b[39msolver, gp\u001b[39m=\u001b[39mgp)\n\u001b[1;32m    <a href='file:///usr/local/lib/python3.9/site-packages/cvxpy/problems/problem.py?line=839'>840</a>\u001b[0m \u001b[39mself\u001b[39m\u001b[39m.\u001b[39m_sort_candidate_solvers(candidate_solvers)\n\u001b[0;32m--> <a href='file:///usr/local/lib/python3.9/site-packages/cvxpy/problems/problem.py?line=840'>841</a>\u001b[0m \u001b[39mreturn\u001b[39;00m construct_solving_chain(\u001b[39mself\u001b[39;49m, candidate_solvers, gp\u001b[39m=\u001b[39;49mgp,\n\u001b[1;32m    <a href='file:///usr/local/lib/python3.9/site-packages/cvxpy/problems/problem.py?line=841'>842</a>\u001b[0m                                enforce_dpp\u001b[39m=\u001b[39;49menforce_dpp,\n\u001b[1;32m    <a href='file:///usr/local/lib/python3.9/site-packages/cvxpy/problems/problem.py?line=842'>843</a>\u001b[0m                                ignore_dpp\u001b[39m=\u001b[39;49mignore_dpp)\n",
      "File \u001b[0;32m/usr/local/lib/python3.9/site-packages/cvxpy/reductions/solvers/solving_chain.py:259\u001b[0m, in \u001b[0;36mconstruct_solving_chain\u001b[0;34m(problem, candidates, gp, enforce_dpp, ignore_dpp)\u001b[0m\n\u001b[1;32m    <a href='file:///usr/local/lib/python3.9/site-packages/cvxpy/reductions/solvers/solving_chain.py?line=255'>256</a>\u001b[0m         reductions \u001b[39m+\u001b[39m\u001b[39m=\u001b[39m [ConeMatrixStuffing(), solver_instance]\n\u001b[1;32m    <a href='file:///usr/local/lib/python3.9/site-packages/cvxpy/reductions/solvers/solving_chain.py?line=256'>257</a>\u001b[0m         \u001b[39mreturn\u001b[39;00m SolvingChain(reductions\u001b[39m=\u001b[39mreductions)\n\u001b[0;32m--> <a href='file:///usr/local/lib/python3.9/site-packages/cvxpy/reductions/solvers/solving_chain.py?line=258'>259</a>\u001b[0m \u001b[39mraise\u001b[39;00m SolverError(\u001b[39m\"\u001b[39m\u001b[39mEither candidate conic solvers (\u001b[39m\u001b[39m%s\u001b[39;00m\u001b[39m) do not support the \u001b[39m\u001b[39m\"\u001b[39m\n\u001b[1;32m    <a href='file:///usr/local/lib/python3.9/site-packages/cvxpy/reductions/solvers/solving_chain.py?line=259'>260</a>\u001b[0m                   \u001b[39m\"\u001b[39m\u001b[39mcones output by the problem (\u001b[39m\u001b[39m%s\u001b[39;00m\u001b[39m), or there are not \u001b[39m\u001b[39m\"\u001b[39m\n\u001b[1;32m    <a href='file:///usr/local/lib/python3.9/site-packages/cvxpy/reductions/solvers/solving_chain.py?line=260'>261</a>\u001b[0m                   \u001b[39m\"\u001b[39m\u001b[39menough constraints in the problem.\u001b[39m\u001b[39m\"\u001b[39m \u001b[39m%\u001b[39m (\n\u001b[1;32m    <a href='file:///usr/local/lib/python3.9/site-packages/cvxpy/reductions/solvers/solving_chain.py?line=261'>262</a>\u001b[0m                       candidates[\u001b[39m'\u001b[39m\u001b[39mconic_solvers\u001b[39m\u001b[39m'\u001b[39m],\n\u001b[1;32m    <a href='file:///usr/local/lib/python3.9/site-packages/cvxpy/reductions/solvers/solving_chain.py?line=262'>263</a>\u001b[0m                       \u001b[39m\"\u001b[39m\u001b[39m, \u001b[39m\u001b[39m\"\u001b[39m\u001b[39m.\u001b[39mjoin([cone\u001b[39m.\u001b[39m\u001b[39m__name__\u001b[39m \u001b[39mfor\u001b[39;00m cone \u001b[39min\u001b[39;00m cones])))\n",
      "\u001b[0;31mSolverError\u001b[0m: Either candidate conic solvers (['CBC']) do not support the cones output by the problem (SOC), or there are not enough constraints in the problem."
     ]
    }
   ],
   "source": [
    "# Construct a CVXPY problem\n",
    "x = cp.Variable(n, integer=True)\n",
    "objective = cp.Minimize(cp.sum_squares(A @ x - b))\n",
    "prob = cp.Problem(objective)\n",
    "prob.solve(solver = cp.CBC)"
   ]
  },
  {
   "cell_type": "code",
   "execution_count": 7,
   "metadata": {},
   "outputs": [
    {
     "name": "stdout",
     "output_type": "stream",
     "text": [
      "Status:  optimal\n",
      "The optimal value is 13.66000322824753\n",
      "A solution x is\n",
      "[-1.  1.  1. -1.  0.  0. -1. -2.  0.  0.  0.  1.  1.  0.  1.  0. -1. -1.\n",
      " -1.  0.  2. -1.  2.  0. -1.]\n"
     ]
    }
   ],
   "source": [
    "print(\"Status: \", prob.status)\n",
    "print(\"The optimal value is\", prob.value)\n",
    "print(\"A solution x is\")\n",
    "print(x.value)"
   ]
  }
 ],
 "metadata": {
  "kernelspec": {
   "display_name": "Python 3.9.5 64-bit",
   "language": "python",
   "name": "python3"
  },
  "language_info": {
   "codemirror_mode": {
    "name": "ipython",
    "version": 3
   },
   "file_extension": ".py",
   "mimetype": "text/x-python",
   "name": "python",
   "nbconvert_exporter": "python",
   "pygments_lexer": "ipython3",
   "version": "3.9.5"
  },
  "vscode": {
   "interpreter": {
    "hash": "aee8b7b246df8f9039afb4144a1f6fd8d2ca17a180786b69acc140d282b71a49"
   }
  }
 },
 "nbformat": 4,
 "nbformat_minor": 2
}
